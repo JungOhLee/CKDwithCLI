{
 "cells": [
  {
   "cell_type": "markdown",
   "metadata": {
    "slideshow": {
     "slide_type": "-"
    }
   },
   "source": [
    "# 연구 :  CKD 환자에서 CLI/PAD 유무에 따른 변수 분석\n",
    "\n",
    "# 분석1 : CLI 에 따른 Demographic data 분석"
   ]
  },
  {
   "cell_type": "markdown",
   "metadata": {
    "slideshow": {
     "slide_type": "-"
    }
   },
   "source": [
    "## Table of Contents\n",
    "\n",
    "* [데이터전처리](#데이터-전처리)\n",
    "    : 딱히 보실 필요 없는 부분입니다\n",
    "* [분석1 : CLI 에 따른 demographic data](#분석-1)\n",
    "    * [데이터 탐색](#Demographic-data-살펴보기)\n",
    "    * [데이터 검정](#Demographic-data-검정)\n",
    "    * [검정결과](#Demographic-Data-검정-결과)\n",
    "* [Logistic regression](#[부가내용]-심심해서-해보는-logistic-regression)\n",
    "    * [변수간 상관관계](#변수들의 상관관계)\n",
    "    * [모델적합](#모델-적합)\n",
    "    * [회귀결론](#결론)\n",
    "* [요약](#요약)"
   ]
  },
  {
   "cell_type": "markdown",
   "metadata": {
    "slideshow": {
     "slide_type": "-"
    }
   },
   "source": [
    "### Study group의 구분\n",
    "Column G 는 CKD without CLI 인 환자 및 CKD with CLI 환자를 구분한 Group 입니다.\n",
    "- Group 3: CKD 3 without CLI\n",
    "- Group 4: CKD 4 without CLI\n",
    "- Group 5: CKD 5 without CLI \n",
    "- Group 6: CKD 3 with CLI\n",
    "- Group 7: CKD 4 with CLI\n",
    "- Group 8: CKD 5 with CLI \n",
    "\n",
    "#### 1) 분석 1 \n",
    "\n",
    "CLI 유무에 따른 demographic data (Gender, Age, DM, HTN, ACS, CHF, CVA, Smoking, Alcohol, BMI, Statin 복용) 의 차이를 보는 것이 분석 1 입니다.  \n",
    "\n",
    "즉 [Group 3+4+5]와 [Group 6+7+8] 의 상기 변수의 차이를 통계적으로 분석하는 것이 필요합니다. \n"
   ]
  },
  {
   "cell_type": "markdown",
   "metadata": {},
   "source": [
    "---"
   ]
  },
  {
   "cell_type": "markdown",
   "metadata": {},
   "source": [
    "# 데이터 전처리\n",
    "\n",
    "데이터를 불러와서 사용가능한 형태로 수정 후 확인\n",
    "\n",
    "**불완전한 데이터는 제거** 후 사용하였습니다. 150개 행 중에서 17개 정도로 분석 결과에 크게 영향을 미치는 것은 아닌 것으로 보입니다. "
   ]
  },
  {
   "cell_type": "code",
   "execution_count": 42,
   "metadata": {},
   "outputs": [],
   "source": [
    "# 데이터 불러오기\n",
    "library(xlsx)\n",
    "data <- read.xlsx(\"../EPCinCKD_201802.xlsx\", sheetIndex = 1)\n",
    "# 필요한 데이터만 추출(이름, ID 제거, 150행까지)\n",
    "data <- data[1:150,-c(1,2)]\n",
    "data <- data[complete.cases(data),]"
   ]
  },
  {
   "cell_type": "code",
   "execution_count": 43,
   "metadata": {},
   "outputs": [
    {
     "data": {
      "text/html": [
       "<table>\n",
       "<thead><tr><th scope=col>Gender</th><th scope=col>Age</th><th scope=col>Birth.Date</th><th scope=col>CKD.class</th><th scope=col>Group</th><th scope=col>DM</th><th scope=col>HTN</th><th scope=col>ACS</th><th scope=col>CHF</th><th scope=col>CVA</th><th scope=col>⋯</th><th scope=col>obesity</th><th scope=col>PAD</th><th scope=col>Average.CFU</th><th scope=col>VEGF</th><th scope=col>CD34.VEGF</th><th scope=col>CD34</th><th scope=col>VEGF.All</th><th scope=col>CD34.All</th><th scope=col>VEGF.1</th><th scope=col>SDF.1</th></tr></thead>\n",
       "<tbody>\n",
       "\t<tr><td>0         </td><td>49.00000  </td><td>1961-10-12</td><td>3         </td><td>3         </td><td>0         </td><td>1         </td><td>0         </td><td>0         </td><td>0         </td><td>⋯         </td><td>0         </td><td>0         </td><td>3.789457  </td><td> 1.450    </td><td>0.1900    </td><td> 2.1000   </td><td> 1.6400   </td><td>2.2900    </td><td> 31.432   </td><td>1933.688  </td></tr>\n",
       "\t<tr><td>0         </td><td>64.63611  </td><td>1946-11-05</td><td>3         </td><td>3         </td><td>0         </td><td>1         </td><td>0         </td><td>0         </td><td>1         </td><td>⋯         </td><td>0         </td><td>0         </td><td>4.392872  </td><td> 6.674    </td><td>0.1645    </td><td>-0.0390   </td><td> 6.8385   </td><td>0.1255    </td><td>  2.563   </td><td>2139.464  </td></tr>\n",
       "\t<tr><td>0         </td><td>38.88056  </td><td>1972-03-02</td><td>3         </td><td>3         </td><td>0         </td><td>0         </td><td>0         </td><td>0         </td><td>0         </td><td>⋯         </td><td>0         </td><td>0         </td><td>3.704475  </td><td> 7.654    </td><td>0.1715    </td><td> 0.4345   </td><td> 7.8255   </td><td>0.6060    </td><td> 54.338   </td><td>3092.584  </td></tr>\n",
       "\t<tr><td>1         </td><td>61.50000  </td><td>1949-12-08</td><td>3         </td><td>3         </td><td>1         </td><td>1         </td><td>0         </td><td>0         </td><td>0         </td><td>⋯         </td><td>1         </td><td>0         </td><td>6.167245  </td><td>12.907    </td><td>0.1740    </td><td> 0.2595   </td><td>13.0810   </td><td>0.4335    </td><td> 38.010   </td><td>1877.869  </td></tr>\n",
       "\t<tr><td>1         </td><td>69.29722  </td><td>1942-05-07</td><td>3         </td><td>3         </td><td>0         </td><td>1         </td><td>0         </td><td>0         </td><td>0         </td><td>⋯         </td><td>1         </td><td>0         </td><td>5.879595  </td><td> 2.887    </td><td>0.4690    </td><td>-0.0955   </td><td> 3.3560   </td><td>0.3735    </td><td> 81.725   </td><td>1902.396  </td></tr>\n",
       "\t<tr><td>1         </td><td>74.65000  </td><td>1936-11-29</td><td>3         </td><td>3         </td><td>0         </td><td>1         </td><td>0         </td><td>0         </td><td>0         </td><td>⋯         </td><td>0         </td><td>0         </td><td>3.929069  </td><td> 5.296    </td><td>0.1880    </td><td> 0.1035   </td><td> 5.4840   </td><td>0.2915    </td><td>195.327   </td><td>2223.454  </td></tr>\n",
       "</tbody>\n",
       "</table>\n"
      ],
      "text/latex": [
       "\\begin{tabular}{r|llllllllllllllllllllllll}\n",
       " Gender & Age & Birth.Date & CKD.class & Group & DM & HTN & ACS & CHF & CVA & ⋯ & obesity & PAD & Average.CFU & VEGF & CD34.VEGF & CD34 & VEGF.All & CD34.All & VEGF.1 & SDF.1\\\\\n",
       "\\hline\n",
       "\t 0          & 49.00000   & 1961-10-12 & 3          & 3          & 0          & 1          & 0          & 0          & 0          & ⋯          & 0          & 0          & 3.789457   &  1.450     & 0.1900     &  2.1000    &  1.6400    & 2.2900     &  31.432    & 1933.688  \\\\\n",
       "\t 0          & 64.63611   & 1946-11-05 & 3          & 3          & 0          & 1          & 0          & 0          & 1          & ⋯          & 0          & 0          & 4.392872   &  6.674     & 0.1645     & -0.0390    &  6.8385    & 0.1255     &   2.563    & 2139.464  \\\\\n",
       "\t 0          & 38.88056   & 1972-03-02 & 3          & 3          & 0          & 0          & 0          & 0          & 0          & ⋯          & 0          & 0          & 3.704475   &  7.654     & 0.1715     &  0.4345    &  7.8255    & 0.6060     &  54.338    & 3092.584  \\\\\n",
       "\t 1          & 61.50000   & 1949-12-08 & 3          & 3          & 1          & 1          & 0          & 0          & 0          & ⋯          & 1          & 0          & 6.167245   & 12.907     & 0.1740     &  0.2595    & 13.0810    & 0.4335     &  38.010    & 1877.869  \\\\\n",
       "\t 1          & 69.29722   & 1942-05-07 & 3          & 3          & 0          & 1          & 0          & 0          & 0          & ⋯          & 1          & 0          & 5.879595   &  2.887     & 0.4690     & -0.0955    &  3.3560    & 0.3735     &  81.725    & 1902.396  \\\\\n",
       "\t 1          & 74.65000   & 1936-11-29 & 3          & 3          & 0          & 1          & 0          & 0          & 0          & ⋯          & 0          & 0          & 3.929069   &  5.296     & 0.1880     &  0.1035    &  5.4840    & 0.2915     & 195.327    & 2223.454  \\\\\n",
       "\\end{tabular}\n"
      ],
      "text/markdown": [
       "\n",
       "Gender | Age | Birth.Date | CKD.class | Group | DM | HTN | ACS | CHF | CVA | ⋯ | obesity | PAD | Average.CFU | VEGF | CD34.VEGF | CD34 | VEGF.All | CD34.All | VEGF.1 | SDF.1 | \n",
       "|---|---|---|---|---|---|\n",
       "| 0          | 49.00000   | 1961-10-12 | 3          | 3          | 0          | 1          | 0          | 0          | 0          | ⋯          | 0          | 0          | 3.789457   |  1.450     | 0.1900     |  2.1000    |  1.6400    | 2.2900     |  31.432    | 1933.688   | \n",
       "| 0          | 64.63611   | 1946-11-05 | 3          | 3          | 0          | 1          | 0          | 0          | 1          | ⋯          | 0          | 0          | 4.392872   |  6.674     | 0.1645     | -0.0390    |  6.8385    | 0.1255     |   2.563    | 2139.464   | \n",
       "| 0          | 38.88056   | 1972-03-02 | 3          | 3          | 0          | 0          | 0          | 0          | 0          | ⋯          | 0          | 0          | 3.704475   |  7.654     | 0.1715     |  0.4345    |  7.8255    | 0.6060     |  54.338    | 3092.584   | \n",
       "| 1          | 61.50000   | 1949-12-08 | 3          | 3          | 1          | 1          | 0          | 0          | 0          | ⋯          | 1          | 0          | 6.167245   | 12.907     | 0.1740     |  0.2595    | 13.0810    | 0.4335     |  38.010    | 1877.869   | \n",
       "| 1          | 69.29722   | 1942-05-07 | 3          | 3          | 0          | 1          | 0          | 0          | 0          | ⋯          | 1          | 0          | 5.879595   |  2.887     | 0.4690     | -0.0955    |  3.3560    | 0.3735     |  81.725    | 1902.396   | \n",
       "| 1          | 74.65000   | 1936-11-29 | 3          | 3          | 0          | 1          | 0          | 0          | 0          | ⋯          | 0          | 0          | 3.929069   |  5.296     | 0.1880     |  0.1035    |  5.4840    | 0.2915     | 195.327    | 2223.454   | \n",
       "\n",
       "\n"
      ],
      "text/plain": [
       "  Gender Age      Birth.Date CKD.class Group DM HTN ACS CHF CVA ⋯ obesity PAD\n",
       "1 0      49.00000 1961-10-12 3         3     0  1   0   0   0   ⋯ 0       0  \n",
       "2 0      64.63611 1946-11-05 3         3     0  1   0   0   1   ⋯ 0       0  \n",
       "3 0      38.88056 1972-03-02 3         3     0  0   0   0   0   ⋯ 0       0  \n",
       "4 1      61.50000 1949-12-08 3         3     1  1   0   0   0   ⋯ 1       0  \n",
       "5 1      69.29722 1942-05-07 3         3     0  1   0   0   0   ⋯ 1       0  \n",
       "6 1      74.65000 1936-11-29 3         3     0  1   0   0   0   ⋯ 0       0  \n",
       "  Average.CFU VEGF   CD34.VEGF CD34    VEGF.All CD34.All VEGF.1  SDF.1   \n",
       "1 3.789457     1.450 0.1900     2.1000  1.6400  2.2900    31.432 1933.688\n",
       "2 4.392872     6.674 0.1645    -0.0390  6.8385  0.1255     2.563 2139.464\n",
       "3 3.704475     7.654 0.1715     0.4345  7.8255  0.6060    54.338 3092.584\n",
       "4 6.167245    12.907 0.1740     0.2595 13.0810  0.4335    38.010 1877.869\n",
       "5 5.879595     2.887 0.4690    -0.0955  3.3560  0.3735    81.725 1902.396\n",
       "6 3.929069     5.296 0.1880     0.1035  5.4840  0.2915   195.327 2223.454"
      ]
     },
     "metadata": {},
     "output_type": "display_data"
    },
    {
     "data": {
      "text/html": [
       "<table>\n",
       "<thead><tr><th></th><th scope=col>Gender</th><th scope=col>Age</th><th scope=col>Birth.Date</th><th scope=col>CKD.class</th><th scope=col>Group</th><th scope=col>DM</th><th scope=col>HTN</th><th scope=col>ACS</th><th scope=col>CHF</th><th scope=col>CVA</th><th scope=col>⋯</th><th scope=col>obesity</th><th scope=col>PAD</th><th scope=col>Average.CFU</th><th scope=col>VEGF</th><th scope=col>CD34.VEGF</th><th scope=col>CD34</th><th scope=col>VEGF.All</th><th scope=col>CD34.All</th><th scope=col>VEGF.1</th><th scope=col>SDF.1</th></tr></thead>\n",
       "<tbody>\n",
       "\t<tr><th scope=row>144</th><td>1         </td><td>63        </td><td>1947-01-13</td><td>5         </td><td>8         </td><td>1         </td><td>0         </td><td>0         </td><td>1         </td><td>0         </td><td>⋯         </td><td>0         </td><td>1         </td><td>5.034     </td><td>0.3595    </td><td>0.2075    </td><td> 0.0470   </td><td>0.5670    </td><td> 0.2545   </td><td>127.070   </td><td>3792.843  </td></tr>\n",
       "\t<tr><th scope=row>145</th><td>0         </td><td>56        </td><td>1954-07-15</td><td>5         </td><td>8         </td><td>1         </td><td>1         </td><td>1         </td><td>0         </td><td>0         </td><td>⋯         </td><td>0         </td><td>1         </td><td>3.044     </td><td>0.3865    </td><td>0.0875    </td><td> 0.0035   </td><td>0.4740    </td><td> 0.0910   </td><td>231.768   </td><td>4313.722  </td></tr>\n",
       "\t<tr><th scope=row>146</th><td>1         </td><td>63        </td><td>1947-06-15</td><td>5         </td><td>8         </td><td>1         </td><td>0         </td><td>0         </td><td>0         </td><td>0         </td><td>⋯         </td><td>1         </td><td>1         </td><td>5.090     </td><td>4.1670    </td><td>0.2255    </td><td>-0.0055   </td><td>4.3925    </td><td> 0.2200   </td><td>495.291   </td><td>5311.477  </td></tr>\n",
       "\t<tr><th scope=row>147</th><td>0         </td><td>71        </td><td>1938-11-08</td><td>5         </td><td>8         </td><td>1         </td><td>1         </td><td>0         </td><td>0         </td><td>0         </td><td>⋯         </td><td>1         </td><td>1         </td><td>5.690     </td><td>1.2190    </td><td>0.1255    </td><td> 0.1955   </td><td>1.3445    </td><td> 0.3210   </td><td> 62.777   </td><td>3311.798  </td></tr>\n",
       "\t<tr><th scope=row>148</th><td>0         </td><td>70        </td><td>1940-01-20</td><td>5         </td><td>8         </td><td>1         </td><td>1         </td><td>1         </td><td>0         </td><td>1         </td><td>⋯         </td><td>1         </td><td>1         </td><td>5.554     </td><td>1.7870    </td><td>0.0795    </td><td>-0.0045   </td><td>1.8665    </td><td> 0.0750   </td><td>277.927   </td><td>7015.030  </td></tr>\n",
       "\t<tr><th scope=row>149</th><td>1         </td><td>71        </td><td>1940-10-08</td><td>5         </td><td>8         </td><td>1         </td><td>1         </td><td>0         </td><td>0         </td><td>0         </td><td>⋯         </td><td>0         </td><td>1         </td><td>3.684     </td><td>2.1200    </td><td>2.6090    </td><td>10.3900   </td><td>4.7290    </td><td>12.9990   </td><td>500.290   </td><td>3461.473  </td></tr>\n",
       "</tbody>\n",
       "</table>\n"
      ],
      "text/latex": [
       "\\begin{tabular}{r|llllllllllllllllllllllll}\n",
       "  & Gender & Age & Birth.Date & CKD.class & Group & DM & HTN & ACS & CHF & CVA & ⋯ & obesity & PAD & Average.CFU & VEGF & CD34.VEGF & CD34 & VEGF.All & CD34.All & VEGF.1 & SDF.1\\\\\n",
       "\\hline\n",
       "\t144 & 1          & 63         & 1947-01-13 & 5          & 8          & 1          & 0          & 0          & 1          & 0          & ⋯          & 0          & 1          & 5.034      & 0.3595     & 0.2075     &  0.0470    & 0.5670     &  0.2545    & 127.070    & 3792.843  \\\\\n",
       "\t145 & 0          & 56         & 1954-07-15 & 5          & 8          & 1          & 1          & 1          & 0          & 0          & ⋯          & 0          & 1          & 3.044      & 0.3865     & 0.0875     &  0.0035    & 0.4740     &  0.0910    & 231.768    & 4313.722  \\\\\n",
       "\t146 & 1          & 63         & 1947-06-15 & 5          & 8          & 1          & 0          & 0          & 0          & 0          & ⋯          & 1          & 1          & 5.090      & 4.1670     & 0.2255     & -0.0055    & 4.3925     &  0.2200    & 495.291    & 5311.477  \\\\\n",
       "\t147 & 0          & 71         & 1938-11-08 & 5          & 8          & 1          & 1          & 0          & 0          & 0          & ⋯          & 1          & 1          & 5.690      & 1.2190     & 0.1255     &  0.1955    & 1.3445     &  0.3210    &  62.777    & 3311.798  \\\\\n",
       "\t148 & 0          & 70         & 1940-01-20 & 5          & 8          & 1          & 1          & 1          & 0          & 1          & ⋯          & 1          & 1          & 5.554      & 1.7870     & 0.0795     & -0.0045    & 1.8665     &  0.0750    & 277.927    & 7015.030  \\\\\n",
       "\t149 & 1          & 71         & 1940-10-08 & 5          & 8          & 1          & 1          & 0          & 0          & 0          & ⋯          & 0          & 1          & 3.684      & 2.1200     & 2.6090     & 10.3900    & 4.7290     & 12.9990    & 500.290    & 3461.473  \\\\\n",
       "\\end{tabular}\n"
      ],
      "text/markdown": [
       "\n",
       "| <!--/--> | Gender | Age | Birth.Date | CKD.class | Group | DM | HTN | ACS | CHF | CVA | ⋯ | obesity | PAD | Average.CFU | VEGF | CD34.VEGF | CD34 | VEGF.All | CD34.All | VEGF.1 | SDF.1 | \n",
       "|---|---|---|---|---|---|\n",
       "| 144 | 1          | 63         | 1947-01-13 | 5          | 8          | 1          | 0          | 0          | 1          | 0          | ⋯          | 0          | 1          | 5.034      | 0.3595     | 0.2075     |  0.0470    | 0.5670     |  0.2545    | 127.070    | 3792.843   | \n",
       "| 145 | 0          | 56         | 1954-07-15 | 5          | 8          | 1          | 1          | 1          | 0          | 0          | ⋯          | 0          | 1          | 3.044      | 0.3865     | 0.0875     |  0.0035    | 0.4740     |  0.0910    | 231.768    | 4313.722   | \n",
       "| 146 | 1          | 63         | 1947-06-15 | 5          | 8          | 1          | 0          | 0          | 0          | 0          | ⋯          | 1          | 1          | 5.090      | 4.1670     | 0.2255     | -0.0055    | 4.3925     |  0.2200    | 495.291    | 5311.477   | \n",
       "| 147 | 0          | 71         | 1938-11-08 | 5          | 8          | 1          | 1          | 0          | 0          | 0          | ⋯          | 1          | 1          | 5.690      | 1.2190     | 0.1255     |  0.1955    | 1.3445     |  0.3210    |  62.777    | 3311.798   | \n",
       "| 148 | 0          | 70         | 1940-01-20 | 5          | 8          | 1          | 1          | 1          | 0          | 1          | ⋯          | 1          | 1          | 5.554      | 1.7870     | 0.0795     | -0.0045    | 1.8665     |  0.0750    | 277.927    | 7015.030   | \n",
       "| 149 | 1          | 71         | 1940-10-08 | 5          | 8          | 1          | 1          | 0          | 0          | 0          | ⋯          | 0          | 1          | 3.684      | 2.1200     | 2.6090     | 10.3900    | 4.7290     | 12.9990    | 500.290    | 3461.473   | \n",
       "\n",
       "\n"
      ],
      "text/plain": [
       "    Gender Age Birth.Date CKD.class Group DM HTN ACS CHF CVA ⋯ obesity PAD\n",
       "144 1      63  1947-01-13 5         8     1  0   0   1   0   ⋯ 0       1  \n",
       "145 0      56  1954-07-15 5         8     1  1   1   0   0   ⋯ 0       1  \n",
       "146 1      63  1947-06-15 5         8     1  0   0   0   0   ⋯ 1       1  \n",
       "147 0      71  1938-11-08 5         8     1  1   0   0   0   ⋯ 1       1  \n",
       "148 0      70  1940-01-20 5         8     1  1   1   0   1   ⋯ 1       1  \n",
       "149 1      71  1940-10-08 5         8     1  1   0   0   0   ⋯ 0       1  \n",
       "    Average.CFU VEGF   CD34.VEGF CD34    VEGF.All CD34.All VEGF.1  SDF.1   \n",
       "144 5.034       0.3595 0.2075     0.0470 0.5670    0.2545  127.070 3792.843\n",
       "145 3.044       0.3865 0.0875     0.0035 0.4740    0.0910  231.768 4313.722\n",
       "146 5.090       4.1670 0.2255    -0.0055 4.3925    0.2200  495.291 5311.477\n",
       "147 5.690       1.2190 0.1255     0.1955 1.3445    0.3210   62.777 3311.798\n",
       "148 5.554       1.7870 0.0795    -0.0045 1.8665    0.0750  277.927 7015.030\n",
       "149 3.684       2.1200 2.6090    10.3900 4.7290   12.9990  500.290 3461.473"
      ]
     },
     "metadata": {},
     "output_type": "display_data"
    },
    {
     "data": {
      "text/html": [
       "<ol class=list-inline>\n",
       "\t<li>'Gender'</li>\n",
       "\t<li>'Age'</li>\n",
       "\t<li>'Birth.Date'</li>\n",
       "\t<li>'CKD.class'</li>\n",
       "\t<li>'Group'</li>\n",
       "\t<li>'DM'</li>\n",
       "\t<li>'HTN'</li>\n",
       "\t<li>'ACS'</li>\n",
       "\t<li>'CHF'</li>\n",
       "\t<li>'CVA'</li>\n",
       "\t<li>'smoking'</li>\n",
       "\t<li>'alcohol'</li>\n",
       "\t<li>'statin'</li>\n",
       "\t<li>'BMI'</li>\n",
       "\t<li>'obesity'</li>\n",
       "\t<li>'PAD'</li>\n",
       "\t<li>'Average.CFU'</li>\n",
       "\t<li>'VEGF'</li>\n",
       "\t<li>'CD34.VEGF'</li>\n",
       "\t<li>'CD34'</li>\n",
       "\t<li>'VEGF.All'</li>\n",
       "\t<li>'CD34.All'</li>\n",
       "\t<li>'VEGF.1'</li>\n",
       "\t<li>'SDF.1'</li>\n",
       "</ol>\n"
      ],
      "text/latex": [
       "\\begin{enumerate*}\n",
       "\\item 'Gender'\n",
       "\\item 'Age'\n",
       "\\item 'Birth.Date'\n",
       "\\item 'CKD.class'\n",
       "\\item 'Group'\n",
       "\\item 'DM'\n",
       "\\item 'HTN'\n",
       "\\item 'ACS'\n",
       "\\item 'CHF'\n",
       "\\item 'CVA'\n",
       "\\item 'smoking'\n",
       "\\item 'alcohol'\n",
       "\\item 'statin'\n",
       "\\item 'BMI'\n",
       "\\item 'obesity'\n",
       "\\item 'PAD'\n",
       "\\item 'Average.CFU'\n",
       "\\item 'VEGF'\n",
       "\\item 'CD34.VEGF'\n",
       "\\item 'CD34'\n",
       "\\item 'VEGF.All'\n",
       "\\item 'CD34.All'\n",
       "\\item 'VEGF.1'\n",
       "\\item 'SDF.1'\n",
       "\\end{enumerate*}\n"
      ],
      "text/markdown": [
       "1. 'Gender'\n",
       "2. 'Age'\n",
       "3. 'Birth.Date'\n",
       "4. 'CKD.class'\n",
       "5. 'Group'\n",
       "6. 'DM'\n",
       "7. 'HTN'\n",
       "8. 'ACS'\n",
       "9. 'CHF'\n",
       "10. 'CVA'\n",
       "11. 'smoking'\n",
       "12. 'alcohol'\n",
       "13. 'statin'\n",
       "14. 'BMI'\n",
       "15. 'obesity'\n",
       "16. 'PAD'\n",
       "17. 'Average.CFU'\n",
       "18. 'VEGF'\n",
       "19. 'CD34.VEGF'\n",
       "20. 'CD34'\n",
       "21. 'VEGF.All'\n",
       "22. 'CD34.All'\n",
       "23. 'VEGF.1'\n",
       "24. 'SDF.1'\n",
       "\n",
       "\n"
      ],
      "text/plain": [
       " [1] \"Gender\"      \"Age\"         \"Birth.Date\"  \"CKD.class\"   \"Group\"      \n",
       " [6] \"DM\"          \"HTN\"         \"ACS\"         \"CHF\"         \"CVA\"        \n",
       "[11] \"smoking\"     \"alcohol\"     \"statin\"      \"BMI\"         \"obesity\"    \n",
       "[16] \"PAD\"         \"Average.CFU\" \"VEGF\"        \"CD34.VEGF\"   \"CD34\"       \n",
       "[21] \"VEGF.All\"    \"CD34.All\"    \"VEGF.1\"      \"SDF.1\"      "
      ]
     },
     "metadata": {},
     "output_type": "display_data"
    }
   ],
   "source": [
    "# Column name 변경\n",
    "colnames(data)[c(7, 13, 15, 16, 22)] <- c(\"HTN\", \"statin\", \"obesity\", \"PAD\", \"CD34.All\")\n",
    "head(data)\n",
    "tail(data)\n",
    "colnames(data)"
   ]
  },
  {
   "cell_type": "markdown",
   "metadata": {},
   "source": [
    "- 잘 불려온 것을 확인할 수 있다. "
   ]
  },
  {
   "cell_type": "code",
   "execution_count": 44,
   "metadata": {},
   "outputs": [],
   "source": [
    "# 범주형 변수, 데이터 타입 변경\n",
    "# data$Gender <- factor(data$Gender, levels=c(0,1), labels =c(\"F\",\"M\"))\n",
    "\n",
    "# for( key in c('DM', 'HTN', 'ACS', 'CHF', 'CVA', 'smoking', 'alcohol', 'statin', 'obesity', 'PAD') ){\n",
    "#     data[key][,1] <- factor(data[key][,1])\n",
    "# }"
   ]
  },
  {
   "cell_type": "markdown",
   "metadata": {},
   "source": [
    "다음 코드는 \n",
    "\n",
    "CLI 그룹에 따라 3,4,5 는 0 / 6,7,8 은 1 로 하는 CLI 변수 생성"
   ]
  },
  {
   "cell_type": "code",
   "execution_count": 83,
   "metadata": {
    "scrolled": true
   },
   "outputs": [
    {
     "data": {
      "text/html": [
       "<table>\n",
       "<thead><tr><th scope=col>CKD.class</th><th scope=col>CLI</th><th scope=col>n</th></tr></thead>\n",
       "<tbody>\n",
       "\t<tr><td>3 </td><td>0 </td><td>41</td></tr>\n",
       "\t<tr><td>3 </td><td>1 </td><td>11</td></tr>\n",
       "\t<tr><td>4 </td><td>0 </td><td>33</td></tr>\n",
       "\t<tr><td>4 </td><td>1 </td><td> 7</td></tr>\n",
       "\t<tr><td>5 </td><td>0 </td><td>27</td></tr>\n",
       "\t<tr><td>5 </td><td>1 </td><td>14</td></tr>\n",
       "</tbody>\n",
       "</table>\n"
      ],
      "text/latex": [
       "\\begin{tabular}{r|lll}\n",
       " CKD.class & CLI & n\\\\\n",
       "\\hline\n",
       "\t 3  & 0  & 41\\\\\n",
       "\t 3  & 1  & 11\\\\\n",
       "\t 4  & 0  & 33\\\\\n",
       "\t 4  & 1  &  7\\\\\n",
       "\t 5  & 0  & 27\\\\\n",
       "\t 5  & 1  & 14\\\\\n",
       "\\end{tabular}\n"
      ],
      "text/markdown": [
       "\n",
       "CKD.class | CLI | n | \n",
       "|---|---|---|---|---|---|\n",
       "| 3  | 0  | 41 | \n",
       "| 3  | 1  | 11 | \n",
       "| 4  | 0  | 33 | \n",
       "| 4  | 1  |  7 | \n",
       "| 5  | 0  | 27 | \n",
       "| 5  | 1  | 14 | \n",
       "\n",
       "\n"
      ],
      "text/plain": [
       "  CKD.class CLI n \n",
       "1 3         0   41\n",
       "2 3         1   11\n",
       "3 4         0   33\n",
       "4 4         1    7\n",
       "5 5         0   27\n",
       "6 5         1   14"
      ]
     },
     "metadata": {},
     "output_type": "display_data"
    }
   ],
   "source": [
    "library(dplyr)\n",
    "\n",
    "# CLI 변수 생성 : 0 = CLI 없음(Group3,4,5) / 1 = CLI 있음(Group6,7,8)\n",
    "data <- data %>% mutate( CLI = as.numeric(Group>5))\n",
    "\n",
    "# 생성된 데이터 확인\n",
    "data  %>% group_by(CKD.class, CLI)  %>% summarise(n=length(CLI))"
   ]
  },
  {
   "cell_type": "markdown",
   "metadata": {},
   "source": [
    "---\n",
    "# 분석 1\n",
    "---\n",
    "### CLI 집단과 비 CLI 집단 사이의 demographic 수치 비교\n",
    "\n",
    "범주형 : Gender, DM, HTN, ACS, CHF, CVA, Smoking, Alcohol, obesity(BMI 기준 비만여부), Statin\n",
    "    \n",
    "    => Chi-square 분석\n",
    "\n",
    "연속형 : Age, BMI\n",
    "\n",
    "    => t-test or Wilcoxon-test\n"
   ]
  },
  {
   "cell_type": "markdown",
   "metadata": {},
   "source": [
    "## Demographic data 살펴보기\n",
    "\n",
    "CLI 유무를 기준으로 나눈 집단에서 \n",
    "\n",
    "Gender, Age, DM, HTN, ACS, CHF, CVA, Smoking, Alcohol, BMI, Statin 데이터를 확인합니다. "
   ]
  },
  {
   "cell_type": "markdown",
   "metadata": {},
   "source": [
    "#### Mean과 Ratio 확인"
   ]
  },
  {
   "cell_type": "markdown",
   "metadata": {},
   "source": [
    "CLI/비CLI 집단에서 각 변수의 비율과 평균을 확인합니다. \n",
    "\n",
    "아래 코드 신경쓰실 필요 없고, 결과만 보시면 됩니다. "
   ]
  },
  {
   "cell_type": "code",
   "execution_count": 85,
   "metadata": {
    "scrolled": false
   },
   "outputs": [
    {
     "name": "stdout",
     "output_type": "stream",
     "text": [
      "\n",
      "CLI(group6+7+8) number :  32 /  133 \n",
      "\n",
      "\n",
      "<CLI 그룹에 따른 Demographic data 비교>\n"
     ]
    },
    {
     "data": {
      "text/html": [
       "<table>\n",
       "<thead><tr><th scope=col>CLI</th><th scope=col>gender.ratio</th><th scope=col>mean.Age</th><th scope=col>DM.ratio</th><th scope=col>HTN.ratio</th><th scope=col>ACS.ratio</th><th scope=col>CHF.ratio</th><th scope=col>CVA.ratio</th><th scope=col>smoking.ratio</th><th scope=col>alcohol.ratio</th><th scope=col>statin.ratio</th><th scope=col>mean.BMI</th><th scope=col>obesity.ratio</th><th scope=col>PAD.ratio</th></tr></thead>\n",
       "<tbody>\n",
       "\t<tr><td>0    </td><td>0.51 </td><td>62.84</td><td>0.39 </td><td>0.92 </td><td>0.12 </td><td>0.03 </td><td>0.11 </td><td>0.44 </td><td>0.26 </td><td>0.56 </td><td>23.94</td><td>0.37 </td><td>0.26 </td></tr>\n",
       "\t<tr><td>1    </td><td>0.75 </td><td>67.09</td><td>0.94 </td><td>0.72 </td><td>0.31 </td><td>0.06 </td><td>0.16 </td><td>0.28 </td><td>0.06 </td><td>0.06 </td><td>23.35</td><td>0.44 </td><td>1.00 </td></tr>\n",
       "</tbody>\n",
       "</table>\n"
      ],
      "text/latex": [
       "\\begin{tabular}{r|llllllllllllll}\n",
       " CLI & gender.ratio & mean.Age & DM.ratio & HTN.ratio & ACS.ratio & CHF.ratio & CVA.ratio & smoking.ratio & alcohol.ratio & statin.ratio & mean.BMI & obesity.ratio & PAD.ratio\\\\\n",
       "\\hline\n",
       "\t 0     & 0.51  & 62.84 & 0.39  & 0.92  & 0.12  & 0.03  & 0.11  & 0.44  & 0.26  & 0.56  & 23.94 & 0.37  & 0.26 \\\\\n",
       "\t 1     & 0.75  & 67.09 & 0.94  & 0.72  & 0.31  & 0.06  & 0.16  & 0.28  & 0.06  & 0.06  & 23.35 & 0.44  & 1.00 \\\\\n",
       "\\end{tabular}\n"
      ],
      "text/markdown": [
       "\n",
       "CLI | gender.ratio | mean.Age | DM.ratio | HTN.ratio | ACS.ratio | CHF.ratio | CVA.ratio | smoking.ratio | alcohol.ratio | statin.ratio | mean.BMI | obesity.ratio | PAD.ratio | \n",
       "|---|---|\n",
       "| 0     | 0.51  | 62.84 | 0.39  | 0.92  | 0.12  | 0.03  | 0.11  | 0.44  | 0.26  | 0.56  | 23.94 | 0.37  | 0.26  | \n",
       "| 1     | 0.75  | 67.09 | 0.94  | 0.72  | 0.31  | 0.06  | 0.16  | 0.28  | 0.06  | 0.06  | 23.35 | 0.44  | 1.00  | \n",
       "\n",
       "\n"
      ],
      "text/plain": [
       "  CLI gender.ratio mean.Age DM.ratio HTN.ratio ACS.ratio CHF.ratio CVA.ratio\n",
       "1 0   0.51         62.84    0.39     0.92      0.12      0.03      0.11     \n",
       "2 1   0.75         67.09    0.94     0.72      0.31      0.06      0.16     \n",
       "  smoking.ratio alcohol.ratio statin.ratio mean.BMI obesity.ratio PAD.ratio\n",
       "1 0.44          0.26          0.56         23.94    0.37          0.26     \n",
       "2 0.28          0.06          0.06         23.35    0.44          1.00     "
      ]
     },
     "metadata": {},
     "output_type": "display_data"
    },
    {
     "name": "stdout",
     "output_type": "stream",
     "text": [
      "\n",
      "\n",
      "<CLI 그룹에 따른 Demographic data 시각화>\n"
     ]
    },
    {
     "data": {
      "image/png": "[encoded data removed]",
      "text/plain": [
       "plot without title"
      ]
     },
     "metadata": {},
     "output_type": "display_data"
    }
   ],
   "source": [
    "# CLI 데이터 수 \n",
    "cat( \"\\nCLI(group6+7+8) number : \", sum(data$CLI), \"/ \", length(data$CLI),\"\\n\")\n",
    "\n",
    "library(dplyr)\n",
    "library(ggplot2)\n",
    "\n",
    "# Demographic data\n",
    "cat(\"\\n\\n<CLI 그룹에 따른 Demographic data 비교>\\n\")\n",
    "demo.data <- data %>% \n",
    "    group_by( CLI ) %>%\n",
    "    summarise( gender.ratio = mean(Gender, na.rm = T),\n",
    "            mean.Age = mean(Age, na.rm = T),\n",
    "            DM.ratio = mean(DM, na.rm = T),\n",
    "            HTN.ratio = mean(HTN, na.rm = T),\n",
    "            ACS.ratio = mean(ACS, na.rm = T),\n",
    "            CHF.ratio = mean(CHF, na.rm = T),\n",
    "            CVA.ratio = mean(CVA, na.rm = T),\n",
    "            smoking.ratio = mean(smoking, na.rm = T),\n",
    "            alcohol.ratio = mean(alcohol, na.rm = T),\n",
    "            statin.ratio = mean(statin, na.rm = T),\n",
    "            mean.BMI = mean(BMI, na.rm = T),\n",
    "            obesity.ratio = mean(obesity, na.rm = T),\n",
    "            PAD.ratio = mean(PAD, na.rm = T)\n",
    "             ) %>%\n",
    "    mutate_if(is.numeric, funs(round(., 2)))\n",
    "\n",
    "demo.data\n",
    "\n",
    "library(gridExtra)\n",
    "library(repr)\n",
    "plots <- list()  # new empty list\n",
    "\n",
    "for (key in c(\"gender.ratio\", \"DM.ratio\", \"HTN.ratio\", \"ACS.ratio\",\"CHF.ratio\",\"smoking.ratio\",\"alcohol.ratio\",\"statin.ratio\", \"obesity.ratio\", \"PAD.ratio\")) {\n",
    "    p1 <- demo.data %>% mutate(CLI = as.factor(CLI)) %>% \n",
    "        ggplot(aes_string(x=\"CLI\", y=key, fill=\"CLI\")) +\n",
    "        geom_bar(stat=\"identity\", width=0.5) +\n",
    "        scale_x_discrete(\"CLI\", breaks= c(0,1), labels = c(\"N\",\"Y\"))+ \n",
    "        guides(fill=FALSE)\n",
    "    plots[[key]] <- p1  # add each plot into plot list\n",
    "}\n",
    "\n",
    "options(repr.plot.width=8, repr.plot.height=3.5)\n",
    "cat(\"\\n\\n<CLI 그룹에 따른 Demographic data 시각화>\\n\")\n",
    "grid.arrange(grobs=plots, ncol=5)"
   ]
  },
  {
   "cell_type": "markdown",
   "metadata": {},
   "source": [
    "비율 차이\n",
    "\n",
    "- 1.5배 정도: gender, smoking\n",
    "- 2배 이상: DM, CHF, alcohol, statin PAD\n"
   ]
  },
  {
   "cell_type": "markdown",
   "metadata": {},
   "source": [
    "#### Age 와 BMI 의 분포 확인 "
   ]
  },
  {
   "cell_type": "markdown",
   "metadata": {},
   "source": [
    "Age 와 BMI 는 연속형 자료이므로, t-test를 실시하기 전에 정규성을 확인해주는 것이 좋습니다. \n",
    "\n",
    "우선 분포를 살펴봅니다. "
   ]
  },
  {
   "cell_type": "code",
   "execution_count": 47,
   "metadata": {
    "scrolled": false
   },
   "outputs": [
    {
     "name": "stdout",
     "output_type": "stream",
     "text": [
      "\n",
      "\n",
      "<Age, BMI 분포 그래프>"
     ]
    },
    {
     "data": {
      "image/png": "[encoded data removed]",
      "text/plain": [
       "plot without title"
      ]
     },
     "metadata": {},
     "output_type": "display_data"
    }
   ],
   "source": [
    "# 연속형 데이터 분포 확인\n",
    "library(repr)\n",
    "library(ggplot2)\n",
    "library(gridExtra)\n",
    "\n",
    "# CLI 집단에 따른 Age 분포 확인 \n",
    "p1 <- data %>% \n",
    "    ggplot(aes(x=Age)) +\n",
    "    geom_histogram(bins=30, na.rm = T) +  \n",
    "    ggtitle(\"Age in noCLI / CLI\") +\n",
    "    labs(x=\"Age\", y=\"Freq\") +\n",
    "    theme(plot.title = element_text(hjust = 0.5)) + \n",
    "    facet_wrap(~ CLI)\n",
    "\n",
    "# 겹친 그래프\n",
    "# data %>% \n",
    "#     mutate(CLI.f = as.factor(CLI)) %>%\n",
    "#     ggplot(aes(x=Age, fill = CLI.f)) +\n",
    "#     geom_histogram(alpha=0.5, position=\"identity\", binwidth = 2.5) +  \n",
    "#     ggtitle(\"Age in noCLI / CLI\") +\n",
    "#     labs(x=\"Age\", y=\"Freq\") +\n",
    "#     theme(plot.title = element_text(hjust = 0.5))\n",
    "\n",
    "# CLI 집단에 따른 BMI 분포 확인\n",
    "p2 <- data %>% \n",
    "    ggplot(aes(x=BMI)) +\n",
    "    geom_histogram(bins=30, na.rm = T) +  \n",
    "    ggtitle(\"BMI in noCLI / CLI\") +\n",
    "    labs(x=\"BMI\", y=\"Freq\") +\n",
    "    theme(plot.title = element_text(hjust = 0.5)) + \n",
    "    facet_wrap(~ CLI)\n",
    "\n",
    "# 겹친 그래프\n",
    "# data %>% \n",
    "#     mutate(CLI.f = as.factor(CLI)) %>%\n",
    "#     ggplot(aes(x=BMI, fill = CLI.f)) +\n",
    "#     geom_histogram(alpha=0.5, position=\"identity\",binwidth = 1) +  \n",
    "#     ggtitle(\"BMI in noCLI / CLI\") +\n",
    "#     labs(x=\"BMI\", y=\"Freq\") +\n",
    "#     theme(plot.title = element_text(hjust = 0.5))\n",
    "\n",
    "cat(\"\\n\\n<Age, BMI 분포 그래프>\")\n",
    "options(repr.plot.width=6.5, repr.plot.height=2.2)\n",
    "grid.arrange(p1, p2, ncol=2)"
   ]
  },
  {
   "cell_type": "markdown",
   "metadata": {},
   "source": [
    "CLI 그룹과 비 CLI 그룹에서 분포의 큰 차이는 없어보입니다.  \n",
    "정규성을 따르는지 조금 더 확실하게 따져 봅시다. "
   ]
  },
  {
   "cell_type": "markdown",
   "metadata": {},
   "source": [
    "#### Age 정규성"
   ]
  },
  {
   "cell_type": "code",
   "execution_count": 48,
   "metadata": {
    "scrolled": false
   },
   "outputs": [
    {
     "name": "stdout",
     "output_type": "stream",
     "text": [
      "\n",
      " <Age 정규성 검정>\n"
     ]
    },
    {
     "data": {
      "text/html": [
       "<table>\n",
       "<thead><tr><th scope=col>CLI</th><th scope=col>Age정규성_p.value</th></tr></thead>\n",
       "<tbody>\n",
       "\t<tr><td>0        </td><td>0.1018635</td></tr>\n",
       "\t<tr><td>1        </td><td>0.5999410</td></tr>\n",
       "</tbody>\n",
       "</table>\n"
      ],
      "text/latex": [
       "\\begin{tabular}{r|ll}\n",
       " CLI & Age정규성\\_p.value\\\\\n",
       "\\hline\n",
       "\t 0         & 0.1018635\\\\\n",
       "\t 1         & 0.5999410\\\\\n",
       "\\end{tabular}\n"
      ],
      "text/markdown": [
       "\n",
       "CLI | Age정규성_p.value | \n",
       "|---|---|\n",
       "| 0         | 0.1018635 | \n",
       "| 1         | 0.5999410 | \n",
       "\n",
       "\n"
      ],
      "text/plain": [
       "  CLI Age정규성_p.value\n",
       "1 0   0.1018635        \n",
       "2 1   0.5999410        "
      ]
     },
     "metadata": {},
     "output_type": "display_data"
    },
    {
     "name": "stdout",
     "output_type": "stream",
     "text": [
      "  등분산성 검정 p-value :  0.435332"
     ]
    },
    {
     "data": {
      "image/png": "[encoded data removed]",
      "text/plain": [
       "Plot with title “Normal Q-Q Plot”"
      ]
     },
     "metadata": {},
     "output_type": "display_data"
    }
   ],
   "source": [
    "options(repr.plot.width=6, repr.plot.height=3.5)\n",
    "par(mfrow = c(1, 2))\n",
    "p1 <- data %>% filter(CLI==0) %>% with(qqnorm(Age))\n",
    "p2 <- data %>% filter(CLI==1) %>% with(qqnorm(Age))\n",
    "\n",
    "result <- data %>% group_by(CLI)%>% summarise(Age정규성_p.value = shapiro.test(Age)$p.value)\n",
    "var.anal <- var.test(data$Age ~ data$CLI)\n",
    "\n",
    "cat(\"\\n <Age 정규성 검정>\\n\")\n",
    "result\n",
    "cat(\"  등분산성 검정 p-value : \", var.anal$p.value)"
   ]
  },
  {
   "cell_type": "markdown",
   "metadata": {},
   "source": [
    "정규성 만족 => t-test"
   ]
  },
  {
   "cell_type": "markdown",
   "metadata": {},
   "source": [
    "#### BMI 정규성"
   ]
  },
  {
   "cell_type": "code",
   "execution_count": 49,
   "metadata": {},
   "outputs": [
    {
     "name": "stdout",
     "output_type": "stream",
     "text": [
      "\n",
      " <BMI 정규성 검정>\n"
     ]
    },
    {
     "data": {
      "text/html": [
       "<table>\n",
       "<thead><tr><th scope=col>CLI</th><th scope=col>BMI정규성_p.value</th></tr></thead>\n",
       "<tbody>\n",
       "\t<tr><td>0         </td><td>0.03783754</td></tr>\n",
       "\t<tr><td>1         </td><td>0.36165338</td></tr>\n",
       "</tbody>\n",
       "</table>\n"
      ],
      "text/latex": [
       "\\begin{tabular}{r|ll}\n",
       " CLI & BMI정규성\\_p.value\\\\\n",
       "\\hline\n",
       "\t 0          & 0.03783754\\\\\n",
       "\t 1          & 0.36165338\\\\\n",
       "\\end{tabular}\n"
      ],
      "text/markdown": [
       "\n",
       "CLI | BMI정규성_p.value | \n",
       "|---|---|\n",
       "| 0          | 0.03783754 | \n",
       "| 1          | 0.36165338 | \n",
       "\n",
       "\n"
      ],
      "text/plain": [
       "  CLI BMI정규성_p.value\n",
       "1 0   0.03783754       \n",
       "2 1   0.36165338       "
      ]
     },
     "metadata": {},
     "output_type": "display_data"
    },
    {
     "name": "stdout",
     "output_type": "stream",
     "text": [
      "  등분산성 검정 p-value :  0.8645835"
     ]
    },
    {
     "data": {
      "image/png": "[encoded data removed]",
      "text/plain": [
       "Plot with title “Normal Q-Q Plot”"
      ]
     },
     "metadata": {},
     "output_type": "display_data"
    }
   ],
   "source": [
    "options(repr.plot.width=6, repr.plot.height=3.5)\n",
    "par(mfrow = c(1, 2))\n",
    "p1 <- data %>% filter(CLI==0) %>% with(qqnorm(BMI))\n",
    "p2 <- data %>% filter(CLI==1) %>% with(qqnorm(BMI))\n",
    "\n",
    "result <- data %>% group_by(CLI)%>% summarise(BMI정규성_p.value = shapiro.test(BMI)$p.value)\n",
    "var.anal <- var.test(data$BMI ~ data$CLI)\n",
    "\n",
    "cat(\"\\n <BMI 정규성 검정>\\n\")\n",
    "result\n",
    "cat(\"  등분산성 검정 p-value : \", var.anal$p.value)"
   ]
  },
  {
   "cell_type": "markdown",
   "metadata": {},
   "source": [
    "정규성 살짝 어긋남 => wilcoxon"
   ]
  },
  {
   "cell_type": "markdown",
   "metadata": {},
   "source": [
    "## Demographic data 검정"
   ]
  },
  {
   "cell_type": "markdown",
   "metadata": {},
   "source": [
    "### BMI, Age 차이 검정"
   ]
  },
  {
   "cell_type": "markdown",
   "metadata": {},
   "source": [
    "그렇다면 CLI/ non-CLI 집단에서 BMI 차이가 있는지 test를 실시해보자 "
   ]
  },
  {
   "cell_type": "code",
   "execution_count": 50,
   "metadata": {},
   "outputs": [
    {
     "name": "stdout",
     "output_type": "stream",
     "text": [
      "\n",
      "Age에 대한 Wilcoxon-test 결과 : p-value = 0.02625301\n",
      "BMI에 대한 t-test 결과 : p-value = 0.7661559"
     ]
    }
   ],
   "source": [
    "#Age.result <- wilcox.test(Age~CLI, data = data)\n",
    "BMI.result <- wilcox.test(BMI~CLI, data = data)\n",
    "Age.result <- t.test(Age~CLI, data = data) # 어차피 유의하지 않긴 함\n",
    "#BMI.result <- t.test(BMI~CLI, data = data)\n",
    "\n",
    "cat(\"\\nAge에 대한 Wilcoxon-test 결과 : p-value =\", Age.result$p.value)\n",
    "cat(\"\\nBMI에 대한 t-test 결과 : p-value =\", BMI.result$p.value)\n"
   ]
  },
  {
   "cell_type": "markdown",
   "metadata": {},
   "source": [
    "Age 에 차이가 있다. "
   ]
  },
  {
   "cell_type": "markdown",
   "metadata": {},
   "source": [
    "### 범주형 데이터 검정"
   ]
  },
  {
   "cell_type": "markdown",
   "metadata": {},
   "source": [
    "Gender, DM, HTN, ACS, CHF, CVA, Smoking, Alcohol, obesity(BMI 기준 비만여부), Statin 에 대한 차이 검정을 실시해보자\n",
    "\n",
    "=> Chisq 검정"
   ]
  },
  {
   "cell_type": "code",
   "execution_count": 51,
   "metadata": {
    "scrolled": false
   },
   "outputs": [
    {
     "name": "stdout",
     "output_type": "stream",
     "text": [
      "\n",
      " Gender result : p-value = 0.033 \n",
      "\n",
      " DM result : p-value = 0 \n"
     ]
    },
    {
     "name": "stderr",
     "output_type": "stream",
     "text": [
      "Warning message in chisq.test(data[key][, 1], data[\"CLI\"][, 1]):\n",
      "“Chi-squared approximation may be incorrect”"
     ]
    },
    {
     "name": "stdout",
     "output_type": "stream",
     "text": [
      "\n",
      " HTN result : p-value = 0.007 \n",
      "\n",
      " ACS result : p-value = 0.022 \n"
     ]
    },
    {
     "name": "stderr",
     "output_type": "stream",
     "text": [
      "Warning message in chisq.test(data[key][, 1], data[\"CLI\"][, 1]):\n",
      "“Chi-squared approximation may be incorrect”"
     ]
    },
    {
     "name": "stdout",
     "output_type": "stream",
     "text": [
      "\n",
      " CHF result : p-value = 0.751 \n"
     ]
    },
    {
     "name": "stderr",
     "output_type": "stream",
     "text": [
      "Warning message in chisq.test(data[key][, 1], data[\"CLI\"][, 1]):\n",
      "“Chi-squared approximation may be incorrect”"
     ]
    },
    {
     "name": "stdout",
     "output_type": "stream",
     "text": [
      "\n",
      " CVA result : p-value = 0.685 \n",
      "\n",
      " smoking result : p-value = 0.178 \n",
      "\n",
      " alcohol result : p-value = 0.035 \n",
      "\n",
      " statin result : p-value = 0 \n",
      "\n",
      " obesity result : p-value = 0.608 \n",
      "\n",
      " PAD result : p-value = 0 \n"
     ]
    }
   ],
   "source": [
    "# Chisq test for tabular data\n",
    "\n",
    "for(key in c(\"Gender\",\"DM\", \"HTN\", \"ACS\", \"CHF\", \"CVA\", \"smoking\", \"alcohol\", \"statin\", \"obesity\", \"PAD\")){\n",
    "    test <- chisq.test(data[key][,1], data[\"CLI\"][,1])\n",
    "    cat(\"\\n\", key, \"result : p-value =\", round(test$p.value, 3), '\\n')\n",
    "}"
   ]
  },
  {
   "cell_type": "markdown",
   "metadata": {},
   "source": [
    "유의미한 결과\n",
    "- Gender 0.033\n",
    "- DM 0.0000\n",
    "- HTN 0.007\n",
    "- ACS 0.022\n",
    "- alcohol 0.035\n",
    "- statin 0.000\n",
    "- PAD 0.000"
   ]
  },
  {
   "cell_type": "markdown",
   "metadata": {},
   "source": [
    "그런데 HTN, CHF 와 CVA 은 표본 수가 적어, 경고가 떴으므로 \n",
    "Fisher's exact test 를 하는 것이 좋겠다. "
   ]
  },
  {
   "cell_type": "code",
   "execution_count": 52,
   "metadata": {},
   "outputs": [
    {
     "name": "stdout",
     "output_type": "stream",
     "text": [
      "\n",
      "Fisher's Exact Test\n",
      " \n",
      "  HTN : p-value = 0.005648711 \n",
      "  CHF : p-value = 0.5934886 \n",
      "  CVA : p-value = 0.5345315"
     ]
    }
   ],
   "source": [
    "HTN.result <- fisher.test(data$HTN, data$CLI)\n",
    "CHF.result <- fisher.test(data$CHF, data$CLI)\n",
    "CVA.result <- fisher.test(data$CVA, data$CLI)\n",
    "\n",
    "cat(\"\\nFisher's Exact Test\\n\",\n",
    "    \"\\n  HTN : p-value =\", HTN.result$p.value,\n",
    "    \"\\n  CHF : p-value =\", CHF.result$p.value,\n",
    "    \"\\n  CVA : p-value =\", CVA.result$p.value\n",
    "   )"
   ]
  },
  {
   "cell_type": "markdown",
   "metadata": {},
   "source": [
    "앞의 결과와 달라지는 것은 없다. "
   ]
  },
  {
   "cell_type": "markdown",
   "metadata": {},
   "source": [
    "## Demographic Data 검정 결과"
   ]
  },
  {
   "cell_type": "markdown",
   "metadata": {},
   "source": [
    "Gender, Age, DM, HTN, ACS, CHF, CVA, Smoking, Alcohol, BMI, Statin 복용 중 \n",
    "\n",
    "두 집단에서 차이가 나는 사항들은 \n",
    "\n",
    "- Age 0.026\n",
    "- Gender 0.033\n",
    "- DM 0.000\n",
    "- HTN 0.006\n",
    "- ACS 0.022\n",
    "- alcohol 0.035\n",
    "- statin 0.000\n",
    "- PAD 0.000\n",
    "\n",
    "이다. \n",
    "\n",
    "다중분석을 고려하더라도, DM, HTN, statin, PAD 는 거의 확실하게 차이가 나는 것으로 생각된다. \n",
    "    \n",
    "    => 확인 필요한 부분"
   ]
  },
  {
   "cell_type": "code",
   "execution_count": 86,
   "metadata": {},
   "outputs": [
    {
     "data": {
      "text/html": [
       "<table>\n",
       "<thead><tr><th scope=col>CLI</th><th scope=col>mean.Age</th><th scope=col>Gender.ratio</th><th scope=col>DM.ratio</th><th scope=col>HTN.ratio</th><th scope=col>ACS.ratio</th><th scope=col>alcohol.ratio</th><th scope=col>statin.ratio</th><th scope=col>PAD.ratio</th></tr></thead>\n",
       "<tbody>\n",
       "\t<tr><td>0    </td><td>62.84</td><td>0.51 </td><td>0.39 </td><td>0.92 </td><td>0.12 </td><td>0.26 </td><td>0.56 </td><td>0.26 </td></tr>\n",
       "\t<tr><td>1    </td><td>67.09</td><td>0.75 </td><td>0.94 </td><td>0.72 </td><td>0.31 </td><td>0.06 </td><td>0.06 </td><td>1.00 </td></tr>\n",
       "</tbody>\n",
       "</table>\n"
      ],
      "text/latex": [
       "\\begin{tabular}{r|lllllllll}\n",
       " CLI & mean.Age & Gender.ratio & DM.ratio & HTN.ratio & ACS.ratio & alcohol.ratio & statin.ratio & PAD.ratio\\\\\n",
       "\\hline\n",
       "\t 0     & 62.84 & 0.51  & 0.39  & 0.92  & 0.12  & 0.26  & 0.56  & 0.26 \\\\\n",
       "\t 1     & 67.09 & 0.75  & 0.94  & 0.72  & 0.31  & 0.06  & 0.06  & 1.00 \\\\\n",
       "\\end{tabular}\n"
      ],
      "text/markdown": [
       "\n",
       "CLI | mean.Age | Gender.ratio | DM.ratio | HTN.ratio | ACS.ratio | alcohol.ratio | statin.ratio | PAD.ratio | \n",
       "|---|---|\n",
       "| 0     | 62.84 | 0.51  | 0.39  | 0.92  | 0.12  | 0.26  | 0.56  | 0.26  | \n",
       "| 1     | 67.09 | 0.75  | 0.94  | 0.72  | 0.31  | 0.06  | 0.06  | 1.00  | \n",
       "\n",
       "\n"
      ],
      "text/plain": [
       "  CLI mean.Age Gender.ratio DM.ratio HTN.ratio ACS.ratio alcohol.ratio\n",
       "1 0   62.84    0.51         0.39     0.92      0.12      0.26         \n",
       "2 1   67.09    0.75         0.94     0.72      0.31      0.06         \n",
       "  statin.ratio PAD.ratio\n",
       "1 0.56         0.26     \n",
       "2 0.06         1.00     "
      ]
     },
     "metadata": {},
     "output_type": "display_data"
    }
   ],
   "source": [
    "diff.data <- data %>% \n",
    "    group_by( CLI ) %>%\n",
    "    summarise( mean.Age = mean(Age, na.rm = T),\n",
    "            Gender.ratio = mean(Gender, na.rm = T),\n",
    "            DM.ratio = mean(DM, na.rm = T),\n",
    "            HTN.ratio = mean(HTN, na.rm = T),\n",
    "            ACS.ratio = mean(ACS, na.rm = T),\n",
    "            alcohol.ratio = mean(alcohol, na.rm = T),\n",
    "            statin.ratio = mean(statin, na.rm = T),\n",
    "            PAD.ratio = mean(PAD, na.rm = T)\n",
    "             ) %>%\n",
    "    mutate_if(is.numeric, funs(round(., 2)))\n",
    "\n",
    "diff.data"
   ]
  },
  {
   "cell_type": "markdown",
   "metadata": {},
   "source": [
    "# [부가내용] 심심해서 해보는 logistic regression"
   ]
  },
  {
   "cell_type": "markdown",
   "metadata": {},
   "source": [
    "### 변수들의 상관관계"
   ]
  },
  {
   "cell_type": "code",
   "execution_count": 54,
   "metadata": {
    "scrolled": false
   },
   "outputs": [
    {
     "name": "stdout",
     "output_type": "stream",
     "text": [
      "\n",
      "<상관관계 표와 Heat map>\n"
     ]
    },
    {
     "data": {
      "text/html": [
       "<table>\n",
       "<thead><tr><th></th><th scope=col>DM</th><th scope=col>HTN</th><th scope=col>ACS</th><th scope=col>CHF</th><th scope=col>CVA</th><th scope=col>smoking</th><th scope=col>alcohol</th><th scope=col>statin</th><th scope=col>obesity</th><th scope=col>PAD</th></tr></thead>\n",
       "<tbody>\n",
       "\t<tr><th scope=row>DM</th><td> 1   </td><td>-0.01</td><td>0.23 </td><td> 0.03</td><td>0.08 </td><td>0.08 </td><td> 0.02</td><td>-0.14</td><td> 0.08</td><td> 0.48</td></tr>\n",
       "\t<tr><th scope=row>HTN</th><td>NA   </td><td> 1.00</td><td>0.05 </td><td>-0.16</td><td>0.00 </td><td>0.08 </td><td> 0.09</td><td> 0.12</td><td> 0.16</td><td>-0.07</td></tr>\n",
       "\t<tr><th scope=row>ACS</th><td>NA   </td><td>   NA</td><td>1.00 </td><td> 0.02</td><td>0.08 </td><td>0.05 </td><td>-0.08</td><td>-0.03</td><td>-0.02</td><td> 0.26</td></tr>\n",
       "\t<tr><th scope=row>CHF</th><td>NA   </td><td>   NA</td><td>  NA </td><td> 1.00</td><td>0.17 </td><td>0.00 </td><td>-0.10</td><td>-0.02</td><td> 0.01</td><td> 0.07</td></tr>\n",
       "\t<tr><th scope=row>CVA</th><td>NA   </td><td>   NA</td><td>  NA </td><td>   NA</td><td>1.00 </td><td>0.03 </td><td>-0.08</td><td>-0.05</td><td> 0.14</td><td> 0.09</td></tr>\n",
       "\t<tr><th scope=row>smoking</th><td>NA   </td><td>   NA</td><td>  NA </td><td>   NA</td><td>  NA </td><td>1.00 </td><td> 0.41</td><td>-0.02</td><td> 0.12</td><td> 0.09</td></tr>\n",
       "\t<tr><th scope=row>alcohol</th><td>NA   </td><td>   NA</td><td>  NA </td><td>   NA</td><td>  NA </td><td>  NA </td><td> 1.00</td><td> 0.06</td><td> 0.05</td><td>-0.01</td></tr>\n",
       "\t<tr><th scope=row>statin</th><td>NA   </td><td>   NA</td><td>  NA </td><td>   NA</td><td>  NA </td><td>  NA </td><td>   NA</td><td> 1.00</td><td> 0.14</td><td>-0.27</td></tr>\n",
       "\t<tr><th scope=row>obesity</th><td>NA   </td><td>   NA</td><td>  NA </td><td>   NA</td><td>  NA </td><td>  NA </td><td>   NA</td><td>   NA</td><td> 1.00</td><td> 0.12</td></tr>\n",
       "\t<tr><th scope=row>PAD</th><td>NA   </td><td>   NA</td><td>  NA </td><td>   NA</td><td>  NA </td><td>  NA </td><td>   NA</td><td>   NA</td><td>   NA</td><td> 1.00</td></tr>\n",
       "</tbody>\n",
       "</table>\n"
      ],
      "text/latex": [
       "\\begin{tabular}{r|llllllllll}\n",
       "  & DM & HTN & ACS & CHF & CVA & smoking & alcohol & statin & obesity & PAD\\\\\n",
       "\\hline\n",
       "\tDM &  1    & -0.01 & 0.23  &  0.03 & 0.08  & 0.08  &  0.02 & -0.14 &  0.08 &  0.48\\\\\n",
       "\tHTN & NA    &  1.00 & 0.05  & -0.16 & 0.00  & 0.08  &  0.09 &  0.12 &  0.16 & -0.07\\\\\n",
       "\tACS & NA    &    NA & 1.00  &  0.02 & 0.08  & 0.05  & -0.08 & -0.03 & -0.02 &  0.26\\\\\n",
       "\tCHF & NA    &    NA &   NA  &  1.00 & 0.17  & 0.00  & -0.10 & -0.02 &  0.01 &  0.07\\\\\n",
       "\tCVA & NA    &    NA &   NA  &    NA & 1.00  & 0.03  & -0.08 & -0.05 &  0.14 &  0.09\\\\\n",
       "\tsmoking & NA    &    NA &   NA  &    NA &   NA  & 1.00  &  0.41 & -0.02 &  0.12 &  0.09\\\\\n",
       "\talcohol & NA    &    NA &   NA  &    NA &   NA  &   NA  &  1.00 &  0.06 &  0.05 & -0.01\\\\\n",
       "\tstatin & NA    &    NA &   NA  &    NA &   NA  &   NA  &    NA &  1.00 &  0.14 & -0.27\\\\\n",
       "\tobesity & NA    &    NA &   NA  &    NA &   NA  &   NA  &    NA &    NA &  1.00 &  0.12\\\\\n",
       "\tPAD & NA    &    NA &   NA  &    NA &   NA  &   NA  &    NA &    NA &    NA &  1.00\\\\\n",
       "\\end{tabular}\n"
      ],
      "text/markdown": [
       "\n",
       "| <!--/--> | DM | HTN | ACS | CHF | CVA | smoking | alcohol | statin | obesity | PAD | \n",
       "|---|---|---|---|---|---|---|---|---|---|\n",
       "| DM |  1    | -0.01 | 0.23  |  0.03 | 0.08  | 0.08  |  0.02 | -0.14 |  0.08 |  0.48 | \n",
       "| HTN | NA    |  1.00 | 0.05  | -0.16 | 0.00  | 0.08  |  0.09 |  0.12 |  0.16 | -0.07 | \n",
       "| ACS | NA    |    NA | 1.00  |  0.02 | 0.08  | 0.05  | -0.08 | -0.03 | -0.02 |  0.26 | \n",
       "| CHF | NA    |    NA |   NA  |  1.00 | 0.17  | 0.00  | -0.10 | -0.02 |  0.01 |  0.07 | \n",
       "| CVA | NA    |    NA |   NA  |    NA | 1.00  | 0.03  | -0.08 | -0.05 |  0.14 |  0.09 | \n",
       "| smoking | NA    |    NA |   NA  |    NA |   NA  | 1.00  |  0.41 | -0.02 |  0.12 |  0.09 | \n",
       "| alcohol | NA    |    NA |   NA  |    NA |   NA  |   NA  |  1.00 |  0.06 |  0.05 | -0.01 | \n",
       "| statin | NA    |    NA |   NA  |    NA |   NA  |   NA  |    NA |  1.00 |  0.14 | -0.27 | \n",
       "| obesity | NA    |    NA |   NA  |    NA |   NA  |   NA  |    NA |    NA |  1.00 |  0.12 | \n",
       "| PAD | NA    |    NA |   NA  |    NA |   NA  |   NA  |    NA |    NA |    NA |  1.00 | \n",
       "\n",
       "\n"
      ],
      "text/plain": [
       "        DM HTN   ACS  CHF   CVA  smoking alcohol statin obesity PAD  \n",
       "DM       1 -0.01 0.23  0.03 0.08 0.08     0.02   -0.14   0.08    0.48\n",
       "HTN     NA  1.00 0.05 -0.16 0.00 0.08     0.09    0.12   0.16   -0.07\n",
       "ACS     NA    NA 1.00  0.02 0.08 0.05    -0.08   -0.03  -0.02    0.26\n",
       "CHF     NA    NA   NA  1.00 0.17 0.00    -0.10   -0.02   0.01    0.07\n",
       "CVA     NA    NA   NA    NA 1.00 0.03    -0.08   -0.05   0.14    0.09\n",
       "smoking NA    NA   NA    NA   NA 1.00     0.41   -0.02   0.12    0.09\n",
       "alcohol NA    NA   NA    NA   NA   NA     1.00    0.06   0.05   -0.01\n",
       "statin  NA    NA   NA    NA   NA   NA       NA    1.00   0.14   -0.27\n",
       "obesity NA    NA   NA    NA   NA   NA       NA      NA   1.00    0.12\n",
       "PAD     NA    NA   NA    NA   NA   NA       NA      NA     NA    1.00"
      ]
     },
     "metadata": {},
     "output_type": "display_data"
    },
    {
     "data": {},
     "metadata": {},
     "output_type": "display_data"
    },
    {
     "data": {
      "image/png": "[encoded data removed]",
      "text/plain": [
       "plot without title"
      ]
     },
     "metadata": {},
     "output_type": "display_data"
    }
   ],
   "source": [
    "# 상관 계수를 살펴보자 \n",
    "\n",
    "library(reshape2)\n",
    "\n",
    "cormat <- round(cor(data[c(6:13,15,16)], use = 'complete.obs'),2)\n",
    "cormat[lower.tri(cormat)] <- NA\n",
    "\n",
    "cat(\"\\n<상관관계 표와 Heat map>\\n\")\n",
    "cormat\n",
    "melted_cormat <- melt(cormat, na.rm = TRUE)\n",
    "\n",
    "options(repr.plot.width=5, repr.plot.height=3)\n",
    "ggplot(data = melted_cormat, aes(Var2, Var1, fill = value))+\n",
    "    geom_tile(color = \"white\")+\n",
    "    scale_fill_gradient2(low = \"blue\", high = \"red\", mid = \"white\", \n",
    "                         midpoint = 0, limit = c(-1,1), space = \"Lab\", \n",
    "                         name=\"Pearson\\nCorrelation\") +\n",
    "    theme_minimal()+ \n",
    "    theme(axis.text.x = element_text(angle = 50, vjust = 1, \n",
    "                                     size = 10, hjust = 1) , \n",
    "          axis.title.x=element_blank(), \n",
    "          axis.title.y=element_blank())+\n",
    "    coord_fixed() + geom_text(aes(Var2, Var1, label = round(value,1)), color = \"black\", size = 3)"
   ]
  },
  {
   "cell_type": "markdown",
   "metadata": {},
   "source": [
    "관련성이 있어보이는 변수들은 다음과 같다. \n",
    "- PAD와 DM : 0.47\n",
    "- smoking 과 alcohol : 0.42\n",
    "- statin과 PAD : -0.29\n",
    "- ACS와 PAD : 0.24\n",
    "- ACS와 DM : 0.21\n"
   ]
  },
  {
   "cell_type": "markdown",
   "metadata": {},
   "source": [
    "### 모델 적합"
   ]
  },
  {
   "cell_type": "markdown",
   "metadata": {},
   "source": [
    "우선 앞에서 차이가 있는 것으로 보였던 \n",
    "\n",
    "- Age 0.026\n",
    "- Gender 0.033\n",
    "- DM 0.000\n",
    "- HTN 0.006\n",
    "- ACS 0.022\n",
    "- alcohol 0.035\n",
    "- statin 0.000\n",
    "- PAD 0.000\n",
    "\n",
    "**Age, Gender, DM, HTN, ACS, alcohol, statin, PAD**를 모두 넣고 적합해보자 "
   ]
  },
  {
   "cell_type": "code",
   "execution_count": 55,
   "metadata": {
    "scrolled": false
   },
   "outputs": [
    {
     "name": "stderr",
     "output_type": "stream",
     "text": [
      "Warning message:\n",
      "“glm.fit: fitted probabilities numerically 0 or 1 occurred”"
     ]
    },
    {
     "data": {
      "text/plain": [
       "\n",
       "Call:\n",
       "glm(formula = CLI ~ Age + Gender + DM + HTN + ACS + alcohol + \n",
       "    statin + PAD, family = binomial(), data = data)\n",
       "\n",
       "Deviance Residuals: \n",
       "   Min      1Q  Median      3Q     Max  \n",
       "-2.064   0.000   0.000   0.000   1.844  \n",
       "\n",
       "Coefficients:\n",
       "              Estimate Std. Error z value Pr(>|z|)  \n",
       "(Intercept)  -32.83642 6757.83007  -0.005   0.9961  \n",
       "Age           -0.07054    0.07352  -0.959   0.3373  \n",
       "Gender         0.98794    1.10182   0.897   0.3699  \n",
       "DM            21.23822 4298.13382   0.005   0.9961  \n",
       "HTN          -40.65355 7159.81125  -0.006   0.9955  \n",
       "ACS            0.80343    1.31884   0.609   0.5424  \n",
       "alcohol       -3.70282    1.48015  -2.502   0.0124 *\n",
       "statin        -3.39056    1.38359  -2.451   0.0143 *\n",
       "PAD           58.27734 8857.60485   0.007   0.9948  \n",
       "---\n",
       "Signif. codes:  0 ‘***’ 0.001 ‘**’ 0.01 ‘*’ 0.05 ‘.’ 0.1 ‘ ’ 1\n",
       "\n",
       "(Dispersion parameter for binomial family taken to be 1)\n",
       "\n",
       "    Null deviance: 146.77  on 132  degrees of freedom\n",
       "Residual deviance:  27.85  on 124  degrees of freedom\n",
       "AIC: 45.85\n",
       "\n",
       "Number of Fisher Scoring iterations: 22\n"
      ]
     },
     "metadata": {},
     "output_type": "display_data"
    }
   ],
   "source": [
    "model <- glm(CLI ~ Age + Gender + DM + HTN + ACS + alcohol + statin + PAD, family = binomial(),data = data)\n",
    "summary(model)"
   ]
  },
  {
   "cell_type": "markdown",
   "metadata": {},
   "source": [
    "DM 과 PAD 의 공선성이 강하고(상관계수0.5),\n",
    "\n",
    "PAD는 사실 Demographic data 에서 고려하려던 변수가 아니었으므로, \n",
    "이를 제외하고 모형을 적합해보자. "
   ]
  },
  {
   "cell_type": "markdown",
   "metadata": {},
   "source": [
    "#### PAD 제거 모델 "
   ]
  },
  {
   "cell_type": "code",
   "execution_count": 56,
   "metadata": {
    "scrolled": false
   },
   "outputs": [
    {
     "data": {
      "text/plain": [
       "\n",
       "Call:\n",
       "glm(formula = CLI ~ Age + Gender + DM + HTN + ACS + alcohol + \n",
       "    statin, family = binomial(), data = data)\n",
       "\n",
       "Deviance Residuals: \n",
       "     Min        1Q    Median        3Q       Max  \n",
       "-1.95518  -0.25822  -0.09972  -0.01466   2.59724  \n",
       "\n",
       "Coefficients:\n",
       "            Estimate Std. Error z value Pr(>|z|)    \n",
       "(Intercept) -4.16893    2.53623  -1.644 0.100227    \n",
       "Age          0.04561    0.03459   1.319 0.187285    \n",
       "Gender       1.10917    0.71211   1.558 0.119329    \n",
       "DM           4.22294    1.13229   3.730 0.000192 ***\n",
       "HTN         -3.28703    1.18336  -2.778 0.005474 ** \n",
       "ACS          1.38292    0.96245   1.437 0.150755    \n",
       "alcohol     -1.67297    0.93834  -1.783 0.074602 .  \n",
       "statin      -3.81379    1.04621  -3.645 0.000267 ***\n",
       "---\n",
       "Signif. codes:  0 ‘***’ 0.001 ‘**’ 0.01 ‘*’ 0.05 ‘.’ 0.1 ‘ ’ 1\n",
       "\n",
       "(Dispersion parameter for binomial family taken to be 1)\n",
       "\n",
       "    Null deviance: 146.771  on 132  degrees of freedom\n",
       "Residual deviance:  61.571  on 125  degrees of freedom\n",
       "AIC: 77.571\n",
       "\n",
       "Number of Fisher Scoring iterations: 7\n"
      ]
     },
     "metadata": {},
     "output_type": "display_data"
    }
   ],
   "source": [
    "model <- glm(CLI ~ Age + Gender + DM + HTN + ACS + alcohol + statin , family = binomial(),data = data)\n",
    "summary(model)"
   ]
  },
  {
   "cell_type": "markdown",
   "metadata": {},
   "source": [
    "#### Age 제거 모델\n",
    "\n",
    "가장 유의미하지 않은 Age 을 제거하고 모델을 다시 세워보자 "
   ]
  },
  {
   "cell_type": "code",
   "execution_count": 87,
   "metadata": {
    "scrolled": false
   },
   "outputs": [
    {
     "data": {
      "text/plain": [
       "\n",
       "Call:\n",
       "glm(formula = CLI ~ Gender + DM + HTN + ACS + alcohol + statin, \n",
       "    family = binomial(), data = data)\n",
       "\n",
       "Deviance Residuals: \n",
       "     Min        1Q    Median        3Q       Max  \n",
       "-2.16777  -0.28337  -0.11568  -0.01785   2.41324  \n",
       "\n",
       "Coefficients:\n",
       "            Estimate Std. Error z value Pr(>|z|)    \n",
       "(Intercept)  -1.2341     1.0238  -1.205 0.228061    \n",
       "Gender        1.2504     0.6976   1.793 0.073049 .  \n",
       "DM            4.0799     1.0717   3.807 0.000141 ***\n",
       "HTN          -3.2114     1.1547  -2.781 0.005417 ** \n",
       "ACS           1.3645     0.9531   1.432 0.152267    \n",
       "alcohol      -1.8087     0.9265  -1.952 0.050927 .  \n",
       "statin       -3.7408     1.0453  -3.579 0.000345 ***\n",
       "---\n",
       "Signif. codes:  0 ‘***’ 0.001 ‘**’ 0.01 ‘*’ 0.05 ‘.’ 0.1 ‘ ’ 1\n",
       "\n",
       "(Dispersion parameter for binomial family taken to be 1)\n",
       "\n",
       "    Null deviance: 146.77  on 132  degrees of freedom\n",
       "Residual deviance:  63.40  on 126  degrees of freedom\n",
       "AIC: 77.4\n",
       "\n",
       "Number of Fisher Scoring iterations: 7\n"
      ]
     },
     "metadata": {},
     "output_type": "display_data"
    }
   ],
   "source": [
    "model <- glm(CLI ~ Gender + DM + HTN + ACS + alcohol + statin , family = binomial(),data = data)\n",
    "summary(model)"
   ]
  },
  {
   "cell_type": "markdown",
   "metadata": {},
   "source": [
    "ACS가 유의하지 않다. \n"
   ]
  },
  {
   "cell_type": "markdown",
   "metadata": {},
   "source": [
    "#### ACS 제거 모델 "
   ]
  },
  {
   "cell_type": "code",
   "execution_count": 88,
   "metadata": {},
   "outputs": [
    {
     "data": {
      "text/plain": [
       "\n",
       "Call:\n",
       "glm(formula = CLI ~ Gender + DM + HTN + alcohol + statin, family = binomial(), \n",
       "    data = data)\n",
       "\n",
       "Deviance Residuals: \n",
       "     Min        1Q    Median        3Q       Max  \n",
       "-1.72922  -0.33943  -0.12125  -0.02179   2.71150  \n",
       "\n",
       "Coefficients:\n",
       "            Estimate Std. Error z value Pr(>|z|)    \n",
       "(Intercept)  -1.3565     1.0278  -1.320  0.18688    \n",
       "Gender        1.4555     0.6810   2.137  0.03258 *  \n",
       "DM            4.0664     1.0214   3.981 6.86e-05 ***\n",
       "HTN          -2.9242     1.0802  -2.707  0.00679 ** \n",
       "alcohol      -2.0841     0.9207  -2.264  0.02360 *  \n",
       "statin       -3.4361     0.9840  -3.492  0.00048 ***\n",
       "---\n",
       "Signif. codes:  0 ‘***’ 0.001 ‘**’ 0.01 ‘*’ 0.05 ‘.’ 0.1 ‘ ’ 1\n",
       "\n",
       "(Dispersion parameter for binomial family taken to be 1)\n",
       "\n",
       "    Null deviance: 146.771  on 132  degrees of freedom\n",
       "Residual deviance:  65.687  on 127  degrees of freedom\n",
       "AIC: 77.687\n",
       "\n",
       "Number of Fisher Scoring iterations: 7\n"
      ]
     },
     "metadata": {},
     "output_type": "display_data"
    }
   ],
   "source": [
    "model <- glm(CLI ~ Gender + DM + HTN + alcohol + statin , family = binomial(),data = data)\n",
    "summary(model)"
   ]
  },
  {
   "cell_type": "markdown",
   "metadata": {},
   "source": [
    "#### 가능도비 검정 \n",
    "\n",
    "Age, ACS 를 포함시킬때와 안시킬때에 대해서 가능도비 검정을 실시하면 다음과 같다. "
   ]
  },
  {
   "cell_type": "code",
   "execution_count": 90,
   "metadata": {},
   "outputs": [
    {
     "data": {
      "text/html": [
       "<table>\n",
       "<thead><tr><th scope=col>#Df</th><th scope=col>LogLik</th><th scope=col>Df</th><th scope=col>Chisq</th><th scope=col>Pr(&gt;Chisq)</th></tr></thead>\n",
       "<tbody>\n",
       "\t<tr><td>6        </td><td>-32.84357</td><td>NA       </td><td>     NA  </td><td>       NA</td></tr>\n",
       "\t<tr><td>8        </td><td>-30.78540</td><td> 2       </td><td>4.11634  </td><td>0.1276874</td></tr>\n",
       "</tbody>\n",
       "</table>\n"
      ],
      "text/latex": [
       "\\begin{tabular}{r|lllll}\n",
       " \\#Df & LogLik & Df & Chisq & Pr(>Chisq)\\\\\n",
       "\\hline\n",
       "\t 6         & -32.84357 & NA        &      NA   &        NA\\\\\n",
       "\t 8         & -30.78540 &  2        & 4.11634   & 0.1276874\\\\\n",
       "\\end{tabular}\n"
      ],
      "text/markdown": [
       "\n",
       "#Df | LogLik | Df | Chisq | Pr(>Chisq) | \n",
       "|---|---|\n",
       "| 6         | -32.84357 | NA        |      NA   |        NA | \n",
       "| 8         | -30.78540 |  2        | 4.11634   | 0.1276874 | \n",
       "\n",
       "\n"
      ],
      "text/plain": [
       "  #Df LogLik    Df Chisq   Pr(>Chisq)\n",
       "1 6   -32.84357 NA      NA        NA \n",
       "2 8   -30.78540  2 4.11634 0.1276874 "
      ]
     },
     "metadata": {},
     "output_type": "display_data"
    }
   ],
   "source": [
    "library(lmtest)\n",
    "model1 <- glm(CLI ~ Gender + DM + HTN + alcohol + statin, family = binomial(),data = data)\n",
    "model2 <- glm(CLI ~ Gender + DM + HTN + alcohol + statin + ACS + Age, family = binomial(),data = data)\n",
    "lrtest(model1, model2)"
   ]
  },
  {
   "cell_type": "markdown",
   "metadata": {},
   "source": [
    "Age, ACS 는 포함시키지 않아도 괜찮겠다. "
   ]
  },
  {
   "cell_type": "markdown",
   "metadata": {},
   "source": [
    "#### DM + HTN + statin 모델"
   ]
  },
  {
   "cell_type": "code",
   "execution_count": 60,
   "metadata": {},
   "outputs": [
    {
     "data": {
      "text/plain": [
       "\n",
       "Call:\n",
       "glm(formula = CLI ~ DM + HTN + statin, family = binomial(), data = data)\n",
       "\n",
       "Deviance Residuals: \n",
       "     Min        1Q    Median        3Q       Max  \n",
       "-1.34019  -0.30181  -0.21145  -0.03805   2.49468  \n",
       "\n",
       "Coefficients:\n",
       "            Estimate Std. Error z value Pr(>|z|)    \n",
       "(Intercept)  -0.9767     0.8740  -1.117  0.26379    \n",
       "DM            4.1643     1.0449   3.985 6.74e-05 ***\n",
       "HTN          -2.8127     1.0163  -2.768  0.00565 ** \n",
       "statin       -3.4411     0.9075  -3.792  0.00015 ***\n",
       "---\n",
       "Signif. codes:  0 ‘***’ 0.001 ‘**’ 0.01 ‘*’ 0.05 ‘.’ 0.1 ‘ ’ 1\n",
       "\n",
       "(Dispersion parameter for binomial family taken to be 1)\n",
       "\n",
       "    Null deviance: 146.77  on 132  degrees of freedom\n",
       "Residual deviance:  74.61  on 129  degrees of freedom\n",
       "AIC: 82.61\n",
       "\n",
       "Number of Fisher Scoring iterations: 7\n"
      ]
     },
     "metadata": {},
     "output_type": "display_data"
    }
   ],
   "source": [
    "model <- glm(CLI ~ DM + HTN + statin , family = binomial(),data = data)\n",
    "summary(model)"
   ]
  },
  {
   "cell_type": "markdown",
   "metadata": {},
   "source": [
    "### 여러가지 모델 살펴보기"
   ]
  },
  {
   "cell_type": "code",
   "execution_count": 61,
   "metadata": {},
   "outputs": [
    {
     "data": {
      "text/plain": [
       "Subset selection object\n",
       "Call: regsubsets.formula(CLI ~ ., data = df, nvmax = 20)\n",
       "12 Variables  (and intercept)\n",
       "        Forced in Forced out\n",
       "Gender      FALSE      FALSE\n",
       "Age         FALSE      FALSE\n",
       "DM          FALSE      FALSE\n",
       "HTN         FALSE      FALSE\n",
       "ACS         FALSE      FALSE\n",
       "CHF         FALSE      FALSE\n",
       "CVA         FALSE      FALSE\n",
       "smoking     FALSE      FALSE\n",
       "alcohol     FALSE      FALSE\n",
       "statin      FALSE      FALSE\n",
       "BMI         FALSE      FALSE\n",
       "obesity     FALSE      FALSE\n",
       "1 subsets of each size up to 12\n",
       "Selection Algorithm: exhaustive\n",
       "          Gender Age DM  HTN ACS CHF CVA smoking alcohol statin BMI obesity\n",
       "1  ( 1 )  \" \"    \" \" \"*\" \" \" \" \" \" \" \" \" \" \"     \" \"     \" \"    \" \" \" \"    \n",
       "2  ( 1 )  \" \"    \" \" \"*\" \" \" \" \" \" \" \" \" \" \"     \" \"     \"*\"    \" \" \" \"    \n",
       "3  ( 1 )  \" \"    \" \" \"*\" \"*\" \" \" \" \" \" \" \" \"     \" \"     \"*\"    \" \" \" \"    \n",
       "4  ( 1 )  \" \"    \" \" \"*\" \"*\" \" \" \" \" \" \" \" \"     \"*\"     \"*\"    \" \" \" \"    \n",
       "5  ( 1 )  \"*\"    \" \" \"*\" \"*\" \" \" \" \" \" \" \"*\"     \" \"     \"*\"    \" \" \" \"    \n",
       "6  ( 1 )  \"*\"    \" \" \"*\" \"*\" \" \" \" \" \" \" \"*\"     \"*\"     \"*\"    \" \" \" \"    \n",
       "7  ( 1 )  \"*\"    \" \" \"*\" \"*\" \" \" \" \" \" \" \"*\"     \"*\"     \"*\"    \" \" \"*\"    \n",
       "8  ( 1 )  \"*\"    \" \" \"*\" \"*\" \"*\" \" \" \" \" \"*\"     \"*\"     \"*\"    \" \" \"*\"    \n",
       "9  ( 1 )  \"*\"    \" \" \"*\" \"*\" \"*\" \" \" \" \" \"*\"     \"*\"     \"*\"    \"*\" \"*\"    \n",
       "10  ( 1 ) \"*\"    \"*\" \"*\" \"*\" \"*\" \" \" \" \" \"*\"     \"*\"     \"*\"    \"*\" \"*\"    \n",
       "11  ( 1 ) \"*\"    \"*\" \"*\" \"*\" \"*\" \" \" \"*\" \"*\"     \"*\"     \"*\"    \"*\" \"*\"    \n",
       "12  ( 1 ) \"*\"    \"*\" \"*\" \"*\" \"*\" \"*\" \"*\" \"*\"     \"*\"     \"*\"    \"*\" \"*\"    "
      ]
     },
     "metadata": {},
     "output_type": "display_data"
    }
   ],
   "source": [
    "library(leaps)\n",
    "df <- data[,c(1,2,6:15, 25)]\n",
    "b <- regsubsets(CLI ~. , data=df, nvmax = 20)\n",
    "summary(b)"
   ]
  },
  {
   "cell_type": "markdown",
   "metadata": {},
   "source": [
    "위 내용과 여러 분석을 거친 결과 \n",
    "\n",
    "CLI에 따른 집단 사이에서 \n",
    "\n",
    "3개 변수 **DM, statin, HTN** 은 매우 확실한 차이가 있는 것으로 보이고 이후의 변수 \n",
    "\n",
    "**alcohol, Gender, smoking, ACS** 정도는 모두 경계수준 정도의 유의성을 가지는 것으로 파악된다. \n",
    "\n",
    "DM HTN statin alcohol / DM HTN statin smoking Gender / DM HTN statin smoking Gender alcohol 같은 모델을 살펴보자"
   ]
  },
  {
   "cell_type": "markdown",
   "metadata": {},
   "source": [
    "#### Full model 설정"
   ]
  },
  {
   "cell_type": "code",
   "execution_count": 62,
   "metadata": {},
   "outputs": [
    {
     "data": {
      "text/html": [
       "<table>\n",
       "<thead><tr><th scope=col>Gender</th><th scope=col>Age</th><th scope=col>DM</th><th scope=col>HTN</th><th scope=col>ACS</th><th scope=col>CHF</th><th scope=col>CVA</th><th scope=col>smoking</th><th scope=col>alcohol</th><th scope=col>statin</th><th scope=col>obesity</th><th scope=col>CLI</th></tr></thead>\n",
       "<tbody>\n",
       "\t<tr><td>0       </td><td>49.00000</td><td>0       </td><td>1       </td><td>0       </td><td>0       </td><td>0       </td><td>0       </td><td>0       </td><td>0       </td><td>0       </td><td>0       </td></tr>\n",
       "\t<tr><td>0       </td><td>64.63611</td><td>0       </td><td>1       </td><td>0       </td><td>0       </td><td>1       </td><td>0       </td><td>0       </td><td>1       </td><td>0       </td><td>0       </td></tr>\n",
       "\t<tr><td>0       </td><td>38.88056</td><td>0       </td><td>0       </td><td>0       </td><td>0       </td><td>0       </td><td>0       </td><td>0       </td><td>0       </td><td>0       </td><td>0       </td></tr>\n",
       "</tbody>\n",
       "</table>\n"
      ],
      "text/latex": [
       "\\begin{tabular}{r|llllllllllll}\n",
       " Gender & Age & DM & HTN & ACS & CHF & CVA & smoking & alcohol & statin & obesity & CLI\\\\\n",
       "\\hline\n",
       "\t 0        & 49.00000 & 0        & 1        & 0        & 0        & 0        & 0        & 0        & 0        & 0        & 0       \\\\\n",
       "\t 0        & 64.63611 & 0        & 1        & 0        & 0        & 1        & 0        & 0        & 1        & 0        & 0       \\\\\n",
       "\t 0        & 38.88056 & 0        & 0        & 0        & 0        & 0        & 0        & 0        & 0        & 0        & 0       \\\\\n",
       "\\end{tabular}\n"
      ],
      "text/markdown": [
       "\n",
       "Gender | Age | DM | HTN | ACS | CHF | CVA | smoking | alcohol | statin | obesity | CLI | \n",
       "|---|---|---|\n",
       "| 0        | 49.00000 | 0        | 1        | 0        | 0        | 0        | 0        | 0        | 0        | 0        | 0        | \n",
       "| 0        | 64.63611 | 0        | 1        | 0        | 0        | 1        | 0        | 0        | 1        | 0        | 0        | \n",
       "| 0        | 38.88056 | 0        | 0        | 0        | 0        | 0        | 0        | 0        | 0        | 0        | 0        | \n",
       "\n",
       "\n"
      ],
      "text/plain": [
       "  Gender Age      DM HTN ACS CHF CVA smoking alcohol statin obesity CLI\n",
       "1 0      49.00000 0  1   0   0   0   0       0       0      0       0  \n",
       "2 0      64.63611 0  1   0   0   1   0       0       1      0       0  \n",
       "3 0      38.88056 0  0   0   0   0   0       0       0      0       0  "
      ]
     },
     "metadata": {},
     "output_type": "display_data"
    }
   ],
   "source": [
    "df <- data[,c(1,2,6:13, 15, 25)] # BMI 는 obesity 와 연관성이 너무 높아서 제거\n",
    "head(df, 3)\n",
    "full.model <- glm(CLI~., family = binomial(), data = df)"
   ]
  },
  {
   "cell_type": "markdown",
   "metadata": {},
   "source": [
    "### 변수 4개짜리 모델 "
   ]
  },
  {
   "cell_type": "code",
   "execution_count": 63,
   "metadata": {
    "scrolled": false
   },
   "outputs": [
    {
     "data": {
      "text/plain": [
       "\n",
       "Call:\n",
       "glm(formula = CLI ~ DM + HTN + statin + alcohol, family = binomial(), \n",
       "    data = data)\n",
       "\n",
       "Deviance Residuals: \n",
       "     Min        1Q    Median        3Q       Max  \n",
       "-1.45893  -0.25906  -0.11702  -0.02089   2.39442  \n",
       "\n",
       "Coefficients:\n",
       "            Estimate Std. Error z value Pr(>|z|)    \n",
       "(Intercept)  -0.6469     0.9265  -0.698 0.485034    \n",
       "DM            4.0188     1.0085   3.985 6.74e-05 ***\n",
       "HTN          -2.7308     1.0313  -2.648 0.008101 ** \n",
       "statin       -3.4492     0.9437  -3.655 0.000257 ***\n",
       "alcohol      -1.6028     0.8744  -1.833 0.066801 .  \n",
       "---\n",
       "Signif. codes:  0 ‘***’ 0.001 ‘**’ 0.01 ‘*’ 0.05 ‘.’ 0.1 ‘ ’ 1\n",
       "\n",
       "(Dispersion parameter for binomial family taken to be 1)\n",
       "\n",
       "    Null deviance: 146.771  on 132  degrees of freedom\n",
       "Residual deviance:  70.618  on 128  degrees of freedom\n",
       "AIC: 80.618\n",
       "\n",
       "Number of Fisher Scoring iterations: 7\n"
      ]
     },
     "metadata": {},
     "output_type": "display_data"
    },
    {
     "data": {
      "text/html": [
       "<table>\n",
       "<thead><tr><th scope=col>#Df</th><th scope=col>LogLik</th><th scope=col>Df</th><th scope=col>Chisq</th><th scope=col>Pr(&gt;Chisq)</th></tr></thead>\n",
       "<tbody>\n",
       "\t<tr><td> 5        </td><td>-35.3089  </td><td>NA        </td><td>      NA  </td><td>        NA</td></tr>\n",
       "\t<tr><td>12        </td><td>-24.3145  </td><td> 7        </td><td>21.98878  </td><td>0.00255175</td></tr>\n",
       "</tbody>\n",
       "</table>\n"
      ],
      "text/latex": [
       "\\begin{tabular}{r|lllll}\n",
       " \\#Df & LogLik & Df & Chisq & Pr(>Chisq)\\\\\n",
       "\\hline\n",
       "\t  5         & -35.3089   & NA         &       NA   &         NA\\\\\n",
       "\t 12         & -24.3145   &  7         & 21.98878   & 0.00255175\\\\\n",
       "\\end{tabular}\n"
      ],
      "text/markdown": [
       "\n",
       "#Df | LogLik | Df | Chisq | Pr(>Chisq) | \n",
       "|---|---|\n",
       "|  5         | -35.3089   | NA         |       NA   |         NA | \n",
       "| 12         | -24.3145   |  7         | 21.98878   | 0.00255175 | \n",
       "\n",
       "\n"
      ],
      "text/plain": [
       "  #Df LogLik   Df Chisq    Pr(>Chisq)\n",
       "1  5  -35.3089 NA       NA         NA\n",
       "2 12  -24.3145  7 21.98878 0.00255175"
      ]
     },
     "metadata": {},
     "output_type": "display_data"
    }
   ],
   "source": [
    "model <- glm(CLI ~ DM + HTN + statin + alcohol , family = binomial(),data = data)\n",
    "summary(model)\n",
    "lrtest(model, full.model)"
   ]
  },
  {
   "cell_type": "code",
   "execution_count": 64,
   "metadata": {
    "scrolled": false
   },
   "outputs": [
    {
     "data": {
      "text/plain": [
       "\n",
       "Call:\n",
       "glm(formula = CLI ~ DM + HTN + statin + ACS, family = binomial(), \n",
       "    data = data)\n",
       "\n",
       "Deviance Residuals: \n",
       "    Min       1Q   Median       3Q      Max  \n",
       "-2.0036  -0.2091  -0.1678  -0.0245   2.7693  \n",
       "\n",
       "Coefficients:\n",
       "            Estimate Std. Error z value Pr(>|z|)    \n",
       "(Intercept)  -0.9440     0.8819  -1.070 0.284434    \n",
       "DM            4.2982     1.1250   3.821 0.000133 ***\n",
       "HTN          -3.3126     1.1448  -2.893 0.003810 ** \n",
       "statin       -3.8542     0.9978  -3.863 0.000112 ***\n",
       "ACS           1.8213     0.8910   2.044 0.040939 *  \n",
       "---\n",
       "Signif. codes:  0 ‘***’ 0.001 ‘**’ 0.01 ‘*’ 0.05 ‘.’ 0.1 ‘ ’ 1\n",
       "\n",
       "(Dispersion parameter for binomial family taken to be 1)\n",
       "\n",
       "    Null deviance: 146.771  on 132  degrees of freedom\n",
       "Residual deviance:  69.554  on 128  degrees of freedom\n",
       "AIC: 79.554\n",
       "\n",
       "Number of Fisher Scoring iterations: 7\n"
      ]
     },
     "metadata": {},
     "output_type": "display_data"
    },
    {
     "data": {
      "text/html": [
       "<table>\n",
       "<thead><tr><th scope=col>#Df</th><th scope=col>LogLik</th><th scope=col>Df</th><th scope=col>Chisq</th><th scope=col>Pr(&gt;Chisq)</th></tr></thead>\n",
       "<tbody>\n",
       "\t<tr><td> 5         </td><td>-34.77707  </td><td>NA         </td><td>      NA   </td><td>         NA</td></tr>\n",
       "\t<tr><td>12         </td><td>-24.31450  </td><td> 7         </td><td>20.92514   </td><td>0.003882543</td></tr>\n",
       "</tbody>\n",
       "</table>\n"
      ],
      "text/latex": [
       "\\begin{tabular}{r|lllll}\n",
       " \\#Df & LogLik & Df & Chisq & Pr(>Chisq)\\\\\n",
       "\\hline\n",
       "\t  5          & -34.77707   & NA          &       NA    &          NA\\\\\n",
       "\t 12          & -24.31450   &  7          & 20.92514    & 0.003882543\\\\\n",
       "\\end{tabular}\n"
      ],
      "text/markdown": [
       "\n",
       "#Df | LogLik | Df | Chisq | Pr(>Chisq) | \n",
       "|---|---|\n",
       "|  5          | -34.77707   | NA          |       NA    |          NA | \n",
       "| 12          | -24.31450   |  7          | 20.92514    | 0.003882543 | \n",
       "\n",
       "\n"
      ],
      "text/plain": [
       "  #Df LogLik    Df Chisq    Pr(>Chisq) \n",
       "1  5  -34.77707 NA       NA          NA\n",
       "2 12  -24.31450  7 20.92514 0.003882543"
      ]
     },
     "metadata": {},
     "output_type": "display_data"
    }
   ],
   "source": [
    "model <- glm(CLI ~ DM + HTN + statin + ACS , family = binomial(),data = data)\n",
    "summary(model)\n",
    "lrtest(model, full.model)"
   ]
  },
  {
   "cell_type": "code",
   "execution_count": 65,
   "metadata": {
    "scrolled": false
   },
   "outputs": [
    {
     "data": {
      "text/plain": [
       "\n",
       "Call:\n",
       "glm(formula = CLI ~ DM + HTN + statin + smoking, family = binomial(), \n",
       "    data = data)\n",
       "\n",
       "Deviance Residuals: \n",
       "     Min        1Q    Median        3Q       Max  \n",
       "-1.53499  -0.26216  -0.15101  -0.02615   2.77096  \n",
       "\n",
       "Coefficients:\n",
       "            Estimate Std. Error z value Pr(>|z|)    \n",
       "(Intercept)  -0.6513     0.9020  -0.722 0.470259    \n",
       "DM            4.1637     1.0239   4.067 4.77e-05 ***\n",
       "HTN          -2.7023     0.9857  -2.741 0.006118 ** \n",
       "statin       -3.5128     0.9497  -3.699 0.000216 ***\n",
       "smoking      -1.1147     0.6263  -1.780 0.075104 .  \n",
       "---\n",
       "Signif. codes:  0 ‘***’ 0.001 ‘**’ 0.01 ‘*’ 0.05 ‘.’ 0.1 ‘ ’ 1\n",
       "\n",
       "(Dispersion parameter for binomial family taken to be 1)\n",
       "\n",
       "    Null deviance: 146.771  on 132  degrees of freedom\n",
       "Residual deviance:  71.285  on 128  degrees of freedom\n",
       "AIC: 81.285\n",
       "\n",
       "Number of Fisher Scoring iterations: 7\n"
      ]
     },
     "metadata": {},
     "output_type": "display_data"
    }
   ],
   "source": [
    "model <- glm(CLI ~ DM + HTN + statin + smoking , family = binomial(),data = data)\n",
    "summary(model)"
   ]
  },
  {
   "cell_type": "code",
   "execution_count": 66,
   "metadata": {
    "scrolled": false
   },
   "outputs": [
    {
     "data": {
      "text/plain": [
       "\n",
       "Call:\n",
       "glm(formula = CLI ~ DM + HTN + statin + Gender, family = binomial(), \n",
       "    data = data)\n",
       "\n",
       "Deviance Residuals: \n",
       "     Min        1Q    Median        3Q       Max  \n",
       "-1.49442  -0.35349  -0.14701  -0.02611   2.74531  \n",
       "\n",
       "Coefficients:\n",
       "            Estimate Std. Error z value Pr(>|z|)    \n",
       "(Intercept)  -1.6056     0.9862  -1.628 0.103514    \n",
       "DM            4.2389     1.0735   3.949 7.86e-05 ***\n",
       "HTN          -2.9166     1.0427  -2.797 0.005156 ** \n",
       "statin       -3.4616     0.9149  -3.784 0.000155 ***\n",
       "Gender        1.0035     0.6278   1.598 0.109970    \n",
       "---\n",
       "Signif. codes:  0 ‘***’ 0.001 ‘**’ 0.01 ‘*’ 0.05 ‘.’ 0.1 ‘ ’ 1\n",
       "\n",
       "(Dispersion parameter for binomial family taken to be 1)\n",
       "\n",
       "    Null deviance: 146.771  on 132  degrees of freedom\n",
       "Residual deviance:  71.948  on 128  degrees of freedom\n",
       "AIC: 81.948\n",
       "\n",
       "Number of Fisher Scoring iterations: 7\n"
      ]
     },
     "metadata": {},
     "output_type": "display_data"
    }
   ],
   "source": [
    "model <- glm(CLI ~ DM + HTN + statin + Gender , family = binomial(),data = data)\n",
    "summary(model)"
   ]
  },
  {
   "cell_type": "code",
   "execution_count": 67,
   "metadata": {
    "scrolled": false
   },
   "outputs": [
    {
     "data": {
      "text/plain": [
       "\n",
       "Call:\n",
       "glm(formula = CLI ~ DM + HTN + statin + obesity, family = binomial(), \n",
       "    data = data)\n",
       "\n",
       "Deviance Residuals: \n",
       "     Min        1Q    Median        3Q       Max  \n",
       "-1.58027  -0.27706  -0.18133  -0.03062   2.66188  \n",
       "\n",
       "Coefficients:\n",
       "            Estimate Std. Error z value Pr(>|z|)    \n",
       "(Intercept)  -0.9731     0.8797  -1.106  0.26863    \n",
       "DM            4.1514     1.0652   3.897 9.72e-05 ***\n",
       "HTN          -3.1267     1.0906  -2.867  0.00414 ** \n",
       "statin       -3.5651     0.9165  -3.890  0.00010 ***\n",
       "obesity       0.8588     0.6534   1.314  0.18873    \n",
       "---\n",
       "Signif. codes:  0 ‘***’ 0.001 ‘**’ 0.01 ‘*’ 0.05 ‘.’ 0.1 ‘ ’ 1\n",
       "\n",
       "(Dispersion parameter for binomial family taken to be 1)\n",
       "\n",
       "    Null deviance: 146.771  on 132  degrees of freedom\n",
       "Residual deviance:  72.813  on 128  degrees of freedom\n",
       "AIC: 82.813\n",
       "\n",
       "Number of Fisher Scoring iterations: 7\n"
      ]
     },
     "metadata": {},
     "output_type": "display_data"
    }
   ],
   "source": [
    "model <- glm(CLI ~ DM + HTN + statin + obesity , family = binomial(),data = data)\n",
    "summary(model)"
   ]
  },
  {
   "cell_type": "markdown",
   "metadata": {},
   "source": [
    "### 변수 5개 짜리 모델"
   ]
  },
  {
   "cell_type": "code",
   "execution_count": 68,
   "metadata": {},
   "outputs": [
    {
     "data": {
      "text/plain": [
       "\n",
       "Call:\n",
       "glm(formula = CLI ~ DM + HTN + statin + smoking + Gender, family = binomial(), \n",
       "    data = data)\n",
       "\n",
       "Deviance Residuals: \n",
       "     Min        1Q    Median        3Q       Max  \n",
       "-2.00472  -0.25016  -0.15988  -0.02966   2.66228  \n",
       "\n",
       "Coefficients:\n",
       "            Estimate Std. Error z value Pr(>|z|)    \n",
       "(Intercept)  -1.5785     1.0397  -1.518 0.128959    \n",
       "DM            4.2141     1.0396   4.053 5.05e-05 ***\n",
       "HTN          -2.7091     1.0182  -2.661 0.007798 ** \n",
       "statin       -3.3752     1.0030  -3.365 0.000765 ***\n",
       "smoking      -2.0049     0.7826  -2.562 0.010416 *  \n",
       "Gender        1.9391     0.7885   2.459 0.013923 *  \n",
       "---\n",
       "Signif. codes:  0 ‘***’ 0.001 ‘**’ 0.01 ‘*’ 0.05 ‘.’ 0.1 ‘ ’ 1\n",
       "\n",
       "(Dispersion parameter for binomial family taken to be 1)\n",
       "\n",
       "    Null deviance: 146.77  on 132  degrees of freedom\n",
       "Residual deviance:  64.22  on 127  degrees of freedom\n",
       "AIC: 76.22\n",
       "\n",
       "Number of Fisher Scoring iterations: 7\n"
      ]
     },
     "metadata": {},
     "output_type": "display_data"
    },
    {
     "data": {
      "text/html": [
       "<table>\n",
       "<thead><tr><th scope=col>#Df</th><th scope=col>LogLik</th><th scope=col>Df</th><th scope=col>Chisq</th><th scope=col>Pr(&gt;Chisq)</th></tr></thead>\n",
       "<tbody>\n",
       "\t<tr><td> 6        </td><td>-32.11016 </td><td>NA        </td><td>      NA  </td><td>        NA</td></tr>\n",
       "\t<tr><td>12        </td><td>-24.31450 </td><td> 6        </td><td>15.59131  </td><td>0.01612404</td></tr>\n",
       "</tbody>\n",
       "</table>\n"
      ],
      "text/latex": [
       "\\begin{tabular}{r|lllll}\n",
       " \\#Df & LogLik & Df & Chisq & Pr(>Chisq)\\\\\n",
       "\\hline\n",
       "\t  6         & -32.11016  & NA         &       NA   &         NA\\\\\n",
       "\t 12         & -24.31450  &  6         & 15.59131   & 0.01612404\\\\\n",
       "\\end{tabular}\n"
      ],
      "text/markdown": [
       "\n",
       "#Df | LogLik | Df | Chisq | Pr(>Chisq) | \n",
       "|---|---|\n",
       "|  6         | -32.11016  | NA         |       NA   |         NA | \n",
       "| 12         | -24.31450  |  6         | 15.59131   | 0.01612404 | \n",
       "\n",
       "\n"
      ],
      "text/plain": [
       "  #Df LogLik    Df Chisq    Pr(>Chisq)\n",
       "1  6  -32.11016 NA       NA         NA\n",
       "2 12  -24.31450  6 15.59131 0.01612404"
      ]
     },
     "metadata": {},
     "output_type": "display_data"
    }
   ],
   "source": [
    "model <- glm(CLI ~ DM + HTN + statin + smoking + Gender, family = binomial(),data = data)\n",
    "summary(model)\n",
    "lrtest(model, full.model)"
   ]
  },
  {
   "cell_type": "code",
   "execution_count": 69,
   "metadata": {},
   "outputs": [
    {
     "data": {
      "text/plain": [
       "\n",
       "Call:\n",
       "glm(formula = CLI ~ DM + HTN + statin + ACS + Age, family = binomial(), \n",
       "    data = data)\n",
       "\n",
       "Deviance Residuals: \n",
       "     Min        1Q    Median        3Q       Max  \n",
       "-1.76279  -0.27634  -0.10064  -0.01479   2.94247  \n",
       "\n",
       "Coefficients:\n",
       "            Estimate Std. Error z value Pr(>|z|)    \n",
       "(Intercept)  -4.6573     2.4540  -1.898 0.057716 .  \n",
       "DM            4.4150     1.1866   3.721 0.000199 ***\n",
       "HTN          -3.3717     1.1748  -2.870 0.004105 ** \n",
       "statin       -3.9335     0.9917  -3.966  7.3e-05 ***\n",
       "ACS           1.8320     0.9114   2.010 0.044423 *  \n",
       "Age           0.0567     0.0336   1.688 0.091472 .  \n",
       "---\n",
       "Signif. codes:  0 ‘***’ 0.001 ‘**’ 0.01 ‘*’ 0.05 ‘.’ 0.1 ‘ ’ 1\n",
       "\n",
       "(Dispersion parameter for binomial family taken to be 1)\n",
       "\n",
       "    Null deviance: 146.771  on 132  degrees of freedom\n",
       "Residual deviance:  66.402  on 127  degrees of freedom\n",
       "AIC: 78.402\n",
       "\n",
       "Number of Fisher Scoring iterations: 7\n"
      ]
     },
     "metadata": {},
     "output_type": "display_data"
    }
   ],
   "source": [
    "model <- glm(CLI ~ DM + HTN + statin + ACS + Age , family = binomial(),data = data)\n",
    "summary(model)"
   ]
  },
  {
   "cell_type": "code",
   "execution_count": 70,
   "metadata": {},
   "outputs": [
    {
     "data": {
      "text/plain": [
       "\n",
       "Call:\n",
       "glm(formula = CLI ~ DM + HTN + statin + ACS + smoking, family = binomial(), \n",
       "    data = data)\n",
       "\n",
       "Deviance Residuals: \n",
       "     Min        1Q    Median        3Q       Max  \n",
       "-1.71945  -0.25226  -0.12324  -0.01749   3.02071  \n",
       "\n",
       "Coefficients:\n",
       "            Estimate Std. Error z value Pr(>|z|)    \n",
       "(Intercept)  -0.6112     0.9123  -0.670 0.502846    \n",
       "DM            4.2331     1.0916   3.878 0.000105 ***\n",
       "HTN          -3.1453     1.1035  -2.850 0.004367 ** \n",
       "statin       -3.9083     1.0290  -3.798 0.000146 ***\n",
       "ACS           1.8630     0.9285   2.006 0.044805 *  \n",
       "smoking      -1.1201     0.6511  -1.720 0.085387 .  \n",
       "---\n",
       "Signif. codes:  0 ‘***’ 0.001 ‘**’ 0.01 ‘*’ 0.05 ‘.’ 0.1 ‘ ’ 1\n",
       "\n",
       "(Dispersion parameter for binomial family taken to be 1)\n",
       "\n",
       "    Null deviance: 146.771  on 132  degrees of freedom\n",
       "Residual deviance:  66.432  on 127  degrees of freedom\n",
       "AIC: 78.432\n",
       "\n",
       "Number of Fisher Scoring iterations: 7\n"
      ]
     },
     "metadata": {},
     "output_type": "display_data"
    }
   ],
   "source": [
    "model <- glm(CLI ~ DM + HTN + statin + ACS + smoking , family = binomial(),data = data)\n",
    "summary(model)"
   ]
  },
  {
   "cell_type": "code",
   "execution_count": null,
   "metadata": {},
   "outputs": [],
   "source": []
  },
  {
   "cell_type": "markdown",
   "metadata": {},
   "source": [
    "### 변수 6개짜리 모델"
   ]
  },
  {
   "cell_type": "code",
   "execution_count": 71,
   "metadata": {},
   "outputs": [
    {
     "data": {
      "text/plain": [
       "\n",
       "Call:\n",
       "glm(formula = CLI ~ DM + HTN + statin + smoking + Gender + obesity, \n",
       "    family = binomial(), data = data)\n",
       "\n",
       "Deviance Residuals: \n",
       "     Min        1Q    Median        3Q       Max  \n",
       "-1.88114  -0.32247  -0.09726  -0.01526   3.06251  \n",
       "\n",
       "Coefficients:\n",
       "            Estimate Std. Error z value Pr(>|z|)    \n",
       "(Intercept)  -1.6725     1.1117  -1.504 0.132471    \n",
       "DM            4.3775     1.0993   3.982 6.83e-05 ***\n",
       "HTN          -3.3983     1.1672  -2.911 0.003598 ** \n",
       "statin       -3.7062     1.0490  -3.533 0.000411 ***\n",
       "smoking      -2.5565     0.8664  -2.951 0.003169 ** \n",
       "Gender        2.2757     0.8253   2.757 0.005827 ** \n",
       "obesity       1.7497     0.8192   2.136 0.032683 *  \n",
       "---\n",
       "Signif. codes:  0 ‘***’ 0.001 ‘**’ 0.01 ‘*’ 0.05 ‘.’ 0.1 ‘ ’ 1\n",
       "\n",
       "(Dispersion parameter for binomial family taken to be 1)\n",
       "\n",
       "    Null deviance: 146.771  on 132  degrees of freedom\n",
       "Residual deviance:  58.977  on 126  degrees of freedom\n",
       "AIC: 72.977\n",
       "\n",
       "Number of Fisher Scoring iterations: 7\n"
      ]
     },
     "metadata": {},
     "output_type": "display_data"
    },
    {
     "data": {
      "text/html": [
       "<table>\n",
       "<thead><tr><th scope=col>#Df</th><th scope=col>LogLik</th><th scope=col>Df</th><th scope=col>Chisq</th><th scope=col>Pr(&gt;Chisq)</th></tr></thead>\n",
       "<tbody>\n",
       "\t<tr><td> 7        </td><td>-29.48846 </td><td>NA        </td><td>      NA  </td><td>        NA</td></tr>\n",
       "\t<tr><td>12        </td><td>-24.31450 </td><td> 5        </td><td>10.34791  </td><td>0.06595663</td></tr>\n",
       "</tbody>\n",
       "</table>\n"
      ],
      "text/latex": [
       "\\begin{tabular}{r|lllll}\n",
       " \\#Df & LogLik & Df & Chisq & Pr(>Chisq)\\\\\n",
       "\\hline\n",
       "\t  7         & -29.48846  & NA         &       NA   &         NA\\\\\n",
       "\t 12         & -24.31450  &  5         & 10.34791   & 0.06595663\\\\\n",
       "\\end{tabular}\n"
      ],
      "text/markdown": [
       "\n",
       "#Df | LogLik | Df | Chisq | Pr(>Chisq) | \n",
       "|---|---|\n",
       "|  7         | -29.48846  | NA         |       NA   |         NA | \n",
       "| 12         | -24.31450  |  5         | 10.34791   | 0.06595663 | \n",
       "\n",
       "\n"
      ],
      "text/plain": [
       "  #Df LogLik    Df Chisq    Pr(>Chisq)\n",
       "1  7  -29.48846 NA       NA         NA\n",
       "2 12  -24.31450  5 10.34791 0.06595663"
      ]
     },
     "metadata": {},
     "output_type": "display_data"
    }
   ],
   "source": [
    "model <- glm(CLI ~ DM + HTN + statin + smoking + Gender + obesity, family = binomial(),data = data)\n",
    "summary(model)\n",
    "lrtest(model, full.model)"
   ]
  },
  {
   "cell_type": "markdown",
   "metadata": {},
   "source": [
    "**포화 모형과 비교하여 큰 차이가 없다!!**"
   ]
  },
  {
   "cell_type": "code",
   "execution_count": 72,
   "metadata": {},
   "outputs": [
    {
     "data": {
      "text/plain": [
       "\n",
       "Call:\n",
       "glm(formula = CLI ~ DM + HTN + statin + smoking + Gender + alcohol, \n",
       "    family = binomial(), data = data)\n",
       "\n",
       "Deviance Residuals: \n",
       "     Min        1Q    Median        3Q       Max  \n",
       "-1.81771  -0.27213  -0.10086  -0.01913   2.57470  \n",
       "\n",
       "Coefficients:\n",
       "            Estimate Std. Error z value Pr(>|z|)    \n",
       "(Intercept)  -1.5166     1.1003  -1.378  0.16810    \n",
       "DM            4.1118     1.0291   3.996 6.45e-05 ***\n",
       "HTN          -2.6062     1.0700  -2.436  0.01486 *  \n",
       "statin       -3.2665     1.0276  -3.179  0.00148 ** \n",
       "smoking      -1.6951     0.8207  -2.065  0.03889 *  \n",
       "Gender        2.1106     0.8061   2.618  0.00884 ** \n",
       "alcohol      -1.6325     0.9668  -1.689  0.09131 .  \n",
       "---\n",
       "Signif. codes:  0 ‘***’ 0.001 ‘**’ 0.01 ‘*’ 0.05 ‘.’ 0.1 ‘ ’ 1\n",
       "\n",
       "(Dispersion parameter for binomial family taken to be 1)\n",
       "\n",
       "    Null deviance: 146.771  on 132  degrees of freedom\n",
       "Residual deviance:  60.951  on 126  degrees of freedom\n",
       "AIC: 74.951\n",
       "\n",
       "Number of Fisher Scoring iterations: 7\n"
      ]
     },
     "metadata": {},
     "output_type": "display_data"
    }
   ],
   "source": [
    "model <- glm(CLI ~ DM + HTN + statin + smoking + Gender + alcohol, family = binomial(),data = data)\n",
    "summary(model)"
   ]
  },
  {
   "cell_type": "code",
   "execution_count": 73,
   "metadata": {},
   "outputs": [
    {
     "data": {
      "text/plain": [
       "\n",
       "Call:\n",
       "glm(formula = CLI ~ DM + statin + HTN + ACS + Age + smoking, \n",
       "    family = binomial(), data = data)\n",
       "\n",
       "Deviance Residuals: \n",
       "    Min       1Q   Median       3Q      Max  \n",
       "-1.5973  -0.2732  -0.0806  -0.0106   3.3160  \n",
       "\n",
       "Coefficients:\n",
       "            Estimate Std. Error z value Pr(>|z|)    \n",
       "(Intercept) -5.18369    2.62887  -1.972 0.048629 *  \n",
       "DM           4.41790    1.16743   3.784 0.000154 ***\n",
       "statin      -4.14794    1.06421  -3.898 9.71e-05 ***\n",
       "HTN         -3.27032    1.15654  -2.828 0.004689 ** \n",
       "ACS          2.01015    0.98591   2.039 0.041463 *  \n",
       "Age          0.07177    0.03718   1.930 0.053567 .  \n",
       "smoking     -1.40078    0.70345  -1.991 0.046448 *  \n",
       "---\n",
       "Signif. codes:  0 ‘***’ 0.001 ‘**’ 0.01 ‘*’ 0.05 ‘.’ 0.1 ‘ ’ 1\n",
       "\n",
       "(Dispersion parameter for binomial family taken to be 1)\n",
       "\n",
       "    Null deviance: 146.771  on 132  degrees of freedom\n",
       "Residual deviance:  62.045  on 126  degrees of freedom\n",
       "AIC: 76.045\n",
       "\n",
       "Number of Fisher Scoring iterations: 7\n"
      ]
     },
     "metadata": {},
     "output_type": "display_data"
    }
   ],
   "source": [
    "model <- glm(CLI ~ DM + statin + HTN + ACS + Age + smoking , family = binomial(),data = data)\n",
    "summary(model)"
   ]
  },
  {
   "cell_type": "markdown",
   "metadata": {},
   "source": [
    "### 변수 7개 "
   ]
  },
  {
   "cell_type": "code",
   "execution_count": 74,
   "metadata": {},
   "outputs": [
    {
     "data": {
      "text/plain": [
       "\n",
       "Call:\n",
       "glm(formula = CLI ~ DM + statin + HTN + Gender + obesity + smoking + \n",
       "    alcohol, family = binomial(), data = data)\n",
       "\n",
       "Deviance Residuals: \n",
       "     Min        1Q    Median        3Q       Max  \n",
       "-1.88306  -0.20310  -0.09151  -0.00712   2.87061  \n",
       "\n",
       "Coefficients:\n",
       "            Estimate Std. Error z value Pr(>|z|)    \n",
       "(Intercept)  -1.7571     1.2495  -1.406 0.159667    \n",
       "DM            4.4227     1.1558   3.827 0.000130 ***\n",
       "statin       -3.7167     1.1132  -3.339 0.000842 ***\n",
       "HTN          -3.4024     1.2914  -2.635 0.008420 ** \n",
       "Gender        2.6378     0.8905   2.962 0.003056 ** \n",
       "obesity       2.0361     0.8822   2.308 0.021000 *  \n",
       "smoking      -2.2883     0.9019  -2.537 0.011173 *  \n",
       "alcohol      -2.0554     1.0624  -1.935 0.053043 .  \n",
       "---\n",
       "Signif. codes:  0 ‘***’ 0.001 ‘**’ 0.01 ‘*’ 0.05 ‘.’ 0.1 ‘ ’ 1\n",
       "\n",
       "(Dispersion parameter for binomial family taken to be 1)\n",
       "\n",
       "    Null deviance: 146.771  on 132  degrees of freedom\n",
       "Residual deviance:  54.565  on 125  degrees of freedom\n",
       "AIC: 70.565\n",
       "\n",
       "Number of Fisher Scoring iterations: 7\n"
      ]
     },
     "metadata": {},
     "output_type": "display_data"
    }
   ],
   "source": [
    "model <- glm(CLI ~ DM + statin + HTN + Gender + obesity + smoking + alcohol , family = binomial(),data = data)\n",
    "summary(model)"
   ]
  },
  {
   "cell_type": "code",
   "execution_count": 75,
   "metadata": {},
   "outputs": [
    {
     "data": {
      "text/plain": [
       "\n",
       "Call:\n",
       "glm(formula = CLI ~ DM + statin + HTN + ACS + Age + smoking + \n",
       "    alcohol, family = binomial(), data = data)\n",
       "\n",
       "Deviance Residuals: \n",
       "    Min       1Q   Median       3Q      Max  \n",
       "-1.6124  -0.2808  -0.0883  -0.0109   3.2006  \n",
       "\n",
       "Coefficients:\n",
       "            Estimate Std. Error z value Pr(>|z|)    \n",
       "(Intercept) -4.73604    2.63417  -1.798 0.072189 .  \n",
       "DM           4.29025    1.14782   3.738 0.000186 ***\n",
       "statin      -4.06970    1.06139  -3.834 0.000126 ***\n",
       "HTN         -3.19623    1.16110  -2.753 0.005910 ** \n",
       "ACS          1.87332    0.99546   1.882 0.059854 .  \n",
       "Age          0.06658    0.03729   1.785 0.074185 .  \n",
       "smoking     -1.19895    0.75040  -1.598 0.110097    \n",
       "alcohol     -0.72996    0.94681  -0.771 0.440722    \n",
       "---\n",
       "Signif. codes:  0 ‘***’ 0.001 ‘**’ 0.01 ‘*’ 0.05 ‘.’ 0.1 ‘ ’ 1\n",
       "\n",
       "(Dispersion parameter for binomial family taken to be 1)\n",
       "\n",
       "    Null deviance: 146.771  on 132  degrees of freedom\n",
       "Residual deviance:  61.416  on 125  degrees of freedom\n",
       "AIC: 77.416\n",
       "\n",
       "Number of Fisher Scoring iterations: 7\n"
      ]
     },
     "metadata": {},
     "output_type": "display_data"
    }
   ],
   "source": [
    "model <- glm(CLI ~ DM + statin + HTN + ACS + Age + smoking + alcohol , family = binomial(),data = data)\n",
    "summary(model)"
   ]
  },
  {
   "cell_type": "code",
   "execution_count": 76,
   "metadata": {},
   "outputs": [
    {
     "data": {
      "text/plain": [
       "\n",
       "Call:\n",
       "glm(formula = CLI ~ DM + statin + HTN + Gender + Age + smoking + \n",
       "    alcohol, family = binomial(), data = data)\n",
       "\n",
       "Deviance Residuals: \n",
       "     Min        1Q    Median        3Q       Max  \n",
       "-1.77644  -0.26818  -0.07632  -0.01439   2.66327  \n",
       "\n",
       "Coefficients:\n",
       "            Estimate Std. Error z value Pr(>|z|)    \n",
       "(Intercept) -4.98942    2.76831  -1.802 0.071493 .  \n",
       "DM           4.35963    1.12268   3.883 0.000103 ***\n",
       "statin      -3.41234    1.03862  -3.285 0.001018 ** \n",
       "HTN         -2.70635    1.12769  -2.400 0.016399 *  \n",
       "Gender       1.99568    0.82156   2.429 0.015135 *  \n",
       "Age          0.05334    0.03686   1.447 0.147887    \n",
       "smoking     -1.80466    0.83802  -2.153 0.031281 *  \n",
       "alcohol     -1.41021    0.94897  -1.486 0.137268    \n",
       "---\n",
       "Signif. codes:  0 ‘***’ 0.001 ‘**’ 0.01 ‘*’ 0.05 ‘.’ 0.1 ‘ ’ 1\n",
       "\n",
       "(Dispersion parameter for binomial family taken to be 1)\n",
       "\n",
       "    Null deviance: 146.771  on 132  degrees of freedom\n",
       "Residual deviance:  58.678  on 125  degrees of freedom\n",
       "AIC: 74.678\n",
       "\n",
       "Number of Fisher Scoring iterations: 7\n"
      ]
     },
     "metadata": {},
     "output_type": "display_data"
    }
   ],
   "source": [
    "model <- glm(CLI ~ DM + statin + HTN + Gender + Age + smoking + alcohol , family = binomial(),data = data)\n",
    "summary(model)"
   ]
  },
  {
   "cell_type": "code",
   "execution_count": 77,
   "metadata": {},
   "outputs": [
    {
     "data": {
      "text/plain": [
       "\n",
       "Call:\n",
       "glm(formula = CLI ~ DM + statin + HTN + Gender + obesity + smoking + \n",
       "    ACS, family = binomial(), data = data)\n",
       "\n",
       "Deviance Residuals: \n",
       "    Min       1Q   Median       3Q      Max  \n",
       "-1.6727  -0.2477  -0.0606  -0.0061   3.5508  \n",
       "\n",
       "Coefficients:\n",
       "            Estimate Std. Error z value Pr(>|z|)    \n",
       "(Intercept)  -1.4835     1.1340  -1.308 0.190783    \n",
       "DM            4.5847     1.2128   3.780 0.000157 ***\n",
       "statin       -4.5892     1.2756  -3.598 0.000321 ***\n",
       "HTN          -4.2560     1.4113  -3.016 0.002563 ** \n",
       "Gender        2.2704     0.8697   2.610 0.009042 ** \n",
       "obesity       2.2799     0.9220   2.473 0.013406 *  \n",
       "smoking      -2.8286     0.9624  -2.939 0.003293 ** \n",
       "ACS           2.2670     1.0630   2.133 0.032956 *  \n",
       "---\n",
       "Signif. codes:  0 ‘***’ 0.001 ‘**’ 0.01 ‘*’ 0.05 ‘.’ 0.1 ‘ ’ 1\n",
       "\n",
       "(Dispersion parameter for binomial family taken to be 1)\n",
       "\n",
       "    Null deviance: 146.771  on 132  degrees of freedom\n",
       "Residual deviance:  53.679  on 125  degrees of freedom\n",
       "AIC: 69.679\n",
       "\n",
       "Number of Fisher Scoring iterations: 7\n"
      ]
     },
     "metadata": {},
     "output_type": "display_data"
    },
    {
     "data": {
      "text/html": [
       "<table>\n",
       "<thead><tr><th scope=col>#Df</th><th scope=col>LogLik</th><th scope=col>Df</th><th scope=col>Chisq</th><th scope=col>Pr(&gt;Chisq)</th></tr></thead>\n",
       "<tbody>\n",
       "\t<tr><td> 8       </td><td>-26.83973</td><td>NA       </td><td>      NA </td><td>       NA</td></tr>\n",
       "\t<tr><td>12       </td><td>-24.31450</td><td> 4       </td><td>5.050453 </td><td>0.2821597</td></tr>\n",
       "</tbody>\n",
       "</table>\n"
      ],
      "text/latex": [
       "\\begin{tabular}{r|lllll}\n",
       " \\#Df & LogLik & Df & Chisq & Pr(>Chisq)\\\\\n",
       "\\hline\n",
       "\t  8        & -26.83973 & NA        &       NA  &        NA\\\\\n",
       "\t 12        & -24.31450 &  4        & 5.050453  & 0.2821597\\\\\n",
       "\\end{tabular}\n"
      ],
      "text/markdown": [
       "\n",
       "#Df | LogLik | Df | Chisq | Pr(>Chisq) | \n",
       "|---|---|\n",
       "|  8        | -26.83973 | NA        |       NA  |        NA | \n",
       "| 12        | -24.31450 |  4        | 5.050453  | 0.2821597 | \n",
       "\n",
       "\n"
      ],
      "text/plain": [
       "  #Df LogLik    Df Chisq    Pr(>Chisq)\n",
       "1  8  -26.83973 NA       NA        NA \n",
       "2 12  -24.31450  4 5.050453 0.2821597 "
      ]
     },
     "metadata": {},
     "output_type": "display_data"
    }
   ],
   "source": [
    "model <- glm(CLI ~ DM + statin + HTN + Gender + obesity + smoking + ACS  , family = binomial(),data = data)\n",
    "summary(model)\n",
    "lrtest(model, full.model)"
   ]
  },
  {
   "cell_type": "markdown",
   "metadata": {},
   "source": [
    "### 변수 8개 "
   ]
  },
  {
   "cell_type": "code",
   "execution_count": 78,
   "metadata": {},
   "outputs": [
    {
     "data": {
      "text/plain": [
       "\n",
       "Call:\n",
       "glm(formula = CLI ~ DM + statin + HTN + Gender + obesity + smoking + \n",
       "    alcohol + ACS, family = binomial(), data = data)\n",
       "\n",
       "Deviance Residuals: \n",
       "    Min       1Q   Median       3Q      Max  \n",
       "-1.6512  -0.2803  -0.0690  -0.0038   3.3570  \n",
       "\n",
       "Coefficients:\n",
       "            Estimate Std. Error z value Pr(>|z|)    \n",
       "(Intercept)  -1.5223     1.2396  -1.228 0.219440    \n",
       "DM            4.4925     1.2287   3.656 0.000256 ***\n",
       "statin       -4.5158     1.3165  -3.430 0.000603 ***\n",
       "HTN          -4.1165     1.4715  -2.797 0.005151 ** \n",
       "Gender        2.6133     0.9254   2.824 0.004743 ** \n",
       "obesity       2.4447     0.9612   2.544 0.010974 *  \n",
       "smoking      -2.5824     0.9811  -2.632 0.008482 ** \n",
       "alcohol      -1.7350     1.0634  -1.632 0.102779    \n",
       "ACS           2.0500     1.1011   1.862 0.062649 .  \n",
       "---\n",
       "Signif. codes:  0 ‘***’ 0.001 ‘**’ 0.01 ‘*’ 0.05 ‘.’ 0.1 ‘ ’ 1\n",
       "\n",
       "(Dispersion parameter for binomial family taken to be 1)\n",
       "\n",
       "    Null deviance: 146.77  on 132  degrees of freedom\n",
       "Residual deviance:  50.62  on 124  degrees of freedom\n",
       "AIC: 68.62\n",
       "\n",
       "Number of Fisher Scoring iterations: 7\n"
      ]
     },
     "metadata": {},
     "output_type": "display_data"
    },
    {
     "data": {
      "text/html": [
       "<table>\n",
       "<thead><tr><th scope=col>#Df</th><th scope=col>LogLik</th><th scope=col>Df</th><th scope=col>Chisq</th><th scope=col>Pr(&gt;Chisq)</th></tr></thead>\n",
       "<tbody>\n",
       "\t<tr><td> 9       </td><td>-25.31024</td><td>NA       </td><td>      NA </td><td>       NA</td></tr>\n",
       "\t<tr><td>12       </td><td>-24.31450</td><td> 3       </td><td>1.991468 </td><td>0.5741794</td></tr>\n",
       "</tbody>\n",
       "</table>\n"
      ],
      "text/latex": [
       "\\begin{tabular}{r|lllll}\n",
       " \\#Df & LogLik & Df & Chisq & Pr(>Chisq)\\\\\n",
       "\\hline\n",
       "\t  9        & -25.31024 & NA        &       NA  &        NA\\\\\n",
       "\t 12        & -24.31450 &  3        & 1.991468  & 0.5741794\\\\\n",
       "\\end{tabular}\n"
      ],
      "text/markdown": [
       "\n",
       "#Df | LogLik | Df | Chisq | Pr(>Chisq) | \n",
       "|---|---|\n",
       "|  9        | -25.31024 | NA        |       NA  |        NA | \n",
       "| 12        | -24.31450 |  3        | 1.991468  | 0.5741794 | \n",
       "\n",
       "\n"
      ],
      "text/plain": [
       "  #Df LogLik    Df Chisq    Pr(>Chisq)\n",
       "1  9  -25.31024 NA       NA        NA \n",
       "2 12  -24.31450  3 1.991468 0.5741794 "
      ]
     },
     "metadata": {},
     "output_type": "display_data"
    }
   ],
   "source": [
    "model <- glm(CLI ~ DM + statin + HTN + Gender + obesity + smoking + alcohol + ACS, family = binomial(),data = data)\n",
    "summary(model)\n",
    "lrtest(model, full.model)"
   ]
  },
  {
   "cell_type": "markdown",
   "metadata": {},
   "source": [
    "#### 3개 짜리와 8개 짜리의 가능도비 검정 "
   ]
  },
  {
   "cell_type": "code",
   "execution_count": 79,
   "metadata": {},
   "outputs": [
    {
     "data": {
      "text/html": [
       "<table>\n",
       "<thead><tr><th scope=col>#Df</th><th scope=col>LogLik</th><th scope=col>Df</th><th scope=col>Chisq</th><th scope=col>Pr(&gt;Chisq)</th></tr></thead>\n",
       "<tbody>\n",
       "\t<tr><td>4           </td><td>-37.30507   </td><td>NA          </td><td>      NA    </td><td>          NA</td></tr>\n",
       "\t<tr><td>9           </td><td>-25.31024   </td><td> 5          </td><td>23.98967    </td><td>0.0002181079</td></tr>\n",
       "</tbody>\n",
       "</table>\n"
      ],
      "text/latex": [
       "\\begin{tabular}{r|lllll}\n",
       " \\#Df & LogLik & Df & Chisq & Pr(>Chisq)\\\\\n",
       "\\hline\n",
       "\t 4            & -37.30507    & NA           &       NA     &           NA\\\\\n",
       "\t 9            & -25.31024    &  5           & 23.98967     & 0.0002181079\\\\\n",
       "\\end{tabular}\n"
      ],
      "text/markdown": [
       "\n",
       "#Df | LogLik | Df | Chisq | Pr(>Chisq) | \n",
       "|---|---|\n",
       "| 4            | -37.30507    | NA           |       NA     |           NA | \n",
       "| 9            | -25.31024    |  5           | 23.98967     | 0.0002181079 | \n",
       "\n",
       "\n"
      ],
      "text/plain": [
       "  #Df LogLik    Df Chisq    Pr(>Chisq)  \n",
       "1 4   -37.30507 NA       NA           NA\n",
       "2 9   -25.31024  5 23.98967 0.0002181079"
      ]
     },
     "metadata": {},
     "output_type": "display_data"
    }
   ],
   "source": [
    "model1 <- glm(CLI ~ DM + statin + HTN, family = binomial(),data = data)\n",
    "model2 <- glm(CLI ~ DM + statin + HTN + Gender + obesity + smoking + alcohol + ACS, family = binomial(),data = data)\n",
    "lrtest(model1, model2)"
   ]
  },
  {
   "cell_type": "markdown",
   "metadata": {},
   "source": [
    "#### 6개 짜리와 포화 모형의 가능도비 검정"
   ]
  },
  {
   "cell_type": "code",
   "execution_count": 80,
   "metadata": {
    "scrolled": true
   },
   "outputs": [
    {
     "data": {
      "text/html": [
       "<table>\n",
       "<thead><tr><th scope=col>Gender</th><th scope=col>Age</th><th scope=col>DM</th><th scope=col>HTN</th><th scope=col>ACS</th><th scope=col>CHF</th><th scope=col>CVA</th><th scope=col>smoking</th><th scope=col>alcohol</th><th scope=col>statin</th><th scope=col>obesity</th><th scope=col>CLI</th></tr></thead>\n",
       "<tbody>\n",
       "\t<tr><td>0       </td><td>49.00000</td><td>0       </td><td>1       </td><td>0       </td><td>0       </td><td>0       </td><td>0       </td><td>0       </td><td>0       </td><td>0       </td><td>0       </td></tr>\n",
       "\t<tr><td>0       </td><td>64.63611</td><td>0       </td><td>1       </td><td>0       </td><td>0       </td><td>1       </td><td>0       </td><td>0       </td><td>1       </td><td>0       </td><td>0       </td></tr>\n",
       "\t<tr><td>0       </td><td>38.88056</td><td>0       </td><td>0       </td><td>0       </td><td>0       </td><td>0       </td><td>0       </td><td>0       </td><td>0       </td><td>0       </td><td>0       </td></tr>\n",
       "</tbody>\n",
       "</table>\n"
      ],
      "text/latex": [
       "\\begin{tabular}{r|llllllllllll}\n",
       " Gender & Age & DM & HTN & ACS & CHF & CVA & smoking & alcohol & statin & obesity & CLI\\\\\n",
       "\\hline\n",
       "\t 0        & 49.00000 & 0        & 1        & 0        & 0        & 0        & 0        & 0        & 0        & 0        & 0       \\\\\n",
       "\t 0        & 64.63611 & 0        & 1        & 0        & 0        & 1        & 0        & 0        & 1        & 0        & 0       \\\\\n",
       "\t 0        & 38.88056 & 0        & 0        & 0        & 0        & 0        & 0        & 0        & 0        & 0        & 0       \\\\\n",
       "\\end{tabular}\n"
      ],
      "text/markdown": [
       "\n",
       "Gender | Age | DM | HTN | ACS | CHF | CVA | smoking | alcohol | statin | obesity | CLI | \n",
       "|---|---|---|\n",
       "| 0        | 49.00000 | 0        | 1        | 0        | 0        | 0        | 0        | 0        | 0        | 0        | 0        | \n",
       "| 0        | 64.63611 | 0        | 1        | 0        | 0        | 1        | 0        | 0        | 1        | 0        | 0        | \n",
       "| 0        | 38.88056 | 0        | 0        | 0        | 0        | 0        | 0        | 0        | 0        | 0        | 0        | \n",
       "\n",
       "\n"
      ],
      "text/plain": [
       "  Gender Age      DM HTN ACS CHF CVA smoking alcohol statin obesity CLI\n",
       "1 0      49.00000 0  1   0   0   0   0       0       0      0       0  \n",
       "2 0      64.63611 0  1   0   0   1   0       0       1      0       0  \n",
       "3 0      38.88056 0  0   0   0   0   0       0       0      0       0  "
      ]
     },
     "metadata": {},
     "output_type": "display_data"
    },
    {
     "data": {
      "text/html": [
       "<table>\n",
       "<thead><tr><th scope=col>#Df</th><th scope=col>LogLik</th><th scope=col>Df</th><th scope=col>Chisq</th><th scope=col>Pr(&gt;Chisq)</th></tr></thead>\n",
       "<tbody>\n",
       "\t<tr><td> 7        </td><td>-29.48846 </td><td>NA        </td><td>      NA  </td><td>        NA</td></tr>\n",
       "\t<tr><td>12        </td><td>-24.31450 </td><td> 5        </td><td>10.34791  </td><td>0.06595663</td></tr>\n",
       "</tbody>\n",
       "</table>\n"
      ],
      "text/latex": [
       "\\begin{tabular}{r|lllll}\n",
       " \\#Df & LogLik & Df & Chisq & Pr(>Chisq)\\\\\n",
       "\\hline\n",
       "\t  7         & -29.48846  & NA         &       NA   &         NA\\\\\n",
       "\t 12         & -24.31450  &  5         & 10.34791   & 0.06595663\\\\\n",
       "\\end{tabular}\n"
      ],
      "text/markdown": [
       "\n",
       "#Df | LogLik | Df | Chisq | Pr(>Chisq) | \n",
       "|---|---|\n",
       "|  7         | -29.48846  | NA         |       NA   |         NA | \n",
       "| 12         | -24.31450  |  5         | 10.34791   | 0.06595663 | \n",
       "\n",
       "\n"
      ],
      "text/plain": [
       "  #Df LogLik    Df Chisq    Pr(>Chisq)\n",
       "1  7  -29.48846 NA       NA         NA\n",
       "2 12  -24.31450  5 10.34791 0.06595663"
      ]
     },
     "metadata": {},
     "output_type": "display_data"
    }
   ],
   "source": [
    "library(leaps)\n",
    "df <- data[,c(1,2,6:13,15, 25)]\n",
    "head(df,3)\n",
    "full.model <- glm(CLI~., family = binomial(), data = df)\n",
    "fit.model <- glm(CLI~ DM + statin + HTN + Gender + smoking + obesity , family = binomial(), data = df)\n",
    "lrtest(fit.model, full.model)"
   ]
  },
  {
   "cell_type": "markdown",
   "metadata": {
    "collapsed": true
   },
   "source": [
    "### 결론"
   ]
  },
  {
   "cell_type": "markdown",
   "metadata": {},
   "source": [
    "위의 결과들을 고려하였을때, \n",
    "\n",
    "적절한 모형은 변수 6개 정도의 \n",
    "CLI ~ DM + statin + HTN + Gender + smoking + obesity \n",
    "로 생각되며 \n",
    "\n",
    "- DM \n",
    "- HTN\n",
    "- statin \n",
    "\n",
    "은 매우 강력한 영향\n",
    "\n",
    "- Gender \n",
    "- smoking \n",
    "- obesity \n",
    "\n",
    "는 경계 수준 정도의 영향을 갖고 있다고 볼 수 있다. \n",
    "\n",
    "- ACS\n",
    "- alcohol\n",
    "\n",
    "도 경계 수준의 영향은 가지고 있는 것으로 생각된다. \n",
    "\n",
    "PAD를 설명변수로 본다면, DM 대신 PAD 를 넣는 것도 고려할 수 있을 것으로 생각된다. "
   ]
  },
  {
   "cell_type": "markdown",
   "metadata": {},
   "source": [
    "## 부록 - 참고가능한 자료"
   ]
  },
  {
   "cell_type": "code",
   "execution_count": 81,
   "metadata": {},
   "outputs": [
    {
     "name": "stdout",
     "output_type": "stream",
     "text": [
      "Gender : 145.0339 \n",
      "Age : 146.0937 \n",
      "DM : 116.2768 \n",
      "HTN : 143.0448 \n",
      "ACS : 144.849 \n",
      "CHF : 150.1244 \n",
      "CVA : 150.2825 \n",
      "smoking : 148.2759 \n",
      "alcohol : 144.0465 \n",
      "statin : 121.3901 \n",
      "BMI : 150.0855 \n",
      "obesity : 150.2562 \n",
      "\n",
      "\n",
      "DM + Gender : 115.4469 \n",
      "DM + Age : 116.1609 \n",
      "DM + HTN : 107.2951 \n",
      "DM + ACS : 116.4747 \n",
      "DM + CHF : 117.7668 \n",
      "DM + CVA : 118.1824 \n",
      "DM + smoking : 113.2147 \n",
      "DM + alcohol : 109.5863 \n",
      "DM + statin : 90.74347 \n",
      "DM + BMI : 116.2525 \n",
      "DM + obesity : 118.1686 \n",
      "\n",
      "\n",
      "DM + statin + Gender : 90.34309 \n",
      "DM + statin + Age : 89.12401 \n",
      "DM + statin + HTN : 82.61014 \n",
      "DM + statin + ACS : 89.24924 \n",
      "DM + statin + CHF : 92.17711 \n",
      "DM + statin + CVA : 92.14858 \n",
      "DM + statin + smoking : 89.16462 \n",
      "DM + statin + alcohol : 87.49362 \n",
      "DM + statin + BMI : 92.40891 \n",
      "DM + statin + obesity : 91.97695 \n",
      "\n",
      "\n",
      "DM + statin + HTN + Gender : 81.9484 \n",
      "DM + statin + HTN + Age : 81.22134 \n",
      "DM + statin + HTN + ACS : 79.55415 \n",
      "DM + statin + HTN + CHF : 84.57594 \n",
      "DM + statin + HTN + CVA : 84.2337 \n",
      "DM + statin + HTN + smoking : 81.28509 \n",
      "DM + statin + HTN + alcohol : 80.61779 \n",
      "DM + statin + HTN + BMI : 84.60848 \n",
      "DM + statin + HTN + obesity : 82.8127 \n",
      "\n",
      "\n",
      "DM + statin + HTN + ACS + Gender : 79.95088 \n",
      "DM + statin + HTN + ACS + Age : 78.40152 \n",
      "DM + statin + HTN + ACS + CHF : 81.52665 \n",
      "DM + statin + HTN + ACS + CVA : 80.96461 \n",
      "DM + statin + HTN + ACS + smoking : 78.43235 \n",
      "DM + statin + HTN + ACS + alcohol : 78.80136 \n",
      "DM + statin + HTN + ACS + BMI : 81.48887 \n",
      "DM + statin + HTN + ACS + obesity : 78.87335 \n",
      "\n",
      "\n",
      "DM + statin + HTN + ACS + Age + Gender : 79.27397 \n",
      "DM + statin + HTN + ACS + Age + CHF : 80.16519 \n",
      "DM + statin + HTN + ACS + Age + CVA : 79.78347 \n",
      "DM + statin + HTN + ACS + Age + smoking : 76.04549 \n",
      "DM + statin + HTN + ACS + Age + alcohol : 78.09846 \n",
      "DM + statin + HTN + ACS + Age + BMI : 80.38703 \n",
      "DM + statin + HTN + ACS + Age + obesity : 78.38557 \n",
      "\n",
      "\n",
      "DM + statin + HTN + ACS + Age + smoking + Gender : 73.39948 \n",
      "DM + statin + HTN + ACS + Age + smoking + CHF : 77.8053 \n",
      "DM + statin + HTN + ACS + Age + smoking + CVA : 78.04019 \n",
      "DM + statin + HTN + ACS + Age + smoking + alcohol : 77.41616 \n",
      "DM + statin + HTN + ACS + Age + smoking + BMI : 77.87737 \n",
      "DM + statin + HTN + ACS + Age + smoking + obesity : 73.97743 \n"
     ]
    }
   ],
   "source": [
    "# 각종 model 에 대한 AIC 계산 \n",
    "for(key in c(\"Gender\", \"Age\", \"DM\", \"HTN\", \"ACS\", \"CHF\", \"CVA\" , \"smoking\", \"alcohol\", \"statin\", \"BMI\", \"obesity\")){\n",
    "    fm <- as.formula(paste(\"CLI ~\", key))\n",
    "    md <- glm(fm, family = binomial(),data = data)\n",
    "    cat(as.character(md$formula)[3],\":\", AIC(md), \"\\n\")\n",
    "}\n",
    "# DM 이 가장 낮다. \n",
    "\n",
    "cat(\"\\n\\n\")\n",
    "\n",
    "for(key in c(\"Gender\", \"Age\", \"HTN\", \"ACS\", \"CHF\", \"CVA\" , \"smoking\", \"alcohol\", \"statin\", \"BMI\", \"obesity\")){\n",
    "    fm <- as.formula(paste(\"CLI ~ DM +\", key))\n",
    "    md <- glm(fm, family = binomial(),data = data)\n",
    "    cat(as.character(md$formula)[3],\":\", AIC(md), \"\\n\")\n",
    "}\n",
    "# statin\n",
    "\n",
    "cat(\"\\n\\n\")\n",
    "\n",
    "for(key in c(\"Gender\", \"Age\", \"HTN\", \"ACS\", \"CHF\", \"CVA\" , \"smoking\", \"alcohol\", \"BMI\", \"obesity\")){\n",
    "    fm <- as.formula(paste(\"CLI ~ DM + statin +\", key))\n",
    "    md <- glm(fm, family = binomial(),data = data)\n",
    "    cat(as.character(md$formula)[3],\":\", AIC(md), \"\\n\")\n",
    "}\n",
    "# HTN\n",
    "\n",
    "cat(\"\\n\\n\")\n",
    "\n",
    "for(key in c(\"Gender\", \"Age\", \"ACS\", \"CHF\", \"CVA\" , \"smoking\", \"alcohol\", \"BMI\", \"obesity\")){\n",
    "    fm <- as.formula(paste(\"CLI ~ DM + statin + HTN +\", key))\n",
    "    md <- glm(fm, family = binomial(),data = data)\n",
    "    cat(as.character(md$formula)[3],\":\", AIC(md), \"\\n\")\n",
    "}\n",
    "# alcohol\n",
    "\n",
    "cat(\"\\n\\n\")\n",
    "\n",
    "for(key in c(\"Gender\", \"Age\", \"CHF\", \"CVA\" , \"smoking\", \"alcohol\", \"BMI\", \"obesity\")){\n",
    "    fm <- as.formula(paste(\"CLI ~ DM + statin + HTN + ACS +\", key))\n",
    "    md <- glm(fm, family = binomial(),data = data)\n",
    "    cat(as.character(md$formula)[3],\":\", AIC(md), \"\\n\")\n",
    "}\n",
    "# Age\n",
    "\n",
    "cat(\"\\n\\n\")\n",
    "\n",
    "for(key in c(\"Gender\", \"CHF\", \"CVA\" , \"smoking\", \"alcohol\", \"BMI\", \"obesity\")){\n",
    "    fm <- as.formula(paste(\"CLI ~ DM + statin + HTN + ACS + Age +\", key))\n",
    "    md <- glm(fm, family = binomial(),data = data)\n",
    "    cat(as.character(md$formula)[3],\":\", AIC(md), \"\\n\")\n",
    "}\n",
    "# smoking\n",
    "\n",
    "cat(\"\\n\\n\")\n",
    "\n",
    "for(key in c(\"Gender\", \"CHF\", \"CVA\" , \"alcohol\", \"BMI\", \"obesity\")){\n",
    "    fm <- as.formula(paste(\"CLI ~ DM + statin + HTN + ACS + Age + smoking +\", key))\n",
    "    md <- glm(fm, family = binomial(),data = data)\n",
    "    cat(as.character(md$formula)[3],\":\", AIC(md), \"\\n\")\n",
    "}\n",
    "# Gender \n"
   ]
  },
  {
   "cell_type": "code",
   "execution_count": null,
   "metadata": {},
   "outputs": [],
   "source": []
  },
  {
   "cell_type": "markdown",
   "metadata": {},
   "source": [
    "\n",
    "비슷한 결과 확인 가능"
   ]
  },
  {
   "cell_type": "code",
   "execution_count": 82,
   "metadata": {},
   "outputs": [
    {
     "name": "stdout",
     "output_type": "stream",
     "text": [
      "\n",
      "<상관관계 표와 Heat map>\n"
     ]
    },
    {
     "data": {
      "text/html": [
       "<table>\n",
       "<thead><tr><th></th><th scope=col>Gender</th><th scope=col>Age</th><th scope=col>DM</th><th scope=col>HTN</th><th scope=col>ACS</th><th scope=col>CHF</th><th scope=col>CVA</th><th scope=col>smoking</th><th scope=col>alcohol</th><th scope=col>statin</th><th scope=col>⋯</th><th scope=col>Average.CFU</th><th scope=col>PAD</th><th scope=col>VEGF</th><th scope=col>VEGF.All</th><th scope=col>CD34.VEGF</th><th scope=col>CD34</th><th scope=col>CD34.All</th><th scope=col>VEGF.1</th><th scope=col>SDF.1</th><th scope=col>CLI</th></tr></thead>\n",
       "<tbody>\n",
       "\t<tr><th scope=row>Gender</th><td> 1   </td><td>0.21 </td><td>0.17 </td><td> 0.03</td><td>0.14 </td><td> 0.01</td><td>-0.01</td><td>0.58 </td><td> 0.37</td><td>-0.17</td><td>⋯    </td><td> 0.06</td><td> 0.21</td><td> 0.02</td><td> 0.02</td><td> 0.08</td><td> 0.05</td><td> 0.06</td><td> 0.22</td><td>-0.06</td><td> 0.20</td></tr>\n",
       "\t<tr><th scope=row>Age</th><td>NA   </td><td>1.00 </td><td>0.17 </td><td> 0.03</td><td>0.10 </td><td> 0.00</td><td> 0.05</td><td>0.10 </td><td>-0.03</td><td>-0.02</td><td>⋯    </td><td> 0.17</td><td> 0.35</td><td>-0.10</td><td>-0.10</td><td> 0.01</td><td> 0.00</td><td> 0.00</td><td> 0.09</td><td> 0.03</td><td> 0.18</td></tr>\n",
       "\t<tr><th scope=row>DM</th><td>NA   </td><td>  NA </td><td>1.00 </td><td>-0.01</td><td>0.23 </td><td> 0.03</td><td> 0.08</td><td>0.08 </td><td> 0.02</td><td>-0.14</td><td>⋯    </td><td> 0.07</td><td> 0.48</td><td>-0.13</td><td>-0.13</td><td>-0.04</td><td> 0.12</td><td> 0.09</td><td> 0.25</td><td> 0.21</td><td> 0.47</td></tr>\n",
       "\t<tr><th scope=row>HTN</th><td>NA   </td><td>  NA </td><td>  NA </td><td> 1.00</td><td>0.05 </td><td>-0.16</td><td> 0.00</td><td>0.08 </td><td> 0.09</td><td> 0.12</td><td>⋯    </td><td> 0.26</td><td>-0.07</td><td> 0.11</td><td> 0.11</td><td>-0.02</td><td> 0.01</td><td> 0.00</td><td>-0.14</td><td>-0.32</td><td>-0.26</td></tr>\n",
       "\t<tr><th scope=row>ACS</th><td>NA   </td><td>  NA </td><td>  NA </td><td>   NA</td><td>1.00 </td><td> 0.02</td><td> 0.08</td><td>0.05 </td><td>-0.08</td><td>-0.03</td><td>⋯    </td><td>-0.01</td><td> 0.26</td><td>-0.10</td><td>-0.10</td><td>-0.09</td><td>-0.07</td><td>-0.08</td><td> 0.13</td><td> 0.21</td><td> 0.22</td></tr>\n",
       "\t<tr><th scope=row>CHF</th><td>NA   </td><td>  NA </td><td>  NA </td><td>   NA</td><td>  NA </td><td> 1.00</td><td> 0.17</td><td>0.00 </td><td>-0.10</td><td>-0.02</td><td>⋯    </td><td>-0.04</td><td> 0.07</td><td>-0.04</td><td>-0.04</td><td>-0.04</td><td>-0.04</td><td>-0.04</td><td>-0.02</td><td> 0.02</td><td> 0.07</td></tr>\n",
       "\t<tr><th scope=row>CVA</th><td>NA   </td><td>  NA </td><td>  NA </td><td>   NA</td><td>  NA </td><td>   NA</td><td> 1.00</td><td>0.03 </td><td>-0.08</td><td>-0.05</td><td>⋯    </td><td> 0.07</td><td> 0.09</td><td>-0.01</td><td>-0.01</td><td> 0.10</td><td>-0.07</td><td>-0.03</td><td> 0.02</td><td> 0.00</td><td> 0.06</td></tr>\n",
       "\t<tr><th scope=row>smoking</th><td>NA   </td><td>  NA </td><td>  NA </td><td>   NA</td><td>  NA </td><td>   NA</td><td>   NA</td><td>1.00 </td><td> 0.41</td><td>-0.02</td><td>⋯    </td><td> 0.30</td><td> 0.09</td><td> 0.14</td><td> 0.14</td><td> 0.03</td><td>-0.10</td><td>-0.08</td><td> 0.04</td><td>-0.16</td><td>-0.13</td></tr>\n",
       "\t<tr><th scope=row>alcohol</th><td>NA   </td><td>  NA </td><td>  NA </td><td>   NA</td><td>  NA </td><td>   NA</td><td>   NA</td><td>  NA </td><td> 1.00</td><td> 0.06</td><td>⋯    </td><td> 0.22</td><td>-0.01</td><td> 0.24</td><td> 0.24</td><td>-0.01</td><td>-0.06</td><td>-0.05</td><td>-0.01</td><td>-0.21</td><td>-0.20</td></tr>\n",
       "\t<tr><th scope=row>statin</th><td>NA   </td><td>  NA </td><td>  NA </td><td>   NA</td><td>  NA </td><td>   NA</td><td>   NA</td><td>  NA </td><td>   NA</td><td> 1.00</td><td>⋯    </td><td> 0.29</td><td>-0.27</td><td> 0.20</td><td> 0.20</td><td>-0.06</td><td>-0.11</td><td>-0.10</td><td>-0.27</td><td>-0.21</td><td>-0.43</td></tr>\n",
       "\t<tr><th scope=row>BMI</th><td>NA   </td><td>  NA </td><td>  NA </td><td>   NA</td><td>  NA </td><td>   NA</td><td>   NA</td><td>  NA </td><td>   NA</td><td>   NA</td><td>⋯    </td><td> 0.97</td><td> 0.04</td><td> 0.20</td><td> 0.19</td><td>-0.15</td><td>-0.19</td><td>-0.19</td><td>-0.08</td><td>-0.28</td><td>-0.07</td></tr>\n",
       "\t<tr><th scope=row>obesity</th><td>NA   </td><td>  NA </td><td>  NA </td><td>   NA</td><td>  NA </td><td>   NA</td><td>   NA</td><td>  NA </td><td>   NA</td><td>   NA</td><td>⋯    </td><td> 0.79</td><td> 0.12</td><td> 0.11</td><td> 0.10</td><td>-0.09</td><td>-0.17</td><td>-0.16</td><td> 0.00</td><td>-0.16</td><td> 0.06</td></tr>\n",
       "\t<tr><th scope=row>Average.CFU</th><td>NA   </td><td>  NA </td><td>  NA </td><td>   NA</td><td>  NA </td><td>   NA</td><td>   NA</td><td>  NA </td><td>   NA</td><td>   NA</td><td>⋯    </td><td> 1.00</td><td> 0.03</td><td> 0.24</td><td> 0.23</td><td>-0.14</td><td>-0.21</td><td>-0.21</td><td>-0.09</td><td>-0.32</td><td>-0.14</td></tr>\n",
       "\t<tr><th scope=row>PAD</th><td>NA   </td><td>  NA </td><td>  NA </td><td>   NA</td><td>  NA </td><td>   NA</td><td>   NA</td><td>  NA </td><td>   NA</td><td>   NA</td><td>⋯    </td><td>   NA</td><td> 1.00</td><td>-0.17</td><td>-0.17</td><td> 0.00</td><td> 0.10</td><td> 0.08</td><td> 0.36</td><td> 0.29</td><td> 0.64</td></tr>\n",
       "\t<tr><th scope=row>VEGF</th><td>NA   </td><td>  NA </td><td>  NA </td><td>   NA</td><td>  NA </td><td>   NA</td><td>   NA</td><td>  NA </td><td>   NA</td><td>   NA</td><td>⋯    </td><td>   NA</td><td>   NA</td><td> 1.00</td><td> 1.00</td><td> 0.16</td><td>-0.11</td><td>-0.05</td><td>-0.10</td><td>-0.23</td><td>-0.28</td></tr>\n",
       "\t<tr><th scope=row>VEGF.All</th><td>NA   </td><td>  NA </td><td>  NA </td><td>   NA</td><td>  NA </td><td>   NA</td><td>   NA</td><td>  NA </td><td>   NA</td><td>   NA</td><td>⋯    </td><td>   NA</td><td>   NA</td><td>   NA</td><td> 1.00</td><td> 0.23</td><td>-0.07</td><td> 0.00</td><td>-0.08</td><td>-0.22</td><td>-0.27</td></tr>\n",
       "\t<tr><th scope=row>CD34.VEGF</th><td>NA   </td><td>  NA </td><td>  NA </td><td>   NA</td><td>  NA </td><td>   NA</td><td>   NA</td><td>  NA </td><td>   NA</td><td>   NA</td><td>⋯    </td><td>   NA</td><td>   NA</td><td>   NA</td><td>   NA</td><td> 1.00</td><td> 0.60</td><td> 0.75</td><td> 0.23</td><td> 0.09</td><td> 0.11</td></tr>\n",
       "\t<tr><th scope=row>CD34</th><td>NA   </td><td>  NA </td><td>  NA </td><td>   NA</td><td>  NA </td><td>   NA</td><td>   NA</td><td>  NA </td><td>   NA</td><td>   NA</td><td>⋯    </td><td>   NA</td><td>   NA</td><td>   NA</td><td>   NA</td><td>   NA</td><td> 1.00</td><td> 0.98</td><td> 0.28</td><td> 0.12</td><td> 0.20</td></tr>\n",
       "\t<tr><th scope=row>CD34.All</th><td>NA   </td><td>  NA </td><td>  NA </td><td>   NA</td><td>  NA </td><td>   NA</td><td>   NA</td><td>  NA </td><td>   NA</td><td>   NA</td><td>⋯    </td><td>   NA</td><td>   NA</td><td>   NA</td><td>   NA</td><td>   NA</td><td>   NA</td><td> 1.00</td><td> 0.29</td><td> 0.12</td><td> 0.20</td></tr>\n",
       "\t<tr><th scope=row>VEGF.1</th><td>NA   </td><td>  NA </td><td>  NA </td><td>   NA</td><td>  NA </td><td>   NA</td><td>   NA</td><td>  NA </td><td>   NA</td><td>   NA</td><td>⋯    </td><td>   NA</td><td>   NA</td><td>   NA</td><td>   NA</td><td>   NA</td><td>   NA</td><td>   NA</td><td> 1.00</td><td> 0.41</td><td> 0.55</td></tr>\n",
       "\t<tr><th scope=row>SDF.1</th><td>NA   </td><td>  NA </td><td>  NA </td><td>   NA</td><td>  NA </td><td>   NA</td><td>   NA</td><td>  NA </td><td>   NA</td><td>   NA</td><td>⋯    </td><td>   NA</td><td>   NA</td><td>   NA</td><td>   NA</td><td>   NA</td><td>   NA</td><td>   NA</td><td>   NA</td><td> 1.00</td><td> 0.51</td></tr>\n",
       "\t<tr><th scope=row>CLI</th><td>NA   </td><td>  NA </td><td>  NA </td><td>   NA</td><td>  NA </td><td>   NA</td><td>   NA</td><td>  NA </td><td>   NA</td><td>   NA</td><td>⋯    </td><td>   NA</td><td>   NA</td><td>   NA</td><td>   NA</td><td>   NA</td><td>   NA</td><td>   NA</td><td>   NA</td><td>   NA</td><td> 1.00</td></tr>\n",
       "</tbody>\n",
       "</table>\n"
      ],
      "text/latex": [
       "\\begin{tabular}{r|llllllllllllllllllllll}\n",
       "  & Gender & Age & DM & HTN & ACS & CHF & CVA & smoking & alcohol & statin & ⋯ & Average.CFU & PAD & VEGF & VEGF.All & CD34.VEGF & CD34 & CD34.All & VEGF.1 & SDF.1 & CLI\\\\\n",
       "\\hline\n",
       "\tGender &  1    & 0.21  & 0.17  &  0.03 & 0.14  &  0.01 & -0.01 & 0.58  &  0.37 & -0.17 & ⋯     &  0.06 &  0.21 &  0.02 &  0.02 &  0.08 &  0.05 &  0.06 &  0.22 & -0.06 &  0.20\\\\\n",
       "\tAge & NA    & 1.00  & 0.17  &  0.03 & 0.10  &  0.00 &  0.05 & 0.10  & -0.03 & -0.02 & ⋯     &  0.17 &  0.35 & -0.10 & -0.10 &  0.01 &  0.00 &  0.00 &  0.09 &  0.03 &  0.18\\\\\n",
       "\tDM & NA    &   NA  & 1.00  & -0.01 & 0.23  &  0.03 &  0.08 & 0.08  &  0.02 & -0.14 & ⋯     &  0.07 &  0.48 & -0.13 & -0.13 & -0.04 &  0.12 &  0.09 &  0.25 &  0.21 &  0.47\\\\\n",
       "\tHTN & NA    &   NA  &   NA  &  1.00 & 0.05  & -0.16 &  0.00 & 0.08  &  0.09 &  0.12 & ⋯     &  0.26 & -0.07 &  0.11 &  0.11 & -0.02 &  0.01 &  0.00 & -0.14 & -0.32 & -0.26\\\\\n",
       "\tACS & NA    &   NA  &   NA  &    NA & 1.00  &  0.02 &  0.08 & 0.05  & -0.08 & -0.03 & ⋯     & -0.01 &  0.26 & -0.10 & -0.10 & -0.09 & -0.07 & -0.08 &  0.13 &  0.21 &  0.22\\\\\n",
       "\tCHF & NA    &   NA  &   NA  &    NA &   NA  &  1.00 &  0.17 & 0.00  & -0.10 & -0.02 & ⋯     & -0.04 &  0.07 & -0.04 & -0.04 & -0.04 & -0.04 & -0.04 & -0.02 &  0.02 &  0.07\\\\\n",
       "\tCVA & NA    &   NA  &   NA  &    NA &   NA  &    NA &  1.00 & 0.03  & -0.08 & -0.05 & ⋯     &  0.07 &  0.09 & -0.01 & -0.01 &  0.10 & -0.07 & -0.03 &  0.02 &  0.00 &  0.06\\\\\n",
       "\tsmoking & NA    &   NA  &   NA  &    NA &   NA  &    NA &    NA & 1.00  &  0.41 & -0.02 & ⋯     &  0.30 &  0.09 &  0.14 &  0.14 &  0.03 & -0.10 & -0.08 &  0.04 & -0.16 & -0.13\\\\\n",
       "\talcohol & NA    &   NA  &   NA  &    NA &   NA  &    NA &    NA &   NA  &  1.00 &  0.06 & ⋯     &  0.22 & -0.01 &  0.24 &  0.24 & -0.01 & -0.06 & -0.05 & -0.01 & -0.21 & -0.20\\\\\n",
       "\tstatin & NA    &   NA  &   NA  &    NA &   NA  &    NA &    NA &   NA  &    NA &  1.00 & ⋯     &  0.29 & -0.27 &  0.20 &  0.20 & -0.06 & -0.11 & -0.10 & -0.27 & -0.21 & -0.43\\\\\n",
       "\tBMI & NA    &   NA  &   NA  &    NA &   NA  &    NA &    NA &   NA  &    NA &    NA & ⋯     &  0.97 &  0.04 &  0.20 &  0.19 & -0.15 & -0.19 & -0.19 & -0.08 & -0.28 & -0.07\\\\\n",
       "\tobesity & NA    &   NA  &   NA  &    NA &   NA  &    NA &    NA &   NA  &    NA &    NA & ⋯     &  0.79 &  0.12 &  0.11 &  0.10 & -0.09 & -0.17 & -0.16 &  0.00 & -0.16 &  0.06\\\\\n",
       "\tAverage.CFU & NA    &   NA  &   NA  &    NA &   NA  &    NA &    NA &   NA  &    NA &    NA & ⋯     &  1.00 &  0.03 &  0.24 &  0.23 & -0.14 & -0.21 & -0.21 & -0.09 & -0.32 & -0.14\\\\\n",
       "\tPAD & NA    &   NA  &   NA  &    NA &   NA  &    NA &    NA &   NA  &    NA &    NA & ⋯     &    NA &  1.00 & -0.17 & -0.17 &  0.00 &  0.10 &  0.08 &  0.36 &  0.29 &  0.64\\\\\n",
       "\tVEGF & NA    &   NA  &   NA  &    NA &   NA  &    NA &    NA &   NA  &    NA &    NA & ⋯     &    NA &    NA &  1.00 &  1.00 &  0.16 & -0.11 & -0.05 & -0.10 & -0.23 & -0.28\\\\\n",
       "\tVEGF.All & NA    &   NA  &   NA  &    NA &   NA  &    NA &    NA &   NA  &    NA &    NA & ⋯     &    NA &    NA &    NA &  1.00 &  0.23 & -0.07 &  0.00 & -0.08 & -0.22 & -0.27\\\\\n",
       "\tCD34.VEGF & NA    &   NA  &   NA  &    NA &   NA  &    NA &    NA &   NA  &    NA &    NA & ⋯     &    NA &    NA &    NA &    NA &  1.00 &  0.60 &  0.75 &  0.23 &  0.09 &  0.11\\\\\n",
       "\tCD34 & NA    &   NA  &   NA  &    NA &   NA  &    NA &    NA &   NA  &    NA &    NA & ⋯     &    NA &    NA &    NA &    NA &    NA &  1.00 &  0.98 &  0.28 &  0.12 &  0.20\\\\\n",
       "\tCD34.All & NA    &   NA  &   NA  &    NA &   NA  &    NA &    NA &   NA  &    NA &    NA & ⋯     &    NA &    NA &    NA &    NA &    NA &    NA &  1.00 &  0.29 &  0.12 &  0.20\\\\\n",
       "\tVEGF.1 & NA    &   NA  &   NA  &    NA &   NA  &    NA &    NA &   NA  &    NA &    NA & ⋯     &    NA &    NA &    NA &    NA &    NA &    NA &    NA &  1.00 &  0.41 &  0.55\\\\\n",
       "\tSDF.1 & NA    &   NA  &   NA  &    NA &   NA  &    NA &    NA &   NA  &    NA &    NA & ⋯     &    NA &    NA &    NA &    NA &    NA &    NA &    NA &    NA &  1.00 &  0.51\\\\\n",
       "\tCLI & NA    &   NA  &   NA  &    NA &   NA  &    NA &    NA &   NA  &    NA &    NA & ⋯     &    NA &    NA &    NA &    NA &    NA &    NA &    NA &    NA &    NA &  1.00\\\\\n",
       "\\end{tabular}\n"
      ],
      "text/markdown": [
       "\n",
       "| <!--/--> | Gender | Age | DM | HTN | ACS | CHF | CVA | smoking | alcohol | statin | ⋯ | Average.CFU | PAD | VEGF | VEGF.All | CD34.VEGF | CD34 | CD34.All | VEGF.1 | SDF.1 | CLI | \n",
       "|---|---|---|---|---|---|---|---|---|---|---|---|---|---|---|---|---|---|---|---|---|---|\n",
       "| Gender |  1    | 0.21  | 0.17  |  0.03 | 0.14  |  0.01 | -0.01 | 0.58  |  0.37 | -0.17 | ⋯     |  0.06 |  0.21 |  0.02 |  0.02 |  0.08 |  0.05 |  0.06 |  0.22 | -0.06 |  0.20 | \n",
       "| Age | NA    | 1.00  | 0.17  |  0.03 | 0.10  |  0.00 |  0.05 | 0.10  | -0.03 | -0.02 | ⋯     |  0.17 |  0.35 | -0.10 | -0.10 |  0.01 |  0.00 |  0.00 |  0.09 |  0.03 |  0.18 | \n",
       "| DM | NA    |   NA  | 1.00  | -0.01 | 0.23  |  0.03 |  0.08 | 0.08  |  0.02 | -0.14 | ⋯     |  0.07 |  0.48 | -0.13 | -0.13 | -0.04 |  0.12 |  0.09 |  0.25 |  0.21 |  0.47 | \n",
       "| HTN | NA    |   NA  |   NA  |  1.00 | 0.05  | -0.16 |  0.00 | 0.08  |  0.09 |  0.12 | ⋯     |  0.26 | -0.07 |  0.11 |  0.11 | -0.02 |  0.01 |  0.00 | -0.14 | -0.32 | -0.26 | \n",
       "| ACS | NA    |   NA  |   NA  |    NA | 1.00  |  0.02 |  0.08 | 0.05  | -0.08 | -0.03 | ⋯     | -0.01 |  0.26 | -0.10 | -0.10 | -0.09 | -0.07 | -0.08 |  0.13 |  0.21 |  0.22 | \n",
       "| CHF | NA    |   NA  |   NA  |    NA |   NA  |  1.00 |  0.17 | 0.00  | -0.10 | -0.02 | ⋯     | -0.04 |  0.07 | -0.04 | -0.04 | -0.04 | -0.04 | -0.04 | -0.02 |  0.02 |  0.07 | \n",
       "| CVA | NA    |   NA  |   NA  |    NA |   NA  |    NA |  1.00 | 0.03  | -0.08 | -0.05 | ⋯     |  0.07 |  0.09 | -0.01 | -0.01 |  0.10 | -0.07 | -0.03 |  0.02 |  0.00 |  0.06 | \n",
       "| smoking | NA    |   NA  |   NA  |    NA |   NA  |    NA |    NA | 1.00  |  0.41 | -0.02 | ⋯     |  0.30 |  0.09 |  0.14 |  0.14 |  0.03 | -0.10 | -0.08 |  0.04 | -0.16 | -0.13 | \n",
       "| alcohol | NA    |   NA  |   NA  |    NA |   NA  |    NA |    NA |   NA  |  1.00 |  0.06 | ⋯     |  0.22 | -0.01 |  0.24 |  0.24 | -0.01 | -0.06 | -0.05 | -0.01 | -0.21 | -0.20 | \n",
       "| statin | NA    |   NA  |   NA  |    NA |   NA  |    NA |    NA |   NA  |    NA |  1.00 | ⋯     |  0.29 | -0.27 |  0.20 |  0.20 | -0.06 | -0.11 | -0.10 | -0.27 | -0.21 | -0.43 | \n",
       "| BMI | NA    |   NA  |   NA  |    NA |   NA  |    NA |    NA |   NA  |    NA |    NA | ⋯     |  0.97 |  0.04 |  0.20 |  0.19 | -0.15 | -0.19 | -0.19 | -0.08 | -0.28 | -0.07 | \n",
       "| obesity | NA    |   NA  |   NA  |    NA |   NA  |    NA |    NA |   NA  |    NA |    NA | ⋯     |  0.79 |  0.12 |  0.11 |  0.10 | -0.09 | -0.17 | -0.16 |  0.00 | -0.16 |  0.06 | \n",
       "| Average.CFU | NA    |   NA  |   NA  |    NA |   NA  |    NA |    NA |   NA  |    NA |    NA | ⋯     |  1.00 |  0.03 |  0.24 |  0.23 | -0.14 | -0.21 | -0.21 | -0.09 | -0.32 | -0.14 | \n",
       "| PAD | NA    |   NA  |   NA  |    NA |   NA  |    NA |    NA |   NA  |    NA |    NA | ⋯     |    NA |  1.00 | -0.17 | -0.17 |  0.00 |  0.10 |  0.08 |  0.36 |  0.29 |  0.64 | \n",
       "| VEGF | NA    |   NA  |   NA  |    NA |   NA  |    NA |    NA |   NA  |    NA |    NA | ⋯     |    NA |    NA |  1.00 |  1.00 |  0.16 | -0.11 | -0.05 | -0.10 | -0.23 | -0.28 | \n",
       "| VEGF.All | NA    |   NA  |   NA  |    NA |   NA  |    NA |    NA |   NA  |    NA |    NA | ⋯     |    NA |    NA |    NA |  1.00 |  0.23 | -0.07 |  0.00 | -0.08 | -0.22 | -0.27 | \n",
       "| CD34.VEGF | NA    |   NA  |   NA  |    NA |   NA  |    NA |    NA |   NA  |    NA |    NA | ⋯     |    NA |    NA |    NA |    NA |  1.00 |  0.60 |  0.75 |  0.23 |  0.09 |  0.11 | \n",
       "| CD34 | NA    |   NA  |   NA  |    NA |   NA  |    NA |    NA |   NA  |    NA |    NA | ⋯     |    NA |    NA |    NA |    NA |    NA |  1.00 |  0.98 |  0.28 |  0.12 |  0.20 | \n",
       "| CD34.All | NA    |   NA  |   NA  |    NA |   NA  |    NA |    NA |   NA  |    NA |    NA | ⋯     |    NA |    NA |    NA |    NA |    NA |    NA |  1.00 |  0.29 |  0.12 |  0.20 | \n",
       "| VEGF.1 | NA    |   NA  |   NA  |    NA |   NA  |    NA |    NA |   NA  |    NA |    NA | ⋯     |    NA |    NA |    NA |    NA |    NA |    NA |    NA |  1.00 |  0.41 |  0.55 | \n",
       "| SDF.1 | NA    |   NA  |   NA  |    NA |   NA  |    NA |    NA |   NA  |    NA |    NA | ⋯     |    NA |    NA |    NA |    NA |    NA |    NA |    NA |    NA |  1.00 |  0.51 | \n",
       "| CLI | NA    |   NA  |   NA  |    NA |   NA  |    NA |    NA |   NA  |    NA |    NA | ⋯     |    NA |    NA |    NA |    NA |    NA |    NA |    NA |    NA |    NA |  1.00 | \n",
       "\n",
       "\n"
      ],
      "text/plain": [
       "            Gender Age  DM   HTN   ACS  CHF   CVA   smoking alcohol statin ⋯\n",
       "Gender       1     0.21 0.17  0.03 0.14  0.01 -0.01 0.58     0.37   -0.17  ⋯\n",
       "Age         NA     1.00 0.17  0.03 0.10  0.00  0.05 0.10    -0.03   -0.02  ⋯\n",
       "DM          NA       NA 1.00 -0.01 0.23  0.03  0.08 0.08     0.02   -0.14  ⋯\n",
       "HTN         NA       NA   NA  1.00 0.05 -0.16  0.00 0.08     0.09    0.12  ⋯\n",
       "ACS         NA       NA   NA    NA 1.00  0.02  0.08 0.05    -0.08   -0.03  ⋯\n",
       "CHF         NA       NA   NA    NA   NA  1.00  0.17 0.00    -0.10   -0.02  ⋯\n",
       "CVA         NA       NA   NA    NA   NA    NA  1.00 0.03    -0.08   -0.05  ⋯\n",
       "smoking     NA       NA   NA    NA   NA    NA    NA 1.00     0.41   -0.02  ⋯\n",
       "alcohol     NA       NA   NA    NA   NA    NA    NA   NA     1.00    0.06  ⋯\n",
       "statin      NA       NA   NA    NA   NA    NA    NA   NA       NA    1.00  ⋯\n",
       "BMI         NA       NA   NA    NA   NA    NA    NA   NA       NA      NA  ⋯\n",
       "obesity     NA       NA   NA    NA   NA    NA    NA   NA       NA      NA  ⋯\n",
       "Average.CFU NA       NA   NA    NA   NA    NA    NA   NA       NA      NA  ⋯\n",
       "PAD         NA       NA   NA    NA   NA    NA    NA   NA       NA      NA  ⋯\n",
       "VEGF        NA       NA   NA    NA   NA    NA    NA   NA       NA      NA  ⋯\n",
       "VEGF.All    NA       NA   NA    NA   NA    NA    NA   NA       NA      NA  ⋯\n",
       "CD34.VEGF   NA       NA   NA    NA   NA    NA    NA   NA       NA      NA  ⋯\n",
       "CD34        NA       NA   NA    NA   NA    NA    NA   NA       NA      NA  ⋯\n",
       "CD34.All    NA       NA   NA    NA   NA    NA    NA   NA       NA      NA  ⋯\n",
       "VEGF.1      NA       NA   NA    NA   NA    NA    NA   NA       NA      NA  ⋯\n",
       "SDF.1       NA       NA   NA    NA   NA    NA    NA   NA       NA      NA  ⋯\n",
       "CLI         NA       NA   NA    NA   NA    NA    NA   NA       NA      NA  ⋯\n",
       "            Average.CFU PAD   VEGF  VEGF.All CD34.VEGF CD34  CD34.All VEGF.1\n",
       "Gender       0.06        0.21  0.02  0.02     0.08      0.05  0.06     0.22 \n",
       "Age          0.17        0.35 -0.10 -0.10     0.01      0.00  0.00     0.09 \n",
       "DM           0.07        0.48 -0.13 -0.13    -0.04      0.12  0.09     0.25 \n",
       "HTN          0.26       -0.07  0.11  0.11    -0.02      0.01  0.00    -0.14 \n",
       "ACS         -0.01        0.26 -0.10 -0.10    -0.09     -0.07 -0.08     0.13 \n",
       "CHF         -0.04        0.07 -0.04 -0.04    -0.04     -0.04 -0.04    -0.02 \n",
       "CVA          0.07        0.09 -0.01 -0.01     0.10     -0.07 -0.03     0.02 \n",
       "smoking      0.30        0.09  0.14  0.14     0.03     -0.10 -0.08     0.04 \n",
       "alcohol      0.22       -0.01  0.24  0.24    -0.01     -0.06 -0.05    -0.01 \n",
       "statin       0.29       -0.27  0.20  0.20    -0.06     -0.11 -0.10    -0.27 \n",
       "BMI          0.97        0.04  0.20  0.19    -0.15     -0.19 -0.19    -0.08 \n",
       "obesity      0.79        0.12  0.11  0.10    -0.09     -0.17 -0.16     0.00 \n",
       "Average.CFU  1.00        0.03  0.24  0.23    -0.14     -0.21 -0.21    -0.09 \n",
       "PAD            NA        1.00 -0.17 -0.17     0.00      0.10  0.08     0.36 \n",
       "VEGF           NA          NA  1.00  1.00     0.16     -0.11 -0.05    -0.10 \n",
       "VEGF.All       NA          NA    NA  1.00     0.23     -0.07  0.00    -0.08 \n",
       "CD34.VEGF      NA          NA    NA    NA     1.00      0.60  0.75     0.23 \n",
       "CD34           NA          NA    NA    NA       NA      1.00  0.98     0.28 \n",
       "CD34.All       NA          NA    NA    NA       NA        NA  1.00     0.29 \n",
       "VEGF.1         NA          NA    NA    NA       NA        NA    NA     1.00 \n",
       "SDF.1          NA          NA    NA    NA       NA        NA    NA       NA \n",
       "CLI            NA          NA    NA    NA       NA        NA    NA       NA \n",
       "            SDF.1 CLI  \n",
       "Gender      -0.06  0.20\n",
       "Age          0.03  0.18\n",
       "DM           0.21  0.47\n",
       "HTN         -0.32 -0.26\n",
       "ACS          0.21  0.22\n",
       "CHF          0.02  0.07\n",
       "CVA          0.00  0.06\n",
       "smoking     -0.16 -0.13\n",
       "alcohol     -0.21 -0.20\n",
       "statin      -0.21 -0.43\n",
       "BMI         -0.28 -0.07\n",
       "obesity     -0.16  0.06\n",
       "Average.CFU -0.32 -0.14\n",
       "PAD          0.29  0.64\n",
       "VEGF        -0.23 -0.28\n",
       "VEGF.All    -0.22 -0.27\n",
       "CD34.VEGF    0.09  0.11\n",
       "CD34         0.12  0.20\n",
       "CD34.All     0.12  0.20\n",
       "VEGF.1       0.41  0.55\n",
       "SDF.1        1.00  0.51\n",
       "CLI            NA  1.00"
      ]
     },
     "metadata": {},
     "output_type": "display_data"
    },
    {
     "data": {},
     "metadata": {},
     "output_type": "display_data"
    },
    {
     "data": {
      "image/png": "[encoded data removed]",
      "text/plain": [
       "plot without title"
      ]
     },
     "metadata": {},
     "output_type": "display_data"
    }
   ],
   "source": [
    "# 상관 계수를 살펴보자 \n",
    "\n",
    "library(reshape2)\n",
    "\n",
    "cormat <- round(cor(data[c(1,2,6:13,14,15,17, 16, 18,21, 19, 20 ,22, 23, 24,25)], use = 'complete.obs'),2)\n",
    "cormat[lower.tri(cormat)]<- NA\n",
    "\n",
    "cat(\"\\n<상관관계 표와 Heat map>\\n\")\n",
    "cormat\n",
    "melted_cormat <- melt(cormat, na.rm = TRUE)\n",
    "\n",
    "options(repr.plot.width=8, repr.plot.height=8)\n",
    "ggplot(data = melted_cormat, aes(Var2, Var1, fill = value))+\n",
    "    geom_tile(color = \"white\")+\n",
    "    scale_fill_gradient2(low = \"blue\", high = \"red\", mid = \"white\", \n",
    "                         midpoint = 0, limit = c(-1,1), space = \"Lab\", \n",
    "                         name=\"Pearson\\nCorrelation\") +\n",
    "    theme_minimal()+ \n",
    "    theme(axis.text.x = element_text(angle = 50, vjust = 1, \n",
    "                                     size = 10, hjust = 1) , \n",
    "          axis.title.x=element_blank(), \n",
    "          axis.title.y=element_blank())+\n",
    "    coord_fixed() + geom_text(aes(Var2, Var1, label = round(value,1)), color = \"black\", size = 3)"
   ]
  },
  {
   "cell_type": "markdown",
   "metadata": {},
   "source": [
    "---\n",
    "# 요약\n",
    "---"
   ]
  },
  {
   "cell_type": "markdown",
   "metadata": {},
   "source": [
    "#### CLI 에 따른 집단에서 t-test 및 wilcoxon-test, chisq-test 를 한 결과\n",
    "유의미한 변수들\n",
    "- Age 0.026\n",
    "- Gender 0.033\n",
    "- DM 0.000\n",
    "- HTN 0.006\n",
    "- ACS 0.022\n",
    "- alcohol 0.035\n",
    "- statin 0.000\n",
    "- PAD 0.000\n",
    "\n",
    "다중분석을 고려하더라도, DM, HTN, statin, PAD 는 거의 확실하게 차이\n",
    "\n",
    "#### CLI 에 따른 집단에서 로지스틱 회귀 결과 \n",
    "\n",
    "적절한 모형은 변수 6개 정도의 \n",
    "CLI ~ DM + statin + HTN + Gender + smoking + obesity \n",
    "로 생각되며 \n",
    "\n",
    "- DM \n",
    "- HTN\n",
    "- statin \n",
    "\n",
    "은 매우 강력한 영향\n",
    "\n",
    "- Gender \n",
    "- smoking \n",
    "- obesity \n",
    "\n",
    "는 경계 수준 정도의 영향을 갖고 있다고 볼 수 있다. \n",
    "\n",
    "- ACS\n",
    "- alcohol\n",
    "\n",
    "도 경계 수준의 영향은 가지고 있는 것으로 생각된다. "
   ]
  },
  {
   "cell_type": "code",
   "execution_count": null,
   "metadata": {},
   "outputs": [],
   "source": []
  }
 ],
 "metadata": {
  "kernelspec": {
   "display_name": "R",
   "language": "R",
   "name": "ir"
  },
  "language_info": {
   "codemirror_mode": "r",
   "file_extension": ".r",
   "mimetype": "text/x-r-source",
   "name": "R",
   "pygments_lexer": "r",
   "version": "3.3.2"
  }
 },
 "nbformat": 4,
 "nbformat_minor": 2
}
