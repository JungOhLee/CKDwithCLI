{
 "cells": [
  {
   "cell_type": "markdown",
   "metadata": {},
   "source": [
    "# 분석3 : PAD 에 따른 lab data \n",
    "\n",
    "## TOC\n",
    "\n",
    "* [데이터 탐색](#데이터-탐색)\n",
    "    * [Demographic Data](#빠른-Demo-data-탐색)\n",
    "        * [결과](#유의미한-차이)\n",
    "    * [Lab data 평균 및 분포](#Lab-평균-및-분포-확인)\n",
    "    * [정규성 검정](#정규성-검정)\n",
    "    * [로그데이터](#로그-데이터-확인)\n",
    "    \n",
    "* [데이터 검정](#Lab-data-검정)\n",
    "    * [Wilcox test](#Wilcox-test)\n",
    "    * [log의 Wilcox test](#log에-대한-wilcox-test)\n",
    "    * [교란 변수 고정 분석](#교란-변수-제거)\n",
    "    * [교란 변수 고정 분석(로그)](#로그-변수에-대한-교란변수-고정)\n",
    "\n",
    "* [Logistic regression](#로지스틱-회귀)\n",
    "    * [DM+Age+statin+ACS](#DM+Age+statin+ACS-모형에-추가)\n",
    "        * [결과](#결과1)\n",
    "    * [DM+Age+statin](#DM+Age+statin-모형에-추가)\n",
    "        * [결과](#결과2)\n",
    "    * [로그변수에 대한 회귀](#로그변수에-대한-로지스틱-회귀)\n",
    "        * [결과](#결과3)\n",
    "    * [모형적합](#모형-적합)\n",
    "        * [적합 결과](#적합-결과)\n",
    "* [요약](#요약)\n",
    "\n",
    "#### 3) 분석 3\n",
    "\n",
    "PAD 유무에 따른 lab data (Average CFU, VEGF, VEGF/CD34, CD34, SDF-1, VEGF) 의 차이를 보는 것이 분석 3 입니다.\n",
    "Column R은 PAD 유무를 표시하고 있습니다. 0 = None, 1= Exist 입니다. "
   ]
  },
  {
   "cell_type": "markdown",
   "metadata": {},
   "source": [
    "## 분석 3\n",
    "\n",
    "### PAD 집단과 비PAD 집단 사이의 lab 수치 비교\n",
    "\n",
    "\n",
    "Average CFU, VEGF, VEGF/CD34, CD34, SDF-1, VEGF : 연속형 데이터\n",
    "\n",
    "    => t-test or wilcoxon test\n"
   ]
  },
  {
   "cell_type": "code",
   "execution_count": 30,
   "metadata": {
    "scrolled": true
   },
   "outputs": [
    {
     "data": {
      "text/html": [
       "<ol class=list-inline>\n",
       "\t<li>133</li>\n",
       "\t<li>25</li>\n",
       "</ol>\n"
      ],
      "text/latex": [
       "\\begin{enumerate*}\n",
       "\\item 133\n",
       "\\item 25\n",
       "\\end{enumerate*}\n"
      ],
      "text/markdown": [
       "1. 133\n",
       "2. 25\n",
       "\n",
       "\n"
      ],
      "text/plain": [
       "[1] 133  25"
      ]
     },
     "metadata": {},
     "output_type": "display_data"
    }
   ],
   "source": [
    "#데이터 불러오기\n",
    "library(xlsx)\n",
    "library(dplyr)\n",
    "\n",
    "data <- read.xlsx(\"../EPCinCKD_201802.xlsx\", sheetIndex = 1)\n",
    "data <- data[1:150,-c(1,2)]\n",
    "colnames(data)[c(7, 13, 15, 16, 22)] <- c(\"HTN\", \"statin\", \"obesity\", \"PAD\", \"CD34.All\")\n",
    "data <- data %>% mutate( CLI = as.numeric(Group>5))\n",
    "data <- data[complete.cases(data),]\n",
    "dim(data)"
   ]
  },
  {
   "cell_type": "markdown",
   "metadata": {},
   "source": [
    "---\n",
    "# 데이터 탐색\n",
    "---\n",
    "\n",
    "PAD 유무를 기준으로 나눈 집단에서 \n",
    "\n",
    "Demographic data 및\n",
    "\n",
    "Average CFU, VEGF, VEGF/CD34, CD34, SDF-1, VEGF 수치 확인\n"
   ]
  },
  {
   "cell_type": "markdown",
   "metadata": {},
   "source": [
    "## 빠른 Demo data 탐색"
   ]
  },
  {
   "cell_type": "code",
   "execution_count": 31,
   "metadata": {
    "scrolled": true
   },
   "outputs": [
    {
     "name": "stdout",
     "output_type": "stream",
     "text": [
      "\n",
      " <Age 정규성 검정>\n"
     ]
    },
    {
     "data": {
      "text/html": [
       "<table>\n",
       "<thead><tr><th scope=col>PAD</th><th scope=col>Age정규성_p.value</th></tr></thead>\n",
       "<tbody>\n",
       "\t<tr><td>0        </td><td>0.4912269</td></tr>\n",
       "\t<tr><td>1        </td><td>0.1896973</td></tr>\n",
       "</tbody>\n",
       "</table>\n"
      ],
      "text/latex": [
       "\\begin{tabular}{r|ll}\n",
       " PAD & Age정규성\\_p.value\\\\\n",
       "\\hline\n",
       "\t 0         & 0.4912269\\\\\n",
       "\t 1         & 0.1896973\\\\\n",
       "\\end{tabular}\n"
      ],
      "text/markdown": [
       "\n",
       "PAD | Age정규성_p.value | \n",
       "|---|---|\n",
       "| 0         | 0.4912269 | \n",
       "| 1         | 0.1896973 | \n",
       "\n",
       "\n"
      ],
      "text/plain": [
       "  PAD Age정규성_p.value\n",
       "1 0   0.4912269        \n",
       "2 1   0.1896973        "
      ]
     },
     "metadata": {},
     "output_type": "display_data"
    },
    {
     "name": "stdout",
     "output_type": "stream",
     "text": [
      "  등분산성 검정 p-value :  0.3442582\n",
      " <BMI 정규성 검정>\n"
     ]
    },
    {
     "data": {
      "text/html": [
       "<table>\n",
       "<thead><tr><th scope=col>PAD</th><th scope=col>BMI정규성_p.value</th></tr></thead>\n",
       "<tbody>\n",
       "\t<tr><td>0        </td><td>0.4942372</td></tr>\n",
       "\t<tr><td>1        </td><td>0.2381642</td></tr>\n",
       "</tbody>\n",
       "</table>\n"
      ],
      "text/latex": [
       "\\begin{tabular}{r|ll}\n",
       " PAD & BMI정규성\\_p.value\\\\\n",
       "\\hline\n",
       "\t 0         & 0.4942372\\\\\n",
       "\t 1         & 0.2381642\\\\\n",
       "\\end{tabular}\n"
      ],
      "text/markdown": [
       "\n",
       "PAD | BMI정규성_p.value | \n",
       "|---|---|\n",
       "| 0         | 0.4942372 | \n",
       "| 1         | 0.2381642 | \n",
       "\n",
       "\n"
      ],
      "text/plain": [
       "  PAD BMI정규성_p.value\n",
       "1 0   0.4942372        \n",
       "2 1   0.2381642        "
      ]
     },
     "metadata": {},
     "output_type": "display_data"
    },
    {
     "name": "stdout",
     "output_type": "stream",
     "text": [
      "  등분산성 검정 p-value :  0.2900074"
     ]
    }
   ],
   "source": [
    "var.anal <- var.test(data$Age ~ data$PAD)\n",
    "result <- data %>% group_by(PAD)%>% summarise(Age정규성_p.value = shapiro.test(Age)$p.value)\n",
    "cat(\"\\n <Age 정규성 검정>\\n\")\n",
    "result\n",
    "cat(\"  등분산성 검정 p-value : \", var.anal$p.value)\n",
    "\n",
    "var.anal <- var.test(data$BMI ~ data$PAD)\n",
    "result <- data %>% group_by(PAD)%>% summarise(BMI정규성_p.value = shapiro.test(BMI)$p.value)\n",
    "cat(\"\\n <BMI 정규성 검정>\\n\")\n",
    "result\n",
    "cat(\"  등분산성 검정 p-value : \", var.anal$p.value)"
   ]
  },
  {
   "cell_type": "markdown",
   "metadata": {},
   "source": [
    "Age, BMI 모두 정규성과 등분산성 만족 \n",
    "\n",
    "    => 모두 t-test"
   ]
  },
  {
   "cell_type": "code",
   "execution_count": 32,
   "metadata": {},
   "outputs": [
    {
     "name": "stdout",
     "output_type": "stream",
     "text": [
      "\n",
      "Age에 대한 t-test 결과 : p-value = 2.929808e-05\n",
      "BMI에 대한 t-test 결과 : p-value = 0.6312475"
     ]
    }
   ],
   "source": [
    "Age.result <- t.test(Age~PAD, data = data)\n",
    "BMI.result <- t.test(BMI~PAD, data = data)\n",
    "cat(\"\\nAge에 대한 t-test 결과 : p-value =\", Age.result$p.value)\n",
    "cat(\"\\nBMI에 대한 t-test 결과 : p-value =\", BMI.result$p.value)"
   ]
  },
  {
   "cell_type": "code",
   "execution_count": 33,
   "metadata": {},
   "outputs": [
    {
     "name": "stdout",
     "output_type": "stream",
     "text": [
      "\n",
      "PAD number :  58 /  133 \n",
      "\n",
      "\n",
      "<PAD 그룹에 따른 Demographic data 비교>\n"
     ]
    },
    {
     "data": {
      "text/html": [
       "<table>\n",
       "<thead><tr><th scope=col>PAD</th><th scope=col>gender.ratio</th><th scope=col>mean.Age</th><th scope=col>DM.ratio</th><th scope=col>HTN.ratio</th><th scope=col>ACS.ratio</th><th scope=col>CHF.ratio</th><th scope=col>CVA.ratio</th><th scope=col>smoking.ratio</th><th scope=col>alcohol.ratio</th><th scope=col>statin.ratio</th><th scope=col>mean.BMI</th><th scope=col>obesity.ratio</th></tr></thead>\n",
       "<tbody>\n",
       "\t<tr><td>0    </td><td>0.48 </td><td>60.82</td><td>0.31 </td><td>0.89 </td><td>0.08 </td><td>0.03 </td><td>0.09 </td><td>0.36 </td><td>0.21 </td><td>0.56 </td><td>23.67</td><td>0.33 </td></tr>\n",
       "\t<tr><td>1    </td><td>0.69 </td><td>67.80</td><td>0.79 </td><td>0.84 </td><td>0.28 </td><td>0.05 </td><td>0.16 </td><td>0.45 </td><td>0.21 </td><td>0.29 </td><td>23.97</td><td>0.45 </td></tr>\n",
       "</tbody>\n",
       "</table>\n"
      ],
      "text/latex": [
       "\\begin{tabular}{r|lllllllllllll}\n",
       " PAD & gender.ratio & mean.Age & DM.ratio & HTN.ratio & ACS.ratio & CHF.ratio & CVA.ratio & smoking.ratio & alcohol.ratio & statin.ratio & mean.BMI & obesity.ratio\\\\\n",
       "\\hline\n",
       "\t 0     & 0.48  & 60.82 & 0.31  & 0.89  & 0.08  & 0.03  & 0.09  & 0.36  & 0.21  & 0.56  & 23.67 & 0.33 \\\\\n",
       "\t 1     & 0.69  & 67.80 & 0.79  & 0.84  & 0.28  & 0.05  & 0.16  & 0.45  & 0.21  & 0.29  & 23.97 & 0.45 \\\\\n",
       "\\end{tabular}\n"
      ],
      "text/markdown": [
       "\n",
       "PAD | gender.ratio | mean.Age | DM.ratio | HTN.ratio | ACS.ratio | CHF.ratio | CVA.ratio | smoking.ratio | alcohol.ratio | statin.ratio | mean.BMI | obesity.ratio | \n",
       "|---|---|\n",
       "| 0     | 0.48  | 60.82 | 0.31  | 0.89  | 0.08  | 0.03  | 0.09  | 0.36  | 0.21  | 0.56  | 23.67 | 0.33  | \n",
       "| 1     | 0.69  | 67.80 | 0.79  | 0.84  | 0.28  | 0.05  | 0.16  | 0.45  | 0.21  | 0.29  | 23.97 | 0.45  | \n",
       "\n",
       "\n"
      ],
      "text/plain": [
       "  PAD gender.ratio mean.Age DM.ratio HTN.ratio ACS.ratio CHF.ratio CVA.ratio\n",
       "1 0   0.48         60.82    0.31     0.89      0.08      0.03      0.09     \n",
       "2 1   0.69         67.80    0.79     0.84      0.28      0.05      0.16     \n",
       "  smoking.ratio alcohol.ratio statin.ratio mean.BMI obesity.ratio\n",
       "1 0.36          0.21          0.56         23.67    0.33         \n",
       "2 0.45          0.21          0.29         23.97    0.45         "
      ]
     },
     "metadata": {},
     "output_type": "display_data"
    }
   ],
   "source": [
    "# PAD 데이터 수 \n",
    "cat( \"\\nPAD number : \", sum(data$PAD), \"/ \", length(data$PAD),\"\\n\")\n",
    "\n",
    "# Demographic data\n",
    "cat(\"\\n\\n<PAD 그룹에 따른 Demographic data 비교>\\n\")\n",
    "demo.data <- data %>% \n",
    "    group_by( PAD ) %>%\n",
    "    summarise( gender.ratio = mean(Gender, na.rm = T),\n",
    "            mean.Age = mean(Age, na.rm = T),\n",
    "            DM.ratio = mean(DM, na.rm = T),\n",
    "            HTN.ratio = mean(HTN, na.rm = T),\n",
    "            ACS.ratio = mean(ACS, na.rm = T),\n",
    "            CHF.ratio = mean(CHF, na.rm = T),\n",
    "            CVA.ratio = mean(CVA, na.rm = T),\n",
    "            smoking.ratio = mean(smoking, na.rm = T),\n",
    "            alcohol.ratio = mean(alcohol, na.rm = T),\n",
    "            statin.ratio = mean(statin, na.rm = T),\n",
    "            mean.BMI = mean(BMI, na.rm = T),\n",
    "            obesity.ratio = mean(obesity, na.rm = T)\n",
    "             ) %>%\n",
    "    mutate_if(is.numeric, funs(round(., 2)))\n",
    "\n",
    "demo.data"
   ]
  },
  {
   "cell_type": "markdown",
   "metadata": {},
   "source": [
    "#### Demographic data, 범주형 변수 분석"
   ]
  },
  {
   "cell_type": "code",
   "execution_count": 59,
   "metadata": {},
   "outputs": [
    {
     "name": "stdout",
     "output_type": "stream",
     "text": [
      "\n",
      " Gender result : p-value = 0.0247 \n",
      "\n",
      " DM result : p-value = 0 \n",
      "\n",
      " HTN result : p-value = 0.5694 \n",
      "\n",
      " ACS result : p-value = 0.0054 \n"
     ]
    },
    {
     "name": "stderr",
     "output_type": "stream",
     "text": [
      "Warning message in chisq.test(data[key][, 1], data[\"PAD\"][, 1]):\n",
      "“Chi-squared approximation may be incorrect”"
     ]
    },
    {
     "name": "stdout",
     "output_type": "stream",
     "text": [
      "\n",
      " CHF result : p-value = 0.7689 \n",
      "\n",
      " CVA result : p-value = 0.4131 \n",
      "\n",
      " smoking result : p-value = 0.3939 \n",
      "\n",
      " alcohol result : p-value = 1 \n",
      "\n",
      " statin result : p-value = 0.0038 \n",
      "\n",
      " obesity result : p-value = 0.2411 \n",
      "\n",
      "Fisher's Exact Test\n",
      " \n",
      "  CHF : p-value = 0.6527128"
     ]
    }
   ],
   "source": [
    "# Chisq test for tabular data\n",
    "\n",
    "for(key in c(\"Gender\", \"DM\", \"HTN\", \"ACS\", \"CHF\", \"CVA\", \"smoking\", \"alcohol\", \"statin\", \"obesity\")){\n",
    "    test <- chisq.test(data[key][,1], data[\"PAD\"][,1])\n",
    "    cat(\"\\n\", key, \"result : p-value =\", round(test$p.value, 4), '\\n')\n",
    "}\n",
    "\n",
    "CHF.result <- fisher.test(data$CHF, data$PAD)\n",
    "\n",
    "cat(\"\\nFisher's Exact Test\\n\",\n",
    "    \"\\n  CHF : p-value =\", CHF.result$p.value\n",
    "   )"
   ]
  },
  {
   "cell_type": "markdown",
   "metadata": {},
   "source": [
    "### 유의미한 차이\n",
    "- Age\n",
    "- Gender (경계수준)\n",
    "- DM\n",
    "- ACS\n",
    "- statin"
   ]
  },
  {
   "cell_type": "markdown",
   "metadata": {},
   "source": [
    "### 로지스틱 회귀"
   ]
  },
  {
   "cell_type": "code",
   "execution_count": 60,
   "metadata": {
    "scrolled": false
   },
   "outputs": [
    {
     "data": {
      "text/plain": [
       "\n",
       "Call:\n",
       "glm(formula = PAD ~ Age + Gender + DM + statin + ACS, family = binomial(), \n",
       "    data = data)\n",
       "\n",
       "Deviance Residuals: \n",
       "    Min       1Q   Median       3Q      Max  \n",
       "-2.0811  -0.7809  -0.2551   0.7327   2.4279  \n",
       "\n",
       "Coefficients:\n",
       "            Estimate Std. Error z value Pr(>|z|)    \n",
       "(Intercept) -6.73842    1.70873  -3.944 8.03e-05 ***\n",
       "Age          0.08405    0.02492   3.374 0.000742 ***\n",
       "Gender       0.35319    0.46236   0.764 0.444930    \n",
       "DM           2.06065    0.46762   4.407 1.05e-05 ***\n",
       "statin      -1.25135    0.47179  -2.652 0.007993 ** \n",
       "ACS          1.14873    0.60675   1.893 0.058324 .  \n",
       "---\n",
       "Signif. codes:  0 ‘***’ 0.001 ‘**’ 0.01 ‘*’ 0.05 ‘.’ 0.1 ‘ ’ 1\n",
       "\n",
       "(Dispersion parameter for binomial family taken to be 1)\n",
       "\n",
       "    Null deviance: 182.20  on 132  degrees of freedom\n",
       "Residual deviance: 123.71  on 127  degrees of freedom\n",
       "AIC: 135.71\n",
       "\n",
       "Number of Fisher Scoring iterations: 5\n"
      ]
     },
     "metadata": {},
     "output_type": "display_data"
    }
   ],
   "source": [
    "model <- glm(PAD ~ Age + Gender + DM + statin + ACS , family = binomial(),data = data)\n",
    "summary(model)"
   ]
  },
  {
   "cell_type": "code",
   "execution_count": 61,
   "metadata": {},
   "outputs": [
    {
     "data": {
      "text/plain": [
       "\n",
       "Call:\n",
       "glm(formula = PAD ~ Age + DM + statin + ACS, family = binomial(), \n",
       "    data = data)\n",
       "\n",
       "Deviance Residuals: \n",
       "    Min       1Q   Median       3Q      Max  \n",
       "-2.0367  -0.8008  -0.2719   0.7019   2.4243  \n",
       "\n",
       "Coefficients:\n",
       "            Estimate Std. Error z value Pr(>|z|)    \n",
       "(Intercept) -6.60666    1.68286  -3.926 8.64e-05 ***\n",
       "Age          0.08559    0.02477   3.456 0.000549 ***\n",
       "DM           2.06219    0.46501   4.435 9.22e-06 ***\n",
       "statin      -1.30263    0.46699  -2.789 0.005280 ** \n",
       "ACS          1.17952    0.60506   1.949 0.051242 .  \n",
       "---\n",
       "Signif. codes:  0 ‘***’ 0.001 ‘**’ 0.01 ‘*’ 0.05 ‘.’ 0.1 ‘ ’ 1\n",
       "\n",
       "(Dispersion parameter for binomial family taken to be 1)\n",
       "\n",
       "    Null deviance: 182.20  on 132  degrees of freedom\n",
       "Residual deviance: 124.29  on 128  degrees of freedom\n",
       "AIC: 134.29\n",
       "\n",
       "Number of Fisher Scoring iterations: 5\n"
      ]
     },
     "metadata": {},
     "output_type": "display_data"
    }
   ],
   "source": [
    "model <- glm(PAD ~ Age + DM + statin + ACS , family = binomial(),data = data)\n",
    "summary(model)"
   ]
  },
  {
   "cell_type": "code",
   "execution_count": 36,
   "metadata": {},
   "outputs": [
    {
     "data": {
      "text/plain": [
       "Subset selection object\n",
       "Call: regsubsets.formula(PAD ~ ., data = df, nvmax = 20)\n",
       "11 Variables  (and intercept)\n",
       "        Forced in Forced out\n",
       "Gender      FALSE      FALSE\n",
       "Age         FALSE      FALSE\n",
       "DM          FALSE      FALSE\n",
       "HTN         FALSE      FALSE\n",
       "ACS         FALSE      FALSE\n",
       "CHF         FALSE      FALSE\n",
       "CVA         FALSE      FALSE\n",
       "smoking     FALSE      FALSE\n",
       "alcohol     FALSE      FALSE\n",
       "statin      FALSE      FALSE\n",
       "obesity     FALSE      FALSE\n",
       "1 subsets of each size up to 11\n",
       "Selection Algorithm: exhaustive\n",
       "          Gender Age DM  HTN ACS CHF CVA smoking alcohol statin obesity\n",
       "1  ( 1 )  \" \"    \" \" \"*\" \" \" \" \" \" \" \" \" \" \"     \" \"     \" \"    \" \"    \n",
       "2  ( 1 )  \" \"    \"*\" \"*\" \" \" \" \" \" \" \" \" \" \"     \" \"     \" \"    \" \"    \n",
       "3  ( 1 )  \" \"    \"*\" \"*\" \" \" \" \" \" \" \" \" \" \"     \" \"     \"*\"    \" \"    \n",
       "4  ( 1 )  \" \"    \"*\" \"*\" \" \" \"*\" \" \" \" \" \" \"     \" \"     \"*\"    \" \"    \n",
       "5  ( 1 )  \" \"    \"*\" \"*\" \" \" \"*\" \" \" \" \" \" \"     \" \"     \"*\"    \"*\"    \n",
       "6  ( 1 )  \" \"    \"*\" \"*\" \"*\" \"*\" \" \" \" \" \" \"     \" \"     \"*\"    \"*\"    \n",
       "7  ( 1 )  \"*\"    \"*\" \"*\" \"*\" \"*\" \" \" \" \" \" \"     \" \"     \"*\"    \"*\"    \n",
       "8  ( 1 )  \"*\"    \"*\" \"*\" \"*\" \"*\" \"*\" \" \" \" \"     \" \"     \"*\"    \"*\"    \n",
       "9  ( 1 )  \"*\"    \"*\" \"*\" \"*\" \"*\" \"*\" \"*\" \" \"     \" \"     \"*\"    \"*\"    \n",
       "10  ( 1 ) \"*\"    \"*\" \"*\" \"*\" \"*\" \"*\" \"*\" \" \"     \"*\"     \"*\"    \"*\"    \n",
       "11  ( 1 ) \"*\"    \"*\" \"*\" \"*\" \"*\" \"*\" \"*\" \"*\"     \"*\"     \"*\"    \"*\"    "
      ]
     },
     "metadata": {},
     "output_type": "display_data"
    }
   ],
   "source": [
    "library(leaps)\n",
    "df <- data[,c(1,2,6:13,15:16)]\n",
    "b <- regsubsets(PAD ~. , data=df, nvmax = 20)\n",
    "summary(b)"
   ]
  },
  {
   "cell_type": "markdown",
   "metadata": {},
   "source": [
    "#### 회귀모형 \n",
    "\n",
    "회귀모형도 PAD ~ DM + Age + statin + ACS(경계수준) 정도로 추측됨"
   ]
  },
  {
   "cell_type": "markdown",
   "metadata": {},
   "source": [
    "## Lab 평균 및 분포 확인"
   ]
  },
  {
   "cell_type": "markdown",
   "metadata": {},
   "source": [
    "### 평균 확인"
   ]
  },
  {
   "cell_type": "code",
   "execution_count": 37,
   "metadata": {
    "scrolled": false
   },
   "outputs": [
    {
     "name": "stdout",
     "output_type": "stream",
     "text": [
      "\n",
      "<PAD 그룹에 따른 Lab data 비교>\n",
      "\n",
      "<평균>\n"
     ]
    },
    {
     "data": {
      "text/html": [
       "<table>\n",
       "<thead><tr><th scope=col>PAD</th><th scope=col>mean.Average.CFU</th><th scope=col>mean.VEGF</th><th scope=col>mean.CD34.VEGF</th><th scope=col>mean.CD34</th><th scope=col>mean.VEGF.All</th><th scope=col>mean.CD34.All</th><th scope=col>mean.VEGF.1</th><th scope=col>mean.SDF.1</th></tr></thead>\n",
       "<tbody>\n",
       "\t<tr><td>0      </td><td>5.03   </td><td>6.07   </td><td>0.32   </td><td>0.18   </td><td>6.39   </td><td>0.50   </td><td> 60.27 </td><td>2541.60</td></tr>\n",
       "\t<tr><td>1      </td><td>5.07   </td><td>4.42   </td><td>0.32   </td><td>0.38   </td><td>4.73   </td><td>0.69   </td><td>129.14 </td><td>3058.05</td></tr>\n",
       "</tbody>\n",
       "</table>\n"
      ],
      "text/latex": [
       "\\begin{tabular}{r|lllllllll}\n",
       " PAD & mean.Average.CFU & mean.VEGF & mean.CD34.VEGF & mean.CD34 & mean.VEGF.All & mean.CD34.All & mean.VEGF.1 & mean.SDF.1\\\\\n",
       "\\hline\n",
       "\t 0       & 5.03    & 6.07    & 0.32    & 0.18    & 6.39    & 0.50    &  60.27  & 2541.60\\\\\n",
       "\t 1       & 5.07    & 4.42    & 0.32    & 0.38    & 4.73    & 0.69    & 129.14  & 3058.05\\\\\n",
       "\\end{tabular}\n"
      ],
      "text/markdown": [
       "\n",
       "PAD | mean.Average.CFU | mean.VEGF | mean.CD34.VEGF | mean.CD34 | mean.VEGF.All | mean.CD34.All | mean.VEGF.1 | mean.SDF.1 | \n",
       "|---|---|\n",
       "| 0       | 5.03    | 6.07    | 0.32    | 0.18    | 6.39    | 0.50    |  60.27  | 2541.60 | \n",
       "| 1       | 5.07    | 4.42    | 0.32    | 0.38    | 4.73    | 0.69    | 129.14  | 3058.05 | \n",
       "\n",
       "\n"
      ],
      "text/plain": [
       "  PAD mean.Average.CFU mean.VEGF mean.CD34.VEGF mean.CD34 mean.VEGF.All\n",
       "1 0   5.03             6.07      0.32           0.18      6.39         \n",
       "2 1   5.07             4.42      0.32           0.38      4.73         \n",
       "  mean.CD34.All mean.VEGF.1 mean.SDF.1\n",
       "1 0.50           60.27      2541.60   \n",
       "2 0.69          129.14      3058.05   "
      ]
     },
     "metadata": {},
     "output_type": "display_data"
    },
    {
     "name": "stdout",
     "output_type": "stream",
     "text": [
      "\n",
      "<표준편차>\n"
     ]
    },
    {
     "data": {
      "text/html": [
       "<table>\n",
       "<thead><tr><th scope=col>PAD</th><th scope=col>std.Average.CFU</th><th scope=col>std.VEGF</th><th scope=col>std.CD34.VEGF</th><th scope=col>std.CD34</th><th scope=col>std.VEGF.All</th><th scope=col>std.CD34.All</th><th scope=col>std.VEGF.1</th><th scope=col>std.SDF.1</th></tr></thead>\n",
       "<tbody>\n",
       "\t<tr><td>0      </td><td>0.8    </td><td>4.12   </td><td>0.28   </td><td>0.52   </td><td>4.21   </td><td>0.60   </td><td> 45.21 </td><td> 570.93</td></tr>\n",
       "\t<tr><td>1      </td><td>0.9    </td><td>5.35   </td><td>0.37   </td><td>1.45   </td><td>5.39   </td><td>1.77   </td><td>123.26 </td><td>1089.18</td></tr>\n",
       "</tbody>\n",
       "</table>\n"
      ],
      "text/latex": [
       "\\begin{tabular}{r|lllllllll}\n",
       " PAD & std.Average.CFU & std.VEGF & std.CD34.VEGF & std.CD34 & std.VEGF.All & std.CD34.All & std.VEGF.1 & std.SDF.1\\\\\n",
       "\\hline\n",
       "\t 0       & 0.8     & 4.12    & 0.28    & 0.52    & 4.21    & 0.60    &  45.21  &  570.93\\\\\n",
       "\t 1       & 0.9     & 5.35    & 0.37    & 1.45    & 5.39    & 1.77    & 123.26  & 1089.18\\\\\n",
       "\\end{tabular}\n"
      ],
      "text/markdown": [
       "\n",
       "PAD | std.Average.CFU | std.VEGF | std.CD34.VEGF | std.CD34 | std.VEGF.All | std.CD34.All | std.VEGF.1 | std.SDF.1 | \n",
       "|---|---|\n",
       "| 0       | 0.8     | 4.12    | 0.28    | 0.52    | 4.21    | 0.60    |  45.21  |  570.93 | \n",
       "| 1       | 0.9     | 5.35    | 0.37    | 1.45    | 5.39    | 1.77    | 123.26  | 1089.18 | \n",
       "\n",
       "\n"
      ],
      "text/plain": [
       "  PAD std.Average.CFU std.VEGF std.CD34.VEGF std.CD34 std.VEGF.All std.CD34.All\n",
       "1 0   0.8             4.12     0.28          0.52     4.21         0.60        \n",
       "2 1   0.9             5.35     0.37          1.45     5.39         1.77        \n",
       "  std.VEGF.1 std.SDF.1\n",
       "1  45.21      570.93  \n",
       "2 123.26     1089.18  "
      ]
     },
     "metadata": {},
     "output_type": "display_data"
    }
   ],
   "source": [
    "# PAD 그룹별 비교\n",
    "\n",
    "cat(\"\\n<PAD 그룹에 따른 Lab data 비교>\\n\")\n",
    "cat(\"\\n<평균>\\n\")\n",
    "data %>% \n",
    "    group_by( PAD ) %>%\n",
    "    summarise( mean.Average.CFU = mean(Average.CFU, na.rm = T),\n",
    "            mean.VEGF = mean(VEGF, na.rm = T),\n",
    "            mean.CD34.VEGF = mean(CD34.VEGF, na.rm=T),\n",
    "            mean.CD34 = mean(CD34, na.rm = T),\n",
    "            mean.VEGF.All = mean(VEGF.All, na.rm = T),\n",
    "            mean.CD34.All = mean(CD34.All, na.rm = T),\n",
    "            mean.VEGF.1 = mean(VEGF.1, na.rm = T),\n",
    "            mean.SDF.1 = mean(SDF.1, na.rm = T)\n",
    "             ) %>%\n",
    "    mutate_if(is.numeric, funs(round(., 2)))\n",
    "\n",
    "\n",
    "cat(\"\\n<표준편차>\\n\")\n",
    "data %>% \n",
    "    group_by( PAD ) %>%\n",
    "    summarise( std.Average.CFU = sqrt(var(Average.CFU, na.rm = T)),\n",
    "            std.VEGF = sqrt(var(VEGF, na.rm = T)),\n",
    "            std.CD34.VEGF = sqrt(var(CD34.VEGF, na.rm=T)),\n",
    "            std.CD34 = sqrt(var(CD34, na.rm = T)),\n",
    "            std.VEGF.All = sqrt(var(VEGF.All, na.rm = T)),\n",
    "            std.CD34.All = sqrt(var(CD34.All, na.rm = T)),\n",
    "            std.VEGF.1 = sqrt(var(VEGF.1, na.rm = T)),\n",
    "            std.SDF.1 = sqrt(var(SDF.1, na.rm = T))\n",
    "             ) %>%\n",
    "    mutate_if(is.numeric, funs(round(., 2)))"
   ]
  },
  {
   "cell_type": "markdown",
   "metadata": {},
   "source": [
    "std 대비 평균이 차이나보이는 것은 VEGF.1 과 SDF.1 정도"
   ]
  },
  {
   "cell_type": "markdown",
   "metadata": {},
   "source": [
    "### 분포 확인"
   ]
  },
  {
   "cell_type": "code",
   "execution_count": 38,
   "metadata": {},
   "outputs": [
    {
     "name": "stdout",
     "output_type": "stream",
     "text": [
      "\n",
      "\n",
      "<PAD 그룹에 따른 Lab data 시각화>\n"
     ]
    },
    {
     "data": {
      "image/png": "[encoded data removed]",
      "text/plain": [
       "plot without title"
      ]
     },
     "metadata": {},
     "output_type": "display_data"
    }
   ],
   "source": [
    "# 각각의 분포를 그려보기\n",
    "library(ggplot2)\n",
    "library(gridExtra)\n",
    "plots <- list()\n",
    "\n",
    "for(key in c('Average.CFU', 'VEGF', 'CD34.VEGF', 'CD34', 'VEGF.All', 'CD34.All', 'VEGF.1', 'SDF.1')){\n",
    "\n",
    "    p<- data %>% \n",
    "        mutate(PAD.f = as.factor(PAD)) %>%\n",
    "        ggplot(aes_string(x=key, fill = \"PAD.f\")) +\n",
    "        geom_histogram(alpha=0.5, position=\"identity\",bins = 30, na.rm = T) +  \n",
    "        ggtitle(paste(key, \" in noPAD/PAD\")) +\n",
    "        labs(x=key, y=\"Freq\") +\n",
    "        theme(plot.title = element_text(hjust = 0.5))\n",
    "    \n",
    "    plots[[key]] <- p\n",
    "}\n",
    "\n",
    "options(repr.plot.width=8, repr.plot.height=7)\n",
    "cat(\"\\n\\n<PAD 그룹에 따른 Lab data 시각화>\\n\")\n",
    "grid.arrange(grobs=plots, ncol=3)"
   ]
  },
  {
   "cell_type": "markdown",
   "metadata": {},
   "source": [
    "## 정규성 검정"
   ]
  },
  {
   "cell_type": "markdown",
   "metadata": {},
   "source": [
    "### QQPlot"
   ]
  },
  {
   "cell_type": "code",
   "execution_count": 39,
   "metadata": {},
   "outputs": [
    {
     "name": "stdout",
     "output_type": "stream",
     "text": [
      "\n",
      "\n",
      "<PAD 그룹에 따른 Lab data 정규성 시각화>\n"
     ]
    },
    {
     "data": {
      "image/png": "[encoded data removed]",
      "text/plain": [
       "plot without title"
      ]
     },
     "metadata": {},
     "output_type": "display_data"
    }
   ],
   "source": [
    "# 정규성 그래프\n",
    "\n",
    "par(mfrow = c(3, 3))\n",
    "\n",
    "for(key in c('Average.CFU', 'VEGF', 'CD34.VEGF', 'CD34', 'VEGF.All', 'CD34.All', 'VEGF.1', 'SDF.1')){\n",
    "    p <- data %>% ggplot(aes_string(sample = key)) + \n",
    "        stat_qq(aes(color=factor(PAD))) + \n",
    "        ggtitle(paste(key, \"qqplot\")) + \n",
    "        theme(\n",
    "          axis.title.x=element_blank(), \n",
    "          axis.title.y=element_blank())\n",
    "\n",
    "    plots[[key]] <- p\n",
    "}\n",
    "options(repr.plot.width=8, repr.plot.height=6.5)\n",
    "cat(\"\\n\\n<PAD 그룹에 따른 Lab data 정규성 시각화>\\n\")\n",
    "grid.arrange(grobs=plots, ncol=3)"
   ]
  },
  {
   "cell_type": "markdown",
   "metadata": {},
   "source": [
    "### 검정 값"
   ]
  },
  {
   "cell_type": "code",
   "execution_count": 40,
   "metadata": {
    "scrolled": true
   },
   "outputs": [
    {
     "name": "stdout",
     "output_type": "stream",
     "text": [
      "\n",
      "<PAD 그룹에 따른 Lab data, 정규성 검정 결과>\n"
     ]
    },
    {
     "data": {
      "text/html": [
       "<table>\n",
       "<thead><tr><th scope=col>PAD</th><th scope=col>Average.CFU</th><th scope=col>VEGF</th><th scope=col>CD34.VEGF</th><th scope=col>CD34</th><th scope=col>VEGF.All</th><th scope=col>CD34.All</th><th scope=col>VEGF.1</th><th scope=col>SDF.1</th></tr></thead>\n",
       "<tbody>\n",
       "\t<tr><td>0     </td><td>0.1915</td><td>5e-04 </td><td>0     </td><td>0     </td><td>5e-04 </td><td>0     </td><td>0     </td><td>0.0048</td></tr>\n",
       "\t<tr><td>1     </td><td>0.9621</td><td>0e+00 </td><td>0     </td><td>0     </td><td>0e+00 </td><td>0     </td><td>0     </td><td>0.0191</td></tr>\n",
       "</tbody>\n",
       "</table>\n"
      ],
      "text/latex": [
       "\\begin{tabular}{r|lllllllll}\n",
       " PAD & Average.CFU & VEGF & CD34.VEGF & CD34 & VEGF.All & CD34.All & VEGF.1 & SDF.1\\\\\n",
       "\\hline\n",
       "\t 0      & 0.1915 & 5e-04  & 0      & 0      & 5e-04  & 0      & 0      & 0.0048\\\\\n",
       "\t 1      & 0.9621 & 0e+00  & 0      & 0      & 0e+00  & 0      & 0      & 0.0191\\\\\n",
       "\\end{tabular}\n"
      ],
      "text/markdown": [
       "\n",
       "PAD | Average.CFU | VEGF | CD34.VEGF | CD34 | VEGF.All | CD34.All | VEGF.1 | SDF.1 | \n",
       "|---|---|\n",
       "| 0      | 0.1915 | 5e-04  | 0      | 0      | 5e-04  | 0      | 0      | 0.0048 | \n",
       "| 1      | 0.9621 | 0e+00  | 0      | 0      | 0e+00  | 0      | 0      | 0.0191 | \n",
       "\n",
       "\n"
      ],
      "text/plain": [
       "  PAD Average.CFU VEGF  CD34.VEGF CD34 VEGF.All CD34.All VEGF.1 SDF.1 \n",
       "1 0   0.1915      5e-04 0         0    5e-04    0        0      0.0048\n",
       "2 1   0.9621      0e+00 0         0    0e+00    0        0      0.0191"
      ]
     },
     "metadata": {},
     "output_type": "display_data"
    }
   ],
   "source": [
    "cat(\"\\n<PAD 그룹에 따른 Lab data, 정규성 검정 결과>\\n\")\n",
    "data %>% \n",
    "    group_by( PAD ) %>% \n",
    "    summarise( Average.CFU = shapiro.test(Average.CFU)$p.value,\n",
    "            VEGF = shapiro.test(VEGF)$p.value,\n",
    "            CD34.VEGF = shapiro.test(CD34.VEGF)$p.value,\n",
    "            CD34 = shapiro.test(CD34)$p.value,\n",
    "            VEGF.All = shapiro.test(VEGF.All)$p.value,\n",
    "            CD34.All = shapiro.test(CD34.All)$p.value,\n",
    "            VEGF.1 = shapiro.test(VEGF.1)$p.value,\n",
    "            SDF.1 = shapiro.test(SDF.1)$p.value\n",
    "             ) %>%\n",
    "    mutate_if(is.numeric, funs(round(., 4)))"
   ]
  },
  {
   "cell_type": "markdown",
   "metadata": {},
   "source": [
    "CFU 는 정규성 만족 "
   ]
  },
  {
   "cell_type": "code",
   "execution_count": 41,
   "metadata": {},
   "outputs": [
    {
     "name": "stdout",
     "output_type": "stream",
     "text": [
      "\n",
      "Average CFU 등분산성 검정\n",
      "  p-value: 0.323"
     ]
    }
   ],
   "source": [
    "cat(\"\\nAverage CFU 등분산성 검정\\n\")\n",
    "pv <- var.test(data$Average.CFU ~ data$PAD)$p.value\n",
    "cat(\"  p-value:\", round(pv,3))"
   ]
  },
  {
   "cell_type": "markdown",
   "metadata": {},
   "source": [
    "## 로그 데이터 확인"
   ]
  },
  {
   "cell_type": "code",
   "execution_count": 42,
   "metadata": {
    "scrolled": true
   },
   "outputs": [
    {
     "name": "stdout",
     "output_type": "stream",
     "text": [
      "\n",
      "<PAD 그룹에 따른 로그변환 Lab data, 정규성 검정 결과>\n"
     ]
    },
    {
     "name": "stderr",
     "output_type": "stream",
     "text": [
      "Warning message in log(CD34):\n",
      "“NaN이 생성되었습니다”Warning message in log(CD34):\n",
      "“NaN이 생성되었습니다”Warning message in log(CD34.All):\n",
      "“NaN이 생성되었습니다”Warning message in log(CD34.All):\n",
      "“NaN이 생성되었습니다”Warning message in log(VEGF.1):\n",
      "“NaN이 생성되었습니다”"
     ]
    },
    {
     "data": {
      "text/html": [
       "<table>\n",
       "<thead><tr><th scope=col>PAD</th><th scope=col>log.Average.CFU</th><th scope=col>log.VEGF</th><th scope=col>log.CD34.VEGF</th><th scope=col>log.CD34</th><th scope=col>log.VEGF.All</th><th scope=col>log.CD34.All</th><th scope=col>log.VEGF.1</th><th scope=col>log.SDF.1</th></tr></thead>\n",
       "<tbody>\n",
       "\t<tr><td>0     </td><td>0.8018</td><td>1e-04 </td><td>0.0011</td><td>0.8576</td><td>0.0002</td><td>0.0000</td><td>0.0025</td><td>0.0010</td></tr>\n",
       "\t<tr><td>1     </td><td>0.5176</td><td>1e-04 </td><td>0.9498</td><td>0.0049</td><td>0.0526</td><td>0.0019</td><td>0.0751</td><td>0.0049</td></tr>\n",
       "</tbody>\n",
       "</table>\n"
      ],
      "text/latex": [
       "\\begin{tabular}{r|lllllllll}\n",
       " PAD & log.Average.CFU & log.VEGF & log.CD34.VEGF & log.CD34 & log.VEGF.All & log.CD34.All & log.VEGF.1 & log.SDF.1\\\\\n",
       "\\hline\n",
       "\t 0      & 0.8018 & 1e-04  & 0.0011 & 0.8576 & 0.0002 & 0.0000 & 0.0025 & 0.0010\\\\\n",
       "\t 1      & 0.5176 & 1e-04  & 0.9498 & 0.0049 & 0.0526 & 0.0019 & 0.0751 & 0.0049\\\\\n",
       "\\end{tabular}\n"
      ],
      "text/markdown": [
       "\n",
       "PAD | log.Average.CFU | log.VEGF | log.CD34.VEGF | log.CD34 | log.VEGF.All | log.CD34.All | log.VEGF.1 | log.SDF.1 | \n",
       "|---|---|\n",
       "| 0      | 0.8018 | 1e-04  | 0.0011 | 0.8576 | 0.0002 | 0.0000 | 0.0025 | 0.0010 | \n",
       "| 1      | 0.5176 | 1e-04  | 0.9498 | 0.0049 | 0.0526 | 0.0019 | 0.0751 | 0.0049 | \n",
       "\n",
       "\n"
      ],
      "text/plain": [
       "  PAD log.Average.CFU log.VEGF log.CD34.VEGF log.CD34 log.VEGF.All log.CD34.All\n",
       "1 0   0.8018          1e-04    0.0011        0.8576   0.0002       0.0000      \n",
       "2 1   0.5176          1e-04    0.9498        0.0049   0.0526       0.0019      \n",
       "  log.VEGF.1 log.SDF.1\n",
       "1 0.0025     0.0010   \n",
       "2 0.0751     0.0049   "
      ]
     },
     "metadata": {},
     "output_type": "display_data"
    }
   ],
   "source": [
    "cat(\"\\n<PAD 그룹에 따른 로그변환 Lab data, 정규성 검정 결과>\\n\")\n",
    "data %>% \n",
    "    group_by( PAD ) %>%\n",
    "    summarise( log.Average.CFU = shapiro.test(log(Average.CFU))$p.value,\n",
    "            log.VEGF = shapiro.test(log(VEGF))$p.value,\n",
    "            log.CD34.VEGF = shapiro.test(log(CD34.VEGF))$p.value,\n",
    "            log.CD34 = shapiro.test(log(CD34))$p.value,\n",
    "            log.VEGF.All = shapiro.test(log(VEGF.All))$p.value,\n",
    "            log.CD34.All = shapiro.test(log(CD34.All))$p.value,\n",
    "            log.VEGF.1 = shapiro.test(log(VEGF.1))$p.value,\n",
    "            log.SDF.1 = shapiro.test(log(SDF.1))$p.value\n",
    "             ) %>%\n",
    "    mutate_if(is.numeric, funs(round(., 4)))"
   ]
  },
  {
   "cell_type": "markdown",
   "metadata": {},
   "source": [
    "log 변환해도 정규성을 따르는 CFU 뿐"
   ]
  },
  {
   "cell_type": "markdown",
   "metadata": {},
   "source": [
    "위 결과를 기반으로 하면 대부분의 변수에 wilcoxon rank sum 검정을 실시해야하고, \n",
    "CFU 정도 t-test 를 시도해볼만한 가치가 있겠다. "
   ]
  },
  {
   "cell_type": "markdown",
   "metadata": {},
   "source": [
    "---\n",
    "# Lab data 검정\n",
    "---"
   ]
  },
  {
   "cell_type": "markdown",
   "metadata": {},
   "source": [
    "위 결과를 토대로 \n",
    "각 지표들이 차이가 있는지 확인해보자. \n",
    "\n",
    "Average.CFU 는 t-test, 이외의 것들은 wilcoxon test"
   ]
  },
  {
   "cell_type": "markdown",
   "metadata": {},
   "source": [
    "## Wilcox test"
   ]
  },
  {
   "cell_type": "code",
   "execution_count": 43,
   "metadata": {
    "scrolled": true
   },
   "outputs": [
    {
     "name": "stdout",
     "output_type": "stream",
     "text": [
      "\n",
      " Average.CFU t-test : p-value = 0.756\n",
      " Average.CFU result : p-value = 0.5691 \n",
      "\n",
      " VEGF result : p-value = 0.002 \n",
      "\n",
      " CD34.VEGF result : p-value = 0.4245 \n",
      "\n",
      " CD34 result : p-value = 0.7183 \n",
      "\n",
      " VEGF.All result : p-value = 0.0031 \n",
      "\n",
      " CD34.All result : p-value = 0.4285 \n",
      "\n",
      " VEGF.1 result : p-value = 0.0011 \n",
      "\n",
      " SDF.1 result : p-value = 0.0012 \n"
     ]
    }
   ],
   "source": [
    "# Wilcoxon rank sum test for lab data\n",
    "\n",
    "pv <- t.test(Average.CFU ~ PAD, data=data)$p.value\n",
    "cat(\"\\n Average.CFU t-test : p-value =\", round(pv,3))\n",
    "\n",
    "for(key in c('Average.CFU', 'VEGF', 'CD34.VEGF', 'CD34', 'VEGF.All', 'CD34.All', 'VEGF.1', 'SDF.1')){\n",
    "    \n",
    "    test <- wilcox.test(as.formula(paste(key,\"~ PAD\")), data = data)\n",
    "    cat(\"\\n\", key, \"result :\", \"p-value =\", round(test$p.value,4), '\\n')\n",
    "}\n"
   ]
  },
  {
   "cell_type": "markdown",
   "metadata": {},
   "source": [
    "유의미한 결과 :\n",
    "\n",
    "- VEGF\n",
    "- VEGF.All\n",
    "- VEGF.1\n",
    "- SDF.1"
   ]
  },
  {
   "cell_type": "markdown",
   "metadata": {},
   "source": [
    "## log에 대한 wilcox test"
   ]
  },
  {
   "cell_type": "code",
   "execution_count": 44,
   "metadata": {
    "scrolled": false
   },
   "outputs": [
    {
     "name": "stdout",
     "output_type": "stream",
     "text": [
      "\n",
      " Average.CFU t-test : p-value = 0.858\n",
      " Average.CFU result : p-value = 0.5691 \n",
      "\n",
      " VEGF result : p-value = 0.002 \n",
      "\n",
      " CD34.VEGF result : p-value = 0.4245 \n"
     ]
    },
    {
     "name": "stderr",
     "output_type": "stream",
     "text": [
      "Warning message in log(CD34):\n",
      "“NaN이 생성되었습니다”Warning message in wilcox.test.default(x = c(0.741937344729377, -0.83355933427669, :\n",
      "“cannot compute exact p-value with ties”"
     ]
    },
    {
     "name": "stdout",
     "output_type": "stream",
     "text": [
      "\n",
      " CD34 result : p-value = 0.1911 \n",
      "\n",
      " VEGF.All result : p-value = 0.0031 \n"
     ]
    },
    {
     "name": "stderr",
     "output_type": "stream",
     "text": [
      "Warning message in log(CD34.All):\n",
      "“NaN이 생성되었습니다”"
     ]
    },
    {
     "name": "stdout",
     "output_type": "stream",
     "text": [
      "\n",
      " CD34.All result : p-value = 0.4423 \n"
     ]
    },
    {
     "name": "stderr",
     "output_type": "stream",
     "text": [
      "Warning message in log(VEGF.1):\n",
      "“NaN이 생성되었습니다”"
     ]
    },
    {
     "name": "stdout",
     "output_type": "stream",
     "text": [
      "\n",
      " VEGF.1 result : p-value = 0.0015 \n",
      "\n",
      " SDF.1 result : p-value = 0.0012 \n"
     ]
    }
   ],
   "source": [
    "# log 값에 대한 분석 \n",
    "\n",
    "pv <- t.test(log(Average.CFU) ~ PAD, data=data)$p.value\n",
    "cat(\"\\n Average.CFU t-test : p-value =\", round(pv,3))\n",
    "\n",
    "for(key in c('Average.CFU', 'VEGF', 'CD34.VEGF', 'CD34', 'VEGF.All', 'CD34.All', 'VEGF.1', 'SDF.1')){\n",
    "    test <- wilcox.test(as.formula(paste(\"log(\",key,\")~ PAD\")), data = data)\n",
    "    cat(\"\\n\", key, \"result :\", \"p-value =\", round(test$p.value,4), '\\n')\n",
    "}\n"
   ]
  },
  {
   "cell_type": "markdown",
   "metadata": {},
   "source": [
    "앞과 같은 결과 \n",
    "\n",
    "**VEGF, VEGF.All, VEGF.1, SDF.1 유의미**\n",
    "\n",
    "혹시 이것이 앞서 demographic data 의 차이로 인한 것은 아닌지 한 번 살펴봐야한다. \n",
    "\n",
    "Age + DM + statin (+ ACS) 이 녀석들에 대한 것들을 고정으로 두고, 분석을 실시해보자. "
   ]
  },
  {
   "cell_type": "markdown",
   "metadata": {},
   "source": [
    "## 교란 변수 제거"
   ]
  },
  {
   "cell_type": "markdown",
   "metadata": {},
   "source": [
    "### 분리된 집단의 수\n",
    "그런데 분리된 집단의 수는 다음과 같다. "
   ]
  },
  {
   "cell_type": "code",
   "execution_count": 45,
   "metadata": {},
   "outputs": [
    {
     "data": {
      "text/html": [
       "<table>\n",
       "<thead><tr><th scope=col>DM</th><th scope=col>statin</th><th scope=col>ACS</th><th scope=col>PAD1</th><th scope=col>PAD0</th></tr></thead>\n",
       "<tbody>\n",
       "\t<tr><td>0 </td><td>0 </td><td>0 </td><td> 6</td><td>22</td></tr>\n",
       "\t<tr><td>0 </td><td>0 </td><td>1 </td><td> 1</td><td> 2</td></tr>\n",
       "\t<tr><td>0 </td><td>1 </td><td>0 </td><td> 4</td><td>27</td></tr>\n",
       "\t<tr><td>0 </td><td>1 </td><td>1 </td><td> 1</td><td> 1</td></tr>\n",
       "\t<tr><td>1 </td><td>0 </td><td>0 </td><td>25</td><td> 8</td></tr>\n",
       "\t<tr><td>1 </td><td>0 </td><td>1 </td><td> 9</td><td> 1</td></tr>\n",
       "\t<tr><td>1 </td><td>1 </td><td>0 </td><td> 7</td><td>12</td></tr>\n",
       "\t<tr><td>1 </td><td>1 </td><td>1 </td><td> 5</td><td> 2</td></tr>\n",
       "</tbody>\n",
       "</table>\n"
      ],
      "text/latex": [
       "\\begin{tabular}{r|lllll}\n",
       " DM & statin & ACS & PAD1 & PAD0\\\\\n",
       "\\hline\n",
       "\t 0  & 0  & 0  &  6 & 22\\\\\n",
       "\t 0  & 0  & 1  &  1 &  2\\\\\n",
       "\t 0  & 1  & 0  &  4 & 27\\\\\n",
       "\t 0  & 1  & 1  &  1 &  1\\\\\n",
       "\t 1  & 0  & 0  & 25 &  8\\\\\n",
       "\t 1  & 0  & 1  &  9 &  1\\\\\n",
       "\t 1  & 1  & 0  &  7 & 12\\\\\n",
       "\t 1  & 1  & 1  &  5 &  2\\\\\n",
       "\\end{tabular}\n"
      ],
      "text/markdown": [
       "\n",
       "DM | statin | ACS | PAD1 | PAD0 | \n",
       "|---|---|---|---|---|---|---|---|\n",
       "| 0  | 0  | 0  |  6 | 22 | \n",
       "| 0  | 0  | 1  |  1 |  2 | \n",
       "| 0  | 1  | 0  |  4 | 27 | \n",
       "| 0  | 1  | 1  |  1 |  1 | \n",
       "| 1  | 0  | 0  | 25 |  8 | \n",
       "| 1  | 0  | 1  |  9 |  1 | \n",
       "| 1  | 1  | 0  |  7 | 12 | \n",
       "| 1  | 1  | 1  |  5 |  2 | \n",
       "\n",
       "\n"
      ],
      "text/plain": [
       "  DM statin ACS PAD1 PAD0\n",
       "1 0  0      0    6   22  \n",
       "2 0  0      1    1    2  \n",
       "3 0  1      0    4   27  \n",
       "4 0  1      1    1    1  \n",
       "5 1  0      0   25    8  \n",
       "6 1  0      1    9    1  \n",
       "7 1  1      0    7   12  \n",
       "8 1  1      1    5    2  "
      ]
     },
     "metadata": {},
     "output_type": "display_data"
    },
    {
     "data": {
      "text/html": [
       "<table>\n",
       "<thead><tr><th scope=col>DM</th><th scope=col>statin</th><th scope=col>PAD1</th><th scope=col>PAD0</th></tr></thead>\n",
       "<tbody>\n",
       "\t<tr><td>0 </td><td>0 </td><td> 7</td><td>24</td></tr>\n",
       "\t<tr><td>0 </td><td>1 </td><td> 5</td><td>28</td></tr>\n",
       "\t<tr><td>1 </td><td>0 </td><td>34</td><td> 9</td></tr>\n",
       "\t<tr><td>1 </td><td>1 </td><td>12</td><td>14</td></tr>\n",
       "</tbody>\n",
       "</table>\n"
      ],
      "text/latex": [
       "\\begin{tabular}{r|llll}\n",
       " DM & statin & PAD1 & PAD0\\\\\n",
       "\\hline\n",
       "\t 0  & 0  &  7 & 24\\\\\n",
       "\t 0  & 1  &  5 & 28\\\\\n",
       "\t 1  & 0  & 34 &  9\\\\\n",
       "\t 1  & 1  & 12 & 14\\\\\n",
       "\\end{tabular}\n"
      ],
      "text/markdown": [
       "\n",
       "DM | statin | PAD1 | PAD0 | \n",
       "|---|---|---|---|\n",
       "| 0  | 0  |  7 | 24 | \n",
       "| 0  | 1  |  5 | 28 | \n",
       "| 1  | 0  | 34 |  9 | \n",
       "| 1  | 1  | 12 | 14 | \n",
       "\n",
       "\n"
      ],
      "text/plain": [
       "  DM statin PAD1 PAD0\n",
       "1 0  0       7   24  \n",
       "2 0  1       5   28  \n",
       "3 1  0      34    9  \n",
       "4 1  1      12   14  "
      ]
     },
     "metadata": {},
     "output_type": "display_data"
    }
   ],
   "source": [
    "library(dplyr)\n",
    "data %>% \n",
    "    mutate(DM = as.factor(DM), statin=as.factor(statin), ACS = as.factor(ACS)) %>% \n",
    "    group_by(DM, statin, ACS) %>% \n",
    "    summarise(PAD1 = sum(PAD==1), PAD0 = sum(PAD==0))\n",
    "\n",
    "data %>% \n",
    "    mutate(DM = as.factor(DM), statin=as.factor(statin)) %>% \n",
    "    group_by(DM, statin) %>% \n",
    "    summarise(PAD1 = sum(PAD==1), PAD0 = sum(PAD==0))"
   ]
  },
  {
   "cell_type": "markdown",
   "metadata": {},
   "source": [
    "DM, statin 으로 나뉘어진 집단에 대해서 wilcoxon test 를 실시해볼 수 있겠다. "
   ]
  },
  {
   "cell_type": "markdown",
   "metadata": {},
   "source": [
    "#### DM Statin 에 대해 고정 후, 검정 실시"
   ]
  },
  {
   "cell_type": "code",
   "execution_count": 46,
   "metadata": {},
   "outputs": [
    {
     "name": "stdout",
     "output_type": "stream",
     "text": [
      "\n",
      "\n",
      "< DM = 0 , statin = 0 >\n",
      "   Average.CFU result : p-value = 0.627\n",
      "   VEGF result : p-value = 0.127"
     ]
    },
    {
     "name": "stderr",
     "output_type": "stream",
     "text": [
      "Warning message in wilcox.test.default(x = c(0.19, 0.1715, 0.188, 0.0835, 0.2655, :\n",
      "“cannot compute exact p-value with ties”"
     ]
    },
    {
     "name": "stdout",
     "output_type": "stream",
     "text": [
      "\n",
      "   CD34.VEGF result : p-value = 0.45"
     ]
    },
    {
     "name": "stderr",
     "output_type": "stream",
     "text": [
      "Warning message in wilcox.test.default(x = c(2.1, 0.4345, 0.1035, -0.0175, 0.3615, :\n",
      "“cannot compute exact p-value with ties”"
     ]
    },
    {
     "name": "stdout",
     "output_type": "stream",
     "text": [
      "\n",
      "   CD34 result : p-value = 0.943\n",
      "   VEGF.All result : p-value = 0.139\n",
      "   CD34.All result : p-value = 0.417\n",
      "   VEGF.1 result : p-value = 0.274\n",
      "   SDF.1 result : p-value = 0.234\n",
      "\n",
      "< DM = 0 , statin = 1 >\n",
      "   Average.CFU result : p-value = 0.981\n",
      "   VEGF result : p-value = 1\n",
      "   CD34.VEGF result : p-value = 0.827\n",
      "   CD34 result : p-value = 0.338\n",
      "   VEGF.All result : p-value = 0.981\n",
      "   CD34.All result : p-value = 0.942\n",
      "   VEGF.1 result : p-value = 0.419\n",
      "   SDF.1 result : p-value = 0.509\n",
      "\n",
      "< DM = 1 , statin = 0 >\n",
      "   Average.CFU result : p-value = 0.231\n",
      "   VEGF result : p-value = 0.231\n",
      "   CD34.VEGF result : p-value = 0.849\n",
      "   CD34 result : p-value = 0.281\n",
      "   VEGF.All result : p-value = 0.231\n",
      "   CD34.All result : p-value = 0.187\n",
      "   VEGF.1 result : p-value = 0.01\n",
      "   SDF.1 result : p-value = 0.133\n",
      "\n",
      "< DM = 1 , statin = 1 >\n",
      "   Average.CFU result : p-value = 0.56\n",
      "   VEGF result : p-value = 0.98\n",
      "   CD34.VEGF result : p-value = 0.781\n",
      "   CD34 result : p-value = 0.742\n",
      "   VEGF.All result : p-value = 0.94"
     ]
    },
    {
     "name": "stderr",
     "output_type": "stream",
     "text": [
      "Warning message in wilcox.test.default(x = c(0.4335, 0.276, 0.291, -0.000999999999999973, :\n",
      "“cannot compute exact p-value with ties”"
     ]
    },
    {
     "name": "stdout",
     "output_type": "stream",
     "text": [
      "\n",
      "   CD34.All result : p-value = 0.7\n",
      "   VEGF.1 result : p-value = 0.16\n",
      "   SDF.1 result : p-value = 0.667"
     ]
    }
   ],
   "source": [
    "for(di in 0:1){\n",
    "    for(si in 0:1){\n",
    "        cat(\"\\n\\n< DM =\", di, \", statin =\",si,\">\" )\n",
    "        tmp <- data %>% filter(DM == di, statin==si)\n",
    "        for(key in c('Average.CFU', 'VEGF', 'CD34.VEGF', 'CD34', 'VEGF.All', 'CD34.All', 'VEGF.1', 'SDF.1')){\n",
    "            test <- wilcox.test(as.formula(paste(key,\"~ PAD\")), data = tmp)\n",
    "            cat(\"\\n  \", key, \"result : p-value =\", round(test$p.value, 3))\n",
    "        }\n",
    "    }\n",
    "    \n",
    "}"
   ]
  },
  {
   "cell_type": "markdown",
   "metadata": {},
   "source": [
    "유의미한 차이가 거의 없는 것으로 보아, \n",
    "\n",
    "거의 모든 지표의 차이는 DM 과 statin으로 설명된다고 볼 수 있겠다. \n",
    "\n",
    "VEGF.1 이 한 번 0.010 (DM=1, statin=0) 으로 유의미하게 나왔다. "
   ]
  },
  {
   "cell_type": "markdown",
   "metadata": {},
   "source": [
    "## 로그 변수에 대한 교란변수 고정"
   ]
  },
  {
   "cell_type": "code",
   "execution_count": 47,
   "metadata": {},
   "outputs": [
    {
     "name": "stdout",
     "output_type": "stream",
     "text": [
      "\n",
      "\n",
      "< DM = 0 , statin = 0 >\n",
      "   Average.CFU result : p-value = 0.627\n",
      "   VEGF result : p-value = 0.127"
     ]
    },
    {
     "name": "stderr",
     "output_type": "stream",
     "text": [
      "Warning message in wilcox.test.default(x = c(-1.66073120682165, -1.76317201237614, :\n",
      "“cannot compute exact p-value with ties”"
     ]
    },
    {
     "name": "stdout",
     "output_type": "stream",
     "text": [
      "\n",
      "   CD34.VEGF result : p-value = 0.45"
     ]
    },
    {
     "name": "stderr",
     "output_type": "stream",
     "text": [
      "Warning message in log(CD34):\n",
      "“NaN이 생성되었습니다”"
     ]
    },
    {
     "name": "stdout",
     "output_type": "stream",
     "text": [
      "\n",
      "   CD34 result : p-value = 0.343\n",
      "   VEGF.All result : p-value = 0.139"
     ]
    },
    {
     "name": "stderr",
     "output_type": "stream",
     "text": [
      "Warning message in log(CD34.All):\n",
      "“NaN이 생성되었습니다”"
     ]
    },
    {
     "name": "stdout",
     "output_type": "stream",
     "text": [
      "\n",
      "   CD34.All result : p-value = 0.781\n",
      "   VEGF.1 result : p-value = 0.274\n",
      "   SDF.1 result : p-value = 0.234\n",
      "\n",
      "< DM = 0 , statin = 1 >\n",
      "   Average.CFU result : p-value = 0.981\n",
      "   VEGF result : p-value = 1\n",
      "   CD34.VEGF result : p-value = 0.827"
     ]
    },
    {
     "name": "stderr",
     "output_type": "stream",
     "text": [
      "Warning message in log(CD34):\n",
      "“NaN이 생성되었습니다”"
     ]
    },
    {
     "name": "stdout",
     "output_type": "stream",
     "text": [
      "\n",
      "   CD34 result : p-value = 0.176\n",
      "   VEGF.All result : p-value = 0.981\n",
      "   CD34.All result : p-value = 0.942"
     ]
    },
    {
     "name": "stderr",
     "output_type": "stream",
     "text": [
      "Warning message in log(VEGF.1):\n",
      "“NaN이 생성되었습니다”"
     ]
    },
    {
     "name": "stdout",
     "output_type": "stream",
     "text": [
      "\n",
      "   VEGF.1 result : p-value = 0.479\n",
      "   SDF.1 result : p-value = 0.509\n",
      "\n",
      "< DM = 1 , statin = 0 >\n",
      "   Average.CFU result : p-value = 0.231\n",
      "   VEGF result : p-value = 0.231\n",
      "   CD34.VEGF result : p-value = 0.849"
     ]
    },
    {
     "name": "stderr",
     "output_type": "stream",
     "text": [
      "Warning message in log(CD34):\n",
      "“NaN이 생성되었습니다”"
     ]
    },
    {
     "name": "stdout",
     "output_type": "stream",
     "text": [
      "\n",
      "   CD34 result : p-value = 0.323\n",
      "   VEGF.All result : p-value = 0.231\n",
      "   CD34.All result : p-value = 0.187\n",
      "   VEGF.1 result : p-value = 0.01\n",
      "   SDF.1 result : p-value = 0.133\n",
      "\n",
      "< DM = 1 , statin = 1 >\n",
      "   Average.CFU result : p-value = 0.56\n",
      "   VEGF result : p-value = 0.98\n",
      "   CD34.VEGF result : p-value = 0.781"
     ]
    },
    {
     "name": "stderr",
     "output_type": "stream",
     "text": [
      "Warning message in log(CD34):\n",
      "“NaN이 생성되었습니다”"
     ]
    },
    {
     "name": "stdout",
     "output_type": "stream",
     "text": [
      "\n",
      "   CD34 result : p-value = 0.606\n",
      "   VEGF.All result : p-value = 0.94"
     ]
    },
    {
     "name": "stderr",
     "output_type": "stream",
     "text": [
      "Warning message in log(CD34.All):\n",
      "“NaN이 생성되었습니다”Warning message in wilcox.test.default(x = c(-0.835863482761541, -1.28735441326499, :\n",
      "“cannot compute exact p-value with ties”"
     ]
    },
    {
     "name": "stdout",
     "output_type": "stream",
     "text": [
      "\n",
      "   CD34.All result : p-value = 0.463\n",
      "   VEGF.1 result : p-value = 0.16\n",
      "   SDF.1 result : p-value = 0.667"
     ]
    }
   ],
   "source": [
    "for(di in 0:1){\n",
    "    for(si in 0:1){\n",
    "        cat(\"\\n\\n< DM =\", di, \", statin =\",si,\">\" )\n",
    "        tmp <- data %>% filter(DM == di, statin==si)\n",
    "        for(key in c('Average.CFU', 'VEGF', 'CD34.VEGF', 'CD34', 'VEGF.All', 'CD34.All', 'VEGF.1', 'SDF.1')){\n",
    "            test <- wilcox.test(as.formula(paste(\"log(\",key,\")~ PAD\")), data = tmp)\n",
    "            cat(\"\\n  \", key, \"result : p-value =\", round(test$p.value, 3))\n",
    "        }\n",
    "    }\n",
    "}"
   ]
  },
  {
   "cell_type": "markdown",
   "metadata": {},
   "source": [
    "마찬가지 결과이다. \n",
    "\n",
    "VEGF.1 차이가 나는 경우가 한 번(DM = 1, statin = 0) 있다. "
   ]
  },
  {
   "cell_type": "markdown",
   "metadata": {},
   "source": [
    "---\n",
    "# 로지스틱 회귀\n",
    "---\n",
    "\n",
    "PAD 를 종속변수, Lab data를 설명 변수로 가정하면 \n",
    "\n",
    "로지스틱 회귀를 통해서 \n",
    "\n",
    "DM 이나 statin 복용 여부등의 효과를 고려하였을 때에, \n",
    "\n",
    "lab data의 PAD 분류에 대한 효용성을 파악할 수 있다. \n",
    "\n",
    "앞서 [빠른 Demographic data 탐색](#빠른-Demo-data-탐색) 끝부분에서 만든 \n",
    "\n",
    "회귀모형 (PAD ~ DM + statin + Age (+ ACS)) 에 지표들을 넣었을때 유의미한 효과를 거둘 수 있을지 확인해보자 "
   ]
  },
  {
   "cell_type": "markdown",
   "metadata": {},
   "source": [
    "## DM+Age+statin+ACS 모형에 추가"
   ]
  },
  {
   "cell_type": "code",
   "execution_count": 48,
   "metadata": {
    "scrolled": false
   },
   "outputs": [
    {
     "name": "stdout",
     "output_type": "stream",
     "text": [
      "\n",
      "Call:\n",
      "glm(formula = formu, family = binomial(), data = data)\n",
      "\n",
      "Deviance Residuals: \n",
      "    Min       1Q   Median       3Q      Max  \n",
      "-2.0454  -0.8013  -0.2621   0.7303   2.4340  \n",
      "\n",
      "Coefficients:\n",
      "            Estimate Std. Error z value Pr(>|z|)    \n",
      "(Intercept) -7.24846    2.12277  -3.415 0.000639 ***\n",
      "DM           2.05402    0.46534   4.414 1.01e-05 ***\n",
      "statin      -1.38587    0.49677  -2.790 0.005274 ** \n",
      "Age          0.08481    0.02484   3.414 0.000639 ***\n",
      "ACS          1.19263    0.60108   1.984 0.047241 *  \n",
      "Average.CFU  0.14382    0.28063   0.512 0.608301    \n",
      "---\n",
      "Signif. codes:  0 ‘***’ 0.001 ‘**’ 0.01 ‘*’ 0.05 ‘.’ 0.1 ‘ ’ 1\n",
      "\n",
      "(Dispersion parameter for binomial family taken to be 1)\n",
      "\n",
      "    Null deviance: 182.20  on 132  degrees of freedom\n",
      "Residual deviance: 124.03  on 127  degrees of freedom\n",
      "AIC: 136.03\n",
      "\n",
      "Number of Fisher Scoring iterations: 5\n",
      "\n",
      "\n",
      "Call:\n",
      "glm(formula = formu, family = binomial(), data = data)\n",
      "\n",
      "Deviance Residuals: \n",
      "    Min       1Q   Median       3Q      Max  \n",
      "-2.0191  -0.7744  -0.2684   0.6918   2.3952  \n",
      "\n",
      "Coefficients:\n",
      "            Estimate Std. Error z value Pr(>|z|)    \n",
      "(Intercept) -6.40477    1.72215  -3.719 0.000200 ***\n",
      "DM           2.05099    0.46579   4.403 1.07e-05 ***\n",
      "statin      -1.25436    0.47494  -2.641 0.008264 ** \n",
      "Age          0.08425    0.02486   3.388 0.000703 ***\n",
      "ACS          1.18361    0.61009   1.940 0.052371 .  \n",
      "VEGF        -0.02433    0.04594  -0.530 0.596360    \n",
      "---\n",
      "Signif. codes:  0 ‘***’ 0.001 ‘**’ 0.01 ‘*’ 0.05 ‘.’ 0.1 ‘ ’ 1\n",
      "\n",
      "(Dispersion parameter for binomial family taken to be 1)\n",
      "\n",
      "    Null deviance: 182.20  on 132  degrees of freedom\n",
      "Residual deviance: 124.01  on 127  degrees of freedom\n",
      "AIC: 136.01\n",
      "\n",
      "Number of Fisher Scoring iterations: 5\n",
      "\n",
      "\n",
      "Call:\n",
      "glm(formula = formu, family = binomial(), data = data)\n",
      "\n",
      "Deviance Residuals: \n",
      "    Min       1Q   Median       3Q      Max  \n",
      "-2.0217  -0.8005  -0.2728   0.7026   2.4221  \n",
      "\n",
      "Coefficients:\n",
      "            Estimate Std. Error z value Pr(>|z|)    \n",
      "(Intercept) -6.59549    1.68778  -3.908 9.31e-05 ***\n",
      "DM           2.06203    0.46510   4.433 9.27e-06 ***\n",
      "statin      -1.30753    0.47029  -2.780 0.005431 ** \n",
      "Age          0.08577    0.02487   3.449 0.000562 ***\n",
      "ACS          1.17718    0.60615   1.942 0.052131 .  \n",
      "CD34.VEGF   -0.07009    0.73251  -0.096 0.923767    \n",
      "---\n",
      "Signif. codes:  0 ‘***’ 0.001 ‘**’ 0.01 ‘*’ 0.05 ‘.’ 0.1 ‘ ’ 1\n",
      "\n",
      "(Dispersion parameter for binomial family taken to be 1)\n",
      "\n",
      "    Null deviance: 182.20  on 132  degrees of freedom\n",
      "Residual deviance: 124.28  on 127  degrees of freedom\n",
      "AIC: 136.28\n",
      "\n",
      "Number of Fisher Scoring iterations: 5\n",
      "\n",
      "\n",
      "Call:\n",
      "glm(formula = formu, family = binomial(), data = data)\n",
      "\n",
      "Deviance Residuals: \n",
      "    Min       1Q   Median       3Q      Max  \n",
      "-2.0218  -0.7931  -0.2743   0.6910   2.4319  \n",
      "\n",
      "Coefficients:\n",
      "            Estimate Std. Error z value Pr(>|z|)    \n",
      "(Intercept) -6.68220    1.69577  -3.941 8.13e-05 ***\n",
      "DM           2.02956    0.46778   4.339 1.43e-05 ***\n",
      "statin      -1.28338    0.46747  -2.745 0.006044 ** \n",
      "Age          0.08625    0.02489   3.465 0.000531 ***\n",
      "ACS          1.20996    0.60681   1.994 0.046155 *  \n",
      "CD34         0.15972    0.30605   0.522 0.601749    \n",
      "---\n",
      "Signif. codes:  0 ‘***’ 0.001 ‘**’ 0.01 ‘*’ 0.05 ‘.’ 0.1 ‘ ’ 1\n",
      "\n",
      "(Dispersion parameter for binomial family taken to be 1)\n",
      "\n",
      "    Null deviance: 182.20  on 132  degrees of freedom\n",
      "Residual deviance: 123.95  on 127  degrees of freedom\n",
      "AIC: 135.95\n",
      "\n",
      "Number of Fisher Scoring iterations: 5\n",
      "\n",
      "\n",
      "Call:\n",
      "glm(formula = formu, family = binomial(), data = data)\n",
      "\n",
      "Deviance Residuals: \n",
      "    Min       1Q   Median       3Q      Max  \n",
      "-2.0141  -0.7740  -0.2677   0.6922   2.3948  \n",
      "\n",
      "Coefficients:\n",
      "            Estimate Std. Error z value Pr(>|z|)    \n",
      "(Intercept) -6.40355    1.72320  -3.716 0.000202 ***\n",
      "DM           2.05109    0.46581   4.403 1.07e-05 ***\n",
      "statin      -1.25661    0.47431  -2.649 0.008065 ** \n",
      "Age          0.08432    0.02485   3.393 0.000692 ***\n",
      "ACS          1.18277    0.61021   1.938 0.052585 .  \n",
      "VEGF.All    -0.02401    0.04540  -0.529 0.596994    \n",
      "---\n",
      "Signif. codes:  0 ‘***’ 0.001 ‘**’ 0.01 ‘*’ 0.05 ‘.’ 0.1 ‘ ’ 1\n",
      "\n",
      "(Dispersion parameter for binomial family taken to be 1)\n",
      "\n",
      "    Null deviance: 182.20  on 132  degrees of freedom\n",
      "Residual deviance: 124.01  on 127  degrees of freedom\n",
      "AIC: 136.01\n",
      "\n",
      "Number of Fisher Scoring iterations: 5\n",
      "\n",
      "\n",
      "Call:\n",
      "glm(formula = formu, family = binomial(), data = data)\n",
      "\n",
      "Deviance Residuals: \n",
      "    Min       1Q   Median       3Q      Max  \n",
      "-2.0489  -0.7963  -0.2723   0.6942   2.4323  \n",
      "\n",
      "Coefficients:\n",
      "            Estimate Std. Error z value Pr(>|z|)    \n",
      "(Intercept) -6.67090    1.69384  -3.938 8.21e-05 ***\n",
      "DM           2.04249    0.46646   4.379 1.19e-05 ***\n",
      "statin      -1.28385    0.46769  -2.745 0.006050 ** \n",
      "Age          0.08576    0.02480   3.458 0.000544 ***\n",
      "ACS          1.20196    0.60599   1.983 0.047314 *  \n",
      "CD34.All     0.09925    0.24102   0.412 0.680476    \n",
      "---\n",
      "Signif. codes:  0 ‘***’ 0.001 ‘**’ 0.01 ‘*’ 0.05 ‘.’ 0.1 ‘ ’ 1\n",
      "\n",
      "(Dispersion parameter for binomial family taken to be 1)\n",
      "\n",
      "    Null deviance: 182.20  on 132  degrees of freedom\n",
      "Residual deviance: 124.08  on 127  degrees of freedom\n",
      "AIC: 136.08\n",
      "\n",
      "Number of Fisher Scoring iterations: 5\n",
      "\n",
      "\n",
      "Call:\n",
      "glm(formula = formu, family = binomial(), data = data)\n",
      "\n",
      "Deviance Residuals: \n",
      "    Min       1Q   Median       3Q      Max  \n",
      "-1.8398  -0.6894  -0.2765   0.6664   2.3890  \n",
      "\n",
      "Coefficients:\n",
      "             Estimate Std. Error z value Pr(>|z|)    \n",
      "(Intercept) -7.559720   1.811815  -4.172 3.01e-05 ***\n",
      "DM           1.926082   0.477539   4.033 5.50e-05 ***\n",
      "statin      -0.959162   0.480185  -1.997 0.045772 *  \n",
      "Age          0.087993   0.025626   3.434 0.000595 ***\n",
      "ACS          1.188222   0.642194   1.850 0.064277 .  \n",
      "VEGF.1       0.009456   0.003825   2.472 0.013422 *  \n",
      "---\n",
      "Signif. codes:  0 ‘***’ 0.001 ‘**’ 0.01 ‘*’ 0.05 ‘.’ 0.1 ‘ ’ 1\n",
      "\n",
      "(Dispersion parameter for binomial family taken to be 1)\n",
      "\n",
      "    Null deviance: 182.20  on 132  degrees of freedom\n",
      "Residual deviance: 116.18  on 127  degrees of freedom\n",
      "AIC: 128.18\n",
      "\n",
      "Number of Fisher Scoring iterations: 5\n",
      "\n",
      "\n",
      "Call:\n",
      "glm(formula = formu, family = binomial(), data = data)\n",
      "\n",
      "Deviance Residuals: \n",
      "    Min       1Q   Median       3Q      Max  \n",
      "-1.9580  -0.6782  -0.3055   0.7009   2.5222  \n",
      "\n",
      "Coefficients:\n",
      "              Estimate Std. Error z value Pr(>|z|)    \n",
      "(Intercept) -7.8364287  1.9164702  -4.089 4.33e-05 ***\n",
      "DM           1.9445719  0.4706444   4.132 3.60e-05 ***\n",
      "statin      -1.0879698  0.4809234  -2.262 0.023682 *  \n",
      "Age          0.0839468  0.0249736   3.361 0.000775 ***\n",
      "ACS          1.0360417  0.6357656   1.630 0.103187    \n",
      "SDF.1        0.0004951  0.0003115   1.589 0.112004    \n",
      "---\n",
      "Signif. codes:  0 ‘***’ 0.001 ‘**’ 0.01 ‘*’ 0.05 ‘.’ 0.1 ‘ ’ 1\n",
      "\n",
      "(Dispersion parameter for binomial family taken to be 1)\n",
      "\n",
      "    Null deviance: 182.20  on 132  degrees of freedom\n",
      "Residual deviance: 121.46  on 127  degrees of freedom\n",
      "AIC: 133.46\n",
      "\n",
      "Number of Fisher Scoring iterations: 5\n",
      "\n"
     ]
    }
   ],
   "source": [
    "for(key in c('Average.CFU', 'VEGF', 'CD34.VEGF', 'CD34', 'VEGF.All', 'CD34.All', 'VEGF.1', 'SDF.1')){\n",
    "    formu <- paste(\"PAD ~ DM + statin + Age + ACS + \", key)\n",
    "    model <- glm(formu, family = binomial(),data = data)\n",
    "    print(summary(model))\n",
    "}"
   ]
  },
  {
   "cell_type": "markdown",
   "metadata": {},
   "source": [
    "### 결과1\n",
    "**VEGF.1 ** 만 유의하다. "
   ]
  },
  {
   "cell_type": "markdown",
   "metadata": {},
   "source": [
    "## DM+Age+statin 모형에 추가"
   ]
  },
  {
   "cell_type": "code",
   "execution_count": 49,
   "metadata": {
    "scrolled": false
   },
   "outputs": [
    {
     "name": "stdout",
     "output_type": "stream",
     "text": [
      "\n",
      "Call:\n",
      "glm(formula = formu, family = binomial(), data = data)\n",
      "\n",
      "Deviance Residuals: \n",
      "    Min       1Q   Median       3Q      Max  \n",
      "-2.1332  -0.7405  -0.2870   0.7212   2.3287  \n",
      "\n",
      "Coefficients:\n",
      "            Estimate Std. Error z value Pr(>|z|)    \n",
      "(Intercept) -6.90053    2.04831  -3.369 0.000755 ***\n",
      "DM           2.15810    0.45661   4.726 2.29e-06 ***\n",
      "statin      -1.27110    0.48260  -2.634 0.008442 ** \n",
      "Age          0.08435    0.02453   3.439 0.000584 ***\n",
      "Average.CFU  0.10236    0.27839   0.368 0.713115    \n",
      "---\n",
      "Signif. codes:  0 ‘***’ 0.001 ‘**’ 0.01 ‘*’ 0.05 ‘.’ 0.1 ‘ ’ 1\n",
      "\n",
      "(Dispersion parameter for binomial family taken to be 1)\n",
      "\n",
      "    Null deviance: 182.20  on 132  degrees of freedom\n",
      "Residual deviance: 128.21  on 128  degrees of freedom\n",
      "AIC: 138.21\n",
      "\n",
      "Number of Fisher Scoring iterations: 5\n",
      "\n",
      "\n",
      "Call:\n",
      "glm(formula = formu, family = binomial(), data = data)\n",
      "\n",
      "Deviance Residuals: \n",
      "    Min       1Q   Median       3Q      Max  \n",
      "-2.1047  -0.7363  -0.2993   0.7248   2.3092  \n",
      "\n",
      "Coefficients:\n",
      "            Estimate Std. Error z value Pr(>|z|)    \n",
      "(Intercept) -6.25626    1.69495  -3.691 0.000223 ***\n",
      "DM           2.14637    0.45745   4.692  2.7e-06 ***\n",
      "statin      -1.15367    0.45998  -2.508 0.012138 *  \n",
      "Age          0.08379    0.02454   3.415 0.000638 ***\n",
      "VEGF        -0.02597    0.04559  -0.570 0.568993    \n",
      "---\n",
      "Signif. codes:  0 ‘***’ 0.001 ‘**’ 0.01 ‘*’ 0.05 ‘.’ 0.1 ‘ ’ 1\n",
      "\n",
      "(Dispersion parameter for binomial family taken to be 1)\n",
      "\n",
      "    Null deviance: 182.20  on 132  degrees of freedom\n",
      "Residual deviance: 128.03  on 128  degrees of freedom\n",
      "AIC: 138.03\n",
      "\n",
      "Number of Fisher Scoring iterations: 5\n",
      "\n",
      "\n",
      "Call:\n",
      "glm(formula = formu, family = binomial(), data = data)\n",
      "\n",
      "Deviance Residuals: \n",
      "    Min       1Q   Median       3Q      Max  \n",
      "-2.0910  -0.7297  -0.2907   0.7202   2.3371  \n",
      "\n",
      "Coefficients:\n",
      "            Estimate Std. Error z value Pr(>|z|)    \n",
      "(Intercept) -6.44337    1.66317  -3.874 0.000107 ***\n",
      "DM           2.16405    0.45659   4.740 2.14e-06 ***\n",
      "statin      -1.21939    0.45373  -2.687 0.007199 ** \n",
      "Age          0.08559    0.02457   3.483 0.000496 ***\n",
      "CD34.VEGF   -0.16184    0.72813  -0.222 0.824101    \n",
      "---\n",
      "Signif. codes:  0 ‘***’ 0.001 ‘**’ 0.01 ‘*’ 0.05 ‘.’ 0.1 ‘ ’ 1\n",
      "\n",
      "(Dispersion parameter for binomial family taken to be 1)\n",
      "\n",
      "    Null deviance: 182.2  on 132  degrees of freedom\n",
      "Residual deviance: 128.3  on 128  degrees of freedom\n",
      "AIC: 138.3\n",
      "\n",
      "Number of Fisher Scoring iterations: 5\n",
      "\n",
      "\n",
      "Call:\n",
      "glm(formula = formu, family = binomial(), data = data)\n",
      "\n",
      "Deviance Residuals: \n",
      "    Min       1Q   Median       3Q      Max  \n",
      "-2.1178  -0.7328  -0.2911   0.7205   2.3458  \n",
      "\n",
      "Coefficients:\n",
      "            Estimate Std. Error z value Pr(>|z|)    \n",
      "(Intercept) -6.51051    1.66309  -3.915 9.05e-05 ***\n",
      "DM           2.14565    0.45839   4.681 2.86e-06 ***\n",
      "statin      -1.19522    0.45152  -2.647 0.008118 ** \n",
      "Age          0.08553    0.02449   3.493 0.000478 ***\n",
      "CD34         0.10416    0.28580   0.364 0.715531    \n",
      "---\n",
      "Signif. codes:  0 ‘***’ 0.001 ‘**’ 0.01 ‘*’ 0.05 ‘.’ 0.1 ‘ ’ 1\n",
      "\n",
      "(Dispersion parameter for binomial family taken to be 1)\n",
      "\n",
      "    Null deviance: 182.20  on 132  degrees of freedom\n",
      "Residual deviance: 128.19  on 128  degrees of freedom\n",
      "AIC: 138.19\n",
      "\n",
      "Number of Fisher Scoring iterations: 5\n",
      "\n",
      "\n",
      "Call:\n",
      "glm(formula = formu, family = binomial(), data = data)\n",
      "\n",
      "Deviance Residuals: \n",
      "    Min       1Q   Median       3Q      Max  \n",
      "-2.0990  -0.7365  -0.2987   0.7236   2.3084  \n",
      "\n",
      "Coefficients:\n",
      "            Estimate Std. Error z value Pr(>|z|)    \n",
      "(Intercept) -6.25235    1.69609  -3.686 0.000228 ***\n",
      "DM           2.14616    0.45749   4.691 2.72e-06 ***\n",
      "statin      -1.15521    0.45932  -2.515 0.011902 *  \n",
      "Age          0.08385    0.02453   3.418 0.000631 ***\n",
      "VEGF.All    -0.02594    0.04506  -0.576 0.564879    \n",
      "---\n",
      "Signif. codes:  0 ‘***’ 0.001 ‘**’ 0.01 ‘*’ 0.05 ‘.’ 0.1 ‘ ’ 1\n",
      "\n",
      "(Dispersion parameter for binomial family taken to be 1)\n",
      "\n",
      "    Null deviance: 182.20  on 132  degrees of freedom\n",
      "Residual deviance: 128.02  on 128  degrees of freedom\n",
      "AIC: 138.02\n",
      "\n",
      "Number of Fisher Scoring iterations: 5\n",
      "\n",
      "\n",
      "Call:\n",
      "glm(formula = formu, family = binomial(), data = data)\n",
      "\n",
      "Deviance Residuals: \n",
      "    Min       1Q   Median       3Q      Max  \n",
      "-2.1338  -0.7294  -0.2906   0.7152   2.3460  \n",
      "\n",
      "Coefficients:\n",
      "            Estimate Std. Error z value Pr(>|z|)    \n",
      "(Intercept) -6.49949    1.66178  -3.911 9.19e-05 ***\n",
      "DM           2.15532    0.45733   4.713 2.44e-06 ***\n",
      "statin      -1.19855    0.45198  -2.652 0.008007 ** \n",
      "Age          0.08523    0.02443   3.489 0.000485 ***\n",
      "CD34.All     0.05549    0.22209   0.250 0.802718    \n",
      "---\n",
      "Signif. codes:  0 ‘***’ 0.001 ‘**’ 0.01 ‘*’ 0.05 ‘.’ 0.1 ‘ ’ 1\n",
      "\n",
      "(Dispersion parameter for binomial family taken to be 1)\n",
      "\n",
      "    Null deviance: 182.20  on 132  degrees of freedom\n",
      "Residual deviance: 128.27  on 128  degrees of freedom\n",
      "AIC: 138.27\n",
      "\n",
      "Number of Fisher Scoring iterations: 5\n",
      "\n",
      "\n",
      "Call:\n",
      "glm(formula = formu, family = binomial(), data = data)\n",
      "\n",
      "Deviance Residuals: \n",
      "    Min       1Q   Median       3Q      Max  \n",
      "-1.8979  -0.7112  -0.3027   0.6920   2.3162  \n",
      "\n",
      "Coefficients:\n",
      "             Estimate Std. Error z value Pr(>|z|)    \n",
      "(Intercept) -7.461743   1.788876  -4.171 3.03e-05 ***\n",
      "DM           2.018973   0.469415   4.301 1.70e-05 ***\n",
      "statin      -0.881981   0.466193  -1.892 0.058507 .  \n",
      "Age          0.088171   0.025333   3.480 0.000501 ***\n",
      "VEGF.1       0.009406   0.003706   2.538 0.011146 *  \n",
      "---\n",
      "Signif. codes:  0 ‘***’ 0.001 ‘**’ 0.01 ‘*’ 0.05 ‘.’ 0.1 ‘ ’ 1\n",
      "\n",
      "(Dispersion parameter for binomial family taken to be 1)\n",
      "\n",
      "    Null deviance: 182.20  on 132  degrees of freedom\n",
      "Residual deviance: 119.76  on 128  degrees of freedom\n",
      "AIC: 129.76\n",
      "\n",
      "Number of Fisher Scoring iterations: 5\n",
      "\n",
      "\n",
      "Call:\n",
      "glm(formula = formu, family = binomial(), data = data)\n",
      "\n",
      "Deviance Residuals: \n",
      "    Min       1Q   Median       3Q      Max  \n",
      "-2.0264  -0.6972  -0.3223   0.6809   2.4825  \n",
      "\n",
      "Coefficients:\n",
      "              Estimate Std. Error z value Pr(>|z|)    \n",
      "(Intercept) -7.9573821  1.9076493  -4.171 3.03e-05 ***\n",
      "DM           2.0245718  0.4622954   4.379 1.19e-05 ***\n",
      "statin      -0.9963950  0.4653910  -2.141 0.032275 *  \n",
      "Age          0.0840505  0.0246634   3.408 0.000655 ***\n",
      "SDF.1        0.0005684  0.0003030   1.876 0.060668 .  \n",
      "---\n",
      "Signif. codes:  0 ‘***’ 0.001 ‘**’ 0.01 ‘*’ 0.05 ‘.’ 0.1 ‘ ’ 1\n",
      "\n",
      "(Dispersion parameter for binomial family taken to be 1)\n",
      "\n",
      "    Null deviance: 182.20  on 132  degrees of freedom\n",
      "Residual deviance: 124.24  on 128  degrees of freedom\n",
      "AIC: 134.24\n",
      "\n",
      "Number of Fisher Scoring iterations: 5\n",
      "\n"
     ]
    }
   ],
   "source": [
    "for(key in c('Average.CFU', 'VEGF', 'CD34.VEGF', 'CD34', 'VEGF.All', 'CD34.All', 'VEGF.1', 'SDF.1')){\n",
    "    formu <- paste(\"PAD ~ DM + statin + Age + \", key)\n",
    "    model <- glm(formu, family = binomial(),data = data)\n",
    "    print(summary(model))\n",
    "}"
   ]
  },
  {
   "cell_type": "markdown",
   "metadata": {},
   "source": [
    "### 결과2\n",
    "\n",
    "마찬가지 결과 \n",
    "\n",
    "VEGF.1 유의\n",
    "\n",
    "SDF.1 경계수준"
   ]
  },
  {
   "cell_type": "markdown",
   "metadata": {},
   "source": [
    "---\n",
    "## 로그변수에 대한 로지스틱 회귀\n",
    "---"
   ]
  },
  {
   "cell_type": "markdown",
   "metadata": {},
   "source": [
    "이번엔 로그 변환한 값들을 지표로 써보자 \n",
    "\n",
    "### DM+statin+Age 에 추가"
   ]
  },
  {
   "cell_type": "code",
   "execution_count": 50,
   "metadata": {
    "scrolled": false
   },
   "outputs": [
    {
     "name": "stdout",
     "output_type": "stream",
     "text": [
      "\n",
      "Call:\n",
      "glm(formula = formu, family = binomial(), data = data)\n",
      "\n",
      "Deviance Residuals: \n",
      "    Min       1Q   Median       3Q      Max  \n",
      "-2.1320  -0.7366  -0.2834   0.7234   2.3321  \n",
      "\n",
      "Coefficients:\n",
      "                 Estimate Std. Error z value Pr(>|z|)    \n",
      "(Intercept)      -6.90137    2.58673  -2.668 0.007631 ** \n",
      "DM                2.16076    0.45658   4.733 2.22e-06 ***\n",
      "statin           -1.24636    0.48170  -2.587 0.009670 ** \n",
      "Age               0.08463    0.02455   3.448 0.000564 ***\n",
      "log(Average.CFU)  0.30334    1.37918   0.220 0.825916    \n",
      "---\n",
      "Signif. codes:  0 ‘***’ 0.001 ‘**’ 0.01 ‘*’ 0.05 ‘.’ 0.1 ‘ ’ 1\n",
      "\n",
      "(Dispersion parameter for binomial family taken to be 1)\n",
      "\n",
      "    Null deviance: 182.2  on 132  degrees of freedom\n",
      "Residual deviance: 128.3  on 128  degrees of freedom\n",
      "AIC: 138.3\n",
      "\n",
      "Number of Fisher Scoring iterations: 5\n",
      "\n",
      "\n",
      "Call:\n",
      "glm(formula = formu, family = binomial(), data = data)\n",
      "\n",
      "Deviance Residuals: \n",
      "    Min       1Q   Median       3Q      Max  \n",
      "-1.9773  -0.7070  -0.3142   0.6803   2.2959  \n",
      "\n",
      "Coefficients:\n",
      "            Estimate Std. Error z value Pr(>|z|)    \n",
      "(Intercept) -6.19279    1.70777  -3.626 0.000288 ***\n",
      "DM           2.03404    0.46344   4.389 1.14e-05 ***\n",
      "statin      -0.93985    0.47201  -1.991 0.046460 *  \n",
      "Age          0.08626    0.02508   3.439 0.000584 ***\n",
      "log(VEGF)   -0.34228    0.19450  -1.760 0.078438 .  \n",
      "---\n",
      "Signif. codes:  0 ‘***’ 0.001 ‘**’ 0.01 ‘*’ 0.05 ‘.’ 0.1 ‘ ’ 1\n",
      "\n",
      "(Dispersion parameter for binomial family taken to be 1)\n",
      "\n",
      "    Null deviance: 182.20  on 132  degrees of freedom\n",
      "Residual deviance: 124.92  on 128  degrees of freedom\n",
      "AIC: 134.92\n",
      "\n",
      "Number of Fisher Scoring iterations: 5\n",
      "\n",
      "\n",
      "Call:\n",
      "glm(formula = formu, family = binomial(), data = data)\n",
      "\n",
      "Deviance Residuals: \n",
      "    Min       1Q   Median       3Q      Max  \n",
      "-2.1385  -0.7287  -0.2880   0.7094   2.3450  \n",
      "\n",
      "Coefficients:\n",
      "               Estimate Std. Error z value Pr(>|z|)    \n",
      "(Intercept)    -6.43535    1.70963  -3.764 0.000167 ***\n",
      "DM              2.16941    0.45974   4.719 2.37e-06 ***\n",
      "statin         -1.20898    0.45066  -2.683 0.007303 ** \n",
      "Age             0.08511    0.02443   3.485 0.000493 ***\n",
      "log(CD34.VEGF)  0.02012    0.26904   0.075 0.940391    \n",
      "---\n",
      "Signif. codes:  0 ‘***’ 0.001 ‘**’ 0.01 ‘*’ 0.05 ‘.’ 0.1 ‘ ’ 1\n",
      "\n",
      "(Dispersion parameter for binomial family taken to be 1)\n",
      "\n",
      "    Null deviance: 182.20  on 132  degrees of freedom\n",
      "Residual deviance: 128.34  on 128  degrees of freedom\n",
      "AIC: 138.34\n",
      "\n",
      "Number of Fisher Scoring iterations: 5\n",
      "\n"
     ]
    },
    {
     "name": "stderr",
     "output_type": "stream",
     "text": [
      "Warning message in log(CD34):\n",
      "“NaN이 생성되었습니다”"
     ]
    },
    {
     "name": "stdout",
     "output_type": "stream",
     "text": [
      "\n",
      "Call:\n",
      "glm(formula = formu, family = binomial(), data = data)\n",
      "\n",
      "Deviance Residuals: \n",
      "    Min       1Q   Median       3Q      Max  \n",
      "-2.1294  -0.8941  -0.2434   0.7133   2.3162  \n",
      "\n",
      "Coefficients:\n",
      "            Estimate Std. Error z value Pr(>|z|)    \n",
      "(Intercept) -6.51087    2.13759  -3.046  0.00232 ** \n",
      "DM           2.35864    0.59851   3.941 8.12e-05 ***\n",
      "statin      -1.30491    0.56274  -2.319  0.02040 *  \n",
      "Age          0.08029    0.02997   2.679  0.00739 ** \n",
      "log(CD34)   -0.11742    0.19451  -0.604  0.54607    \n",
      "---\n",
      "Signif. codes:  0 ‘***’ 0.001 ‘**’ 0.01 ‘*’ 0.05 ‘.’ 0.1 ‘ ’ 1\n",
      "\n",
      "(Dispersion parameter for binomial family taken to be 1)\n",
      "\n",
      "    Null deviance: 121.812  on 87  degrees of freedom\n",
      "Residual deviance:  86.398  on 83  degrees of freedom\n",
      "  (45 observations deleted due to missingness)\n",
      "AIC: 96.398\n",
      "\n",
      "Number of Fisher Scoring iterations: 5\n",
      "\n",
      "\n",
      "Call:\n",
      "glm(formula = formu, family = binomial(), data = data)\n",
      "\n",
      "Deviance Residuals: \n",
      "    Min       1Q   Median       3Q      Max  \n",
      "-1.9815  -0.7136  -0.3146   0.6778   2.2968  \n",
      "\n",
      "Coefficients:\n",
      "              Estimate Std. Error z value Pr(>|z|)    \n",
      "(Intercept)   -6.09412    1.69747  -3.590 0.000331 ***\n",
      "DM             2.05600    0.46217   4.449 8.64e-06 ***\n",
      "statin        -0.97315    0.47156  -2.064 0.039049 *  \n",
      "Age            0.08570    0.02488   3.444 0.000573 ***\n",
      "log(VEGF.All) -0.35198    0.22048  -1.596 0.110400    \n",
      "---\n",
      "Signif. codes:  0 ‘***’ 0.001 ‘**’ 0.01 ‘*’ 0.05 ‘.’ 0.1 ‘ ’ 1\n",
      "\n",
      "(Dispersion parameter for binomial family taken to be 1)\n",
      "\n",
      "    Null deviance: 182.20  on 132  degrees of freedom\n",
      "Residual deviance: 125.73  on 128  degrees of freedom\n",
      "AIC: 135.73\n",
      "\n",
      "Number of Fisher Scoring iterations: 5\n",
      "\n"
     ]
    },
    {
     "name": "stderr",
     "output_type": "stream",
     "text": [
      "Warning message in log(CD34.All):\n",
      "“NaN이 생성되었습니다”"
     ]
    },
    {
     "name": "stdout",
     "output_type": "stream",
     "text": [
      "\n",
      "Call:\n",
      "glm(formula = formu, family = binomial(), data = data)\n",
      "\n",
      "Deviance Residuals: \n",
      "    Min       1Q   Median       3Q      Max  \n",
      "-2.0651  -0.6932  -0.3014   0.7237   2.3126  \n",
      "\n",
      "Coefficients:\n",
      "              Estimate Std. Error z value Pr(>|z|)    \n",
      "(Intercept)   -6.41788    1.67917  -3.822 0.000132 ***\n",
      "DM             2.25928    0.46268   4.883 1.04e-06 ***\n",
      "statin        -1.13512    0.46070  -2.464 0.013743 *  \n",
      "Age            0.08137    0.02448   3.325 0.000886 ***\n",
      "log(CD34.All) -0.09080    0.22823  -0.398 0.690728    \n",
      "---\n",
      "Signif. codes:  0 ‘***’ 0.001 ‘**’ 0.01 ‘*’ 0.05 ‘.’ 0.1 ‘ ’ 1\n",
      "\n",
      "(Dispersion parameter for binomial family taken to be 1)\n",
      "\n",
      "    Null deviance: 179.39  on 130  degrees of freedom\n",
      "Residual deviance: 125.38  on 126  degrees of freedom\n",
      "  (2 observations deleted due to missingness)\n",
      "AIC: 135.38\n",
      "\n",
      "Number of Fisher Scoring iterations: 5\n",
      "\n"
     ]
    },
    {
     "name": "stderr",
     "output_type": "stream",
     "text": [
      "Warning message in log(VEGF.1):\n",
      "“NaN이 생성되었습니다”"
     ]
    },
    {
     "name": "stdout",
     "output_type": "stream",
     "text": [
      "\n",
      "Call:\n",
      "glm(formula = formu, family = binomial(), data = data)\n",
      "\n",
      "Deviance Residuals: \n",
      "    Min       1Q   Median       3Q      Max  \n",
      "-2.0372  -0.7060  -0.3034   0.6806   2.2576  \n",
      "\n",
      "Coefficients:\n",
      "            Estimate Std. Error z value Pr(>|z|)    \n",
      "(Intercept) -8.54137    2.08410  -4.098 4.16e-05 ***\n",
      "DM           2.06523    0.46118   4.478 7.53e-06 ***\n",
      "statin      -0.95899    0.46630  -2.057 0.039723 *  \n",
      "Age          0.09038    0.02519   3.589 0.000332 ***\n",
      "log(VEGF.1)  0.42338    0.24155   1.753 0.079650 .  \n",
      "---\n",
      "Signif. codes:  0 ‘***’ 0.001 ‘**’ 0.01 ‘*’ 0.05 ‘.’ 0.1 ‘ ’ 1\n",
      "\n",
      "(Dispersion parameter for binomial family taken to be 1)\n",
      "\n",
      "    Null deviance: 181.05  on 131  degrees of freedom\n",
      "Residual deviance: 124.39  on 127  degrees of freedom\n",
      "  (1 observation deleted due to missingness)\n",
      "AIC: 134.39\n",
      "\n",
      "Number of Fisher Scoring iterations: 5\n",
      "\n",
      "\n",
      "Call:\n",
      "glm(formula = formu, family = binomial(), data = data)\n",
      "\n",
      "Deviance Residuals: \n",
      "    Min       1Q   Median       3Q      Max  \n",
      "-2.0812  -0.7280  -0.3220   0.6635   2.4412  \n",
      "\n",
      "Coefficients:\n",
      "             Estimate Std. Error z value Pr(>|z|)    \n",
      "(Intercept) -13.69683    5.97513  -2.292 0.021888 *  \n",
      "DM            2.08583    0.46029   4.532 5.85e-06 ***\n",
      "statin       -1.06544    0.46413  -2.296 0.021699 *  \n",
      "Age           0.08472    0.02450   3.459 0.000543 ***\n",
      "log(SDF.1)    0.91998    0.72107   1.276 0.202006    \n",
      "---\n",
      "Signif. codes:  0 ‘***’ 0.001 ‘**’ 0.01 ‘*’ 0.05 ‘.’ 0.1 ‘ ’ 1\n",
      "\n",
      "(Dispersion parameter for binomial family taken to be 1)\n",
      "\n",
      "    Null deviance: 182.20  on 132  degrees of freedom\n",
      "Residual deviance: 126.65  on 128  degrees of freedom\n",
      "AIC: 136.65\n",
      "\n",
      "Number of Fisher Scoring iterations: 5\n",
      "\n"
     ]
    }
   ],
   "source": [
    "for(key in c('Average.CFU', 'VEGF', 'CD34.VEGF', 'CD34', 'VEGF.All', 'CD34.All', 'VEGF.1', 'SDF.1')){\n",
    "    formu <- paste(\"PAD ~ DM + statin + Age + log(\", key,\")\")\n",
    "    model <- glm(formu, family = binomial(),data = data)\n",
    "    print(summary(model))\n",
    "}"
   ]
  },
  {
   "cell_type": "markdown",
   "metadata": {},
   "source": [
    "#### 결과 \n",
    "log(VEGF), log(VEGF.1) 이 경계수준"
   ]
  },
  {
   "cell_type": "markdown",
   "metadata": {},
   "source": [
    "### DM+statin+Age+ACS 에 추가"
   ]
  },
  {
   "cell_type": "code",
   "execution_count": 51,
   "metadata": {
    "scrolled": false
   },
   "outputs": [
    {
     "name": "stdout",
     "output_type": "stream",
     "text": [
      "\n",
      "Call:\n",
      "glm(formula = formu, family = binomial(), data = data)\n",
      "\n",
      "Deviance Residuals: \n",
      "    Min       1Q   Median       3Q      Max  \n",
      "-2.0466  -0.8079  -0.2651   0.7295   2.4208  \n",
      "\n",
      "Coefficients:\n",
      "                 Estimate Std. Error z value Pr(>|z|)    \n",
      "(Intercept)      -7.45599    2.68811  -2.774  0.00554 ** \n",
      "DM                2.05484    0.46526   4.417    1e-05 ***\n",
      "statin           -1.37047    0.49718  -2.756  0.00584 ** \n",
      "Age               0.08493    0.02484   3.419  0.00063 ***\n",
      "ACS               1.19539    0.60270   1.983  0.04732 *  \n",
      "log(Average.CFU)  0.57296    1.39343   0.411  0.68094    \n",
      "---\n",
      "Signif. codes:  0 ‘***’ 0.001 ‘**’ 0.01 ‘*’ 0.05 ‘.’ 0.1 ‘ ’ 1\n",
      "\n",
      "(Dispersion parameter for binomial family taken to be 1)\n",
      "\n",
      "    Null deviance: 182.20  on 132  degrees of freedom\n",
      "Residual deviance: 124.12  on 127  degrees of freedom\n",
      "AIC: 136.12\n",
      "\n",
      "Number of Fisher Scoring iterations: 5\n",
      "\n",
      "\n",
      "Call:\n",
      "glm(formula = formu, family = binomial(), data = data)\n",
      "\n",
      "Deviance Residuals: \n",
      "    Min       1Q   Median       3Q      Max  \n",
      "-2.1902  -0.7568  -0.2801   0.7265   2.3870  \n",
      "\n",
      "Coefficients:\n",
      "            Estimate Std. Error z value Pr(>|z|)    \n",
      "(Intercept) -6.38205    1.73810  -3.672 0.000241 ***\n",
      "DM           1.95355    0.47167   4.142 3.45e-05 ***\n",
      "statin      -1.04874    0.48538  -2.161 0.030723 *  \n",
      "Age          0.08747    0.02548   3.433 0.000598 ***\n",
      "ACS          1.22740    0.63087   1.946 0.051707 .  \n",
      "log(VEGF)   -0.34385    0.19699  -1.746 0.080891 .  \n",
      "---\n",
      "Signif. codes:  0 ‘***’ 0.001 ‘**’ 0.01 ‘*’ 0.05 ‘.’ 0.1 ‘ ’ 1\n",
      "\n",
      "(Dispersion parameter for binomial family taken to be 1)\n",
      "\n",
      "    Null deviance: 182.20  on 132  degrees of freedom\n",
      "Residual deviance: 120.89  on 127  degrees of freedom\n",
      "AIC: 132.89\n",
      "\n",
      "Number of Fisher Scoring iterations: 5\n",
      "\n",
      "\n",
      "Call:\n",
      "glm(formula = formu, family = binomial(), data = data)\n",
      "\n",
      "Deviance Residuals: \n",
      "    Min       1Q   Median       3Q      Max  \n",
      "-2.0800  -0.8061  -0.2688   0.7042   2.4349  \n",
      "\n",
      "Coefficients:\n",
      "               Estimate Std. Error z value Pr(>|z|)    \n",
      "(Intercept)    -6.49682    1.72860  -3.758 0.000171 ***\n",
      "DM              2.07620    0.46860   4.431 9.39e-06 ***\n",
      "statin         -1.29961    0.46672  -2.785 0.005360 ** \n",
      "Age             0.08544    0.02474   3.453 0.000554 ***\n",
      "ACS             1.19077    0.60502   1.968 0.049049 *  \n",
      "log(CD34.VEGF)  0.07238    0.27878   0.260 0.795146    \n",
      "---\n",
      "Signif. codes:  0 ‘***’ 0.001 ‘**’ 0.01 ‘*’ 0.05 ‘.’ 0.1 ‘ ’ 1\n",
      "\n",
      "(Dispersion parameter for binomial family taken to be 1)\n",
      "\n",
      "    Null deviance: 182.20  on 132  degrees of freedom\n",
      "Residual deviance: 124.22  on 127  degrees of freedom\n",
      "AIC: 136.22\n",
      "\n",
      "Number of Fisher Scoring iterations: 5\n",
      "\n"
     ]
    },
    {
     "name": "stderr",
     "output_type": "stream",
     "text": [
      "Warning message in log(CD34):\n",
      "“NaN이 생성되었습니다”"
     ]
    },
    {
     "name": "stdout",
     "output_type": "stream",
     "text": [
      "\n",
      "Call:\n",
      "glm(formula = formu, family = binomial(), data = data)\n",
      "\n",
      "Deviance Residuals: \n",
      "    Min       1Q   Median       3Q      Max  \n",
      "-2.2869  -0.7834  -0.2334   0.7600   2.3677  \n",
      "\n",
      "Coefficients:\n",
      "            Estimate Std. Error z value Pr(>|z|)   \n",
      "(Intercept) -6.68717    2.19020  -3.053  0.00226 **\n",
      "DM           1.95165    0.62102   3.143  0.00167 **\n",
      "statin      -1.41953    0.60243  -2.356  0.01846 * \n",
      "Age          0.08388    0.03091   2.714  0.00665 **\n",
      "ACS          2.49931    1.16702   2.142  0.03222 * \n",
      "log(CD34)   -0.09798    0.20091  -0.488  0.62579   \n",
      "---\n",
      "Signif. codes:  0 ‘***’ 0.001 ‘**’ 0.01 ‘*’ 0.05 ‘.’ 0.1 ‘ ’ 1\n",
      "\n",
      "(Dispersion parameter for binomial family taken to be 1)\n",
      "\n",
      "    Null deviance: 121.812  on 87  degrees of freedom\n",
      "Residual deviance:  79.435  on 82  degrees of freedom\n",
      "  (45 observations deleted due to missingness)\n",
      "AIC: 91.435\n",
      "\n",
      "Number of Fisher Scoring iterations: 5\n",
      "\n",
      "\n",
      "Call:\n",
      "glm(formula = formu, family = binomial(), data = data)\n",
      "\n",
      "Deviance Residuals: \n",
      "    Min       1Q   Median       3Q      Max  \n",
      "-2.1651  -0.7696  -0.2813   0.7236   2.3861  \n",
      "\n",
      "Coefficients:\n",
      "              Estimate Std. Error z value Pr(>|z|)    \n",
      "(Intercept)   -6.26282    1.72369  -3.633 0.000280 ***\n",
      "DM             1.97462    0.47014   4.200 2.67e-05 ***\n",
      "statin        -1.08147    0.48515  -2.229 0.025805 *  \n",
      "Age            0.08663    0.02523   3.433 0.000597 ***\n",
      "ACS            1.21549    0.62893   1.933 0.053282 .  \n",
      "log(VEGF.All) -0.35346    0.22507  -1.570 0.116316    \n",
      "---\n",
      "Signif. codes:  0 ‘***’ 0.001 ‘**’ 0.01 ‘*’ 0.05 ‘.’ 0.1 ‘ ’ 1\n",
      "\n",
      "(Dispersion parameter for binomial family taken to be 1)\n",
      "\n",
      "    Null deviance: 182.20  on 132  degrees of freedom\n",
      "Residual deviance: 121.75  on 127  degrees of freedom\n",
      "AIC: 133.75\n",
      "\n",
      "Number of Fisher Scoring iterations: 5\n",
      "\n"
     ]
    },
    {
     "name": "stderr",
     "output_type": "stream",
     "text": [
      "Warning message in log(CD34.All):\n",
      "“NaN이 생성되었습니다”"
     ]
    },
    {
     "name": "stdout",
     "output_type": "stream",
     "text": [
      "\n",
      "Call:\n",
      "glm(formula = formu, family = binomial(), data = data)\n",
      "\n",
      "Deviance Residuals: \n",
      "    Min       1Q   Median       3Q      Max  \n",
      "-2.0134  -0.7499  -0.2867   0.7020   2.3907  \n",
      "\n",
      "Coefficients:\n",
      "              Estimate Std. Error z value Pr(>|z|)    \n",
      "(Intercept)   -6.49501    1.68879  -3.846 0.000120 ***\n",
      "DM             2.12908    0.46970   4.533 5.82e-06 ***\n",
      "statin        -1.22255    0.47402  -2.579 0.009905 ** \n",
      "Age            0.08251    0.02475   3.334 0.000857 ***\n",
      "ACS            1.02024    0.62608   1.630 0.103192    \n",
      "log(CD34.All) -0.03902    0.23872  -0.163 0.870150    \n",
      "---\n",
      "Signif. codes:  0 ‘***’ 0.001 ‘**’ 0.01 ‘*’ 0.05 ‘.’ 0.1 ‘ ’ 1\n",
      "\n",
      "(Dispersion parameter for binomial family taken to be 1)\n",
      "\n",
      "    Null deviance: 179.39  on 130  degrees of freedom\n",
      "Residual deviance: 122.60  on 125  degrees of freedom\n",
      "  (2 observations deleted due to missingness)\n",
      "AIC: 134.6\n",
      "\n",
      "Number of Fisher Scoring iterations: 5\n",
      "\n"
     ]
    },
    {
     "name": "stderr",
     "output_type": "stream",
     "text": [
      "Warning message in log(VEGF.1):\n",
      "“NaN이 생성되었습니다”"
     ]
    },
    {
     "name": "stdout",
     "output_type": "stream",
     "text": [
      "\n",
      "Call:\n",
      "glm(formula = formu, family = binomial(), data = data)\n",
      "\n",
      "Deviance Residuals: \n",
      "    Min       1Q   Median       3Q      Max  \n",
      "-1.9562  -0.7327  -0.2813   0.6996   2.3325  \n",
      "\n",
      "Coefficients:\n",
      "            Estimate Std. Error z value Pr(>|z|)    \n",
      "(Intercept) -8.45817    2.09382  -4.040 5.35e-05 ***\n",
      "DM           1.97339    0.46871   4.210 2.55e-05 ***\n",
      "statin      -1.04933    0.48262  -2.174 0.029687 *  \n",
      "Age          0.08962    0.02539   3.530 0.000415 ***\n",
      "ACS          1.10293    0.62053   1.777 0.075504 .  \n",
      "log(VEGF.1)  0.39076    0.24745   1.579 0.114304    \n",
      "---\n",
      "Signif. codes:  0 ‘***’ 0.001 ‘**’ 0.01 ‘*’ 0.05 ‘.’ 0.1 ‘ ’ 1\n",
      "\n",
      "(Dispersion parameter for binomial family taken to be 1)\n",
      "\n",
      "    Null deviance: 181.05  on 131  degrees of freedom\n",
      "Residual deviance: 121.07  on 126  degrees of freedom\n",
      "  (1 observation deleted due to missingness)\n",
      "AIC: 133.07\n",
      "\n",
      "Number of Fisher Scoring iterations: 5\n",
      "\n",
      "\n",
      "Call:\n",
      "glm(formula = formu, family = binomial(), data = data)\n",
      "\n",
      "Deviance Residuals: \n",
      "    Min       1Q   Median       3Q      Max  \n",
      "-2.0058  -0.7048  -0.3007   0.6762   2.4837  \n",
      "\n",
      "Coefficients:\n",
      "             Estimate Std. Error z value Pr(>|z|)    \n",
      "(Intercept) -12.04878    6.00813  -2.005 0.044919 *  \n",
      "DM            1.99956    0.46917   4.262 2.03e-05 ***\n",
      "statin       -1.17459    0.48280  -2.433 0.014980 *  \n",
      "Age           0.08484    0.02480   3.420 0.000626 ***\n",
      "ACS           1.10605    0.62404   1.772 0.076330 .  \n",
      "log(SDF.1)    0.69797    0.73185   0.954 0.340232    \n",
      "---\n",
      "Signif. codes:  0 ‘***’ 0.001 ‘**’ 0.01 ‘*’ 0.05 ‘.’ 0.1 ‘ ’ 1\n",
      "\n",
      "(Dispersion parameter for binomial family taken to be 1)\n",
      "\n",
      "    Null deviance: 182.20  on 132  degrees of freedom\n",
      "Residual deviance: 123.35  on 127  degrees of freedom\n",
      "AIC: 135.35\n",
      "\n",
      "Number of Fisher Scoring iterations: 5\n",
      "\n"
     ]
    }
   ],
   "source": [
    "for(key in c('Average.CFU', 'VEGF', 'CD34.VEGF', 'CD34', 'VEGF.All', 'CD34.All', 'VEGF.1', 'SDF.1')){\n",
    "    formu <- paste(\"PAD ~ DM + statin + Age + ACS + log(\", key,\")\")\n",
    "    model <- glm(formu, family = binomial(),data = data)\n",
    "    print(summary(model))\n",
    "}"
   ]
  },
  {
   "cell_type": "markdown",
   "metadata": {},
   "source": [
    "### 결과3\n",
    "\n",
    "log 변환 한 값들 중\n",
    "\n",
    "- VEGF\n",
    "\n",
    "정도가 경계수준으로 유의미하게 보인다. \n",
    "ACS를 고려해도 마찬가지다. \n",
    "\n",
    "    => VEFG.1 과 SDF.1, log(VEGF)정도 고려해서 모델을 만들면 좋을 것 같다. \n"
   ]
  },
  {
   "cell_type": "markdown",
   "metadata": {},
   "source": [
    "## 모형 적합"
   ]
  },
  {
   "cell_type": "markdown",
   "metadata": {},
   "source": [
    "가장 p-value 가 낮은 VEGF.1 부터 추가해보자 \n"
   ]
  },
  {
   "cell_type": "code",
   "execution_count": 52,
   "metadata": {
    "scrolled": false
   },
   "outputs": [
    {
     "data": {
      "text/plain": [
       "\n",
       "Call:\n",
       "glm(formula = PAD ~ DM + statin + Age + ACS + VEGF.1, family = binomial(), \n",
       "    data = data)\n",
       "\n",
       "Deviance Residuals: \n",
       "    Min       1Q   Median       3Q      Max  \n",
       "-1.8398  -0.6894  -0.2765   0.6664   2.3890  \n",
       "\n",
       "Coefficients:\n",
       "             Estimate Std. Error z value Pr(>|z|)    \n",
       "(Intercept) -7.559720   1.811815  -4.172 3.01e-05 ***\n",
       "DM           1.926082   0.477539   4.033 5.50e-05 ***\n",
       "statin      -0.959162   0.480185  -1.997 0.045772 *  \n",
       "Age          0.087993   0.025626   3.434 0.000595 ***\n",
       "ACS          1.188222   0.642194   1.850 0.064277 .  \n",
       "VEGF.1       0.009456   0.003825   2.472 0.013422 *  \n",
       "---\n",
       "Signif. codes:  0 ‘***’ 0.001 ‘**’ 0.01 ‘*’ 0.05 ‘.’ 0.1 ‘ ’ 1\n",
       "\n",
       "(Dispersion parameter for binomial family taken to be 1)\n",
       "\n",
       "    Null deviance: 182.20  on 132  degrees of freedom\n",
       "Residual deviance: 116.18  on 127  degrees of freedom\n",
       "AIC: 128.18\n",
       "\n",
       "Number of Fisher Scoring iterations: 5\n"
      ]
     },
     "metadata": {},
     "output_type": "display_data"
    }
   ],
   "source": [
    "model <- glm(PAD ~ DM + statin + Age + ACS + VEGF.1, family = binomial(),data = data)\n",
    "summary(model)"
   ]
  },
  {
   "cell_type": "markdown",
   "metadata": {},
   "source": [
    "#### SDF.1 추가"
   ]
  },
  {
   "cell_type": "code",
   "execution_count": 53,
   "metadata": {},
   "outputs": [
    {
     "data": {
      "text/plain": [
       "\n",
       "Call:\n",
       "glm(formula = PAD ~ DM + statin + Age + ACS + VEGF.1 + SDF.1, \n",
       "    family = binomial(), data = data)\n",
       "\n",
       "Deviance Residuals: \n",
       "    Min       1Q   Median       3Q      Max  \n",
       "-1.8294  -0.6584  -0.3009   0.6548   2.4608  \n",
       "\n",
       "Coefficients:\n",
       "              Estimate Std. Error z value Pr(>|z|)    \n",
       "(Intercept) -8.3226319  2.0068025  -4.147 3.37e-05 ***\n",
       "DM           1.8783747  0.4805337   3.909 9.27e-05 ***\n",
       "statin      -0.8346767  0.4948741  -1.687 0.091672 .  \n",
       "Age          0.0863593  0.0257095   3.359 0.000782 ***\n",
       "ACS          1.1317607  0.6583418   1.719 0.085595 .  \n",
       "VEGF.1       0.0089560  0.0039227   2.283 0.022422 *  \n",
       "SDF.1        0.0003349  0.0003353   0.999 0.317893    \n",
       "---\n",
       "Signif. codes:  0 ‘***’ 0.001 ‘**’ 0.01 ‘*’ 0.05 ‘.’ 0.1 ‘ ’ 1\n",
       "\n",
       "(Dispersion parameter for binomial family taken to be 1)\n",
       "\n",
       "    Null deviance: 182.20  on 132  degrees of freedom\n",
       "Residual deviance: 115.14  on 126  degrees of freedom\n",
       "AIC: 129.14\n",
       "\n",
       "Number of Fisher Scoring iterations: 5\n"
      ]
     },
     "metadata": {},
     "output_type": "display_data"
    }
   ],
   "source": [
    "model <- glm(PAD ~ DM + statin + Age + ACS + VEGF.1 + SDF.1, family = binomial(),data = data)\n",
    "summary(model)"
   ]
  },
  {
   "cell_type": "markdown",
   "metadata": {},
   "source": [
    "SDF.1 은 넣어도 유의미하지 않음\n",
    "#### log(VEGF) 추가\n"
   ]
  },
  {
   "cell_type": "code",
   "execution_count": 54,
   "metadata": {},
   "outputs": [
    {
     "data": {
      "text/plain": [
       "\n",
       "Call:\n",
       "glm(formula = PAD ~ DM + statin + Age + ACS + VEGF.1 + log(VEGF), \n",
       "    family = binomial(), data = data)\n",
       "\n",
       "Deviance Residuals: \n",
       "    Min       1Q   Median       3Q      Max  \n",
       "-2.2447  -0.6528  -0.2452   0.6470   2.3601  \n",
       "\n",
       "Coefficients:\n",
       "             Estimate Std. Error z value Pr(>|z|)    \n",
       "(Intercept) -7.629106   1.909642  -3.995 6.47e-05 ***\n",
       "DM           1.812900   0.486195   3.729 0.000192 ***\n",
       "statin      -0.640216   0.504190  -1.270 0.204159    \n",
       "Age          0.093596   0.026972   3.470 0.000520 ***\n",
       "ACS          1.360287   0.686926   1.980 0.047675 *  \n",
       "VEGF.1       0.010437   0.003978   2.624 0.008700 ** \n",
       "log(VEGF)   -0.406588   0.202929  -2.004 0.045114 *  \n",
       "---\n",
       "Signif. codes:  0 ‘***’ 0.001 ‘**’ 0.01 ‘*’ 0.05 ‘.’ 0.1 ‘ ’ 1\n",
       "\n",
       "(Dispersion parameter for binomial family taken to be 1)\n",
       "\n",
       "    Null deviance: 182.20  on 132  degrees of freedom\n",
       "Residual deviance: 111.68  on 126  degrees of freedom\n",
       "AIC: 125.68\n",
       "\n",
       "Number of Fisher Scoring iterations: 5\n"
      ]
     },
     "metadata": {},
     "output_type": "display_data"
    }
   ],
   "source": [
    "model <- glm(PAD ~ DM + statin + Age + ACS + VEGF.1 + log(VEGF), family = binomial(),data = data)\n",
    "summary(model)"
   ]
  },
  {
   "cell_type": "markdown",
   "metadata": {},
   "source": [
    "#### statin 제거"
   ]
  },
  {
   "cell_type": "code",
   "execution_count": 55,
   "metadata": {},
   "outputs": [
    {
     "data": {
      "text/plain": [
       "\n",
       "Call:\n",
       "glm(formula = PAD ~ DM + Age + ACS + VEGF.1 + log(VEGF), family = binomial(), \n",
       "    data = data)\n",
       "\n",
       "Deviance Residuals: \n",
       "    Min       1Q   Median       3Q      Max  \n",
       "-2.4059  -0.7055  -0.2637   0.6492   2.2260  \n",
       "\n",
       "Coefficients:\n",
       "             Estimate Std. Error z value Pr(>|z|)    \n",
       "(Intercept) -7.978620   1.917421  -4.161 3.17e-05 ***\n",
       "DM           1.783060   0.479617   3.718 0.000201 ***\n",
       "Age          0.094972   0.027160   3.497 0.000471 ***\n",
       "ACS          1.319486   0.692975   1.904 0.056898 .  \n",
       "VEGF.1       0.011453   0.003846   2.978 0.002904 ** \n",
       "log(VEGF)   -0.478785   0.195141  -2.454 0.014146 *  \n",
       "---\n",
       "Signif. codes:  0 ‘***’ 0.001 ‘**’ 0.01 ‘*’ 0.05 ‘.’ 0.1 ‘ ’ 1\n",
       "\n",
       "(Dispersion parameter for binomial family taken to be 1)\n",
       "\n",
       "    Null deviance: 182.20  on 132  degrees of freedom\n",
       "Residual deviance: 113.31  on 127  degrees of freedom\n",
       "AIC: 125.31\n",
       "\n",
       "Number of Fisher Scoring iterations: 5\n"
      ]
     },
     "metadata": {},
     "output_type": "display_data"
    }
   ],
   "source": [
    "model <- glm(PAD ~ DM + Age + ACS + VEGF.1 + log(VEGF), family = binomial(),data = data)\n",
    "summary(model)"
   ]
  },
  {
   "cell_type": "markdown",
   "metadata": {},
   "source": [
    "#### ACS 제거"
   ]
  },
  {
   "cell_type": "code",
   "execution_count": 63,
   "metadata": {
    "scrolled": false
   },
   "outputs": [
    {
     "data": {
      "text/plain": [
       "\n",
       "Call:\n",
       "glm(formula = PAD ~ DM + statin + Age + VEGF.1 + log(VEGF), family = binomial(), \n",
       "    data = data)\n",
       "\n",
       "Deviance Residuals: \n",
       "    Min       1Q   Median       3Q      Max  \n",
       "-1.8984  -0.6749  -0.2781   0.6067   2.2720  \n",
       "\n",
       "Coefficients:\n",
       "             Estimate Std. Error z value Pr(>|z|)    \n",
       "(Intercept) -7.430998   1.872222  -3.969 7.22e-05 ***\n",
       "DM           1.888039   0.477227   3.956 7.61e-05 ***\n",
       "statin      -0.569195   0.493432  -1.154 0.248688    \n",
       "Age          0.092452   0.026490   3.490 0.000483 ***\n",
       "VEGF.1       0.009915   0.003794   2.613 0.008971 ** \n",
       "log(VEGF)   -0.372014   0.196390  -1.894 0.058190 .  \n",
       "---\n",
       "Signif. codes:  0 ‘***’ 0.001 ‘**’ 0.01 ‘*’ 0.05 ‘.’ 0.1 ‘ ’ 1\n",
       "\n",
       "(Dispersion parameter for binomial family taken to be 1)\n",
       "\n",
       "    Null deviance: 182.20  on 132  degrees of freedom\n",
       "Residual deviance: 115.81  on 127  degrees of freedom\n",
       "AIC: 127.81\n",
       "\n",
       "Number of Fisher Scoring iterations: 5\n"
      ]
     },
     "metadata": {},
     "output_type": "display_data"
    }
   ],
   "source": [
    "model <- glm(PAD ~ DM + statin + Age + VEGF.1 + log(VEGF), family = binomial(),data = data)\n",
    "summary(model)"
   ]
  },
  {
   "cell_type": "code",
   "execution_count": 57,
   "metadata": {},
   "outputs": [
    {
     "data": {
      "text/plain": [
       "Subset selection object\n",
       "Call: regsubsets.formula(PAD ~ DM + statin + Age + ACS + VEGF.1 + log(VEGF) + \n",
       "    SDF.1, data = data, nvmax = 20)\n",
       "7 Variables  (and intercept)\n",
       "          Forced in Forced out\n",
       "DM            FALSE      FALSE\n",
       "statin        FALSE      FALSE\n",
       "Age           FALSE      FALSE\n",
       "ACS           FALSE      FALSE\n",
       "VEGF.1        FALSE      FALSE\n",
       "log(VEGF)     FALSE      FALSE\n",
       "SDF.1         FALSE      FALSE\n",
       "1 subsets of each size up to 7\n",
       "Selection Algorithm: exhaustive\n",
       "         DM  statin Age ACS VEGF.1 log(VEGF) SDF.1\n",
       "1  ( 1 ) \"*\" \" \"    \" \" \" \" \" \"    \" \"       \" \"  \n",
       "2  ( 1 ) \"*\" \" \"    \"*\" \" \" \" \"    \" \"       \" \"  \n",
       "3  ( 1 ) \"*\" \" \"    \"*\" \" \" \"*\"    \" \"       \" \"  \n",
       "4  ( 1 ) \"*\" \" \"    \"*\" \" \" \"*\"    \"*\"       \" \"  \n",
       "5  ( 1 ) \"*\" \" \"    \"*\" \"*\" \"*\"    \"*\"       \" \"  \n",
       "6  ( 1 ) \"*\" \"*\"    \"*\" \"*\" \"*\"    \"*\"       \" \"  \n",
       "7  ( 1 ) \"*\" \"*\"    \"*\" \"*\" \"*\"    \"*\"       \"*\"  "
      ]
     },
     "metadata": {},
     "output_type": "display_data"
    }
   ],
   "source": [
    "library(leaps)\n",
    "\n",
    "b <- regsubsets(PAD ~ DM + statin + Age + ACS + VEGF.1 + log(VEGF) + SDF.1, data=data, nvmax = 20)\n",
    "summary(b)"
   ]
  },
  {
   "cell_type": "markdown",
   "metadata": {},
   "source": [
    "PAD ~ DM + Age + ACS + VEGF.1 + log(VEGF) 정도의 모델이 잘 만든 모델로 생각된다. "
   ]
  },
  {
   "cell_type": "code",
   "execution_count": 58,
   "metadata": {
    "scrolled": false
   },
   "outputs": [
    {
     "data": {
      "text/html": [
       "<table>\n",
       "<thead><tr><th scope=col>#Df</th><th scope=col>LogLik</th><th scope=col>Df</th><th scope=col>Chisq</th><th scope=col>Pr(&gt;Chisq)</th></tr></thead>\n",
       "<tbody>\n",
       "\t<tr><td>6        </td><td>-56.65605</td><td>NA       </td><td>      NA </td><td>       NA</td></tr>\n",
       "\t<tr><td>7        </td><td>-55.83907</td><td> 1       </td><td>1.633968 </td><td>0.2011551</td></tr>\n",
       "</tbody>\n",
       "</table>\n"
      ],
      "text/latex": [
       "\\begin{tabular}{r|lllll}\n",
       " \\#Df & LogLik & Df & Chisq & Pr(>Chisq)\\\\\n",
       "\\hline\n",
       "\t 6         & -56.65605 & NA        &       NA  &        NA\\\\\n",
       "\t 7         & -55.83907 &  1        & 1.633968  & 0.2011551\\\\\n",
       "\\end{tabular}\n"
      ],
      "text/markdown": [
       "\n",
       "#Df | LogLik | Df | Chisq | Pr(>Chisq) | \n",
       "|---|---|\n",
       "| 6         | -56.65605 | NA        |       NA  |        NA | \n",
       "| 7         | -55.83907 |  1        | 1.633968  | 0.2011551 | \n",
       "\n",
       "\n"
      ],
      "text/plain": [
       "  #Df LogLik    Df Chisq    Pr(>Chisq)\n",
       "1 6   -56.65605 NA       NA        NA \n",
       "2 7   -55.83907  1 1.633968 0.2011551 "
      ]
     },
     "metadata": {},
     "output_type": "display_data"
    },
    {
     "name": "stderr",
     "output_type": "stream",
     "text": [
      "Warning message:\n",
      "“glm.fit: fitted probabilities numerically 0 or 1 occurred”"
     ]
    },
    {
     "data": {
      "text/html": [
       "<table>\n",
       "<thead><tr><th scope=col>#Df</th><th scope=col>LogLik</th><th scope=col>Df</th><th scope=col>Chisq</th><th scope=col>Pr(&gt;Chisq)</th></tr></thead>\n",
       "<tbody>\n",
       "\t<tr><td> 6       </td><td>-56.65605</td><td>NA       </td><td>      NA </td><td>      NA </td></tr>\n",
       "\t<tr><td>29       </td><td>-40.87244</td><td>23       </td><td>31.56721 </td><td>0.109484 </td></tr>\n",
       "</tbody>\n",
       "</table>\n"
      ],
      "text/latex": [
       "\\begin{tabular}{r|lllll}\n",
       " \\#Df & LogLik & Df & Chisq & Pr(>Chisq)\\\\\n",
       "\\hline\n",
       "\t  6        & -56.65605 & NA        &       NA  &       NA \\\\\n",
       "\t 29        & -40.87244 & 23        & 31.56721  & 0.109484 \\\\\n",
       "\\end{tabular}\n"
      ],
      "text/markdown": [
       "\n",
       "#Df | LogLik | Df | Chisq | Pr(>Chisq) | \n",
       "|---|---|\n",
       "|  6        | -56.65605 | NA        |       NA  |       NA  | \n",
       "| 29        | -40.87244 | 23        | 31.56721  | 0.109484  | \n",
       "\n",
       "\n"
      ],
      "text/plain": [
       "  #Df LogLik    Df Chisq    Pr(>Chisq)\n",
       "1  6  -56.65605 NA       NA       NA  \n",
       "2 29  -40.87244 23 31.56721 0.109484  "
      ]
     },
     "metadata": {},
     "output_type": "display_data"
    }
   ],
   "source": [
    "library(lmtest)\n",
    "model1 <- glm(PAD ~ DM + Age + VEGF.1 +log(VEGF) + ACS, family = binomial(),data = data)\n",
    "model2 <- glm(PAD ~ DM + statin + Age + VEGF.1 + log(VEGF) + ACS, family = binomial(),data = data)\n",
    "lrtest(model1, model2)\n",
    "\n",
    "model3 <- glm(PAD ~ DM * statin * Age * ACS * VEGF.1 * ACS, family = binomial(),data = data)\n",
    "lrtest(model1, model3)"
   ]
  },
  {
   "cell_type": "markdown",
   "metadata": {},
   "source": [
    "### 적합 결과\n",
    "\n",
    "DM + Age + ACS + VEGF.1 + log(VEGF) 정도의 모형이 적합해보인다. \n",
    "\n",
    "따라서\n",
    "- VEGF.1\n",
    "- log(VEGF) \n",
    "\n",
    "정도가 PAD 지표로 사용될 수도 있겠다. "
   ]
  },
  {
   "cell_type": "markdown",
   "metadata": {},
   "source": [
    "---\n",
    "# 요약\n",
    "---"
   ]
  },
  {
   "cell_type": "markdown",
   "metadata": {},
   "source": [
    "### Wilcox test \n",
    "\n",
    "PAD 에 따른 지표를 검사한 test 에서는 \n",
    "- VEGF\n",
    "- VEGF.All\n",
    "- VEGF.1\n",
    "- SDF.1\n",
    "\n",
    "정도가 유의미하게 나왔으나, \n",
    "Age, DM, statin 등의 교란변수를 고려하면 \n",
    "\n",
    "**VEGF.1** 만 유의미한 결과를 보일 때가 있다. \n",
    "\n",
    "이러한 분석의 경우, CLI 가 생기고 나서의 전후 지표값을 비교하는 식으로, \n",
    "\n",
    "paired test 를 염두에 두고 연구를 디자인했으면 더욱 좋았을 것 \n",
    "\n",
    "\n",
    "### 로지스틱 회귀 \n",
    "\n",
    "로지스틱 회귀에서는 Demographic 요소인 \n",
    "\n",
    "DM statin Age ACS 를 고려하면 \n",
    "\n",
    "VEGF.1 정도가 유의미하고, \n",
    "\n",
    "log(VEGF) 도 지표로서 가능성이 있어 보인다. "
   ]
  },
  {
   "cell_type": "code",
   "execution_count": null,
   "metadata": {},
   "outputs": [],
   "source": []
  }
 ],
 "metadata": {
  "kernelspec": {
   "display_name": "R",
   "language": "R",
   "name": "ir"
  },
  "language_info": {
   "codemirror_mode": "r",
   "file_extension": ".r",
   "mimetype": "text/x-r-source",
   "name": "R",
   "pygments_lexer": "r",
   "version": "3.3.2"
  }
 },
 "nbformat": 4,
 "nbformat_minor": 2
}
