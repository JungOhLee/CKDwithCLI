{
 "cells": [
  {
   "cell_type": "markdown",
   "metadata": {
    "collapsed": true
   },
   "source": [
    "# 분석2 : CLI 에 따른 lab data 분석 \n",
    "\n",
    "## TOC\n",
    "* [데이터 탐색](#데이터-탐색)\n",
    "    * [평균 및 분포](#평균-및-분포-확인)\n",
    "    * [정규성 검정](#정규성-검정)\n",
    "    * [로그데이터](#로그-데이터-확인)\n",
    "    * [변수간 상관관계](#상관관계-파악)\n",
    "    \n",
    "* [데이터 검정](#Lab-data-검정)\n",
    "    * [Wilcox test](#Wilcox-test)\n",
    "    * [log의 Wilcox test](#log에-대한-wilcox-test)\n",
    "    * [교란 변수 고정 분석](#교란-변수-제거)\n",
    "    * [교란 변수 고정 분석(로그)](#로그-변수에-대한-교란변수-고정)\n",
    "\n",
    "* [Logistic regression](#로지스틱-회귀)\n",
    "    * [DM+alcohol+statin+HTN](#DM+alcohol+statin+HTN-모형에-추가)\n",
    "        * [결과](#결과1)\n",
    "    * [DM+alcohol+statin](#DM+alcohol+statin-모형에-추가)\n",
    "        * [결과](#결과2)\n",
    "    * [로그변수에 대한 회귀](#로그변수에-대한-로지스틱-회귀)\n",
    "    * [모형적합](#모형-적합)\n",
    "        * [적합 결과](#적합-결과)\n",
    "* [요약](#요약)\n",
    "\n",
    "\n",
    "#### 2) 분석 2\n",
    "\n",
    "CLI 유무에 따른 lab data (Average CFU, VEGF, VEGF/CD34, CD34, SDF-1, VEGF) 의 차이를 보는 것이 분석 2 입니다.\n",
    "\n",
    "즉 [Group 3+4+5]와 [Group 6+7+8] 의 상기 변수의 차이를 통계적으로 분석하는 것이 필요합니다. "
   ]
  },
  {
   "cell_type": "markdown",
   "metadata": {},
   "source": [
    "### CLI 집단과 비CLI 집단 사이의 lab 수치 비교\n",
    "\n",
    "Average CFU, VEGF, VEGF/CD34, CD34, SDF-1, VEGF : 연속형 데이터\n",
    "    \n",
    "    => t-test or wilcoxon test"
   ]
  },
  {
   "cell_type": "code",
   "execution_count": 16,
   "metadata": {},
   "outputs": [
    {
     "data": {
      "text/html": [
       "<ol class=list-inline>\n",
       "\t<li>133</li>\n",
       "\t<li>25</li>\n",
       "</ol>\n"
      ],
      "text/latex": [
       "\\begin{enumerate*}\n",
       "\\item 133\n",
       "\\item 25\n",
       "\\end{enumerate*}\n"
      ],
      "text/markdown": [
       "1. 133\n",
       "2. 25\n",
       "\n",
       "\n"
      ],
      "text/plain": [
       "[1] 133  25"
      ]
     },
     "metadata": {},
     "output_type": "display_data"
    }
   ],
   "source": [
    "#데이터 불러오기\n",
    "library(xlsx)\n",
    "library(dplyr)\n",
    "\n",
    "data <- read.xlsx(\"../EPCinCKD_201802.xlsx\", sheetIndex = 1)\n",
    "data <- data[1:150,-c(1,2)]\n",
    "colnames(data)[c(7, 13, 15, 16, 22)] <- c(\"HTN\", \"statin\", \"obesity\", \"PAD\", \"CD34.All\")\n",
    "data <- data %>% mutate( CLI = as.numeric(Group>=5))\n",
    "data <- data[complete.cases(data),]\n",
    "dim(data)"
   ]
  },
  {
   "cell_type": "markdown",
   "metadata": {},
   "source": [
    "---\n",
    "# 데이터 탐색\n",
    "---\n",
    "\n",
    "CLI 유무를 기준으로 나눈 집단에서 \n",
    "\n",
    "Average CFU, VEGF, VEGF/CD34, CD34, SDF-1, VEGF 수치 확인\n"
   ]
  },
  {
   "cell_type": "markdown",
   "metadata": {},
   "source": [
    "## 평균 및 분포 확인"
   ]
  },
  {
   "cell_type": "markdown",
   "metadata": {},
   "source": [
    "### 평균 확인"
   ]
  },
  {
   "cell_type": "code",
   "execution_count": 17,
   "metadata": {
    "scrolled": false
   },
   "outputs": [
    {
     "name": "stdout",
     "output_type": "stream",
     "text": [
      "\n",
      "<CLI 그룹에 따른 Lab data 비교>\n",
      "\n",
      "<평균>\n"
     ]
    },
    {
     "data": {
      "text/html": [
       "<table>\n",
       "<thead><tr><th scope=col>CLI</th><th scope=col>mean.Average.CFU</th><th scope=col>mean.VEGF</th><th scope=col>mean.CD34.VEGF</th><th scope=col>mean.CD34</th><th scope=col>mean.VEGF.All</th><th scope=col>mean.CD34.All</th><th scope=col>mean.VEGF.1</th><th scope=col>mean.SDF.1</th></tr></thead>\n",
       "<tbody>\n",
       "\t<tr><td>0      </td><td>5.21   </td><td>6.74   </td><td>0.32   </td><td>0.11   </td><td>7.05   </td><td>0.42   </td><td> 65.2  </td><td>2388.11</td></tr>\n",
       "\t<tr><td>1      </td><td>4.85   </td><td>3.61   </td><td>0.32   </td><td>0.46   </td><td>3.93   </td><td>0.78   </td><td>121.8  </td><td>3241.81</td></tr>\n",
       "</tbody>\n",
       "</table>\n"
      ],
      "text/latex": [
       "\\begin{tabular}{r|lllllllll}\n",
       " CLI & mean.Average.CFU & mean.VEGF & mean.CD34.VEGF & mean.CD34 & mean.VEGF.All & mean.CD34.All & mean.VEGF.1 & mean.SDF.1\\\\\n",
       "\\hline\n",
       "\t 0       & 5.21    & 6.74    & 0.32    & 0.11    & 7.05    & 0.42    &  65.2   & 2388.11\\\\\n",
       "\t 1       & 4.85    & 3.61    & 0.32    & 0.46    & 3.93    & 0.78    & 121.8   & 3241.81\\\\\n",
       "\\end{tabular}\n"
      ],
      "text/markdown": [
       "\n",
       "CLI | mean.Average.CFU | mean.VEGF | mean.CD34.VEGF | mean.CD34 | mean.VEGF.All | mean.CD34.All | mean.VEGF.1 | mean.SDF.1 | \n",
       "|---|---|\n",
       "| 0       | 5.21    | 6.74    | 0.32    | 0.11    | 7.05    | 0.42    |  65.2   | 2388.11 | \n",
       "| 1       | 4.85    | 3.61    | 0.32    | 0.46    | 3.93    | 0.78    | 121.8   | 3241.81 | \n",
       "\n",
       "\n"
      ],
      "text/plain": [
       "  CLI mean.Average.CFU mean.VEGF mean.CD34.VEGF mean.CD34 mean.VEGF.All\n",
       "1 0   5.21             6.74      0.32           0.11      7.05         \n",
       "2 1   4.85             3.61      0.32           0.46      3.93         \n",
       "  mean.CD34.All mean.VEGF.1 mean.SDF.1\n",
       "1 0.42           65.2       2388.11   \n",
       "2 0.78          121.8       3241.81   "
      ]
     },
     "metadata": {},
     "output_type": "display_data"
    },
    {
     "name": "stdout",
     "output_type": "stream",
     "text": [
      "\n",
      "<표준편차>\n"
     ]
    },
    {
     "data": {
      "text/html": [
       "<table>\n",
       "<thead><tr><th scope=col>CLI</th><th scope=col>std.Average.CFU</th><th scope=col>std.VEGF</th><th scope=col>std.CD34.VEGF</th><th scope=col>std.CD34</th><th scope=col>std.VEGF.All</th><th scope=col>std.CD34.All</th><th scope=col>std.VEGF.1</th><th scope=col>std.SDF.1</th></tr></thead>\n",
       "<tbody>\n",
       "\t<tr><td>0     </td><td>0.87  </td><td>4.13  </td><td>0.27  </td><td>0.29  </td><td>4.21  </td><td>0.41  </td><td> 48.97</td><td>520.18</td></tr>\n",
       "\t<tr><td>1     </td><td>0.77  </td><td>4.93  </td><td>0.38  </td><td>1.50  </td><td>4.98  </td><td>1.81  </td><td>124.03</td><td>989.49</td></tr>\n",
       "</tbody>\n",
       "</table>\n"
      ],
      "text/latex": [
       "\\begin{tabular}{r|lllllllll}\n",
       " CLI & std.Average.CFU & std.VEGF & std.CD34.VEGF & std.CD34 & std.VEGF.All & std.CD34.All & std.VEGF.1 & std.SDF.1\\\\\n",
       "\\hline\n",
       "\t 0      & 0.87   & 4.13   & 0.27   & 0.29   & 4.21   & 0.41   &  48.97 & 520.18\\\\\n",
       "\t 1      & 0.77   & 4.93   & 0.38   & 1.50   & 4.98   & 1.81   & 124.03 & 989.49\\\\\n",
       "\\end{tabular}\n"
      ],
      "text/markdown": [
       "\n",
       "CLI | std.Average.CFU | std.VEGF | std.CD34.VEGF | std.CD34 | std.VEGF.All | std.CD34.All | std.VEGF.1 | std.SDF.1 | \n",
       "|---|---|\n",
       "| 0      | 0.87   | 4.13   | 0.27   | 0.29   | 4.21   | 0.41   |  48.97 | 520.18 | \n",
       "| 1      | 0.77   | 4.93   | 0.38   | 1.50   | 4.98   | 1.81   | 124.03 | 989.49 | \n",
       "\n",
       "\n"
      ],
      "text/plain": [
       "  CLI std.Average.CFU std.VEGF std.CD34.VEGF std.CD34 std.VEGF.All std.CD34.All\n",
       "1 0   0.87            4.13     0.27          0.29     4.21         0.41        \n",
       "2 1   0.77            4.93     0.38          1.50     4.98         1.81        \n",
       "  std.VEGF.1 std.SDF.1\n",
       "1  48.97     520.18   \n",
       "2 124.03     989.49   "
      ]
     },
     "metadata": {},
     "output_type": "display_data"
    }
   ],
   "source": [
    "# CLI 그룹별 비교\n",
    "\n",
    "cat(\"\\n<CLI 그룹에 따른 Lab data 비교>\\n\")\n",
    "cat(\"\\n<평균>\\n\")\n",
    "data %>% \n",
    "    group_by( CLI ) %>%\n",
    "    summarise( mean.Average.CFU = mean(Average.CFU, na.rm = T),\n",
    "            mean.VEGF = mean(VEGF, na.rm = T),\n",
    "            mean.CD34.VEGF = mean(CD34.VEGF, na.rm=T),\n",
    "            mean.CD34 = mean(CD34, na.rm = T),\n",
    "            mean.VEGF.All = mean(VEGF.All, na.rm = T),\n",
    "            mean.CD34.All = mean(CD34.All, na.rm = T),\n",
    "            mean.VEGF.1 = mean(VEGF.1, na.rm = T),\n",
    "            mean.SDF.1 = mean(SDF.1, na.rm = T)\n",
    "             ) %>%\n",
    "    mutate_if(is.numeric, funs(round(., 2)))\n",
    "\n",
    "\n",
    "cat(\"\\n<표준편차>\\n\")\n",
    "data %>% \n",
    "    group_by( CLI ) %>%\n",
    "    summarise( std.Average.CFU = sqrt(var(Average.CFU, na.rm = T)),\n",
    "            std.VEGF = sqrt(var(VEGF, na.rm = T)),\n",
    "            std.CD34.VEGF = sqrt(var(CD34.VEGF, na.rm=T)),\n",
    "            std.CD34 = sqrt(var(CD34, na.rm = T)),\n",
    "            std.VEGF.All = sqrt(var(VEGF.All, na.rm = T)),\n",
    "            std.CD34.All = sqrt(var(CD34.All, na.rm = T)),\n",
    "            std.VEGF.1 = sqrt(var(VEGF.1, na.rm = T)),\n",
    "            std.SDF.1 = sqrt(var(SDF.1, na.rm = T))\n",
    "             ) %>%\n",
    "    mutate_if(is.numeric, funs(round(., 2)))"
   ]
  },
  {
   "cell_type": "markdown",
   "metadata": {},
   "source": [
    "표본표준편차에 비하여 평균이 큰 차이가 나 보이는 녀석들은 없다. SDF.1 정도?"
   ]
  },
  {
   "cell_type": "markdown",
   "metadata": {},
   "source": [
    "### 분포 확인"
   ]
  },
  {
   "cell_type": "code",
   "execution_count": 31,
   "metadata": {
    "scrolled": false
   },
   "outputs": [
    {
     "name": "stdout",
     "output_type": "stream",
     "text": [
      "\n",
      "\n",
      "<CLI 그룹에 따른 Lab data 시각화>\n"
     ]
    },
    {
     "data": {
      "image/png": "[encoded data removed]",
      "text/plain": [
       "plot without title"
      ]
     },
     "metadata": {},
     "output_type": "display_data"
    }
   ],
   "source": [
    "# 각각의 값에 대한 그래프 그리기\n",
    "library(ggplot2)\n",
    "library(gridExtra)\n",
    "plots <- list()\n",
    "\n",
    "for(key in c('Average.CFU', 'VEGF', 'CD34.VEGF', 'CD34', 'VEGF.All', 'CD34.All', 'VEGF.1', 'SDF.1')){\n",
    "\n",
    "    p<- data %>% \n",
    "        mutate(CLI.f = as.factor(CLI)) %>%\n",
    "        ggplot(aes_string(x=key, fill = \"CLI.f\")) +\n",
    "        geom_histogram(alpha=0.5, position=\"identity\",bins = 30, na.rm = T) +  \n",
    "        ggtitle(paste(key, \" in noCLI / CLI\")) +\n",
    "        labs(x=key, y=\"Freq\") +\n",
    "        theme(plot.title = element_text(hjust = 0.5))\n",
    "    \n",
    "    plots[[key]] <- p\n",
    "}\n",
    "\n",
    "options(repr.plot.width=8, repr.plot.height=7)\n",
    "cat(\"\\n\\n<CLI 그룹에 따른 Lab data 시각화>\\n\")\n",
    "grid.arrange(grobs=plots, ncol=3)"
   ]
  },
  {
   "cell_type": "markdown",
   "metadata": {},
   "source": [
    "## 정규성 검정"
   ]
  },
  {
   "cell_type": "markdown",
   "metadata": {},
   "source": [
    "### QQPlot"
   ]
  },
  {
   "cell_type": "code",
   "execution_count": 52,
   "metadata": {},
   "outputs": [
    {
     "name": "stdout",
     "output_type": "stream",
     "text": [
      "\n",
      "\n",
      "<CLI 그룹에 따른 Lab data 정규성 시각화>\n"
     ]
    },
    {
     "data": {
      "image/png": "[encoded data removed]",
      "text/plain": [
       "plot without title"
      ]
     },
     "metadata": {},
     "output_type": "display_data"
    }
   ],
   "source": [
    "# 정규성 그래프\n",
    "\n",
    "par(mfrow = c(3, 3))\n",
    "\n",
    "for(key in c('Average.CFU', 'VEGF', 'CD34.VEGF', 'CD34', 'VEGF.All', 'CD34.All', 'VEGF.1', 'SDF.1')){\n",
    "    p <- data %>% ggplot(aes_string(sample = key)) + \n",
    "        stat_qq(aes(color=factor(CLI))) + \n",
    "        ggtitle(paste(key, \"qqplot\")) + \n",
    "        theme(\n",
    "          axis.title.x=element_blank(), \n",
    "          axis.title.y=element_blank())\n",
    "\n",
    "    plots[[key]] <- p\n",
    "}\n",
    "options(repr.plot.width=8, repr.plot.height=6.5)\n",
    "cat(\"\\n\\n<CLI 그룹에 따른 Lab data 정규성 시각화>\\n\")\n",
    "grid.arrange(grobs=plots, ncol=3)"
   ]
  },
  {
   "cell_type": "markdown",
   "metadata": {},
   "source": [
    "Outlier 점들이 몇개 있는 것으로 보이나, 없애더라도 양상은 비슷하다. \n",
    "\n",
    "CFU 정도 직선으로 보인다."
   ]
  },
  {
   "cell_type": "markdown",
   "metadata": {},
   "source": [
    "### 검정 값"
   ]
  },
  {
   "cell_type": "code",
   "execution_count": 50,
   "metadata": {
    "scrolled": true
   },
   "outputs": [
    {
     "name": "stdout",
     "output_type": "stream",
     "text": [
      "\n",
      "<CLI 그룹에 따른 Lab data, 정규성 검정 결과>\n"
     ]
    },
    {
     "data": {
      "text/html": [
       "<table>\n",
       "<thead><tr><th scope=col>CLI</th><th scope=col>Average.CFU</th><th scope=col>VEGF</th><th scope=col>CD34.VEGF</th><th scope=col>CD34</th><th scope=col>VEGF.All</th><th scope=col>CD34.All</th><th scope=col>VEGF.1</th><th scope=col>SDF.1</th></tr></thead>\n",
       "<tbody>\n",
       "\t<tr><td>0     </td><td>0.3108</td><td>0.0011</td><td>0     </td><td>0     </td><td>0.0013</td><td>0     </td><td>0     </td><td>0.0027</td></tr>\n",
       "\t<tr><td>1     </td><td>0.6708</td><td>0.0000</td><td>0     </td><td>0     </td><td>0.0000</td><td>0     </td><td>0     </td><td>0.0071</td></tr>\n",
       "</tbody>\n",
       "</table>\n"
      ],
      "text/latex": [
       "\\begin{tabular}{r|lllllllll}\n",
       " CLI & Average.CFU & VEGF & CD34.VEGF & CD34 & VEGF.All & CD34.All & VEGF.1 & SDF.1\\\\\n",
       "\\hline\n",
       "\t 0      & 0.3108 & 0.0011 & 0      & 0      & 0.0013 & 0      & 0      & 0.0027\\\\\n",
       "\t 1      & 0.6708 & 0.0000 & 0      & 0      & 0.0000 & 0      & 0      & 0.0071\\\\\n",
       "\\end{tabular}\n"
      ],
      "text/markdown": [
       "\n",
       "CLI | Average.CFU | VEGF | CD34.VEGF | CD34 | VEGF.All | CD34.All | VEGF.1 | SDF.1 | \n",
       "|---|---|\n",
       "| 0      | 0.3108 | 0.0011 | 0      | 0      | 0.0013 | 0      | 0      | 0.0027 | \n",
       "| 1      | 0.6708 | 0.0000 | 0      | 0      | 0.0000 | 0      | 0      | 0.0071 | \n",
       "\n",
       "\n"
      ],
      "text/plain": [
       "  CLI Average.CFU VEGF   CD34.VEGF CD34 VEGF.All CD34.All VEGF.1 SDF.1 \n",
       "1 0   0.3108      0.0011 0         0    0.0013   0        0      0.0027\n",
       "2 1   0.6708      0.0000 0         0    0.0000   0        0      0.0071"
      ]
     },
     "metadata": {},
     "output_type": "display_data"
    }
   ],
   "source": [
    "cat(\"\\n<CLI 그룹에 따른 Lab data, 정규성 검정 결과>\\n\")\n",
    "data %>% \n",
    "    group_by( CLI ) %>%\n",
    "    summarise( Average.CFU = shapiro.test(Average.CFU)$p.value,\n",
    "            VEGF = shapiro.test(VEGF)$p.value,\n",
    "            CD34.VEGF = shapiro.test(CD34.VEGF)$p.value,\n",
    "            CD34 = shapiro.test(CD34)$p.value,\n",
    "            VEGF.All = shapiro.test(VEGF.All)$p.value,\n",
    "            CD34.All = shapiro.test(CD34.All)$p.value,\n",
    "            VEGF.1 = shapiro.test(VEGF.1)$p.value,\n",
    "            SDF.1 = shapiro.test(SDF.1)$p.value\n",
    "             ) %>%\n",
    "    mutate_if(is.numeric, funs(round(., 4)))"
   ]
  },
  {
   "cell_type": "markdown",
   "metadata": {},
   "source": [
    "**정규성을 만족하는건 CFU 뿐이다. **"
   ]
  },
  {
   "cell_type": "code",
   "execution_count": 111,
   "metadata": {},
   "outputs": [
    {
     "name": "stdout",
     "output_type": "stream",
     "text": [
      "\n",
      "Average CFU 등분산성 검정\n",
      "  p-value: 0.33"
     ]
    }
   ],
   "source": [
    "cat(\"\\nAverage CFU 등분산성 검정\\n\")\n",
    "pv <- var.test(data$Average.CFU ~ data$CLI)$p.value\n",
    "cat(\"  p-value:\", round(pv,3))"
   ]
  },
  {
   "cell_type": "markdown",
   "metadata": {},
   "source": [
    "## 로그 데이터 확인"
   ]
  },
  {
   "cell_type": "code",
   "execution_count": 21,
   "metadata": {
    "scrolled": true
   },
   "outputs": [
    {
     "name": "stdout",
     "output_type": "stream",
     "text": [
      "\n",
      "<CLI 그룹에 따른 로그변환 Lab data, 정규성 검정 결과>\n"
     ]
    },
    {
     "name": "stderr",
     "output_type": "stream",
     "text": [
      "Warning message in log(CD34):\n",
      "“NaN이 생성되었습니다”Warning message in log(CD34):\n",
      "“NaN이 생성되었습니다”Warning message in log(CD34.All):\n",
      "“NaN이 생성되었습니다”Warning message in log(VEGF.1):\n",
      "“NaN이 생성되었습니다”"
     ]
    },
    {
     "data": {
      "text/html": [
       "<table>\n",
       "<thead><tr><th scope=col>CLI</th><th scope=col>log.Average.CFU</th><th scope=col>log.VEGF</th><th scope=col>log.CD34.VEGF</th><th scope=col>log.CD34</th><th scope=col>log.VEGF.All</th><th scope=col>log.CD34.All</th><th scope=col>log.VEGF.1</th><th scope=col>log.SDF.1</th></tr></thead>\n",
       "<tbody>\n",
       "\t<tr><td>0     </td><td>0.5269</td><td>1e-04 </td><td>0.0014</td><td>0.6791</td><td>0.0002</td><td>0.5935</td><td>0.0019</td><td>0.000 </td></tr>\n",
       "\t<tr><td>1     </td><td>0.3255</td><td>3e-04 </td><td>0.7956</td><td>0.1219</td><td>0.1348</td><td>0.0000</td><td>0.1282</td><td>0.026 </td></tr>\n",
       "</tbody>\n",
       "</table>\n"
      ],
      "text/latex": [
       "\\begin{tabular}{r|lllllllll}\n",
       " CLI & log.Average.CFU & log.VEGF & log.CD34.VEGF & log.CD34 & log.VEGF.All & log.CD34.All & log.VEGF.1 & log.SDF.1\\\\\n",
       "\\hline\n",
       "\t 0      & 0.5269 & 1e-04  & 0.0014 & 0.6791 & 0.0002 & 0.5935 & 0.0019 & 0.000 \\\\\n",
       "\t 1      & 0.3255 & 3e-04  & 0.7956 & 0.1219 & 0.1348 & 0.0000 & 0.1282 & 0.026 \\\\\n",
       "\\end{tabular}\n"
      ],
      "text/markdown": [
       "\n",
       "CLI | log.Average.CFU | log.VEGF | log.CD34.VEGF | log.CD34 | log.VEGF.All | log.CD34.All | log.VEGF.1 | log.SDF.1 | \n",
       "|---|---|\n",
       "| 0      | 0.5269 | 1e-04  | 0.0014 | 0.6791 | 0.0002 | 0.5935 | 0.0019 | 0.000  | \n",
       "| 1      | 0.3255 | 3e-04  | 0.7956 | 0.1219 | 0.1348 | 0.0000 | 0.1282 | 0.026  | \n",
       "\n",
       "\n"
      ],
      "text/plain": [
       "  CLI log.Average.CFU log.VEGF log.CD34.VEGF log.CD34 log.VEGF.All log.CD34.All\n",
       "1 0   0.5269          1e-04    0.0014        0.6791   0.0002       0.5935      \n",
       "2 1   0.3255          3e-04    0.7956        0.1219   0.1348       0.0000      \n",
       "  log.VEGF.1 log.SDF.1\n",
       "1 0.0019     0.000    \n",
       "2 0.1282     0.026    "
      ]
     },
     "metadata": {},
     "output_type": "display_data"
    }
   ],
   "source": [
    "cat(\"\\n<CLI 그룹에 따른 로그변환 Lab data, 정규성 검정 결과>\\n\")\n",
    "data %>% \n",
    "    group_by( CLI ) %>%\n",
    "    summarise( log.Average.CFU = shapiro.test(log(Average.CFU))$p.value,\n",
    "            log.VEGF = shapiro.test(log(VEGF))$p.value,\n",
    "            log.CD34.VEGF = shapiro.test(log(CD34.VEGF))$p.value,\n",
    "            log.CD34 = shapiro.test(log(CD34))$p.value,\n",
    "            log.VEGF.All = shapiro.test(log(VEGF.All))$p.value,\n",
    "            log.CD34.All = shapiro.test(log(CD34.All))$p.value,\n",
    "            log.VEGF.1 = shapiro.test(log(VEGF.1))$p.value,\n",
    "            log.SDF.1 = shapiro.test(log(SDF.1))$p.value\n",
    "             ) %>%\n",
    "    mutate_if(is.numeric, funs(round(., 4)))"
   ]
  },
  {
   "cell_type": "markdown",
   "metadata": {},
   "source": [
    "log 변환해도 정규성을 따른다고 볼만한 변수는 **CFU 와 CD 34** 뿐이다. \n",
    "\n",
    "***그런데 검사 값이 음수가 나와서 warning 이 생기는데, 그게 가능한 것인가..?***"
   ]
  },
  {
   "cell_type": "markdown",
   "metadata": {},
   "source": [
    "위 결과를 기반으로 하면 대부분의 변수에 wilcoxon rank sum 검정을 실시해야하고, \n",
    "\n",
    "CFU 와 log(CD 34) 정도는 t-test 를 시도해볼만한 가치가 있겠다. "
   ]
  },
  {
   "cell_type": "markdown",
   "metadata": {
    "collapsed": true
   },
   "source": [
    "## 상관관계 파악"
   ]
  },
  {
   "cell_type": "markdown",
   "metadata": {},
   "source": [
    "변수들간의 상관관계를 파악해보자. "
   ]
  },
  {
   "cell_type": "code",
   "execution_count": 54,
   "metadata": {},
   "outputs": [
    {
     "data": {
      "text/html": [
       "<table>\n",
       "<thead><tr><th></th><th scope=col>Average.CFU</th><th scope=col>VEGF</th><th scope=col>VEGF.All</th><th scope=col>CD34.VEGF</th><th scope=col>CD34</th><th scope=col>CD34.All</th><th scope=col>VEGF.1</th><th scope=col>SDF.1</th></tr></thead>\n",
       "<tbody>\n",
       "\t<tr><th scope=row>Average.CFU</th><td> 1   </td><td>0.24 </td><td>0.23 </td><td>-0.14</td><td>-0.21</td><td>-0.21</td><td>-0.09</td><td>-0.32</td></tr>\n",
       "\t<tr><th scope=row>VEGF</th><td>NA   </td><td>1.00 </td><td>1.00 </td><td> 0.16</td><td>-0.11</td><td>-0.05</td><td>-0.10</td><td>-0.23</td></tr>\n",
       "\t<tr><th scope=row>VEGF.All</th><td>NA   </td><td>  NA </td><td>1.00 </td><td> 0.23</td><td>-0.07</td><td> 0.00</td><td>-0.08</td><td>-0.22</td></tr>\n",
       "\t<tr><th scope=row>CD34.VEGF</th><td>NA   </td><td>  NA </td><td>  NA </td><td> 1.00</td><td> 0.60</td><td> 0.75</td><td> 0.23</td><td> 0.09</td></tr>\n",
       "\t<tr><th scope=row>CD34</th><td>NA   </td><td>  NA </td><td>  NA </td><td>   NA</td><td> 1.00</td><td> 0.98</td><td> 0.28</td><td> 0.12</td></tr>\n",
       "\t<tr><th scope=row>CD34.All</th><td>NA   </td><td>  NA </td><td>  NA </td><td>   NA</td><td>   NA</td><td> 1.00</td><td> 0.29</td><td> 0.12</td></tr>\n",
       "\t<tr><th scope=row>VEGF.1</th><td>NA   </td><td>  NA </td><td>  NA </td><td>   NA</td><td>   NA</td><td>   NA</td><td> 1.00</td><td> 0.41</td></tr>\n",
       "\t<tr><th scope=row>SDF.1</th><td>NA   </td><td>  NA </td><td>  NA </td><td>   NA</td><td>   NA</td><td>   NA</td><td>   NA</td><td> 1.00</td></tr>\n",
       "</tbody>\n",
       "</table>\n"
      ],
      "text/latex": [
       "\\begin{tabular}{r|llllllll}\n",
       "  & Average.CFU & VEGF & VEGF.All & CD34.VEGF & CD34 & CD34.All & VEGF.1 & SDF.1\\\\\n",
       "\\hline\n",
       "\tAverage.CFU &  1    & 0.24  & 0.23  & -0.14 & -0.21 & -0.21 & -0.09 & -0.32\\\\\n",
       "\tVEGF & NA    & 1.00  & 1.00  &  0.16 & -0.11 & -0.05 & -0.10 & -0.23\\\\\n",
       "\tVEGF.All & NA    &   NA  & 1.00  &  0.23 & -0.07 &  0.00 & -0.08 & -0.22\\\\\n",
       "\tCD34.VEGF & NA    &   NA  &   NA  &  1.00 &  0.60 &  0.75 &  0.23 &  0.09\\\\\n",
       "\tCD34 & NA    &   NA  &   NA  &    NA &  1.00 &  0.98 &  0.28 &  0.12\\\\\n",
       "\tCD34.All & NA    &   NA  &   NA  &    NA &    NA &  1.00 &  0.29 &  0.12\\\\\n",
       "\tVEGF.1 & NA    &   NA  &   NA  &    NA &    NA &    NA &  1.00 &  0.41\\\\\n",
       "\tSDF.1 & NA    &   NA  &   NA  &    NA &    NA &    NA &    NA &  1.00\\\\\n",
       "\\end{tabular}\n"
      ],
      "text/markdown": [
       "\n",
       "| <!--/--> | Average.CFU | VEGF | VEGF.All | CD34.VEGF | CD34 | CD34.All | VEGF.1 | SDF.1 | \n",
       "|---|---|---|---|---|---|---|---|\n",
       "| Average.CFU |  1    | 0.24  | 0.23  | -0.14 | -0.21 | -0.21 | -0.09 | -0.32 | \n",
       "| VEGF | NA    | 1.00  | 1.00  |  0.16 | -0.11 | -0.05 | -0.10 | -0.23 | \n",
       "| VEGF.All | NA    |   NA  | 1.00  |  0.23 | -0.07 |  0.00 | -0.08 | -0.22 | \n",
       "| CD34.VEGF | NA    |   NA  |   NA  |  1.00 |  0.60 |  0.75 |  0.23 |  0.09 | \n",
       "| CD34 | NA    |   NA  |   NA  |    NA |  1.00 |  0.98 |  0.28 |  0.12 | \n",
       "| CD34.All | NA    |   NA  |   NA  |    NA |    NA |  1.00 |  0.29 |  0.12 | \n",
       "| VEGF.1 | NA    |   NA  |   NA  |    NA |    NA |    NA |  1.00 |  0.41 | \n",
       "| SDF.1 | NA    |   NA  |   NA  |    NA |    NA |    NA |    NA |  1.00 | \n",
       "\n",
       "\n"
      ],
      "text/plain": [
       "            Average.CFU VEGF VEGF.All CD34.VEGF CD34  CD34.All VEGF.1 SDF.1\n",
       "Average.CFU  1          0.24 0.23     -0.14     -0.21 -0.21    -0.09  -0.32\n",
       "VEGF        NA          1.00 1.00      0.16     -0.11 -0.05    -0.10  -0.23\n",
       "VEGF.All    NA            NA 1.00      0.23     -0.07  0.00    -0.08  -0.22\n",
       "CD34.VEGF   NA            NA   NA      1.00      0.60  0.75     0.23   0.09\n",
       "CD34        NA            NA   NA        NA      1.00  0.98     0.28   0.12\n",
       "CD34.All    NA            NA   NA        NA        NA  1.00     0.29   0.12\n",
       "VEGF.1      NA            NA   NA        NA        NA    NA     1.00   0.41\n",
       "SDF.1       NA            NA   NA        NA        NA    NA       NA   1.00"
      ]
     },
     "metadata": {},
     "output_type": "display_data"
    },
    {
     "data": {},
     "metadata": {},
     "output_type": "display_data"
    },
    {
     "data": {
      "image/png": "[encoded data removed]",
      "text/plain": [
       "plot without title"
      ]
     },
     "metadata": {},
     "output_type": "display_data"
    }
   ],
   "source": [
    "# 상관 계수를 살펴보자 \n",
    "\n",
    "library(reshape2)\n",
    "\n",
    "cormat <- round(cor(data[c(17, 18,21, 19, 20 ,22, 23, 24)], use = 'complete.obs'),2)\n",
    "cormat[lower.tri(cormat)]<- NA\n",
    "cormat\n",
    "\n",
    "options(repr.plot.width=5, repr.plot.height=3)\n",
    "melted_cormat <- melt(cormat, na.rm = TRUE)\n",
    "ggplot(data = melted_cormat, aes(Var2, Var1, fill = value))+\n",
    "    geom_tile(color = \"white\")+\n",
    "    scale_fill_gradient2(low = \"blue\", high = \"red\", mid = \"white\", \n",
    "                         midpoint = 0, limit = c(-1,1), space = \"Lab\", \n",
    "                         name=\"Pearson\\nCorrelation\") +\n",
    "    theme_minimal()+ \n",
    "    theme(axis.text.x = element_text(angle = 55, vjust = 1, \n",
    "                                     size = 10, hjust = 1) , \n",
    "          axis.title.x=element_blank(), \n",
    "          axis.title.y=element_blank())+\n",
    "    coord_fixed() + geom_text(aes(Var2, Var1, label = round(value,1)), color = \"black\", size = 3)"
   ]
  },
  {
   "cell_type": "markdown",
   "metadata": {},
   "source": [
    "위 결과를 봤을 때, \n",
    "- CD34\n",
    "- CD34.All\n",
    "- CD34.VEGF\n",
    "\n",
    "는 상관 관계가 매우 높아, 거의 한 변수로 봐도 될 정도\n",
    "\n",
    "- VEGF\n",
    "- VEGF.All\n",
    "\n",
    "도 마찬가지 \n",
    "\n",
    "log 에 대해서도 살펴보면"
   ]
  },
  {
   "cell_type": "code",
   "execution_count": 55,
   "metadata": {},
   "outputs": [
    {
     "name": "stderr",
     "output_type": "stream",
     "text": [
      "Warning message in FUN(X[[i]], ...):\n",
      "“NaN이 생성되었습니다”Warning message in FUN(X[[i]], ...):\n",
      "“NaN이 생성되었습니다”Warning message in FUN(X[[i]], ...):\n",
      "“NaN이 생성되었습니다”"
     ]
    },
    {
     "data": {
      "text/html": [
       "<table>\n",
       "<thead><tr><th></th><th scope=col>Average.CFU</th><th scope=col>VEGF</th><th scope=col>VEGF.All</th><th scope=col>CD34.VEGF</th><th scope=col>CD34</th><th scope=col>CD34.All</th><th scope=col>VEGF.1</th><th scope=col>SDF.1</th></tr></thead>\n",
       "<tbody>\n",
       "\t<tr><th scope=row>Average.CFU</th><td> 1   </td><td>0.17 </td><td>0.18 </td><td>-0.12</td><td>-0.10</td><td>-0.18</td><td>-0.25</td><td>-0.37</td></tr>\n",
       "\t<tr><th scope=row>VEGF</th><td>NA   </td><td>1.00 </td><td>0.96 </td><td> 0.30</td><td>-0.03</td><td> 0.08</td><td>-0.14</td><td>-0.33</td></tr>\n",
       "\t<tr><th scope=row>VEGF.All</th><td>NA   </td><td>  NA </td><td>1.00 </td><td> 0.41</td><td> 0.06</td><td> 0.19</td><td>-0.16</td><td>-0.32</td></tr>\n",
       "\t<tr><th scope=row>CD34.VEGF</th><td>NA   </td><td>  NA </td><td>  NA </td><td> 1.00</td><td> 0.45</td><td> 0.78</td><td> 0.04</td><td> 0.09</td></tr>\n",
       "\t<tr><th scope=row>CD34</th><td>NA   </td><td>  NA </td><td>  NA </td><td>   NA</td><td> 1.00</td><td> 0.84</td><td> 0.03</td><td> 0.10</td></tr>\n",
       "\t<tr><th scope=row>CD34.All</th><td>NA   </td><td>  NA </td><td>  NA </td><td>   NA</td><td>   NA</td><td> 1.00</td><td> 0.06</td><td> 0.14</td></tr>\n",
       "\t<tr><th scope=row>VEGF.1</th><td>NA   </td><td>  NA </td><td>  NA </td><td>   NA</td><td>   NA</td><td>   NA</td><td> 1.00</td><td> 0.38</td></tr>\n",
       "\t<tr><th scope=row>SDF.1</th><td>NA   </td><td>  NA </td><td>  NA </td><td>   NA</td><td>   NA</td><td>   NA</td><td>   NA</td><td> 1.00</td></tr>\n",
       "</tbody>\n",
       "</table>\n"
      ],
      "text/latex": [
       "\\begin{tabular}{r|llllllll}\n",
       "  & Average.CFU & VEGF & VEGF.All & CD34.VEGF & CD34 & CD34.All & VEGF.1 & SDF.1\\\\\n",
       "\\hline\n",
       "\tAverage.CFU &  1    & 0.17  & 0.18  & -0.12 & -0.10 & -0.18 & -0.25 & -0.37\\\\\n",
       "\tVEGF & NA    & 1.00  & 0.96  &  0.30 & -0.03 &  0.08 & -0.14 & -0.33\\\\\n",
       "\tVEGF.All & NA    &   NA  & 1.00  &  0.41 &  0.06 &  0.19 & -0.16 & -0.32\\\\\n",
       "\tCD34.VEGF & NA    &   NA  &   NA  &  1.00 &  0.45 &  0.78 &  0.04 &  0.09\\\\\n",
       "\tCD34 & NA    &   NA  &   NA  &    NA &  1.00 &  0.84 &  0.03 &  0.10\\\\\n",
       "\tCD34.All & NA    &   NA  &   NA  &    NA &    NA &  1.00 &  0.06 &  0.14\\\\\n",
       "\tVEGF.1 & NA    &   NA  &   NA  &    NA &    NA &    NA &  1.00 &  0.38\\\\\n",
       "\tSDF.1 & NA    &   NA  &   NA  &    NA &    NA &    NA &    NA &  1.00\\\\\n",
       "\\end{tabular}\n"
      ],
      "text/markdown": [
       "\n",
       "| <!--/--> | Average.CFU | VEGF | VEGF.All | CD34.VEGF | CD34 | CD34.All | VEGF.1 | SDF.1 | \n",
       "|---|---|---|---|---|---|---|---|\n",
       "| Average.CFU |  1    | 0.17  | 0.18  | -0.12 | -0.10 | -0.18 | -0.25 | -0.37 | \n",
       "| VEGF | NA    | 1.00  | 0.96  |  0.30 | -0.03 |  0.08 | -0.14 | -0.33 | \n",
       "| VEGF.All | NA    |   NA  | 1.00  |  0.41 |  0.06 |  0.19 | -0.16 | -0.32 | \n",
       "| CD34.VEGF | NA    |   NA  |   NA  |  1.00 |  0.45 |  0.78 |  0.04 |  0.09 | \n",
       "| CD34 | NA    |   NA  |   NA  |    NA |  1.00 |  0.84 |  0.03 |  0.10 | \n",
       "| CD34.All | NA    |   NA  |   NA  |    NA |    NA |  1.00 |  0.06 |  0.14 | \n",
       "| VEGF.1 | NA    |   NA  |   NA  |    NA |    NA |    NA |  1.00 |  0.38 | \n",
       "| SDF.1 | NA    |   NA  |   NA  |    NA |    NA |    NA |    NA |  1.00 | \n",
       "\n",
       "\n"
      ],
      "text/plain": [
       "            Average.CFU VEGF VEGF.All CD34.VEGF CD34  CD34.All VEGF.1 SDF.1\n",
       "Average.CFU  1          0.17 0.18     -0.12     -0.10 -0.18    -0.25  -0.37\n",
       "VEGF        NA          1.00 0.96      0.30     -0.03  0.08    -0.14  -0.33\n",
       "VEGF.All    NA            NA 1.00      0.41      0.06  0.19    -0.16  -0.32\n",
       "CD34.VEGF   NA            NA   NA      1.00      0.45  0.78     0.04   0.09\n",
       "CD34        NA            NA   NA        NA      1.00  0.84     0.03   0.10\n",
       "CD34.All    NA            NA   NA        NA        NA  1.00     0.06   0.14\n",
       "VEGF.1      NA            NA   NA        NA        NA    NA     1.00   0.38\n",
       "SDF.1       NA            NA   NA        NA        NA    NA       NA   1.00"
      ]
     },
     "metadata": {},
     "output_type": "display_data"
    },
    {
     "data": {},
     "metadata": {},
     "output_type": "display_data"
    },
    {
     "data": {
      "image/png": "[encoded data removed]",
      "text/plain": [
       "plot without title"
      ]
     },
     "metadata": {},
     "output_type": "display_data"
    }
   ],
   "source": [
    "# 상관 계수를 살펴보자 \n",
    "\n",
    "library(reshape2)\n",
    "\n",
    "cormat <- round(cor(log(data[c(17, 18, 21, 19, 20 ,22, 23, 24)] + 1e-5), use = 'complete.obs'),2)\n",
    "cormat[lower.tri(cormat)]<- NA\n",
    "cormat\n",
    "\n",
    "options(repr.plot.width=5, repr.plot.height=3)\n",
    "melted_cormat <- melt(cormat, na.rm = TRUE)\n",
    "ggplot(data = melted_cormat, aes(Var2, Var1, fill = value))+\n",
    "    geom_tile(color = \"white\")+\n",
    "    scale_fill_gradient2(low = \"blue\", high = \"red\", mid = \"white\", \n",
    "                         midpoint = 0, limit = c(-1,1), space = \"Lab\", \n",
    "                         name=\"Pearson\\nCorrelation\") +\n",
    "    theme_minimal()+ \n",
    "    theme(axis.text.x = element_text(angle = 55, vjust = 1, \n",
    "                                     size = 10, hjust = 1) , \n",
    "          axis.title.x=element_blank(), \n",
    "          axis.title.y=element_blank())+\n",
    "    coord_fixed() + geom_text(aes(Var2, Var1, label = round(value,1)), color = \"black\", size = 3)"
   ]
  },
  {
   "cell_type": "markdown",
   "metadata": {},
   "source": [
    "거의 비슷한 결과다. \n",
    "\n",
    "* CD34 = CD34.All ~=CD34.VEGF\n",
    "* VEGF = VEGF.All \n",
    "* VEGF.1 ~= SDF.1 \n",
    "* Average.CFU\n",
    "\n",
    "이정도로 변수들이 그룹지어지는 것으로 보인다. "
   ]
  },
  {
   "cell_type": "markdown",
   "metadata": {},
   "source": [
    "---\n",
    "# Lab data 검정\n",
    "---"
   ]
  },
  {
   "cell_type": "markdown",
   "metadata": {},
   "source": [
    "위 결과를 토대로 \n",
    "각 지표들이 차이가 있는지 확인해보자. \n",
    "\n",
    "Average.CFU 는 t-test, 이외의 것들은 wilcoxon test"
   ]
  },
  {
   "cell_type": "markdown",
   "metadata": {},
   "source": [
    "## Wilcox test"
   ]
  },
  {
   "cell_type": "code",
   "execution_count": 114,
   "metadata": {
    "scrolled": true
   },
   "outputs": [
    {
     "name": "stdout",
     "output_type": "stream",
     "text": [
      "\n",
      " Average.CFU t-test : p-value = 0.012\n",
      " Average.CFU result : p-value = 0.0302 \n",
      "\n",
      " VEGF result : p-value = 0 \n",
      "\n",
      " CD34.VEGF result : p-value = 0.365 \n",
      "\n",
      " CD34 result : p-value = 0.1441 \n",
      "\n",
      " VEGF.All result : p-value = 0 \n",
      "\n",
      " CD34.All result : p-value = 0.7911 \n",
      "\n",
      " VEGF.1 result : p-value = 0.0248 \n",
      "\n",
      " SDF.1 result : p-value = 0 \n"
     ]
    }
   ],
   "source": [
    "# Wilcoxon rank sum test for lab data\n",
    "\n",
    "pv <- t.test(Average.CFU ~ CLI, data=data)$p.value\n",
    "cat(\"\\n Average.CFU t-test : p-value =\", round(pv,3))\n",
    "\n",
    "for(key in c('Average.CFU', 'VEGF', 'CD34.VEGF', 'CD34', 'VEGF.All', 'CD34.All', 'VEGF.1', 'SDF.1')){\n",
    "    \n",
    "    test <- wilcox.test(as.formula(paste(key,\"~ CLI\")), data = data)\n",
    "    cat(\"\\n\", key, \"result :\", \"p-value =\", round(test$p.value,4), '\\n')\n",
    "}\n"
   ]
  },
  {
   "cell_type": "markdown",
   "metadata": {},
   "source": [
    "유의미한 결과 :\n",
    "- Average CFU\n",
    "- VEGF\n",
    "- VEGF.All\n",
    "- VEGF.1\n",
    "- SDF.1"
   ]
  },
  {
   "cell_type": "markdown",
   "metadata": {},
   "source": [
    "## log에 대한 wilcox test"
   ]
  },
  {
   "cell_type": "code",
   "execution_count": 120,
   "metadata": {
    "scrolled": false
   },
   "outputs": [
    {
     "name": "stdout",
     "output_type": "stream",
     "text": [
      "\n",
      " Average.CFU t-test : p-value = 0.015\n",
      " Average.CFU result : p-value = 0.0302 \n",
      "\n",
      " VEGF result : p-value = 0 \n",
      "\n",
      " CD34.VEGF result : p-value = 0.365 \n"
     ]
    },
    {
     "name": "stderr",
     "output_type": "stream",
     "text": [
      "Warning message in log(CD34):\n",
      "“NaN이 생성되었습니다”Warning message in wilcox.test.default(x = c(0.741937344729377, -0.83355933427669, :\n",
      "“cannot compute exact p-value with ties”"
     ]
    },
    {
     "name": "stdout",
     "output_type": "stream",
     "text": [
      "\n",
      " CD34 result : p-value = 0.4372 \n",
      "\n",
      " VEGF.All result : p-value = 0 \n"
     ]
    },
    {
     "name": "stderr",
     "output_type": "stream",
     "text": [
      "Warning message in log(CD34.All):\n",
      "“NaN이 생성되었습니다”"
     ]
    },
    {
     "name": "stdout",
     "output_type": "stream",
     "text": [
      "\n",
      " CD34.All result : p-value = 0.5867 \n"
     ]
    },
    {
     "name": "stderr",
     "output_type": "stream",
     "text": [
      "Warning message in log(VEGF.1):\n",
      "“NaN이 생성되었습니다”"
     ]
    },
    {
     "name": "stdout",
     "output_type": "stream",
     "text": [
      "\n",
      " VEGF.1 result : p-value = 0.0329 \n",
      "\n",
      " SDF.1 result : p-value = 0 \n"
     ]
    },
    {
     "name": "stderr",
     "output_type": "stream",
     "text": [
      "Warning message in log(CD34):\n",
      "“NaN이 생성되었습니다”"
     ]
    },
    {
     "name": "stdout",
     "output_type": "stream",
     "text": [
      "\n",
      " CD34 t-test : p-value = 0.487"
     ]
    }
   ],
   "source": [
    "# log 값에 대한 분석 \n",
    "\n",
    "pv <- t.test(log(Average.CFU) ~ CLI, data=data)$p.value\n",
    "cat(\"\\n Average.CFU t-test : p-value =\", round(pv,3))\n",
    "\n",
    "for(key in c('Average.CFU', 'VEGF', 'CD34.VEGF', 'CD34', 'VEGF.All', 'CD34.All', 'VEGF.1', 'SDF.1')){\n",
    "    test <- wilcox.test(as.formula(paste(\"log(\",key,\")~ CLI\")), data = data)\n",
    "    cat(\"\\n\", key, \"result :\", \"p-value =\", round(test$p.value,4), '\\n')\n",
    "}\n",
    "\n",
    "pv <- t.test(log(CD34) ~ CLI, data=data)$p.value\n",
    "cat(\"\\n CD34 t-test : p-value =\", round(pv,3))"
   ]
  },
  {
   "cell_type": "markdown",
   "metadata": {},
   "source": [
    "앞과 같은 결과 \n",
    "\n",
    "**Average CFU 와 VEGF.1 은 경계수준**\n",
    "\n",
    "**VEGF, VEGF.All, SDF.1 은 꽤나 유의미**\n",
    "\n",
    "혹시 이것이 앞서 demographic data 의 차이로 인한 것은 아닌지 한 번 살펴보자. \n",
    "\n",
    "DM + alcohol + statin (+ HTN ) 이 녀석들에 대한 것들을 고정으로 두고, 분석을 실시해보자. "
   ]
  },
  {
   "cell_type": "markdown",
   "metadata": {},
   "source": [
    "## 교란 변수 제거"
   ]
  },
  {
   "cell_type": "markdown",
   "metadata": {},
   "source": [
    "### 분리된 집단의 수\n",
    "그런데 분리된 집단의 수는 다음과 같다. "
   ]
  },
  {
   "cell_type": "code",
   "execution_count": 70,
   "metadata": {},
   "outputs": [
    {
     "data": {
      "text/html": [
       "<table>\n",
       "<thead><tr><th scope=col>DM</th><th scope=col>alcohol</th><th scope=col>statin</th><th scope=col>CLI1</th><th scope=col>CLI0</th></tr></thead>\n",
       "<tbody>\n",
       "\t<tr><td>0 </td><td>0 </td><td>0 </td><td>10</td><td>13</td></tr>\n",
       "\t<tr><td>0 </td><td>0 </td><td>1 </td><td> 6</td><td>22</td></tr>\n",
       "\t<tr><td>0 </td><td>1 </td><td>0 </td><td> 2</td><td> 6</td></tr>\n",
       "\t<tr><td>0 </td><td>1 </td><td>1 </td><td> 1</td><td> 4</td></tr>\n",
       "\t<tr><td>1 </td><td>0 </td><td>0 </td><td>31</td><td> 5</td></tr>\n",
       "\t<tr><td>1 </td><td>0 </td><td>1 </td><td> 6</td><td>11</td></tr>\n",
       "\t<tr><td>1 </td><td>1 </td><td>0 </td><td> 0</td><td> 5</td></tr>\n",
       "\t<tr><td>1 </td><td>1 </td><td>1 </td><td> 1</td><td> 8</td></tr>\n",
       "</tbody>\n",
       "</table>\n"
      ],
      "text/latex": [
       "\\begin{tabular}{r|lllll}\n",
       " DM & alcohol & statin & CLI1 & CLI0\\\\\n",
       "\\hline\n",
       "\t 0  & 0  & 0  & 10 & 13\\\\\n",
       "\t 0  & 0  & 1  &  6 & 22\\\\\n",
       "\t 0  & 1  & 0  &  2 &  6\\\\\n",
       "\t 0  & 1  & 1  &  1 &  4\\\\\n",
       "\t 1  & 0  & 0  & 31 &  5\\\\\n",
       "\t 1  & 0  & 1  &  6 & 11\\\\\n",
       "\t 1  & 1  & 0  &  0 &  5\\\\\n",
       "\t 1  & 1  & 1  &  1 &  8\\\\\n",
       "\\end{tabular}\n"
      ],
      "text/markdown": [
       "\n",
       "DM | alcohol | statin | CLI1 | CLI0 | \n",
       "|---|---|---|---|---|---|---|---|\n",
       "| 0  | 0  | 0  | 10 | 13 | \n",
       "| 0  | 0  | 1  |  6 | 22 | \n",
       "| 0  | 1  | 0  |  2 |  6 | \n",
       "| 0  | 1  | 1  |  1 |  4 | \n",
       "| 1  | 0  | 0  | 31 |  5 | \n",
       "| 1  | 0  | 1  |  6 | 11 | \n",
       "| 1  | 1  | 0  |  0 |  5 | \n",
       "| 1  | 1  | 1  |  1 |  8 | \n",
       "\n",
       "\n"
      ],
      "text/plain": [
       "  DM alcohol statin CLI1 CLI0\n",
       "1 0  0       0      10   13  \n",
       "2 0  0       1       6   22  \n",
       "3 0  1       0       2    6  \n",
       "4 0  1       1       1    4  \n",
       "5 1  0       0      31    5  \n",
       "6 1  0       1       6   11  \n",
       "7 1  1       0       0    5  \n",
       "8 1  1       1       1    8  "
      ]
     },
     "metadata": {},
     "output_type": "display_data"
    }
   ],
   "source": [
    "df %>% \n",
    "    mutate(DM = as.factor(DM), alcohol = as.factor(alcohol), statin=as.factor(statin)) %>% \n",
    "    group_by(DM, alcohol, statin) %>% \n",
    "    summarise(CLI1 = sum(CLI==1), CLI0 = sum(CLI==0))"
   ]
  },
  {
   "cell_type": "markdown",
   "metadata": {},
   "source": [
    "일부 집단에 대해서는 개체수가 너무 적어 검정이 어려울 것으로 생각된다. \n",
    "\n",
    "따라서 선별적으로 개체수가 적절한 테이터에 대해서만 분석을 먼저 돌려보자 \n",
    "\n",
    "DM, alcohol, statin = (0,0,0), (0,0,1),(1,0,0),(1,0,1)\n",
    "\n",
    "을 대상으로 해보자"
   ]
  },
  {
   "cell_type": "markdown",
   "metadata": {},
   "source": [
    "#### (0,0,0)"
   ]
  },
  {
   "cell_type": "code",
   "execution_count": 188,
   "metadata": {},
   "outputs": [
    {
     "name": "stdout",
     "output_type": "stream",
     "text": [
      "\n",
      " Average.CFU result : p-value = 0.4833 \n",
      "\n",
      " VEGF result : p-value = 0.7844 \n"
     ]
    },
    {
     "name": "stderr",
     "output_type": "stream",
     "text": [
      "Warning message in wilcox.test.default(x = c(0.19, 0.1715, 0.0835, 0.047, 0.294, :\n",
      "“cannot compute exact p-value with ties”"
     ]
    },
    {
     "name": "stdout",
     "output_type": "stream",
     "text": [
      "\n",
      " CD34.VEGF result : p-value = 0.9259 \n"
     ]
    },
    {
     "name": "stderr",
     "output_type": "stream",
     "text": [
      "Warning message in wilcox.test.default(x = c(2.1, 0.4345, -0.0175, -0.079, -0.1035, :\n",
      "“cannot compute exact p-value with ties”"
     ]
    },
    {
     "name": "stdout",
     "output_type": "stream",
     "text": [
      "\n",
      " CD34 result : p-value = 0.8281 \n",
      "\n",
      " VEGF.All result : p-value = 0.7844 \n",
      "\n",
      " CD34.All result : p-value = 0.3758 \n",
      "\n",
      " VEGF.1 result : p-value = 0.1151 \n",
      "\n",
      " SDF.1 result : p-value = 0.0358 \n"
     ]
    }
   ],
   "source": [
    "tmp <- data %>% filter(DM == 0, alcohol==0, statin==0)\n",
    "\n",
    "for(key in c('Average.CFU', 'VEGF', 'CD34.VEGF', 'CD34', 'VEGF.All', 'CD34.All', 'VEGF.1', 'SDF.1')){\n",
    "    test <- wilcox.test(as.formula(paste(key,\"~ CLI\")), data = tmp)\n",
    "    cat(\"\\n\", key, \"result : p-value =\", round(test$p.value, 4), '\\n')\n",
    "}"
   ]
  },
  {
   "cell_type": "markdown",
   "metadata": {},
   "source": [
    "#### (0,0,1)"
   ]
  },
  {
   "cell_type": "code",
   "execution_count": 190,
   "metadata": {},
   "outputs": [
    {
     "name": "stdout",
     "output_type": "stream",
     "text": [
      "\n",
      " Average.CFU result : p-value = 0.0053 \n",
      "\n",
      " VEGF result : p-value = 0.0331 \n",
      "\n",
      " CD34.VEGF result : p-value = 0.6824 \n",
      "\n",
      " CD34 result : p-value = 0.6426 \n",
      "\n",
      " VEGF.All result : p-value = 0.0386 \n",
      "\n",
      " CD34.All result : p-value = 0.6426 \n",
      "\n",
      " VEGF.1 result : p-value = 0.7642 \n",
      "\n",
      " SDF.1 result : p-value = 0.0016 \n"
     ]
    }
   ],
   "source": [
    "tmp <- data %>% filter(DM == 0, alcohol==0, statin==1)\n",
    "\n",
    "for(key in c('Average.CFU', 'VEGF', 'CD34.VEGF', 'CD34', 'VEGF.All', 'CD34.All', 'VEGF.1', 'SDF.1')){\n",
    "    test <- wilcox.test(as.formula(paste(key,\"~ CLI\")), data = tmp)\n",
    "    cat(\"\\n\", key, \"result : p-value =\", round(test$p.value, 4), '\\n')\n",
    "}"
   ]
  },
  {
   "cell_type": "markdown",
   "metadata": {},
   "source": [
    "#### (1,0,0)"
   ]
  },
  {
   "cell_type": "code",
   "execution_count": 193,
   "metadata": {
    "scrolled": true
   },
   "outputs": [
    {
     "name": "stdout",
     "output_type": "stream",
     "text": [
      "\n",
      " Average.CFU result : p-value = 0.286 \n",
      "\n",
      " VEGF result : p-value = 0.0213 \n",
      "\n",
      " CD34.VEGF result : p-value = 0.1965 \n",
      "\n",
      " CD34 result : p-value = 0.5598 \n",
      "\n",
      " VEGF.All result : p-value = 0.0161 \n",
      "\n",
      " CD34.All result : p-value = 0.286 \n",
      "\n",
      " VEGF.1 result : p-value = 0.5027 \n",
      "\n",
      " SDF.1 result : p-value = 0.0186 \n"
     ]
    }
   ],
   "source": [
    "tmp <- data %>% filter(DM == 1, alcohol==0, statin==0)\n",
    "\n",
    "for(key in c('Average.CFU', 'VEGF', 'CD34.VEGF', 'CD34', 'VEGF.All', 'CD34.All', 'VEGF.1', 'SDF.1')){\n",
    "    test <- wilcox.test(as.formula(paste(key,\"~ CLI\")), data = tmp)\n",
    "    cat(\"\\n\", key, \"result : p-value =\", round(test$p.value, 4), '\\n')\n",
    "}"
   ]
  },
  {
   "cell_type": "markdown",
   "metadata": {},
   "source": [
    "#### (1,0,1)"
   ]
  },
  {
   "cell_type": "code",
   "execution_count": 196,
   "metadata": {
    "scrolled": true
   },
   "outputs": [
    {
     "name": "stdout",
     "output_type": "stream",
     "text": [
      "\n",
      " Average.CFU result : p-value = 0.6605 \n",
      "\n",
      " VEGF result : p-value = 0.1215 \n",
      "\n",
      " CD34.VEGF result : p-value = 0.5249 \n",
      "\n",
      " CD34 result : p-value = 0.9612 \n",
      "\n",
      " VEGF.All result : p-value = 0.1215 \n",
      "\n",
      " CD34.All result : p-value = 0.7325 \n",
      "\n",
      " VEGF.1 result : p-value = 0.5249 \n",
      "\n",
      " SDF.1 result : p-value = 0.3502 \n"
     ]
    }
   ],
   "source": [
    "tmp <- data %>% filter(DM == 1, alcohol==0, statin==1)\n",
    "\n",
    "for(key in c('Average.CFU', 'VEGF', 'CD34.VEGF', 'CD34', 'VEGF.All', 'CD34.All', 'VEGF.1', 'SDF.1')){\n",
    "    test <- wilcox.test(as.formula(paste(key,\"~ CLI\")), data = tmp)\n",
    "    cat(\"\\n\", key, \"result : p-value =\", round(test$p.value, 4), '\\n')\n",
    "}"
   ]
  },
  {
   "cell_type": "markdown",
   "metadata": {},
   "source": [
    "대략 유의미하게 나오는 녀석들은 SDF.1, VEGF(.All), Average.CFU 정도 임을 알 수 있다. \n",
    "\n",
    "log 에 대해서도 대략 비슷하게 나올 것이라고 생각해볼 수 있다. "
   ]
  },
  {
   "cell_type": "markdown",
   "metadata": {},
   "source": [
    "## 로그 변수에 대한 교란변수 고정"
   ]
  },
  {
   "cell_type": "markdown",
   "metadata": {},
   "source": [
    "#### (0,0,0)"
   ]
  },
  {
   "cell_type": "code",
   "execution_count": 127,
   "metadata": {},
   "outputs": [
    {
     "name": "stdout",
     "output_type": "stream",
     "text": [
      "\n",
      " Average.CFU result : p-value = 0.4833 \n",
      "\n",
      " VEGF result : p-value = 0.7844 \n"
     ]
    },
    {
     "name": "stderr",
     "output_type": "stream",
     "text": [
      "Warning message in wilcox.test.default(x = c(-1.66073120682165, -1.76317201237614, :\n",
      "“cannot compute exact p-value with ties”"
     ]
    },
    {
     "name": "stdout",
     "output_type": "stream",
     "text": [
      "\n",
      " CD34.VEGF result : p-value = 0.9259 \n"
     ]
    },
    {
     "name": "stderr",
     "output_type": "stream",
     "text": [
      "Warning message in log(CD34):\n",
      "“NaN이 생성되었습니다”"
     ]
    },
    {
     "name": "stdout",
     "output_type": "stream",
     "text": [
      "\n",
      " CD34 result : p-value = 0.9333 \n",
      "\n",
      " VEGF.All result : p-value = 0.7844 \n"
     ]
    },
    {
     "name": "stderr",
     "output_type": "stream",
     "text": [
      "Warning message in log(CD34.All):\n",
      "“NaN이 생성되었습니다”"
     ]
    },
    {
     "name": "stdout",
     "output_type": "stream",
     "text": [
      "\n",
      " CD34.All result : p-value = 0.203 \n",
      "\n",
      " VEGF.1 result : p-value = 0.1151 \n",
      "\n",
      " SDF.1 result : p-value = 0.0358 \n"
     ]
    }
   ],
   "source": [
    "tmp <- data %>% filter(DM == 0, alcohol==0, statin==0)\n",
    "\n",
    "for(key in c('Average.CFU', 'VEGF', 'CD34.VEGF', 'CD34', 'VEGF.All', 'CD34.All', 'VEGF.1', 'SDF.1')){\n",
    "    test <- wilcox.test(as.formula(paste(\"log(\",key,\")~ CLI\")), data = tmp)\n",
    "    cat(\"\\n\", key, \"result : p-value =\", round(test$p.value, 4), '\\n')\n",
    "}"
   ]
  },
  {
   "cell_type": "markdown",
   "metadata": {},
   "source": [
    "#### (0,0,1)"
   ]
  },
  {
   "cell_type": "code",
   "execution_count": 128,
   "metadata": {},
   "outputs": [
    {
     "name": "stdout",
     "output_type": "stream",
     "text": [
      "\n",
      " Average.CFU result : p-value = 0.0053 \n",
      "\n",
      " VEGF result : p-value = 0.0331 \n",
      "\n",
      " CD34.VEGF result : p-value = 0.6824 \n"
     ]
    },
    {
     "name": "stderr",
     "output_type": "stream",
     "text": [
      "Warning message in log(CD34):\n",
      "“NaN이 생성되었습니다”"
     ]
    },
    {
     "name": "stdout",
     "output_type": "stream",
     "text": [
      "\n",
      " CD34 result : p-value = 0.044 \n",
      "\n",
      " VEGF.All result : p-value = 0.0386 \n",
      "\n",
      " CD34.All result : p-value = 0.6426 \n"
     ]
    },
    {
     "name": "stderr",
     "output_type": "stream",
     "text": [
      "Warning message in log(VEGF.1):\n",
      "“NaN이 생성되었습니다”"
     ]
    },
    {
     "name": "stdout",
     "output_type": "stream",
     "text": [
      "\n",
      " VEGF.1 result : p-value = 0.6289 \n",
      "\n",
      " SDF.1 result : p-value = 0.0016 \n"
     ]
    }
   ],
   "source": [
    "tmp <- data %>% filter(DM == 0, alcohol==0, statin==1)\n",
    "\n",
    "for(key in c('Average.CFU', 'VEGF', 'CD34.VEGF', 'CD34', 'VEGF.All', 'CD34.All', 'VEGF.1', 'SDF.1')){\n",
    "    test <- wilcox.test(as.formula(paste(\"log(\",key,\")~ CLI\")), data = tmp)\n",
    "    cat(\"\\n\", key, \"result : p-value =\", round(test$p.value, 4), '\\n')\n",
    "}"
   ]
  },
  {
   "cell_type": "markdown",
   "metadata": {},
   "source": [
    "#### (1,0,0)"
   ]
  },
  {
   "cell_type": "code",
   "execution_count": 129,
   "metadata": {
    "scrolled": true
   },
   "outputs": [
    {
     "name": "stdout",
     "output_type": "stream",
     "text": [
      "\n",
      " Average.CFU result : p-value = 0.286 \n",
      "\n",
      " VEGF result : p-value = 0.0213 \n",
      "\n",
      " CD34.VEGF result : p-value = 0.1965 \n"
     ]
    },
    {
     "name": "stderr",
     "output_type": "stream",
     "text": [
      "Warning message in log(CD34):\n",
      "“NaN이 생성되었습니다”"
     ]
    },
    {
     "name": "stdout",
     "output_type": "stream",
     "text": [
      "\n",
      " CD34 result : p-value = 0.5455 \n",
      "\n",
      " VEGF.All result : p-value = 0.0161 \n",
      "\n",
      " CD34.All result : p-value = 0.286 \n",
      "\n",
      " VEGF.1 result : p-value = 0.5027 \n",
      "\n",
      " SDF.1 result : p-value = 0.0186 \n"
     ]
    }
   ],
   "source": [
    "tmp <- data %>% filter(DM == 1, alcohol==0, statin==0)\n",
    "\n",
    "for(key in c('Average.CFU', 'VEGF', 'CD34.VEGF', 'CD34', 'VEGF.All', 'CD34.All', 'VEGF.1', 'SDF.1')){\n",
    "    test <- wilcox.test(as.formula(paste(\"log(\",key,\")~ CLI\")), data = tmp)\n",
    "    cat(\"\\n\", key, \"result : p-value =\", round(test$p.value, 4), '\\n')\n",
    "}"
   ]
  },
  {
   "cell_type": "markdown",
   "metadata": {},
   "source": [
    "#### (1,0,1)"
   ]
  },
  {
   "cell_type": "code",
   "execution_count": 130,
   "metadata": {
    "scrolled": false
   },
   "outputs": [
    {
     "name": "stdout",
     "output_type": "stream",
     "text": [
      "\n",
      " Average.CFU result : p-value = 0.6605 \n",
      "\n",
      " VEGF result : p-value = 0.1215 \n",
      "\n",
      " CD34.VEGF result : p-value = 0.5249 \n"
     ]
    },
    {
     "name": "stderr",
     "output_type": "stream",
     "text": [
      "Warning message in log(CD34):\n",
      "“NaN이 생성되었습니다”"
     ]
    },
    {
     "name": "stdout",
     "output_type": "stream",
     "text": [
      "\n",
      " CD34 result : p-value = 1 \n",
      "\n",
      " VEGF.All result : p-value = 0.1215 \n"
     ]
    },
    {
     "name": "stderr",
     "output_type": "stream",
     "text": [
      "Warning message in log(CD34.All):\n",
      "“NaN이 생성되었습니다”"
     ]
    },
    {
     "name": "stdout",
     "output_type": "stream",
     "text": [
      "\n",
      " CD34.All result : p-value = 0.9578 \n",
      "\n",
      " VEGF.1 result : p-value = 0.5249 \n",
      "\n",
      " SDF.1 result : p-value = 0.3502 \n"
     ]
    }
   ],
   "source": [
    "tmp <- data %>% filter(DM == 1, alcohol==0, statin==1)\n",
    "\n",
    "for(key in c('Average.CFU', 'VEGF', 'CD34.VEGF', 'CD34', 'VEGF.All', 'CD34.All', 'VEGF.1', 'SDF.1')){\n",
    "    test <- wilcox.test(as.formula(paste(\"log(\",key,\")~ CLI\")), data = tmp)\n",
    "    cat(\"\\n\", key, \"result : p-value =\", round(test$p.value, 4), '\\n')\n",
    "}"
   ]
  },
  {
   "cell_type": "markdown",
   "metadata": {},
   "source": [
    "---\n",
    "# 로지스틱 회귀\n",
    "---\n",
    "\n",
    "위와 같은 방식도 좋지만, \n",
    "\n",
    "애초에 CLI 를 종속변수, VEGF같은 것을 설명 변수로 가정하면 \n",
    "\n",
    "DM 이나 statin 복용 여부등의 효과를 고려하였을 때에, \n",
    "\n",
    "lab data 의 CLI 분류에 대한 효용성을 파악할 수 있다. \n",
    "\n",
    "앞서 분석 1에서 만든 회귀모형(CLI ~ DM + alcohol + statin (+ HTN))에 지표들을 넣었을때 유의미한 효과를 거둘 수 있을지 확인해보자 "
   ]
  },
  {
   "cell_type": "markdown",
   "metadata": {},
   "source": [
    "## DM+alcohol+statin+HTN 모형에 추가"
   ]
  },
  {
   "cell_type": "markdown",
   "metadata": {},
   "source": [
    "#### Average.CFU"
   ]
  },
  {
   "cell_type": "code",
   "execution_count": 131,
   "metadata": {
    "scrolled": false
   },
   "outputs": [
    {
     "data": {
      "text/plain": [
       "\n",
       "Call:\n",
       "glm(formula = CLI ~ DM + HTN + alcohol + statin + Average.CFU, \n",
       "    family = binomial(), data = data)\n",
       "\n",
       "Deviance Residuals: \n",
       "    Min       1Q   Median       3Q      Max  \n",
       "-1.7830  -0.9303  -0.4715   0.7535   2.6374  \n",
       "\n",
       "Coefficients:\n",
       "            Estimate Std. Error z value Pr(>|z|)    \n",
       "(Intercept)   1.8477     1.3240   1.396  0.16285    \n",
       "DM            1.2705     0.4229   3.004  0.00266 ** \n",
       "HTN          -1.0997     0.6738  -1.632  0.10266    \n",
       "alcohol      -1.6241     0.5839  -2.781  0.00541 ** \n",
       "statin       -1.4623     0.4428  -3.302  0.00096 ***\n",
       "Average.CFU  -0.1740     0.2800  -0.621  0.53447    \n",
       "---\n",
       "Signif. codes:  0 ‘***’ 0.001 ‘**’ 0.01 ‘*’ 0.05 ‘.’ 0.1 ‘ ’ 1\n",
       "\n",
       "(Dispersion parameter for binomial family taken to be 1)\n",
       "\n",
       "    Null deviance: 182.68  on 132  degrees of freedom\n",
       "Residual deviance: 140.07  on 127  degrees of freedom\n",
       "AIC: 152.07\n",
       "\n",
       "Number of Fisher Scoring iterations: 4\n"
      ]
     },
     "metadata": {},
     "output_type": "display_data"
    }
   ],
   "source": [
    "model <- glm(CLI ~ DM + HTN + alcohol + statin + Average.CFU, family = binomial(),data = data)\n",
    "summary(model)"
   ]
  },
  {
   "cell_type": "markdown",
   "metadata": {},
   "source": [
    "#### VEGF"
   ]
  },
  {
   "cell_type": "code",
   "execution_count": 133,
   "metadata": {
    "scrolled": false
   },
   "outputs": [
    {
     "data": {
      "text/plain": [
       "\n",
       "Call:\n",
       "glm(formula = CLI ~ DM + HTN + alcohol + statin + VEGF, family = binomial(), \n",
       "    data = data)\n",
       "\n",
       "Deviance Residuals: \n",
       "    Min       1Q   Median       3Q      Max  \n",
       "-1.8544  -0.7524  -0.4213   0.7105   2.7089  \n",
       "\n",
       "Coefficients:\n",
       "            Estimate Std. Error z value Pr(>|z|)   \n",
       "(Intercept)  1.63189    0.71915   2.269  0.02326 * \n",
       "DM           1.16527    0.42870   2.718  0.00656 **\n",
       "HTN         -1.17823    0.66927  -1.760  0.07833 . \n",
       "alcohol     -1.43639    0.58363  -2.461  0.01385 * \n",
       "statin      -1.36965    0.43532  -3.146  0.00165 **\n",
       "VEGF        -0.11693    0.05737  -2.038  0.04155 * \n",
       "---\n",
       "Signif. codes:  0 ‘***’ 0.001 ‘**’ 0.01 ‘*’ 0.05 ‘.’ 0.1 ‘ ’ 1\n",
       "\n",
       "(Dispersion parameter for binomial family taken to be 1)\n",
       "\n",
       "    Null deviance: 182.68  on 132  degrees of freedom\n",
       "Residual deviance: 135.49  on 127  degrees of freedom\n",
       "AIC: 147.49\n",
       "\n",
       "Number of Fisher Scoring iterations: 4\n"
      ]
     },
     "metadata": {},
     "output_type": "display_data"
    }
   ],
   "source": [
    "model <- glm(CLI ~ DM + HTN + alcohol + statin + VEGF, family = binomial(),data = data)\n",
    "summary(model)"
   ]
  },
  {
   "cell_type": "markdown",
   "metadata": {},
   "source": [
    "#### CD34.VEGF"
   ]
  },
  {
   "cell_type": "code",
   "execution_count": 74,
   "metadata": {},
   "outputs": [
    {
     "data": {
      "text/plain": [
       "\n",
       "Call:\n",
       "glm(formula = CLI ~ DM + HTN + alcohol + statin + CD34.VEGF, \n",
       "    family = binomial(), data = data)\n",
       "\n",
       "Deviance Residuals: \n",
       "    Min       1Q   Median       3Q      Max  \n",
       "-1.7093  -0.9638  -0.4881   0.7367   2.5819  \n",
       "\n",
       "Coefficients:\n",
       "            Estimate Std. Error z value Pr(>|z|)    \n",
       "(Intercept)   1.1961     0.7047   1.697 0.089622 .  \n",
       "DM            1.2406     0.4190   2.961 0.003068 ** \n",
       "HTN          -1.2198     0.6549  -1.863 0.062521 .  \n",
       "alcohol      -1.7018     0.5741  -2.964 0.003034 ** \n",
       "statin       -1.5537     0.4268  -3.640 0.000273 ***\n",
       "CD34.VEGF    -0.1501     0.6301  -0.238 0.811719    \n",
       "---\n",
       "Signif. codes:  0 ‘***’ 0.001 ‘**’ 0.01 ‘*’ 0.05 ‘.’ 0.1 ‘ ’ 1\n",
       "\n",
       "(Dispersion parameter for binomial family taken to be 1)\n",
       "\n",
       "    Null deviance: 182.68  on 132  degrees of freedom\n",
       "Residual deviance: 140.40  on 127  degrees of freedom\n",
       "AIC: 152.4\n",
       "\n",
       "Number of Fisher Scoring iterations: 4\n"
      ]
     },
     "metadata": {},
     "output_type": "display_data"
    }
   ],
   "source": [
    "model <- glm(CLI ~ DM + HTN + alcohol + statin + CD34.VEGF, family = binomial(),data = data)\n",
    "summary(model)"
   ]
  },
  {
   "cell_type": "markdown",
   "metadata": {},
   "source": [
    "#### CD34"
   ]
  },
  {
   "cell_type": "code",
   "execution_count": 75,
   "metadata": {},
   "outputs": [
    {
     "data": {
      "text/plain": [
       "\n",
       "Call:\n",
       "glm(formula = CLI ~ DM + HTN + alcohol + statin + CD34, family = binomial(), \n",
       "    data = data)\n",
       "\n",
       "Deviance Residuals: \n",
       "    Min       1Q   Median       3Q      Max  \n",
       "-1.7263  -0.9407  -0.4713   0.7718   2.5316  \n",
       "\n",
       "Coefficients:\n",
       "            Estimate Std. Error z value Pr(>|z|)    \n",
       "(Intercept)   0.9887     0.6707   1.474 0.140416    \n",
       "DM            1.1817     0.4220   2.800 0.005103 ** \n",
       "HTN          -1.1613     0.6519  -1.782 0.074827 .  \n",
       "alcohol      -1.6317     0.5717  -2.854 0.004313 ** \n",
       "statin       -1.5089     0.4288  -3.519 0.000434 ***\n",
       "CD34          0.5659     0.4810   1.177 0.239361    \n",
       "---\n",
       "Signif. codes:  0 ‘***’ 0.001 ‘**’ 0.01 ‘*’ 0.05 ‘.’ 0.1 ‘ ’ 1\n",
       "\n",
       "(Dispersion parameter for binomial family taken to be 1)\n",
       "\n",
       "    Null deviance: 182.68  on 132  degrees of freedom\n",
       "Residual deviance: 138.19  on 127  degrees of freedom\n",
       "AIC: 150.19\n",
       "\n",
       "Number of Fisher Scoring iterations: 5\n"
      ]
     },
     "metadata": {},
     "output_type": "display_data"
    }
   ],
   "source": [
    "model <- glm(CLI ~ DM + HTN + alcohol + statin + CD34, family = binomial(),data = data)\n",
    "summary(model)"
   ]
  },
  {
   "cell_type": "markdown",
   "metadata": {},
   "source": [
    "#### VEGF.All"
   ]
  },
  {
   "cell_type": "code",
   "execution_count": 76,
   "metadata": {},
   "outputs": [
    {
     "data": {
      "text/plain": [
       "\n",
       "Call:\n",
       "glm(formula = CLI ~ DM + HTN + alcohol + statin + VEGF.All, family = binomial(), \n",
       "    data = data)\n",
       "\n",
       "Deviance Residuals: \n",
       "    Min       1Q   Median       3Q      Max  \n",
       "-1.8517  -0.7455  -0.4248   0.7559   2.6948  \n",
       "\n",
       "Coefficients:\n",
       "            Estimate Std. Error z value Pr(>|z|)   \n",
       "(Intercept)  1.66460    0.72623   2.292  0.02190 * \n",
       "DM           1.16749    0.42854   2.724  0.00644 **\n",
       "HTN         -1.18425    0.67018  -1.767  0.07722 . \n",
       "alcohol     -1.44544    0.58322  -2.478  0.01320 * \n",
       "statin      -1.37914    0.43471  -3.173  0.00151 **\n",
       "VEGF.All    -0.11444    0.05658  -2.023  0.04312 * \n",
       "---\n",
       "Signif. codes:  0 ‘***’ 0.001 ‘**’ 0.01 ‘*’ 0.05 ‘.’ 0.1 ‘ ’ 1\n",
       "\n",
       "(Dispersion parameter for binomial family taken to be 1)\n",
       "\n",
       "    Null deviance: 182.68  on 132  degrees of freedom\n",
       "Residual deviance: 135.56  on 127  degrees of freedom\n",
       "AIC: 147.56\n",
       "\n",
       "Number of Fisher Scoring iterations: 4\n"
      ]
     },
     "metadata": {},
     "output_type": "display_data"
    }
   ],
   "source": [
    "model <- glm(CLI ~ DM + HTN + alcohol + statin + VEGF.All, family = binomial(),data = data)\n",
    "summary(model)"
   ]
  },
  {
   "cell_type": "markdown",
   "metadata": {},
   "source": [
    "#### CD34.All"
   ]
  },
  {
   "cell_type": "code",
   "execution_count": 77,
   "metadata": {},
   "outputs": [
    {
     "data": {
      "text/plain": [
       "\n",
       "Call:\n",
       "glm(formula = CLI ~ DM + HTN + alcohol + statin + CD34.All, family = binomial(), \n",
       "    data = data)\n",
       "\n",
       "Deviance Residuals: \n",
       "    Min       1Q   Median       3Q      Max  \n",
       "-1.7418  -0.9397  -0.4778   0.7736   2.5754  \n",
       "\n",
       "Coefficients:\n",
       "            Estimate Std. Error z value Pr(>|z|)    \n",
       "(Intercept)   0.9588     0.6858   1.398 0.162076    \n",
       "DM            1.2118     0.4201   2.884 0.003922 ** \n",
       "HTN          -1.1786     0.6495  -1.815 0.069570 .  \n",
       "alcohol      -1.6546     0.5727  -2.889 0.003865 ** \n",
       "statin       -1.5113     0.4267  -3.542 0.000397 ***\n",
       "CD34.All      0.2773     0.3161   0.877 0.380376    \n",
       "---\n",
       "Signif. codes:  0 ‘***’ 0.001 ‘**’ 0.01 ‘*’ 0.05 ‘.’ 0.1 ‘ ’ 1\n",
       "\n",
       "(Dispersion parameter for binomial family taken to be 1)\n",
       "\n",
       "    Null deviance: 182.68  on 132  degrees of freedom\n",
       "Residual deviance: 139.30  on 127  degrees of freedom\n",
       "AIC: 151.3\n",
       "\n",
       "Number of Fisher Scoring iterations: 5\n"
      ]
     },
     "metadata": {},
     "output_type": "display_data"
    }
   ],
   "source": [
    "model <- glm(CLI ~ DM + HTN + alcohol + statin + CD34.All, family = binomial(),data = data)\n",
    "summary(model)"
   ]
  },
  {
   "cell_type": "markdown",
   "metadata": {},
   "source": [
    "#### VEGF.1"
   ]
  },
  {
   "cell_type": "code",
   "execution_count": 78,
   "metadata": {
    "scrolled": false
   },
   "outputs": [
    {
     "data": {
      "text/plain": [
       "\n",
       "Call:\n",
       "glm(formula = CLI ~ DM + HTN + alcohol + statin + VEGF.1, family = binomial(), \n",
       "    data = data)\n",
       "\n",
       "Deviance Residuals: \n",
       "    Min       1Q   Median       3Q      Max  \n",
       "-1.8141  -0.8764  -0.4170   0.8092   2.6398  \n",
       "\n",
       "Coefficients:\n",
       "             Estimate Std. Error z value Pr(>|z|)   \n",
       "(Intercept)  0.535276   0.711298   0.753  0.45173   \n",
       "DM           1.045877   0.428734   2.439  0.01471 * \n",
       "HTN         -1.006382   0.645103  -1.560  0.11875   \n",
       "alcohol     -1.814160   0.598935  -3.029  0.00245 **\n",
       "statin      -1.375596   0.433958  -3.170  0.00153 **\n",
       "VEGF.1       0.005689   0.003108   1.830  0.06722 . \n",
       "---\n",
       "Signif. codes:  0 ‘***’ 0.001 ‘**’ 0.01 ‘*’ 0.05 ‘.’ 0.1 ‘ ’ 1\n",
       "\n",
       "(Dispersion parameter for binomial family taken to be 1)\n",
       "\n",
       "    Null deviance: 182.68  on 132  degrees of freedom\n",
       "Residual deviance: 136.46  on 127  degrees of freedom\n",
       "AIC: 148.46\n",
       "\n",
       "Number of Fisher Scoring iterations: 5\n"
      ]
     },
     "metadata": {},
     "output_type": "display_data"
    }
   ],
   "source": [
    "model <- glm(CLI ~ DM + HTN + alcohol + statin + VEGF.1, family = binomial(),data = data)\n",
    "summary(model)"
   ]
  },
  {
   "cell_type": "markdown",
   "metadata": {},
   "source": [
    "#### SDF.1"
   ]
  },
  {
   "cell_type": "code",
   "execution_count": 79,
   "metadata": {
    "scrolled": false
   },
   "outputs": [
    {
     "data": {
      "text/plain": [
       "\n",
       "Call:\n",
       "glm(formula = CLI ~ DM + HTN + alcohol + statin + SDF.1, family = binomial(), \n",
       "    data = data)\n",
       "\n",
       "Deviance Residuals: \n",
       "    Min       1Q   Median       3Q      Max  \n",
       "-1.6704  -0.7847  -0.3204   0.5885   2.5767  \n",
       "\n",
       "Coefficients:\n",
       "              Estimate Std. Error z value Pr(>|z|)    \n",
       "(Intercept) -3.7199049  1.4437295  -2.577 0.009978 ** \n",
       "DM           1.0461941  0.4537992   2.305 0.021144 *  \n",
       "HTN         -0.4594569  0.7496846  -0.613 0.539964    \n",
       "alcohol     -1.3292490  0.5931285  -2.241 0.025021 *  \n",
       "statin      -1.4480969  0.4605487  -3.144 0.001665 ** \n",
       "SDF.1        0.0015496  0.0004134   3.749 0.000178 ***\n",
       "---\n",
       "Signif. codes:  0 ‘***’ 0.001 ‘**’ 0.01 ‘*’ 0.05 ‘.’ 0.1 ‘ ’ 1\n",
       "\n",
       "(Dispersion parameter for binomial family taken to be 1)\n",
       "\n",
       "    Null deviance: 182.68  on 132  degrees of freedom\n",
       "Residual deviance: 120.85  on 127  degrees of freedom\n",
       "AIC: 132.85\n",
       "\n",
       "Number of Fisher Scoring iterations: 5\n"
      ]
     },
     "metadata": {},
     "output_type": "display_data"
    }
   ],
   "source": [
    "model <- glm(CLI ~ DM + HTN + alcohol + statin + SDF.1, family = binomial(),data = data)\n",
    "summary(model)"
   ]
  },
  {
   "cell_type": "markdown",
   "metadata": {},
   "source": [
    "### 결과1 \n",
    "\n",
    "- VEGF\n",
    "- VEGF.All\n",
    "- VEGF.1 (경계수준)\n",
    "- SDF.1 \n",
    "\n",
    "정도가 유의미하게 나옴 "
   ]
  },
  {
   "cell_type": "markdown",
   "metadata": {},
   "source": [
    "---\n",
    "## DM+alcohol+statin 모형에 추가\n",
    "---"
   ]
  },
  {
   "cell_type": "markdown",
   "metadata": {},
   "source": [
    "HTN 이 없는 모델에서 로지스틱 회귀를 실행해보자 "
   ]
  },
  {
   "cell_type": "markdown",
   "metadata": {},
   "source": [
    "#### Average.CFU"
   ]
  },
  {
   "cell_type": "code",
   "execution_count": 134,
   "metadata": {
    "scrolled": false
   },
   "outputs": [
    {
     "data": {
      "text/plain": [
       "\n",
       "Call:\n",
       "glm(formula = CLI ~ DM + alcohol + statin + Average.CFU, family = binomial(), \n",
       "    data = data)\n",
       "\n",
       "Deviance Residuals: \n",
       "    Min       1Q   Median       3Q      Max  \n",
       "-1.9013  -0.8201  -0.4683   0.7504   2.6335  \n",
       "\n",
       "Coefficients:\n",
       "            Estimate Std. Error z value Pr(>|z|)    \n",
       "(Intercept)   1.4959     1.2945   1.156 0.247853    \n",
       "DM            1.2584     0.4185   3.007 0.002639 ** \n",
       "alcohol      -1.6050     0.5801  -2.767 0.005661 ** \n",
       "statin       -1.4281     0.4331  -3.297 0.000977 ***\n",
       "Average.CFU  -0.2980     0.2687  -1.109 0.267335    \n",
       "---\n",
       "Signif. codes:  0 ‘***’ 0.001 ‘**’ 0.01 ‘*’ 0.05 ‘.’ 0.1 ‘ ’ 1\n",
       "\n",
       "(Dispersion parameter for binomial family taken to be 1)\n",
       "\n",
       "    Null deviance: 182.68  on 132  degrees of freedom\n",
       "Residual deviance: 142.92  on 128  degrees of freedom\n",
       "AIC: 152.92\n",
       "\n",
       "Number of Fisher Scoring iterations: 4\n"
      ]
     },
     "metadata": {},
     "output_type": "display_data"
    }
   ],
   "source": [
    "model <- glm(CLI ~ DM + alcohol + statin + Average.CFU, family = binomial(),data = data)\n",
    "summary(model)"
   ]
  },
  {
   "cell_type": "markdown",
   "metadata": {},
   "source": [
    "#### VEGF"
   ]
  },
  {
   "cell_type": "code",
   "execution_count": 135,
   "metadata": {
    "scrolled": false
   },
   "outputs": [
    {
     "data": {
      "text/plain": [
       "\n",
       "Call:\n",
       "glm(formula = CLI ~ DM + alcohol + statin + VEGF, family = binomial(), \n",
       "    data = data)\n",
       "\n",
       "Deviance Residuals: \n",
       "    Min       1Q   Median       3Q      Max  \n",
       "-1.9155  -0.8104  -0.4246   0.7189   2.6993  \n",
       "\n",
       "Coefficients:\n",
       "            Estimate Std. Error z value Pr(>|z|)   \n",
       "(Intercept)  0.65606    0.43430   1.511  0.13088   \n",
       "DM           1.10454    0.41992   2.630  0.00853 **\n",
       "alcohol     -1.43360    0.57619  -2.488  0.01284 * \n",
       "statin      -1.39370    0.42840  -3.253  0.00114 **\n",
       "VEGF        -0.12053    0.05689  -2.119  0.03411 * \n",
       "---\n",
       "Signif. codes:  0 ‘***’ 0.001 ‘**’ 0.01 ‘*’ 0.05 ‘.’ 0.1 ‘ ’ 1\n",
       "\n",
       "(Dispersion parameter for binomial family taken to be 1)\n",
       "\n",
       "    Null deviance: 182.68  on 132  degrees of freedom\n",
       "Residual deviance: 138.79  on 128  degrees of freedom\n",
       "AIC: 148.79\n",
       "\n",
       "Number of Fisher Scoring iterations: 4\n"
      ]
     },
     "metadata": {},
     "output_type": "display_data"
    }
   ],
   "source": [
    "model <- glm(CLI ~ DM + alcohol + statin + VEGF, family = binomial(),data = data)\n",
    "summary(model)"
   ]
  },
  {
   "cell_type": "markdown",
   "metadata": {},
   "source": [
    "#### CD34.VEGF"
   ]
  },
  {
   "cell_type": "code",
   "execution_count": 137,
   "metadata": {},
   "outputs": [
    {
     "data": {
      "text/plain": [
       "\n",
       "Call:\n",
       "glm(formula = CLI ~ DM + alcohol + statin + CD34.VEGF, family = binomial(), \n",
       "    data = data)\n",
       "\n",
       "Deviance Residuals: \n",
       "    Min       1Q   Median       3Q      Max  \n",
       "-1.7704  -0.9940  -0.5090   0.6944   2.5308  \n",
       "\n",
       "Coefficients:\n",
       "            Estimate Std. Error z value Pr(>|z|)    \n",
       "(Intercept)   0.1577     0.4142   0.381 0.703364    \n",
       "DM            1.1919     0.4103   2.905 0.003670 ** \n",
       "alcohol      -1.7289     0.5703  -3.032 0.002433 ** \n",
       "statin       -1.5752     0.4195  -3.755 0.000174 ***\n",
       "CD34.VEGF    -0.1241     0.6446  -0.192 0.847359    \n",
       "---\n",
       "Signif. codes:  0 ‘***’ 0.001 ‘**’ 0.01 ‘*’ 0.05 ‘.’ 0.1 ‘ ’ 1\n",
       "\n",
       "(Dispersion parameter for binomial family taken to be 1)\n",
       "\n",
       "    Null deviance: 182.68  on 132  degrees of freedom\n",
       "Residual deviance: 144.13  on 128  degrees of freedom\n",
       "AIC: 154.13\n",
       "\n",
       "Number of Fisher Scoring iterations: 4\n"
      ]
     },
     "metadata": {},
     "output_type": "display_data"
    }
   ],
   "source": [
    "model <- glm(CLI ~ DM + alcohol + statin + CD34.VEGF, family = binomial(),data = data)\n",
    "summary(model)"
   ]
  },
  {
   "cell_type": "markdown",
   "metadata": {},
   "source": [
    "#### CD34"
   ]
  },
  {
   "cell_type": "code",
   "execution_count": 138,
   "metadata": {},
   "outputs": [
    {
     "data": {
      "text/plain": [
       "\n",
       "Call:\n",
       "glm(formula = CLI ~ DM + alcohol + statin + CD34, family = binomial(), \n",
       "    data = data)\n",
       "\n",
       "Deviance Residuals: \n",
       "    Min       1Q   Median       3Q      Max  \n",
       "-1.7964  -0.9616  -0.4885   0.7370   2.4766  \n",
       "\n",
       "Coefficients:\n",
       "             Estimate Std. Error z value Pr(>|z|)    \n",
       "(Intercept) -0.005194   0.361170  -0.014 0.988527    \n",
       "DM           1.142015   0.414005   2.758 0.005808 ** \n",
       "alcohol     -1.664160   0.567702  -2.931 0.003374 ** \n",
       "statin      -1.526195   0.421688  -3.619 0.000295 ***\n",
       "CD34         0.665039   0.534768   1.244 0.213646    \n",
       "---\n",
       "Signif. codes:  0 ‘***’ 0.001 ‘**’ 0.01 ‘*’ 0.05 ‘.’ 0.1 ‘ ’ 1\n",
       "\n",
       "(Dispersion parameter for binomial family taken to be 1)\n",
       "\n",
       "    Null deviance: 182.68  on 132  degrees of freedom\n",
       "Residual deviance: 141.58  on 128  degrees of freedom\n",
       "AIC: 151.58\n",
       "\n",
       "Number of Fisher Scoring iterations: 5\n"
      ]
     },
     "metadata": {},
     "output_type": "display_data"
    }
   ],
   "source": [
    "model <- glm(CLI ~ DM + alcohol + statin + CD34, family = binomial(),data = data)\n",
    "summary(model)"
   ]
  },
  {
   "cell_type": "markdown",
   "metadata": {},
   "source": [
    "#### VEGF.All"
   ]
  },
  {
   "cell_type": "code",
   "execution_count": 139,
   "metadata": {},
   "outputs": [
    {
     "data": {
      "text/plain": [
       "\n",
       "Call:\n",
       "glm(formula = CLI ~ DM + alcohol + statin + VEGF.All, family = binomial(), \n",
       "    data = data)\n",
       "\n",
       "Deviance Residuals: \n",
       "    Min       1Q   Median       3Q      Max  \n",
       "-1.9124  -0.8026  -0.4326   0.7208   2.6815  \n",
       "\n",
       "Coefficients:\n",
       "            Estimate Std. Error z value Pr(>|z|)   \n",
       "(Intercept)  0.68323    0.44322   1.542  0.12319   \n",
       "DM           1.10618    0.41967   2.636  0.00839 **\n",
       "alcohol     -1.44320    0.57569  -2.507  0.01218 * \n",
       "statin      -1.40454    0.42775  -3.284  0.00103 **\n",
       "VEGF.All    -0.11766    0.05606  -2.099  0.03584 * \n",
       "---\n",
       "Signif. codes:  0 ‘***’ 0.001 ‘**’ 0.01 ‘*’ 0.05 ‘.’ 0.1 ‘ ’ 1\n",
       "\n",
       "(Dispersion parameter for binomial family taken to be 1)\n",
       "\n",
       "    Null deviance: 182.68  on 132  degrees of freedom\n",
       "Residual deviance: 138.89  on 128  degrees of freedom\n",
       "AIC: 148.89\n",
       "\n",
       "Number of Fisher Scoring iterations: 4\n"
      ]
     },
     "metadata": {},
     "output_type": "display_data"
    }
   ],
   "source": [
    "model <- glm(CLI ~ DM + alcohol + statin + VEGF.All, family = binomial(),data = data)\n",
    "summary(model)"
   ]
  },
  {
   "cell_type": "markdown",
   "metadata": {},
   "source": [
    "#### CD34.All"
   ]
  },
  {
   "cell_type": "code",
   "execution_count": 140,
   "metadata": {},
   "outputs": [
    {
     "data": {
      "text/plain": [
       "\n",
       "Call:\n",
       "glm(formula = CLI ~ DM + alcohol + statin + CD34.All, family = binomial(), \n",
       "    data = data)\n",
       "\n",
       "Deviance Residuals: \n",
       "    Min       1Q   Median       3Q      Max  \n",
       "-1.8167  -0.9624  -0.4964   0.7353   2.5265  \n",
       "\n",
       "Coefficients:\n",
       "            Estimate Std. Error z value Pr(>|z|)    \n",
       "(Intercept) -0.05675    0.38878  -0.146 0.883939    \n",
       "DM           1.17023    0.41207   2.840 0.004513 ** \n",
       "alcohol     -1.68705    0.56909  -2.964 0.003032 ** \n",
       "statin      -1.53004    0.41924  -3.650 0.000263 ***\n",
       "CD34.All     0.32339    0.33894   0.954 0.340010    \n",
       "---\n",
       "Signif. codes:  0 ‘***’ 0.001 ‘**’ 0.01 ‘*’ 0.05 ‘.’ 0.1 ‘ ’ 1\n",
       "\n",
       "(Dispersion parameter for binomial family taken to be 1)\n",
       "\n",
       "    Null deviance: 182.68  on 132  degrees of freedom\n",
       "Residual deviance: 142.83  on 128  degrees of freedom\n",
       "AIC: 152.83\n",
       "\n",
       "Number of Fisher Scoring iterations: 5\n"
      ]
     },
     "metadata": {},
     "output_type": "display_data"
    }
   ],
   "source": [
    "model <- glm(CLI ~ DM + alcohol + statin + CD34.All, family = binomial(),data = data)\n",
    "summary(model)"
   ]
  },
  {
   "cell_type": "markdown",
   "metadata": {},
   "source": [
    "#### VEGF.1"
   ]
  },
  {
   "cell_type": "code",
   "execution_count": 141,
   "metadata": {
    "scrolled": false
   },
   "outputs": [
    {
     "data": {
      "text/plain": [
       "\n",
       "Call:\n",
       "glm(formula = CLI ~ DM + alcohol + statin + VEGF.1, family = binomial(), \n",
       "    data = data)\n",
       "\n",
       "Deviance Residuals: \n",
       "    Min       1Q   Median       3Q      Max  \n",
       "-1.8921  -0.8582  -0.4252   0.7789   2.6055  \n",
       "\n",
       "Coefficients:\n",
       "             Estimate Std. Error z value Pr(>|z|)   \n",
       "(Intercept) -0.357248   0.412444  -0.866  0.38639   \n",
       "DM           0.992425   0.419368   2.366  0.01796 * \n",
       "alcohol     -1.846314   0.590736  -3.125  0.00178 **\n",
       "statin      -1.392483   0.427658  -3.256  0.00113 **\n",
       "VEGF.1       0.006457   0.003145   2.053  0.04007 * \n",
       "---\n",
       "Signif. codes:  0 ‘***’ 0.001 ‘**’ 0.01 ‘*’ 0.05 ‘.’ 0.1 ‘ ’ 1\n",
       "\n",
       "(Dispersion parameter for binomial family taken to be 1)\n",
       "\n",
       "    Null deviance: 182.68  on 132  degrees of freedom\n",
       "Residual deviance: 139.03  on 128  degrees of freedom\n",
       "AIC: 149.03\n",
       "\n",
       "Number of Fisher Scoring iterations: 5\n"
      ]
     },
     "metadata": {},
     "output_type": "display_data"
    }
   ],
   "source": [
    "model <- glm(CLI ~ DM + alcohol + statin + VEGF.1, family = binomial(),data = data)\n",
    "summary(model)"
   ]
  },
  {
   "cell_type": "markdown",
   "metadata": {},
   "source": [
    "#### SDF.1"
   ]
  },
  {
   "cell_type": "code",
   "execution_count": 142,
   "metadata": {
    "scrolled": false
   },
   "outputs": [
    {
     "data": {
      "text/plain": [
       "\n",
       "Call:\n",
       "glm(formula = CLI ~ DM + alcohol + statin + SDF.1, family = binomial(), \n",
       "    data = data)\n",
       "\n",
       "Deviance Residuals: \n",
       "    Min       1Q   Median       3Q      Max  \n",
       "-1.6881  -0.7648  -0.3221   0.6112   2.5589  \n",
       "\n",
       "Coefficients:\n",
       "              Estimate Std. Error z value Pr(>|z|)    \n",
       "(Intercept) -4.2721136  1.1457430  -3.729 0.000192 ***\n",
       "DM           1.0305472  0.4524272   2.278 0.022737 *  \n",
       "alcohol     -1.3276115  0.5948350  -2.232 0.025622 *  \n",
       "statin      -1.4373907  0.4583734  -3.136 0.001714 ** \n",
       "SDF.1        0.0016036  0.0004042   3.968 7.26e-05 ***\n",
       "---\n",
       "Signif. codes:  0 ‘***’ 0.001 ‘**’ 0.01 ‘*’ 0.05 ‘.’ 0.1 ‘ ’ 1\n",
       "\n",
       "(Dispersion parameter for binomial family taken to be 1)\n",
       "\n",
       "    Null deviance: 182.68  on 132  degrees of freedom\n",
       "Residual deviance: 121.23  on 128  degrees of freedom\n",
       "AIC: 131.23\n",
       "\n",
       "Number of Fisher Scoring iterations: 5\n"
      ]
     },
     "metadata": {},
     "output_type": "display_data"
    }
   ],
   "source": [
    "model <- glm(CLI ~ DM + alcohol + statin + SDF.1, family = binomial(),data = data)\n",
    "summary(model)"
   ]
  },
  {
   "cell_type": "markdown",
   "metadata": {},
   "source": [
    "### 결과2\n",
    "\n",
    "결과는 거의 비슷하다 \n",
    "\n",
    "- VEGF\n",
    "- VEGF.All\n",
    "- VEGF.1 \n",
    "- SDF.1 \n",
    "\n",
    "정도가 유의미한 지표로 쓰일 수 있을 것 같다. "
   ]
  },
  {
   "cell_type": "code",
   "execution_count": 153,
   "metadata": {},
   "outputs": [
    {
     "data": {
      "text/plain": [
       "Subset selection object\n",
       "Call: regsubsets.formula(CLI ~ DM * alcohol * statin * SDF.1 * VEGF, \n",
       "    data = data, nvmax = 20)\n",
       "31 Variables  (and intercept)\n",
       "                             Forced in Forced out\n",
       "DM                               FALSE      FALSE\n",
       "alcohol                          FALSE      FALSE\n",
       "statin                           FALSE      FALSE\n",
       "SDF.1                            FALSE      FALSE\n",
       "VEGF                             FALSE      FALSE\n",
       "DM:alcohol                       FALSE      FALSE\n",
       "DM:statin                        FALSE      FALSE\n",
       "alcohol:statin                   FALSE      FALSE\n",
       "DM:SDF.1                         FALSE      FALSE\n",
       "alcohol:SDF.1                    FALSE      FALSE\n",
       "statin:SDF.1                     FALSE      FALSE\n",
       "DM:VEGF                          FALSE      FALSE\n",
       "alcohol:VEGF                     FALSE      FALSE\n",
       "statin:VEGF                      FALSE      FALSE\n",
       "SDF.1:VEGF                       FALSE      FALSE\n",
       "DM:alcohol:statin                FALSE      FALSE\n",
       "DM:alcohol:SDF.1                 FALSE      FALSE\n",
       "DM:statin:SDF.1                  FALSE      FALSE\n",
       "alcohol:statin:SDF.1             FALSE      FALSE\n",
       "DM:alcohol:VEGF                  FALSE      FALSE\n",
       "DM:statin:VEGF                   FALSE      FALSE\n",
       "alcohol:statin:VEGF              FALSE      FALSE\n",
       "DM:SDF.1:VEGF                    FALSE      FALSE\n",
       "alcohol:SDF.1:VEGF               FALSE      FALSE\n",
       "statin:SDF.1:VEGF                FALSE      FALSE\n",
       "DM:alcohol:statin:SDF.1          FALSE      FALSE\n",
       "DM:alcohol:statin:VEGF           FALSE      FALSE\n",
       "DM:alcohol:SDF.1:VEGF            FALSE      FALSE\n",
       "DM:statin:SDF.1:VEGF             FALSE      FALSE\n",
       "alcohol:statin:SDF.1:VEGF        FALSE      FALSE\n",
       "DM:alcohol:statin:SDF.1:VEGF     FALSE      FALSE\n",
       "1 subsets of each size up to 20\n",
       "Selection Algorithm: exhaustive\n",
       "          DM  alcohol statin SDF.1 VEGF DM:alcohol DM:statin alcohol:statin\n",
       "1  ( 1 )  \" \" \" \"     \" \"    \"*\"   \" \"  \" \"        \" \"       \" \"           \n",
       "2  ( 1 )  \" \" \" \"     \" \"    \"*\"   \" \"  \" \"        \" \"       \" \"           \n",
       "3  ( 1 )  \" \" \"*\"     \" \"    \"*\"   \" \"  \" \"        \" \"       \" \"           \n",
       "4  ( 1 )  \"*\" \" \"     \" \"    \"*\"   \" \"  \"*\"        \" \"       \" \"           \n",
       "5  ( 1 )  \"*\" \" \"     \" \"    \"*\"   \"*\"  \" \"        \" \"       \" \"           \n",
       "6  ( 1 )  \"*\" \" \"     \" \"    \"*\"   \"*\"  \"*\"        \" \"       \" \"           \n",
       "7  ( 1 )  \"*\" \" \"     \" \"    \"*\"   \" \"  \"*\"        \" \"       \" \"           \n",
       "8  ( 1 )  \"*\" \" \"     \" \"    \"*\"   \" \"  \"*\"        \" \"       \" \"           \n",
       "9  ( 1 )  \"*\" \" \"     \" \"    \"*\"   \" \"  \"*\"        \"*\"       \" \"           \n",
       "10  ( 1 ) \"*\" \" \"     \" \"    \"*\"   \" \"  \"*\"        \"*\"       \" \"           \n",
       "11  ( 1 ) \"*\" \" \"     \" \"    \"*\"   \" \"  \" \"        \"*\"       \" \"           \n",
       "12  ( 1 ) \"*\" \" \"     \" \"    \"*\"   \" \"  \" \"        \"*\"       \" \"           \n",
       "13  ( 1 ) \"*\" \" \"     \" \"    \"*\"   \" \"  \" \"        \"*\"       \" \"           \n",
       "14  ( 1 ) \"*\" \"*\"     \" \"    \"*\"   \" \"  \" \"        \"*\"       \"*\"           \n",
       "15  ( 1 ) \"*\" \"*\"     \" \"    \"*\"   \" \"  \" \"        \"*\"       \"*\"           \n",
       "16  ( 1 ) \"*\" \"*\"     \" \"    \"*\"   \" \"  \"*\"        \"*\"       \"*\"           \n",
       "17  ( 1 ) \"*\" \"*\"     \" \"    \"*\"   \" \"  \" \"        \"*\"       \"*\"           \n",
       "18  ( 1 ) \"*\" \"*\"     \"*\"    \"*\"   \" \"  \" \"        \" \"       \"*\"           \n",
       "19  ( 1 ) \"*\" \"*\"     \"*\"    \"*\"   \" \"  \"*\"        \" \"       \"*\"           \n",
       "20  ( 1 ) \"*\" \"*\"     \"*\"    \"*\"   \" \"  \"*\"        \" \"       \"*\"           \n",
       "          DM:SDF.1 alcohol:SDF.1 statin:SDF.1 DM:VEGF alcohol:VEGF statin:VEGF\n",
       "1  ( 1 )  \" \"      \" \"           \" \"          \" \"     \" \"          \" \"        \n",
       "2  ( 1 )  \" \"      \" \"           \" \"          \" \"     \" \"          \" \"        \n",
       "3  ( 1 )  \" \"      \" \"           \" \"          \" \"     \" \"          \" \"        \n",
       "4  ( 1 )  \" \"      \" \"           \" \"          \" \"     \" \"          \" \"        \n",
       "5  ( 1 )  \" \"      \" \"           \" \"          \" \"     \" \"          \" \"        \n",
       "6  ( 1 )  \" \"      \" \"           \" \"          \" \"     \" \"          \" \"        \n",
       "7  ( 1 )  \"*\"      \" \"           \" \"          \" \"     \" \"          \" \"        \n",
       "8  ( 1 )  \"*\"      \" \"           \" \"          \"*\"     \" \"          \" \"        \n",
       "9  ( 1 )  \"*\"      \" \"           \" \"          \"*\"     \" \"          \" \"        \n",
       "10  ( 1 ) \"*\"      \" \"           \" \"          \"*\"     \"*\"          \" \"        \n",
       "11  ( 1 ) \"*\"      \" \"           \" \"          \"*\"     \" \"          \" \"        \n",
       "12  ( 1 ) \"*\"      \" \"           \" \"          \"*\"     \" \"          \" \"        \n",
       "13  ( 1 ) \"*\"      \" \"           \" \"          \"*\"     \"*\"          \" \"        \n",
       "14  ( 1 ) \"*\"      \"*\"           \" \"          \" \"     \" \"          \" \"        \n",
       "15  ( 1 ) \"*\"      \"*\"           \" \"          \"*\"     \" \"          \" \"        \n",
       "16  ( 1 ) \"*\"      \"*\"           \" \"          \"*\"     \" \"          \" \"        \n",
       "17  ( 1 ) \"*\"      \"*\"           \"*\"          \"*\"     \" \"          \"*\"        \n",
       "18  ( 1 ) \"*\"      \"*\"           \"*\"          \"*\"     \" \"          \"*\"        \n",
       "19  ( 1 ) \"*\"      \"*\"           \"*\"          \"*\"     \" \"          \"*\"        \n",
       "20  ( 1 ) \"*\"      \"*\"           \"*\"          \"*\"     \" \"          \"*\"        \n",
       "          SDF.1:VEGF DM:alcohol:statin DM:alcohol:SDF.1 DM:statin:SDF.1\n",
       "1  ( 1 )  \" \"        \" \"               \" \"              \" \"            \n",
       "2  ( 1 )  \" \"        \" \"               \" \"              \" \"            \n",
       "3  ( 1 )  \" \"        \" \"               \" \"              \" \"            \n",
       "4  ( 1 )  \" \"        \" \"               \" \"              \" \"            \n",
       "5  ( 1 )  \" \"        \" \"               \"*\"              \" \"            \n",
       "6  ( 1 )  \" \"        \" \"               \" \"              \"*\"            \n",
       "7  ( 1 )  \"*\"        \" \"               \" \"              \"*\"            \n",
       "8  ( 1 )  \" \"        \" \"               \" \"              \" \"            \n",
       "9  ( 1 )  \" \"        \" \"               \" \"              \" \"            \n",
       "10  ( 1 ) \" \"        \" \"               \" \"              \" \"            \n",
       "11  ( 1 ) \" \"        \" \"               \"*\"              \" \"            \n",
       "12  ( 1 ) \" \"        \"*\"               \"*\"              \" \"            \n",
       "13  ( 1 ) \" \"        \"*\"               \"*\"              \" \"            \n",
       "14  ( 1 ) \" \"        \" \"               \"*\"              \" \"            \n",
       "15  ( 1 ) \" \"        \" \"               \"*\"              \" \"            \n",
       "16  ( 1 ) \" \"        \"*\"               \"*\"              \" \"            \n",
       "17  ( 1 ) \" \"        \" \"               \"*\"              \" \"            \n",
       "18  ( 1 ) \" \"        \" \"               \"*\"              \"*\"            \n",
       "19  ( 1 ) \" \"        \" \"               \"*\"              \"*\"            \n",
       "20  ( 1 ) \" \"        \"*\"               \"*\"              \"*\"            \n",
       "          alcohol:statin:SDF.1 DM:alcohol:VEGF DM:statin:VEGF\n",
       "1  ( 1 )  \" \"                  \" \"             \" \"           \n",
       "2  ( 1 )  \" \"                  \" \"             \" \"           \n",
       "3  ( 1 )  \" \"                  \" \"             \" \"           \n",
       "4  ( 1 )  \" \"                  \" \"             \" \"           \n",
       "5  ( 1 )  \" \"                  \" \"             \" \"           \n",
       "6  ( 1 )  \" \"                  \" \"             \" \"           \n",
       "7  ( 1 )  \" \"                  \" \"             \" \"           \n",
       "8  ( 1 )  \" \"                  \" \"             \" \"           \n",
       "9  ( 1 )  \" \"                  \" \"             \" \"           \n",
       "10  ( 1 ) \" \"                  \" \"             \" \"           \n",
       "11  ( 1 ) \"*\"                  \" \"             \" \"           \n",
       "12  ( 1 ) \"*\"                  \" \"             \" \"           \n",
       "13  ( 1 ) \"*\"                  \" \"             \" \"           \n",
       "14  ( 1 ) \" \"                  \" \"             \" \"           \n",
       "15  ( 1 ) \" \"                  \" \"             \"*\"           \n",
       "16  ( 1 ) \" \"                  \" \"             \" \"           \n",
       "17  ( 1 ) \" \"                  \" \"             \"*\"           \n",
       "18  ( 1 ) \" \"                  \" \"             \" \"           \n",
       "19  ( 1 ) \" \"                  \" \"             \" \"           \n",
       "20  ( 1 ) \"*\"                  \" \"             \" \"           \n",
       "          alcohol:statin:VEGF DM:SDF.1:VEGF alcohol:SDF.1:VEGF\n",
       "1  ( 1 )  \" \"                 \" \"           \" \"               \n",
       "2  ( 1 )  \" \"                 \" \"           \" \"               \n",
       "3  ( 1 )  \" \"                 \" \"           \" \"               \n",
       "4  ( 1 )  \" \"                 \" \"           \" \"               \n",
       "5  ( 1 )  \" \"                 \" \"           \" \"               \n",
       "6  ( 1 )  \" \"                 \" \"           \" \"               \n",
       "7  ( 1 )  \" \"                 \" \"           \" \"               \n",
       "8  ( 1 )  \" \"                 \" \"           \" \"               \n",
       "9  ( 1 )  \" \"                 \" \"           \" \"               \n",
       "10  ( 1 ) \" \"                 \" \"           \" \"               \n",
       "11  ( 1 ) \"*\"                 \" \"           \" \"               \n",
       "12  ( 1 ) \"*\"                 \" \"           \" \"               \n",
       "13  ( 1 ) \"*\"                 \" \"           \" \"               \n",
       "14  ( 1 ) \"*\"                 \"*\"           \" \"               \n",
       "15  ( 1 ) \"*\"                 \" \"           \" \"               \n",
       "16  ( 1 ) \" \"                 \" \"           \"*\"               \n",
       "17  ( 1 ) \"*\"                 \" \"           \"*\"               \n",
       "18  ( 1 ) \"*\"                 \" \"           \"*\"               \n",
       "19  ( 1 ) \"*\"                 \" \"           \"*\"               \n",
       "20  ( 1 ) \"*\"                 \" \"           \"*\"               \n",
       "          statin:SDF.1:VEGF DM:alcohol:statin:SDF.1 DM:alcohol:statin:VEGF\n",
       "1  ( 1 )  \" \"               \" \"                     \" \"                   \n",
       "2  ( 1 )  \"*\"               \" \"                     \" \"                   \n",
       "3  ( 1 )  \"*\"               \" \"                     \" \"                   \n",
       "4  ( 1 )  \"*\"               \" \"                     \" \"                   \n",
       "5  ( 1 )  \" \"               \" \"                     \" \"                   \n",
       "6  ( 1 )  \" \"               \" \"                     \" \"                   \n",
       "7  ( 1 )  \" \"               \" \"                     \" \"                   \n",
       "8  ( 1 )  \"*\"               \" \"                     \" \"                   \n",
       "9  ( 1 )  \"*\"               \" \"                     \" \"                   \n",
       "10  ( 1 ) \"*\"               \" \"                     \" \"                   \n",
       "11  ( 1 ) \"*\"               \" \"                     \" \"                   \n",
       "12  ( 1 ) \"*\"               \" \"                     \" \"                   \n",
       "13  ( 1 ) \"*\"               \" \"                     \" \"                   \n",
       "14  ( 1 ) \"*\"               \"*\"                     \" \"                   \n",
       "15  ( 1 ) \"*\"               \"*\"                     \" \"                   \n",
       "16  ( 1 ) \"*\"               \" \"                     \"*\"                   \n",
       "17  ( 1 ) \"*\"               \"*\"                     \" \"                   \n",
       "18  ( 1 ) \"*\"               \"*\"                     \" \"                   \n",
       "19  ( 1 ) \"*\"               \"*\"                     \" \"                   \n",
       "20  ( 1 ) \"*\"               \" \"                     \" \"                   \n",
       "          DM:alcohol:SDF.1:VEGF DM:statin:SDF.1:VEGF alcohol:statin:SDF.1:VEGF\n",
       "1  ( 1 )  \" \"                   \" \"                  \" \"                      \n",
       "2  ( 1 )  \" \"                   \" \"                  \" \"                      \n",
       "3  ( 1 )  \" \"                   \" \"                  \" \"                      \n",
       "4  ( 1 )  \" \"                   \" \"                  \" \"                      \n",
       "5  ( 1 )  \"*\"                   \" \"                  \" \"                      \n",
       "6  ( 1 )  \"*\"                   \" \"                  \" \"                      \n",
       "7  ( 1 )  \"*\"                   \" \"                  \" \"                      \n",
       "8  ( 1 )  \"*\"                   \" \"                  \" \"                      \n",
       "9  ( 1 )  \"*\"                   \" \"                  \" \"                      \n",
       "10  ( 1 ) \"*\"                   \" \"                  \" \"                      \n",
       "11  ( 1 ) \"*\"                   \" \"                  \" \"                      \n",
       "12  ( 1 ) \"*\"                   \" \"                  \" \"                      \n",
       "13  ( 1 ) \"*\"                   \" \"                  \" \"                      \n",
       "14  ( 1 ) \"*\"                   \" \"                  \" \"                      \n",
       "15  ( 1 ) \"*\"                   \" \"                  \" \"                      \n",
       "16  ( 1 ) \" \"                   \" \"                  \"*\"                      \n",
       "17  ( 1 ) \" \"                   \" \"                  \" \"                      \n",
       "18  ( 1 ) \" \"                   \"*\"                  \" \"                      \n",
       "19  ( 1 ) \" \"                   \"*\"                  \" \"                      \n",
       "20  ( 1 ) \" \"                   \"*\"                  \" \"                      \n",
       "          DM:alcohol:statin:SDF.1:VEGF\n",
       "1  ( 1 )  \" \"                         \n",
       "2  ( 1 )  \" \"                         \n",
       "3  ( 1 )  \" \"                         \n",
       "4  ( 1 )  \" \"                         \n",
       "5  ( 1 )  \" \"                         \n",
       "6  ( 1 )  \" \"                         \n",
       "7  ( 1 )  \" \"                         \n",
       "8  ( 1 )  \"*\"                         \n",
       "9  ( 1 )  \"*\"                         \n",
       "10  ( 1 ) \"*\"                         \n",
       "11  ( 1 ) \"*\"                         \n",
       "12  ( 1 ) \"*\"                         \n",
       "13  ( 1 ) \"*\"                         \n",
       "14  ( 1 ) \"*\"                         \n",
       "15  ( 1 ) \"*\"                         \n",
       "16  ( 1 ) \"*\"                         \n",
       "17  ( 1 ) \"*\"                         \n",
       "18  ( 1 ) \"*\"                         \n",
       "19  ( 1 ) \"*\"                         \n",
       "20  ( 1 ) \"*\"                         "
      ]
     },
     "metadata": {},
     "output_type": "display_data"
    }
   ],
   "source": [
    "library(leaps)\n",
    "b <- regsubsets(CLI ~ DM * alcohol * statin * SDF.1 * VEGF , data=data, nvmax = 20)\n",
    "summary(b)"
   ]
  },
  {
   "cell_type": "markdown",
   "metadata": {},
   "source": [
    "---\n",
    "## 로그변수에 대한 로지스틱 회귀\n",
    "---"
   ]
  },
  {
   "cell_type": "markdown",
   "metadata": {},
   "source": [
    "이번엔 로그 변환한 값들을 지표로 써보자 "
   ]
  },
  {
   "cell_type": "code",
   "execution_count": 157,
   "metadata": {
    "scrolled": false
   },
   "outputs": [
    {
     "data": {
      "text/plain": [
       "\n",
       "Call:\n",
       "glm(formula = CLI ~ DM + HTN + alcohol + statin + log(Average.CFU + \n",
       "    1e-05), family = binomial(), data = data)\n",
       "\n",
       "Deviance Residuals: \n",
       "    Min       1Q   Median       3Q      Max  \n",
       "-1.7754  -0.9339  -0.4755   0.7541   2.6239  \n",
       "\n",
       "Coefficients:\n",
       "                         Estimate Std. Error z value Pr(>|z|)    \n",
       "(Intercept)                2.1633     2.0755   1.042 0.297272    \n",
       "DM                         1.2637     0.4221   2.994 0.002753 ** \n",
       "HTN                       -1.1152     0.6758  -1.650 0.098881 .  \n",
       "alcohol                   -1.6372     0.5833  -2.807 0.005006 ** \n",
       "statin                    -1.4732     0.4444  -3.315 0.000915 ***\n",
       "log(Average.CFU + 1e-05)  -0.7278     1.3926  -0.523 0.601250    \n",
       "---\n",
       "Signif. codes:  0 ‘***’ 0.001 ‘**’ 0.01 ‘*’ 0.05 ‘.’ 0.1 ‘ ’ 1\n",
       "\n",
       "(Dispersion parameter for binomial family taken to be 1)\n",
       "\n",
       "    Null deviance: 182.68  on 132  degrees of freedom\n",
       "Residual deviance: 140.18  on 127  degrees of freedom\n",
       "AIC: 152.18\n",
       "\n",
       "Number of Fisher Scoring iterations: 4\n"
      ]
     },
     "metadata": {},
     "output_type": "display_data"
    }
   ],
   "source": [
    "model <- glm(CLI ~ DM + HTN + alcohol + statin + log(Average.CFU+1e-5), family = binomial(),data = data)\n",
    "summary(model)"
   ]
  },
  {
   "cell_type": "code",
   "execution_count": 159,
   "metadata": {},
   "outputs": [
    {
     "data": {
      "text/plain": [
       "\n",
       "Call:\n",
       "glm(formula = CLI ~ DM + HTN + alcohol + statin + log(VEGF), \n",
       "    family = binomial(), data = data)\n",
       "\n",
       "Deviance Residuals: \n",
       "    Min       1Q   Median       3Q      Max  \n",
       "-2.0620  -0.8097  -0.3954   0.6960   2.3988  \n",
       "\n",
       "Coefficients:\n",
       "            Estimate Std. Error z value Pr(>|z|)   \n",
       "(Intercept)   1.9000     0.7573   2.509  0.01210 * \n",
       "DM            1.0786     0.4430   2.435  0.01491 * \n",
       "HTN          -1.1197     0.6947  -1.612  0.10700   \n",
       "alcohol      -1.4542     0.5968  -2.437  0.01482 * \n",
       "statin       -1.2177     0.4456  -2.733  0.00628 **\n",
       "log(VEGF)    -0.7514     0.2289  -3.283  0.00103 **\n",
       "---\n",
       "Signif. codes:  0 ‘***’ 0.001 ‘**’ 0.01 ‘*’ 0.05 ‘.’ 0.1 ‘ ’ 1\n",
       "\n",
       "(Dispersion parameter for binomial family taken to be 1)\n",
       "\n",
       "    Null deviance: 182.68  on 132  degrees of freedom\n",
       "Residual deviance: 127.94  on 127  degrees of freedom\n",
       "AIC: 139.94\n",
       "\n",
       "Number of Fisher Scoring iterations: 5\n"
      ]
     },
     "metadata": {},
     "output_type": "display_data"
    }
   ],
   "source": [
    "model <- glm(CLI ~ DM + HTN + alcohol + statin + log(VEGF), family = binomial(),data = data)\n",
    "summary(model)"
   ]
  },
  {
   "cell_type": "code",
   "execution_count": 161,
   "metadata": {},
   "outputs": [
    {
     "data": {
      "text/plain": [
       "\n",
       "Call:\n",
       "glm(formula = CLI ~ DM + HTN + alcohol + statin + log(CD34.VEGF), \n",
       "    family = binomial(), data = data)\n",
       "\n",
       "Deviance Residuals: \n",
       "    Min       1Q   Median       3Q      Max  \n",
       "-1.7037  -0.9618  -0.4857   0.7386   2.5928  \n",
       "\n",
       "Coefficients:\n",
       "               Estimate Std. Error z value Pr(>|z|)    \n",
       "(Intercept)     1.15275    0.75228   1.532 0.125437    \n",
       "DM              1.24381    0.42259   2.943 0.003247 ** \n",
       "HTN            -1.21369    0.65234  -1.861 0.062813 .  \n",
       "alcohol        -1.69833    0.57453  -2.956 0.003116 ** \n",
       "statin         -1.54477    0.42476  -3.637 0.000276 ***\n",
       "log(CD34.VEGF)  0.01023    0.25146   0.041 0.967558    \n",
       "---\n",
       "Signif. codes:  0 ‘***’ 0.001 ‘**’ 0.01 ‘*’ 0.05 ‘.’ 0.1 ‘ ’ 1\n",
       "\n",
       "(Dispersion parameter for binomial family taken to be 1)\n",
       "\n",
       "    Null deviance: 182.68  on 132  degrees of freedom\n",
       "Residual deviance: 140.46  on 127  degrees of freedom\n",
       "AIC: 152.46\n",
       "\n",
       "Number of Fisher Scoring iterations: 4\n"
      ]
     },
     "metadata": {},
     "output_type": "display_data"
    }
   ],
   "source": [
    "model <- glm(CLI ~ DM + HTN + alcohol + statin + log(CD34.VEGF), family = binomial(),data = data)\n",
    "summary(model)"
   ]
  },
  {
   "cell_type": "code",
   "execution_count": 163,
   "metadata": {},
   "outputs": [
    {
     "name": "stderr",
     "output_type": "stream",
     "text": [
      "Warning message in log(CD34):\n",
      "“NaN이 생성되었습니다”"
     ]
    },
    {
     "data": {
      "text/plain": [
       "\n",
       "Call:\n",
       "glm(formula = CLI ~ DM + HTN + alcohol + statin + log(CD34), \n",
       "    family = binomial(), data = data)\n",
       "\n",
       "Deviance Residuals: \n",
       "    Min       1Q   Median       3Q      Max  \n",
       "-1.7653  -0.9080  -0.3387   0.7179   2.6368  \n",
       "\n",
       "Coefficients:\n",
       "            Estimate Std. Error z value Pr(>|z|)   \n",
       "(Intercept)   1.3824     0.8619   1.604  0.10872   \n",
       "DM            1.7955     0.5785   3.104  0.00191 **\n",
       "HTN          -1.6121     0.8391  -1.921  0.05470 . \n",
       "alcohol      -1.4463     0.6784  -2.132  0.03301 * \n",
       "statin       -1.5683     0.5613  -2.794  0.00521 **\n",
       "log(CD34)     0.1514     0.1901   0.796  0.42587   \n",
       "---\n",
       "Signif. codes:  0 ‘***’ 0.001 ‘**’ 0.01 ‘*’ 0.05 ‘.’ 0.1 ‘ ’ 1\n",
       "\n",
       "(Dispersion parameter for binomial family taken to be 1)\n",
       "\n",
       "    Null deviance: 121.812  on 87  degrees of freedom\n",
       "Residual deviance:  86.523  on 82  degrees of freedom\n",
       "  (45 observations deleted due to missingness)\n",
       "AIC: 98.523\n",
       "\n",
       "Number of Fisher Scoring iterations: 4\n"
      ]
     },
     "metadata": {},
     "output_type": "display_data"
    }
   ],
   "source": [
    "model <- glm(CLI ~ DM + HTN + alcohol + statin + log(CD34), family = binomial(),data = data)\n",
    "summary(model)"
   ]
  },
  {
   "cell_type": "code",
   "execution_count": 165,
   "metadata": {},
   "outputs": [
    {
     "data": {
      "text/plain": [
       "\n",
       "Call:\n",
       "glm(formula = CLI ~ DM + HTN + alcohol + statin + log(VEGF.All), \n",
       "    family = binomial(), data = data)\n",
       "\n",
       "Deviance Residuals: \n",
       "    Min       1Q   Median       3Q      Max  \n",
       "-2.0237  -0.8193  -0.3922   0.7751   2.4089  \n",
       "\n",
       "Coefficients:\n",
       "              Estimate Std. Error z value Pr(>|z|)   \n",
       "(Intercept)     2.0755     0.7710   2.692  0.00710 **\n",
       "DM              1.1027     0.4420   2.495  0.01260 * \n",
       "HTN            -1.1546     0.6909  -1.671  0.09468 . \n",
       "alcohol        -1.4828     0.5969  -2.484  0.01298 * \n",
       "statin         -1.2369     0.4439  -2.786  0.00533 **\n",
       "log(VEGF.All)  -0.7965     0.2475  -3.218  0.00129 **\n",
       "---\n",
       "Signif. codes:  0 ‘***’ 0.001 ‘**’ 0.01 ‘*’ 0.05 ‘.’ 0.1 ‘ ’ 1\n",
       "\n",
       "(Dispersion parameter for binomial family taken to be 1)\n",
       "\n",
       "    Null deviance: 182.68  on 132  degrees of freedom\n",
       "Residual deviance: 128.63  on 127  degrees of freedom\n",
       "AIC: 140.63\n",
       "\n",
       "Number of Fisher Scoring iterations: 5\n"
      ]
     },
     "metadata": {},
     "output_type": "display_data"
    }
   ],
   "source": [
    "model <- glm(CLI ~ DM + HTN + alcohol + statin + log(VEGF.All), family = binomial(),data = data)\n",
    "summary(model)"
   ]
  },
  {
   "cell_type": "code",
   "execution_count": 167,
   "metadata": {},
   "outputs": [
    {
     "name": "stderr",
     "output_type": "stream",
     "text": [
      "Warning message in log(CD34.All):\n",
      "“NaN이 생성되었습니다”"
     ]
    },
    {
     "data": {
      "text/plain": [
       "\n",
       "Call:\n",
       "glm(formula = CLI ~ DM + HTN + alcohol + statin + log(CD34.All), \n",
       "    family = binomial(), data = data)\n",
       "\n",
       "Deviance Residuals: \n",
       "    Min       1Q   Median       3Q      Max  \n",
       "-1.7933  -0.9113  -0.4789   0.7314   2.6675  \n",
       "\n",
       "Coefficients:\n",
       "              Estimate Std. Error z value Pr(>|z|)    \n",
       "(Intercept)     1.2602     0.7183   1.754 0.079367 .  \n",
       "DM              1.3524     0.4384   3.085 0.002034 ** \n",
       "HTN            -1.6305     0.7279  -2.240 0.025101 *  \n",
       "alcohol        -1.7931     0.5837  -3.072 0.002127 ** \n",
       "statin         -1.6028     0.4424  -3.623 0.000292 ***\n",
       "log(CD34.All)  -0.2479     0.1882  -1.317 0.187706    \n",
       "---\n",
       "Signif. codes:  0 ‘***’ 0.001 ‘**’ 0.01 ‘*’ 0.05 ‘.’ 0.1 ‘ ’ 1\n",
       "\n",
       "(Dispersion parameter for binomial family taken to be 1)\n",
       "\n",
       "    Null deviance: 180.31  on 130  degrees of freedom\n",
       "Residual deviance: 134.82  on 125  degrees of freedom\n",
       "  (2 observations deleted due to missingness)\n",
       "AIC: 146.82\n",
       "\n",
       "Number of Fisher Scoring iterations: 4\n"
      ]
     },
     "metadata": {},
     "output_type": "display_data"
    }
   ],
   "source": [
    "model <- glm(CLI ~ DM + HTN + alcohol + statin + log(CD34.All), family = binomial(),data = data)\n",
    "summary(model)"
   ]
  },
  {
   "cell_type": "code",
   "execution_count": 169,
   "metadata": {},
   "outputs": [
    {
     "name": "stderr",
     "output_type": "stream",
     "text": [
      "Warning message in log(VEGF.1):\n",
      "“NaN이 생성되었습니다”"
     ]
    },
    {
     "data": {
      "text/plain": [
       "\n",
       "Call:\n",
       "glm(formula = CLI ~ DM + HTN + alcohol + statin + log(VEGF.1), \n",
       "    family = binomial(), data = data)\n",
       "\n",
       "Deviance Residuals: \n",
       "    Min       1Q   Median       3Q      Max  \n",
       "-1.7573  -0.9313  -0.4459   0.7470   2.5878  \n",
       "\n",
       "Coefficients:\n",
       "            Estimate Std. Error z value Pr(>|z|)    \n",
       "(Intercept)   0.2243     1.2189   0.184 0.853982    \n",
       "DM            1.1492     0.4267   2.693 0.007077 ** \n",
       "HTN          -1.0952     0.6522  -1.679 0.093091 .  \n",
       "alcohol      -1.7370     0.5779  -3.005 0.002652 ** \n",
       "statin       -1.4405     0.4346  -3.315 0.000917 ***\n",
       "log(VEGF.1)   0.2045     0.2338   0.875 0.381713    \n",
       "---\n",
       "Signif. codes:  0 ‘***’ 0.001 ‘**’ 0.01 ‘*’ 0.05 ‘.’ 0.1 ‘ ’ 1\n",
       "\n",
       "(Dispersion parameter for binomial family taken to be 1)\n",
       "\n",
       "    Null deviance: 181.50  on 131  degrees of freedom\n",
       "Residual deviance: 139.31  on 126  degrees of freedom\n",
       "  (1 observation deleted due to missingness)\n",
       "AIC: 151.31\n",
       "\n",
       "Number of Fisher Scoring iterations: 4\n"
      ]
     },
     "metadata": {},
     "output_type": "display_data"
    }
   ],
   "source": [
    "model <- glm(CLI ~ DM + HTN + alcohol + statin + log(VEGF.1), family = binomial(),data = data)\n",
    "summary(model)"
   ]
  },
  {
   "cell_type": "code",
   "execution_count": 171,
   "metadata": {},
   "outputs": [
    {
     "data": {
      "text/plain": [
       "\n",
       "Call:\n",
       "glm(formula = CLI ~ DM + HTN + alcohol + statin + log(SDF.1), \n",
       "    family = binomial(), data = data)\n",
       "\n",
       "Deviance Residuals: \n",
       "    Min       1Q   Median       3Q      Max  \n",
       "-1.6957  -0.7959  -0.3164   0.6034   2.5365  \n",
       "\n",
       "Coefficients:\n",
       "            Estimate Std. Error z value Pr(>|z|)    \n",
       "(Intercept) -27.9463     8.6050  -3.248 0.001164 ** \n",
       "DM            1.0448     0.4455   2.345 0.019014 *  \n",
       "HTN          -0.5505     0.7239  -0.760 0.446979    \n",
       "alcohol      -1.3422     0.5884  -2.281 0.022534 *  \n",
       "statin       -1.4344     0.4511  -3.180 0.001475 ** \n",
       "log(SDF.1)    3.6157     1.0712   3.375 0.000737 ***\n",
       "---\n",
       "Signif. codes:  0 ‘***’ 0.001 ‘**’ 0.01 ‘*’ 0.05 ‘.’ 0.1 ‘ ’ 1\n",
       "\n",
       "(Dispersion parameter for binomial family taken to be 1)\n",
       "\n",
       "    Null deviance: 182.68  on 132  degrees of freedom\n",
       "Residual deviance: 124.95  on 127  degrees of freedom\n",
       "AIC: 136.95\n",
       "\n",
       "Number of Fisher Scoring iterations: 5\n"
      ]
     },
     "metadata": {},
     "output_type": "display_data"
    }
   ],
   "source": [
    "model <- glm(CLI ~ DM + HTN + alcohol + statin + log(SDF.1), family = binomial(),data = data)\n",
    "summary(model)"
   ]
  },
  {
   "cell_type": "markdown",
   "metadata": {},
   "source": [
    "#### 결과\n",
    "\n",
    "log 변환 한 값들 중\n",
    "\n",
    "- VEGF\n",
    "- VEGF.All \n",
    "- SDF.1 \n",
    "\n",
    "들이 유의미한 지표로 보인다. \n",
    "HTN 을 고려해도 마찬가지다. \n",
    "\n",
    "VEFG.1 까지 고려해서 모델을 만들어보면 좋을 것 같다. \n"
   ]
  },
  {
   "cell_type": "markdown",
   "metadata": {},
   "source": [
    "## 모형 적합"
   ]
  },
  {
   "cell_type": "markdown",
   "metadata": {},
   "source": [
    "가장 p-value 가 낮은 SDF1 부터 추가해보자 \n"
   ]
  },
  {
   "cell_type": "code",
   "execution_count": 172,
   "metadata": {},
   "outputs": [
    {
     "data": {
      "text/plain": [
       "\n",
       "Call:\n",
       "glm(formula = CLI ~ DM + alcohol + statin + SDF.1, family = binomial(), \n",
       "    data = data)\n",
       "\n",
       "Deviance Residuals: \n",
       "    Min       1Q   Median       3Q      Max  \n",
       "-1.6881  -0.7648  -0.3221   0.6112   2.5589  \n",
       "\n",
       "Coefficients:\n",
       "              Estimate Std. Error z value Pr(>|z|)    \n",
       "(Intercept) -4.2721136  1.1457430  -3.729 0.000192 ***\n",
       "DM           1.0305472  0.4524272   2.278 0.022737 *  \n",
       "alcohol     -1.3276115  0.5948350  -2.232 0.025622 *  \n",
       "statin      -1.4373907  0.4583734  -3.136 0.001714 ** \n",
       "SDF.1        0.0016036  0.0004042   3.968 7.26e-05 ***\n",
       "---\n",
       "Signif. codes:  0 ‘***’ 0.001 ‘**’ 0.01 ‘*’ 0.05 ‘.’ 0.1 ‘ ’ 1\n",
       "\n",
       "(Dispersion parameter for binomial family taken to be 1)\n",
       "\n",
       "    Null deviance: 182.68  on 132  degrees of freedom\n",
       "Residual deviance: 121.23  on 128  degrees of freedom\n",
       "AIC: 131.23\n",
       "\n",
       "Number of Fisher Scoring iterations: 5\n"
      ]
     },
     "metadata": {},
     "output_type": "display_data"
    }
   ],
   "source": [
    "model <- glm(CLI ~ DM + alcohol + statin + SDF.1, family = binomial(),data = data)\n",
    "summary(model)"
   ]
  },
  {
   "cell_type": "markdown",
   "metadata": {},
   "source": [
    "다음은 log(VEGF) 를 추가해보자"
   ]
  },
  {
   "cell_type": "code",
   "execution_count": 175,
   "metadata": {},
   "outputs": [
    {
     "data": {
      "text/plain": [
       "\n",
       "Call:\n",
       "glm(formula = CLI ~ DM + alcohol + statin + SDF.1 + log(VEGF), \n",
       "    family = binomial(), data = data)\n",
       "\n",
       "Deviance Residuals: \n",
       "    Min       1Q   Median       3Q      Max  \n",
       "-1.6594  -0.7699  -0.2884   0.5471   2.2557  \n",
       "\n",
       "Coefficients:\n",
       "              Estimate Std. Error z value Pr(>|z|)    \n",
       "(Intercept) -3.3274409  1.2426749  -2.678 0.007414 ** \n",
       "DM           0.9874385  0.4736031   2.085 0.037074 *  \n",
       "alcohol     -1.1530799  0.6215570  -1.855 0.063575 .  \n",
       "statin      -1.2096843  0.4774100  -2.534 0.011282 *  \n",
       "SDF.1        0.0015219  0.0004298   3.541 0.000398 ***\n",
       "log(VEGF)   -0.6331898  0.2399382  -2.639 0.008316 ** \n",
       "---\n",
       "Signif. codes:  0 ‘***’ 0.001 ‘**’ 0.01 ‘*’ 0.05 ‘.’ 0.1 ‘ ’ 1\n",
       "\n",
       "(Dispersion parameter for binomial family taken to be 1)\n",
       "\n",
       "    Null deviance: 182.68  on 132  degrees of freedom\n",
       "Residual deviance: 113.38  on 127  degrees of freedom\n",
       "AIC: 125.38\n",
       "\n",
       "Number of Fisher Scoring iterations: 5\n"
      ]
     },
     "metadata": {},
     "output_type": "display_data"
    }
   ],
   "source": [
    "model <- glm(CLI ~ DM + alcohol + statin + SDF.1 + log(VEGF), family = binomial(),data = data)\n",
    "summary(model)"
   ]
  },
  {
   "cell_type": "markdown",
   "metadata": {},
   "source": [
    "**추가 내용**\n",
    "\n",
    "아래 코드를 실행시켜보면 log(VEGF) 가 VEGF 보다 유의미하게 나오는 것을 확인할 수 있다. \n",
    "\n",
    "    model <- glm(CLI ~ DM + alcohol + statin + SDF.1 + VEGF, family = binomial(),data = data)\n",
    "    summary(model)\n",
    "    \n",
    "VEGF.All 은 VEGF 와 상관계수가 굉장히 높기 때문에 도움이 안될 것이다. \n",
    "실제로 아래 코드를 실행시키면 알 수 있다. \n",
    "\n",
    "    model <- glm(CLI ~ DM + alcohol + statin + SDF.1 + log(VEGF) +log(VEGF.All), family = binomial(),data = data)\n",
    "    summary(model)\n",
    "    \n",
    "마지막으로 VEGF.1 을 추가해보면 별다른 결과는 없다. \n",
    "\n",
    "    model <- glm(CLI ~ DM + alcohol + statin + SDF.1 + log(VEGF) + VEGF.1, family = binomial(),data = data)\n",
    "    summary(model)\n",
    "    \n",
    "혹시 HTN 은 추가해도 적절할지 시도해보았지만 \n",
    "    SDF.1과의 공선성이 높은 것처럼 확인되었다. \n",
    "    "
   ]
  },
  {
   "cell_type": "markdown",
   "metadata": {},
   "source": [
    "### 적합 결과 \n",
    "\n",
    "여러가지 해보니 \n",
    "두 그룹에서 지표의 차이를 보는 것은 큰 의미가 없다 (모두 차이남)\n",
    "\n",
    "로지스틱 회귀로, CLI 유무를 분류하는 모델을 세운다면 \n",
    "\n",
    "- SDF.1\n",
    "- VEGF\n",
    "\n",
    "정도를 모델에 넣어서 하는 것이 좋을 것 같다. \n",
    "log 변환한 값도 나쁘지 않은 것 같다. \n",
    "\n",
    "나머지 변수는 넣어도 소용 없다. "
   ]
  },
  {
   "cell_type": "markdown",
   "metadata": {
    "collapsed": true
   },
   "source": [
    "*추가 가능*\n",
    "\n",
    "box-cox transformation 이나\n",
    "scaling 시도 가능\n",
    "\n",
    "\n",
    "glm 에서 lasso 를 해도 됨 "
   ]
  },
  {
   "cell_type": "markdown",
   "metadata": {},
   "source": [
    "---\n",
    "# 요약\n",
    "---"
   ]
  },
  {
   "cell_type": "markdown",
   "metadata": {},
   "source": [
    "#### CLI 를 설명변수로, lab data 의 차이를 종속변수로 \n",
    "=> wilcoxon test / t-test\n",
    "\n",
    "- Average CFU 감소(경계수준)\n",
    "- VEGF 감소\n",
    "- VEGF.All 감소 \n",
    "- VEGF.1 증가 (경계수준)\n",
    "- SDF.1 증가\n",
    "\n",
    "교란 변수를 고려하는 것은 약간 애매하긴 하지만 비슷한 결과를 보여줌\n",
    "\n",
    "SDF.1, VEGF(.All), Average.CFU 정도가 차이가 있어보임\n",
    "\n",
    "#### CLI 를 종속변수로, lab data 와 demographic data 를 설명 변수로 \n",
    "\n",
    "Demographic data 의 DM, alcohol, statin 복용여부 (, HTN) 와 더불어 \n",
    "\n",
    "- SDF.1 \n",
    "- log(VEGF) \n",
    "\n",
    "정도가 쓸만한 변수로 보임 \n",
    "VEGF 은 VEGF.All 과 효과 동일"
   ]
  },
  {
   "cell_type": "code",
   "execution_count": null,
   "metadata": {},
   "outputs": [],
   "source": []
  }
 ],
 "metadata": {
  "kernelspec": {
   "display_name": "R",
   "language": "R",
   "name": "ir"
  },
  "language_info": {
   "codemirror_mode": "r",
   "file_extension": ".r",
   "mimetype": "text/x-r-source",
   "name": "R",
   "pygments_lexer": "r",
   "version": "3.3.2"
  }
 },
 "nbformat": 4,
 "nbformat_minor": 2
}
