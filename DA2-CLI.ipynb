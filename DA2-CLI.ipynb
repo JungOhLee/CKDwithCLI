{
 "cells": [
  {
   "cell_type": "markdown",
   "metadata": {
    "collapsed": true
   },
   "source": [
    "# 분석2 : CLI 에 따른 lab data 분석 \n",
    "\n",
    "## TOC\n",
    "* [데이터 탐색](#데이터-탐색)\n",
    "    * [평균 및 분포](#평균-및-분포-확인)\n",
    "    * [정규성 검정](#정규성-검정)\n",
    "    * [로그데이터](#로그-데이터-확인)\n",
    "    * [변수간 상관관계](#상관관계-파악)\n",
    "    \n",
    "* [데이터 검정](#Lab-data-검정)\n",
    "    * [Wilcox test](#Wilcox-test)\n",
    "    * [log의 Wilcox test](#log에-대한-wilcox-test)\n",
    "    * [교란 변수 고정 분석](#교란-변수-제거)\n",
    "    * [교란 변수 고정 분석(로그)](#로그-변수에-대한-교란변수-고정)\n",
    "    * [결과](#Wilcox-결과)\n",
    "\n",
    "* [Logistic regression](#로지스틱-회귀)\n",
    "    * [DM+HTN+statin](#DM+HTN+statin-모형에-추가)\n",
    "        * [결과](#결과1)\n",
    "    * [DM+statin+HTN+Gender+smoking+obesity](#DM+statin+HTN+Gender+smoking+obesity-모형에-추가)\n",
    "        * [결과](#결과2)\n",
    "    * [로그변수에 대한 회귀](#로그변수에-대한-로지스틱-회귀)\n",
    "        * [결과](#결과3)\n",
    "    * [모형적합](#모형-적합)\n",
    "        * [적합 결과](#적합-결과)\n",
    "* [요약](#요약)\n",
    "\n",
    "\n",
    "#### 2) 분석 2\n",
    "\n",
    "CLI 유무에 따른 lab data (Average CFU, VEGF, VEGF/CD34, CD34, SDF-1, VEGF) 의 차이를 보는 것이 분석 2 입니다.\n",
    "\n",
    "즉 [Group 3+4+5]와 [Group 6+7+8] 의 상기 변수의 차이를 통계적으로 분석하는 것이 필요합니다. "
   ]
  },
  {
   "cell_type": "markdown",
   "metadata": {},
   "source": [
    "### CLI 집단과 비CLI 집단 사이의 lab 수치 비교\n",
    "\n",
    "Average CFU, VEGF, VEGF/CD34, CD34, SDF-1, VEGF : 연속형 데이터\n",
    "    \n",
    "    => t-test or wilcoxon test"
   ]
  },
  {
   "cell_type": "code",
   "execution_count": 49,
   "metadata": {},
   "outputs": [
    {
     "data": {
      "text/html": [
       "<ol class=list-inline>\n",
       "\t<li>133</li>\n",
       "\t<li>25</li>\n",
       "</ol>\n"
      ],
      "text/latex": [
       "\\begin{enumerate*}\n",
       "\\item 133\n",
       "\\item 25\n",
       "\\end{enumerate*}\n"
      ],
      "text/markdown": [
       "1. 133\n",
       "2. 25\n",
       "\n",
       "\n"
      ],
      "text/plain": [
       "[1] 133  25"
      ]
     },
     "metadata": {},
     "output_type": "display_data"
    }
   ],
   "source": [
    "#데이터 불러오기\n",
    "library(xlsx)\n",
    "library(dplyr)\n",
    "\n",
    "data <- read.xlsx(\"../EPCinCKD_201802.xlsx\", sheetIndex = 1)\n",
    "data <- data[1:150,-c(1,2)]\n",
    "colnames(data)[c(7, 13, 15, 16, 22)] <- c(\"HTN\", \"statin\", \"obesity\", \"PAD\", \"CD34.All\")\n",
    "data <- data %>% mutate( CLI = as.numeric(Group>5))\n",
    "data <- data[complete.cases(data),]\n",
    "dim(data)"
   ]
  },
  {
   "cell_type": "markdown",
   "metadata": {},
   "source": [
    "---\n",
    "# 데이터 탐색\n",
    "---\n",
    "\n",
    "CLI 유무를 기준으로 나눈 집단에서 \n",
    "\n",
    "Average CFU, VEGF, VEGF/CD34, CD34, SDF-1, VEGF 수치 확인\n"
   ]
  },
  {
   "cell_type": "markdown",
   "metadata": {},
   "source": [
    "## 평균 및 분포 확인"
   ]
  },
  {
   "cell_type": "markdown",
   "metadata": {},
   "source": [
    "### 평균 확인"
   ]
  },
  {
   "cell_type": "code",
   "execution_count": 50,
   "metadata": {
    "scrolled": false
   },
   "outputs": [
    {
     "name": "stdout",
     "output_type": "stream",
     "text": [
      "\n",
      "<CLI 그룹에 따른 Lab data 비교>\n",
      "\n",
      "<평균>\n"
     ]
    },
    {
     "data": {
      "text/html": [
       "<table>\n",
       "<thead><tr><th scope=col>CLI</th><th scope=col>mean.Average.CFU</th><th scope=col>mean.VEGF</th><th scope=col>mean.CD34.VEGF</th><th scope=col>mean.CD34</th><th scope=col>mean.VEGF.All</th><th scope=col>mean.CD34.All</th><th scope=col>mean.VEGF.1</th><th scope=col>mean.SDF.1</th></tr></thead>\n",
       "<tbody>\n",
       "\t<tr><td>0      </td><td>5.11   </td><td>6.10   </td><td>0.30   </td><td>0.15   </td><td>6.40   </td><td>0.44   </td><td> 61.44 </td><td>2519.71</td></tr>\n",
       "\t<tr><td>1      </td><td>4.84   </td><td>2.98   </td><td>0.38   </td><td>0.64   </td><td>3.36   </td><td>1.02   </td><td>181.41 </td><td>3546.77</td></tr>\n",
       "</tbody>\n",
       "</table>\n"
      ],
      "text/latex": [
       "\\begin{tabular}{r|lllllllll}\n",
       " CLI & mean.Average.CFU & mean.VEGF & mean.CD34.VEGF & mean.CD34 & mean.VEGF.All & mean.CD34.All & mean.VEGF.1 & mean.SDF.1\\\\\n",
       "\\hline\n",
       "\t 0       & 5.11    & 6.10    & 0.30    & 0.15    & 6.40    & 0.44    &  61.44  & 2519.71\\\\\n",
       "\t 1       & 4.84    & 2.98    & 0.38    & 0.64    & 3.36    & 1.02    & 181.41  & 3546.77\\\\\n",
       "\\end{tabular}\n"
      ],
      "text/markdown": [
       "\n",
       "CLI | mean.Average.CFU | mean.VEGF | mean.CD34.VEGF | mean.CD34 | mean.VEGF.All | mean.CD34.All | mean.VEGF.1 | mean.SDF.1 | \n",
       "|---|---|\n",
       "| 0       | 5.11    | 6.10    | 0.30    | 0.15    | 6.40    | 0.44    |  61.44  | 2519.71 | \n",
       "| 1       | 4.84    | 2.98    | 0.38    | 0.64    | 3.36    | 1.02    | 181.41  | 3546.77 | \n",
       "\n",
       "\n"
      ],
      "text/plain": [
       "  CLI mean.Average.CFU mean.VEGF mean.CD34.VEGF mean.CD34 mean.VEGF.All\n",
       "1 0   5.11             6.10      0.30           0.15      6.40         \n",
       "2 1   4.84             2.98      0.38           0.64      3.36         \n",
       "  mean.CD34.All mean.VEGF.1 mean.SDF.1\n",
       "1 0.44           61.44      2519.71   \n",
       "2 1.02          181.41      3546.77   "
      ]
     },
     "metadata": {},
     "output_type": "display_data"
    },
    {
     "name": "stdout",
     "output_type": "stream",
     "text": [
      "\n",
      "<표준편차>\n"
     ]
    },
    {
     "data": {
      "text/html": [
       "<table>\n",
       "<thead><tr><th scope=col>CLI</th><th scope=col>std.Average.CFU</th><th scope=col>std.VEGF</th><th scope=col>std.CD34.VEGF</th><th scope=col>std.CD34</th><th scope=col>std.VEGF.All</th><th scope=col>std.CD34.All</th><th scope=col>std.VEGF.1</th><th scope=col>std.SDF.1</th></tr></thead>\n",
       "<tbody>\n",
       "\t<tr><td>0      </td><td>0.84   </td><td>4.11   </td><td>0.25   </td><td>0.45   </td><td>4.18   </td><td>0.53   </td><td> 45.63 </td><td> 580.55</td></tr>\n",
       "\t<tr><td>1      </td><td>0.82   </td><td>5.83   </td><td>0.48   </td><td>1.92   </td><td>5.91   </td><td>2.34   </td><td>140.78 </td><td>1151.82</td></tr>\n",
       "</tbody>\n",
       "</table>\n"
      ],
      "text/latex": [
       "\\begin{tabular}{r|lllllllll}\n",
       " CLI & std.Average.CFU & std.VEGF & std.CD34.VEGF & std.CD34 & std.VEGF.All & std.CD34.All & std.VEGF.1 & std.SDF.1\\\\\n",
       "\\hline\n",
       "\t 0       & 0.84    & 4.11    & 0.25    & 0.45    & 4.18    & 0.53    &  45.63  &  580.55\\\\\n",
       "\t 1       & 0.82    & 5.83    & 0.48    & 1.92    & 5.91    & 2.34    & 140.78  & 1151.82\\\\\n",
       "\\end{tabular}\n"
      ],
      "text/markdown": [
       "\n",
       "CLI | std.Average.CFU | std.VEGF | std.CD34.VEGF | std.CD34 | std.VEGF.All | std.CD34.All | std.VEGF.1 | std.SDF.1 | \n",
       "|---|---|\n",
       "| 0       | 0.84    | 4.11    | 0.25    | 0.45    | 4.18    | 0.53    |  45.63  |  580.55 | \n",
       "| 1       | 0.82    | 5.83    | 0.48    | 1.92    | 5.91    | 2.34    | 140.78  | 1151.82 | \n",
       "\n",
       "\n"
      ],
      "text/plain": [
       "  CLI std.Average.CFU std.VEGF std.CD34.VEGF std.CD34 std.VEGF.All std.CD34.All\n",
       "1 0   0.84            4.11     0.25          0.45     4.18         0.53        \n",
       "2 1   0.82            5.83     0.48          1.92     5.91         2.34        \n",
       "  std.VEGF.1 std.SDF.1\n",
       "1  45.63      580.55  \n",
       "2 140.78     1151.82  "
      ]
     },
     "metadata": {},
     "output_type": "display_data"
    }
   ],
   "source": [
    "# CLI 그룹별 비교\n",
    "\n",
    "cat(\"\\n<CLI 그룹에 따른 Lab data 비교>\\n\")\n",
    "cat(\"\\n<평균>\\n\")\n",
    "data %>% \n",
    "    group_by( CLI ) %>%\n",
    "    summarise( mean.Average.CFU = mean(Average.CFU, na.rm = T),\n",
    "            mean.VEGF = mean(VEGF, na.rm = T),\n",
    "            mean.CD34.VEGF = mean(CD34.VEGF, na.rm=T),\n",
    "            mean.CD34 = mean(CD34, na.rm = T),\n",
    "            mean.VEGF.All = mean(VEGF.All, na.rm = T),\n",
    "            mean.CD34.All = mean(CD34.All, na.rm = T),\n",
    "            mean.VEGF.1 = mean(VEGF.1, na.rm = T),\n",
    "            mean.SDF.1 = mean(SDF.1, na.rm = T)\n",
    "             ) %>%\n",
    "    mutate_if(is.numeric, funs(round(., 2)))\n",
    "\n",
    "\n",
    "cat(\"\\n<표준편차>\\n\")\n",
    "data %>% \n",
    "    group_by( CLI ) %>%\n",
    "    summarise( std.Average.CFU = sqrt(var(Average.CFU, na.rm = T)),\n",
    "            std.VEGF = sqrt(var(VEGF, na.rm = T)),\n",
    "            std.CD34.VEGF = sqrt(var(CD34.VEGF, na.rm=T)),\n",
    "            std.CD34 = sqrt(var(CD34, na.rm = T)),\n",
    "            std.VEGF.All = sqrt(var(VEGF.All, na.rm = T)),\n",
    "            std.CD34.All = sqrt(var(CD34.All, na.rm = T)),\n",
    "            std.VEGF.1 = sqrt(var(VEGF.1, na.rm = T)),\n",
    "            std.SDF.1 = sqrt(var(SDF.1, na.rm = T))\n",
    "             ) %>%\n",
    "    mutate_if(is.numeric, funs(round(., 2)))"
   ]
  },
  {
   "cell_type": "markdown",
   "metadata": {},
   "source": [
    "표본표준편차에 비하여 평균이 큰 차이가 나 보이는 녀석 VEGF, VEGF.All 정도이다. "
   ]
  },
  {
   "cell_type": "markdown",
   "metadata": {},
   "source": [
    "### 분포 확인"
   ]
  },
  {
   "cell_type": "code",
   "execution_count": 51,
   "metadata": {
    "scrolled": false
   },
   "outputs": [
    {
     "name": "stdout",
     "output_type": "stream",
     "text": [
      "\n",
      "\n",
      "<CLI 그룹에 따른 Lab data 시각화>\n"
     ]
    },
    {
     "data": {
      "image/png": "[encoded data removed]",
      "text/plain": [
       "plot without title"
      ]
     },
     "metadata": {},
     "output_type": "display_data"
    }
   ],
   "source": [
    "# 각각의 값에 대한 그래프 그리기\n",
    "library(ggplot2)\n",
    "library(gridExtra)\n",
    "plots <- list()\n",
    "\n",
    "for(key in c('Average.CFU', 'VEGF', 'CD34.VEGF', 'CD34', 'VEGF.All', 'CD34.All', 'VEGF.1', 'SDF.1')){\n",
    "\n",
    "    p<- data %>% \n",
    "        mutate(CLI.f = as.factor(CLI)) %>%\n",
    "        ggplot(aes_string(x=key, fill = \"CLI.f\")) +\n",
    "        geom_histogram(alpha=0.5, position=\"identity\",bins = 30, na.rm = T) +  \n",
    "        ggtitle(paste(key, \" in noCLI / CLI\")) +\n",
    "        labs(x=key, y=\"Freq\") +\n",
    "        theme(plot.title = element_text(hjust = 0.5))\n",
    "    \n",
    "    plots[[key]] <- p\n",
    "}\n",
    "\n",
    "options(repr.plot.width=8, repr.plot.height=7)\n",
    "cat(\"\\n\\n<CLI 그룹에 따른 Lab data 시각화>\\n\")\n",
    "grid.arrange(grobs=plots, ncol=3)"
   ]
  },
  {
   "cell_type": "markdown",
   "metadata": {},
   "source": [
    "## 정규성 검정"
   ]
  },
  {
   "cell_type": "markdown",
   "metadata": {},
   "source": [
    "### QQPlot"
   ]
  },
  {
   "cell_type": "code",
   "execution_count": 52,
   "metadata": {},
   "outputs": [
    {
     "name": "stdout",
     "output_type": "stream",
     "text": [
      "\n",
      "\n",
      "<CLI 그룹에 따른 Lab data 정규성 시각화>\n"
     ]
    },
    {
     "data": {
      "image/png": "[encoded data removed]",
      "text/plain": [
       "plot without title"
      ]
     },
     "metadata": {},
     "output_type": "display_data"
    }
   ],
   "source": [
    "# 정규성 그래프\n",
    "\n",
    "par(mfrow = c(3, 3))\n",
    "\n",
    "for(key in c('Average.CFU', 'VEGF', 'CD34.VEGF', 'CD34', 'VEGF.All', 'CD34.All', 'VEGF.1', 'SDF.1')){\n",
    "    p <- data  %>% \n",
    "#        filter(VEGF<30&CD34<10&SDF.1<6000) %>% #outlier 없애봄\n",
    "        ggplot(aes_string(sample = key)) + \n",
    "        stat_qq(aes(color=factor(CLI))) + \n",
    "        ggtitle(paste(key, \"qqplot\")) + \n",
    "        theme(\n",
    "          axis.title.x=element_blank(), \n",
    "          axis.title.y=element_blank())\n",
    "\n",
    "    plots[[key]] <- p\n",
    "}\n",
    "options(repr.plot.width=8, repr.plot.height=6.5)\n",
    "cat(\"\\n\\n<CLI 그룹에 따른 Lab data 정규성 시각화>\\n\")\n",
    "grid.arrange(grobs=plots, ncol=3)"
   ]
  },
  {
   "cell_type": "markdown",
   "metadata": {},
   "source": [
    "Outlier 점들이 몇개 있는 것으로 보이나, 없애더라도 양상은 비슷하다. \n",
    "\n",
    "CFU 정도 직선으로 보인다."
   ]
  },
  {
   "cell_type": "markdown",
   "metadata": {},
   "source": [
    "### 검정 값"
   ]
  },
  {
   "cell_type": "code",
   "execution_count": 53,
   "metadata": {
    "scrolled": true
   },
   "outputs": [
    {
     "name": "stdout",
     "output_type": "stream",
     "text": [
      "\n",
      "<CLI 그룹에 따른 Lab data, 정규성 검정 결과>\n"
     ]
    },
    {
     "data": {
      "text/html": [
       "<table>\n",
       "<thead><tr><th scope=col>CLI</th><th scope=col>Average.CFU</th><th scope=col>VEGF</th><th scope=col>CD34.VEGF</th><th scope=col>CD34</th><th scope=col>VEGF.All</th><th scope=col>CD34.All</th><th scope=col>VEGF.1</th><th scope=col>SDF.1</th></tr></thead>\n",
       "<tbody>\n",
       "\t<tr><td>0     </td><td>0.0825</td><td>1e-04 </td><td>0     </td><td>0     </td><td>1e-04 </td><td>0     </td><td>0.0000</td><td>0.0038</td></tr>\n",
       "\t<tr><td>1     </td><td>0.4323</td><td>0e+00 </td><td>0     </td><td>0     </td><td>0e+00 </td><td>0     </td><td>0.0107</td><td>0.4112</td></tr>\n",
       "</tbody>\n",
       "</table>\n"
      ],
      "text/latex": [
       "\\begin{tabular}{r|lllllllll}\n",
       " CLI & Average.CFU & VEGF & CD34.VEGF & CD34 & VEGF.All & CD34.All & VEGF.1 & SDF.1\\\\\n",
       "\\hline\n",
       "\t 0      & 0.0825 & 1e-04  & 0      & 0      & 1e-04  & 0      & 0.0000 & 0.0038\\\\\n",
       "\t 1      & 0.4323 & 0e+00  & 0      & 0      & 0e+00  & 0      & 0.0107 & 0.4112\\\\\n",
       "\\end{tabular}\n"
      ],
      "text/markdown": [
       "\n",
       "CLI | Average.CFU | VEGF | CD34.VEGF | CD34 | VEGF.All | CD34.All | VEGF.1 | SDF.1 | \n",
       "|---|---|\n",
       "| 0      | 0.0825 | 1e-04  | 0      | 0      | 1e-04  | 0      | 0.0000 | 0.0038 | \n",
       "| 1      | 0.4323 | 0e+00  | 0      | 0      | 0e+00  | 0      | 0.0107 | 0.4112 | \n",
       "\n",
       "\n"
      ],
      "text/plain": [
       "  CLI Average.CFU VEGF  CD34.VEGF CD34 VEGF.All CD34.All VEGF.1 SDF.1 \n",
       "1 0   0.0825      1e-04 0         0    1e-04    0        0.0000 0.0038\n",
       "2 1   0.4323      0e+00 0         0    0e+00    0        0.0107 0.4112"
      ]
     },
     "metadata": {},
     "output_type": "display_data"
    }
   ],
   "source": [
    "cat(\"\\n<CLI 그룹에 따른 Lab data, 정규성 검정 결과>\\n\")\n",
    "data %>% \n",
    "    group_by( CLI )%>% \n",
    "#    filter(VEGF<30&CD34<10&SDF.1<6000)  %>% #outlier 없애보기, 차이는 없음\n",
    "    summarise( Average.CFU = shapiro.test(Average.CFU)$p.value,\n",
    "            VEGF = shapiro.test(VEGF)$p.value,\n",
    "            CD34.VEGF = shapiro.test(CD34.VEGF)$p.value,\n",
    "            CD34 = shapiro.test(CD34)$p.value,\n",
    "            VEGF.All = shapiro.test(VEGF.All)$p.value,\n",
    "            CD34.All = shapiro.test(CD34.All)$p.value,\n",
    "            VEGF.1 = shapiro.test(VEGF.1)$p.value,\n",
    "            SDF.1 = shapiro.test(SDF.1)$p.value\n",
    "             ) %>%\n",
    "    mutate_if(is.numeric, funs(round(., 4)))"
   ]
  },
  {
   "cell_type": "markdown",
   "metadata": {},
   "source": [
    "**정규성을 만족하는건 CFU 뿐이다. **"
   ]
  },
  {
   "cell_type": "code",
   "execution_count": 54,
   "metadata": {},
   "outputs": [
    {
     "name": "stdout",
     "output_type": "stream",
     "text": [
      "\n",
      "Average CFU 등분산성 검정\n",
      "  p-value: 0.895"
     ]
    }
   ],
   "source": [
    "cat(\"\\nAverage CFU 등분산성 검정\\n\")\n",
    "pv <- var.test(data$Average.CFU ~ data$CLI)$p.value\n",
    "cat(\"  p-value:\", round(pv,3))"
   ]
  },
  {
   "cell_type": "markdown",
   "metadata": {},
   "source": [
    "## 로그 데이터 확인"
   ]
  },
  {
   "cell_type": "code",
   "execution_count": 103,
   "metadata": {
    "scrolled": true
   },
   "outputs": [
    {
     "name": "stdout",
     "output_type": "stream",
     "text": [
      "\n",
      "<CLI 그룹에 따른 로그변환 Lab data, 정규성 검정 결과>\n"
     ]
    },
    {
     "name": "stderr",
     "output_type": "stream",
     "text": [
      "Warning message in log(CD34):\n",
      "“NaN이 생성되었습니다”Warning message in log(CD34):\n",
      "“NaN이 생성되었습니다”Warning message in log(CD34.All):\n",
      "“NaN이 생성되었습니다”Warning message in log(VEGF.1):\n",
      "“NaN이 생성되었습니다”"
     ]
    },
    {
     "data": {
      "text/html": [
       "<table>\n",
       "<thead><tr><th scope=col>CLI</th><th scope=col>log.Average.CFU</th><th scope=col>log.VEGF</th><th scope=col>log.CD34.VEGF</th><th scope=col>log.CD34</th><th scope=col>log.VEGF.All</th><th scope=col>log.CD34.All</th><th scope=col>log.VEGF.1</th><th scope=col>log.SDF.1</th></tr></thead>\n",
       "<tbody>\n",
       "\t<tr><td>0     </td><td>0.6588</td><td>0.0000</td><td>0.0009</td><td>0.5393</td><td>0.0000</td><td>0.0000</td><td>0.0001</td><td>0.0000</td></tr>\n",
       "\t<tr><td>1     </td><td>0.0771</td><td>0.0043</td><td>0.9814</td><td>0.1084</td><td>0.5558</td><td>0.0898</td><td>0.1234</td><td>0.0564</td></tr>\n",
       "</tbody>\n",
       "</table>\n"
      ],
      "text/latex": [
       "\\begin{tabular}{r|lllllllll}\n",
       " CLI & log.Average.CFU & log.VEGF & log.CD34.VEGF & log.CD34 & log.VEGF.All & log.CD34.All & log.VEGF.1 & log.SDF.1\\\\\n",
       "\\hline\n",
       "\t 0      & 0.6588 & 0.0000 & 0.0009 & 0.5393 & 0.0000 & 0.0000 & 0.0001 & 0.0000\\\\\n",
       "\t 1      & 0.0771 & 0.0043 & 0.9814 & 0.1084 & 0.5558 & 0.0898 & 0.1234 & 0.0564\\\\\n",
       "\\end{tabular}\n"
      ],
      "text/markdown": [
       "\n",
       "CLI | log.Average.CFU | log.VEGF | log.CD34.VEGF | log.CD34 | log.VEGF.All | log.CD34.All | log.VEGF.1 | log.SDF.1 | \n",
       "|---|---|\n",
       "| 0      | 0.6588 | 0.0000 | 0.0009 | 0.5393 | 0.0000 | 0.0000 | 0.0001 | 0.0000 | \n",
       "| 1      | 0.0771 | 0.0043 | 0.9814 | 0.1084 | 0.5558 | 0.0898 | 0.1234 | 0.0564 | \n",
       "\n",
       "\n"
      ],
      "text/plain": [
       "  CLI log.Average.CFU log.VEGF log.CD34.VEGF log.CD34 log.VEGF.All log.CD34.All\n",
       "1 0   0.6588          0.0000   0.0009        0.5393   0.0000       0.0000      \n",
       "2 1   0.0771          0.0043   0.9814        0.1084   0.5558       0.0898      \n",
       "  log.VEGF.1 log.SDF.1\n",
       "1 0.0001     0.0000   \n",
       "2 0.1234     0.0564   "
      ]
     },
     "metadata": {},
     "output_type": "display_data"
    }
   ],
   "source": [
    "cat(\"\\n<CLI 그룹에 따른 로그변환 Lab data, 정규성 검정 결과>\\n\")\n",
    "data %>% \n",
    "    group_by( CLI ) %>%\n",
    "    summarise( log.Average.CFU = shapiro.test(log(Average.CFU))$p.value,\n",
    "            log.VEGF = shapiro.test(log(VEGF))$p.value,\n",
    "            log.CD34.VEGF = shapiro.test(log(CD34.VEGF))$p.value,\n",
    "            log.CD34 = shapiro.test(log(CD34))$p.value,\n",
    "            log.VEGF.All = shapiro.test(log(VEGF.All))$p.value,\n",
    "            log.CD34.All = shapiro.test(log(CD34.All))$p.value,\n",
    "            log.VEGF.1 = shapiro.test(log(VEGF.1))$p.value,\n",
    "            log.SDF.1 = shapiro.test(log(SDF.1))$p.value\n",
    "             ) %>%\n",
    "    mutate_if(is.numeric, funs(round(., 4)))"
   ]
  },
  {
   "cell_type": "markdown",
   "metadata": {},
   "source": [
    "log 변환해도 정규성을 따른다고 볼만한 변수는 **CFU 와 CD 34** 뿐이다. \n",
    "\n",
    "***그런데 검사 값이 음수가 나와서 warning 이 생기는데, 그게 가능한 것인가..?***"
   ]
  },
  {
   "cell_type": "markdown",
   "metadata": {},
   "source": [
    "위 결과를 기반으로 하면 대부분의 변수에 wilcoxon rank sum 검정을 실시해야하고, \n",
    "\n",
    "CFU 와 log(CD 34) 정도는 t-test 를 시도해볼만한 가치가 있겠다. "
   ]
  },
  {
   "cell_type": "markdown",
   "metadata": {
    "collapsed": true
   },
   "source": [
    "## 상관관계 파악"
   ]
  },
  {
   "cell_type": "markdown",
   "metadata": {},
   "source": [
    "변수들간의 상관관계를 파악해보자. "
   ]
  },
  {
   "cell_type": "code",
   "execution_count": 56,
   "metadata": {},
   "outputs": [
    {
     "data": {
      "text/html": [
       "<table>\n",
       "<thead><tr><th></th><th scope=col>Average.CFU</th><th scope=col>VEGF</th><th scope=col>VEGF.All</th><th scope=col>CD34.VEGF</th><th scope=col>CD34</th><th scope=col>CD34.All</th><th scope=col>VEGF.1</th><th scope=col>SDF.1</th></tr></thead>\n",
       "<tbody>\n",
       "\t<tr><th scope=row>Average.CFU</th><td> 1   </td><td>0.24 </td><td>0.23 </td><td>-0.14</td><td>-0.21</td><td>-0.21</td><td>-0.09</td><td>-0.32</td></tr>\n",
       "\t<tr><th scope=row>VEGF</th><td>NA   </td><td>1.00 </td><td>1.00 </td><td> 0.16</td><td>-0.11</td><td>-0.05</td><td>-0.10</td><td>-0.23</td></tr>\n",
       "\t<tr><th scope=row>VEGF.All</th><td>NA   </td><td>  NA </td><td>1.00 </td><td> 0.23</td><td>-0.07</td><td> 0.00</td><td>-0.08</td><td>-0.22</td></tr>\n",
       "\t<tr><th scope=row>CD34.VEGF</th><td>NA   </td><td>  NA </td><td>  NA </td><td> 1.00</td><td> 0.60</td><td> 0.75</td><td> 0.23</td><td> 0.09</td></tr>\n",
       "\t<tr><th scope=row>CD34</th><td>NA   </td><td>  NA </td><td>  NA </td><td>   NA</td><td> 1.00</td><td> 0.98</td><td> 0.28</td><td> 0.12</td></tr>\n",
       "\t<tr><th scope=row>CD34.All</th><td>NA   </td><td>  NA </td><td>  NA </td><td>   NA</td><td>   NA</td><td> 1.00</td><td> 0.29</td><td> 0.12</td></tr>\n",
       "\t<tr><th scope=row>VEGF.1</th><td>NA   </td><td>  NA </td><td>  NA </td><td>   NA</td><td>   NA</td><td>   NA</td><td> 1.00</td><td> 0.41</td></tr>\n",
       "\t<tr><th scope=row>SDF.1</th><td>NA   </td><td>  NA </td><td>  NA </td><td>   NA</td><td>   NA</td><td>   NA</td><td>   NA</td><td> 1.00</td></tr>\n",
       "</tbody>\n",
       "</table>\n"
      ],
      "text/latex": [
       "\\begin{tabular}{r|llllllll}\n",
       "  & Average.CFU & VEGF & VEGF.All & CD34.VEGF & CD34 & CD34.All & VEGF.1 & SDF.1\\\\\n",
       "\\hline\n",
       "\tAverage.CFU &  1    & 0.24  & 0.23  & -0.14 & -0.21 & -0.21 & -0.09 & -0.32\\\\\n",
       "\tVEGF & NA    & 1.00  & 1.00  &  0.16 & -0.11 & -0.05 & -0.10 & -0.23\\\\\n",
       "\tVEGF.All & NA    &   NA  & 1.00  &  0.23 & -0.07 &  0.00 & -0.08 & -0.22\\\\\n",
       "\tCD34.VEGF & NA    &   NA  &   NA  &  1.00 &  0.60 &  0.75 &  0.23 &  0.09\\\\\n",
       "\tCD34 & NA    &   NA  &   NA  &    NA &  1.00 &  0.98 &  0.28 &  0.12\\\\\n",
       "\tCD34.All & NA    &   NA  &   NA  &    NA &    NA &  1.00 &  0.29 &  0.12\\\\\n",
       "\tVEGF.1 & NA    &   NA  &   NA  &    NA &    NA &    NA &  1.00 &  0.41\\\\\n",
       "\tSDF.1 & NA    &   NA  &   NA  &    NA &    NA &    NA &    NA &  1.00\\\\\n",
       "\\end{tabular}\n"
      ],
      "text/markdown": [
       "\n",
       "| <!--/--> | Average.CFU | VEGF | VEGF.All | CD34.VEGF | CD34 | CD34.All | VEGF.1 | SDF.1 | \n",
       "|---|---|---|---|---|---|---|---|\n",
       "| Average.CFU |  1    | 0.24  | 0.23  | -0.14 | -0.21 | -0.21 | -0.09 | -0.32 | \n",
       "| VEGF | NA    | 1.00  | 1.00  |  0.16 | -0.11 | -0.05 | -0.10 | -0.23 | \n",
       "| VEGF.All | NA    |   NA  | 1.00  |  0.23 | -0.07 |  0.00 | -0.08 | -0.22 | \n",
       "| CD34.VEGF | NA    |   NA  |   NA  |  1.00 |  0.60 |  0.75 |  0.23 |  0.09 | \n",
       "| CD34 | NA    |   NA  |   NA  |    NA |  1.00 |  0.98 |  0.28 |  0.12 | \n",
       "| CD34.All | NA    |   NA  |   NA  |    NA |    NA |  1.00 |  0.29 |  0.12 | \n",
       "| VEGF.1 | NA    |   NA  |   NA  |    NA |    NA |    NA |  1.00 |  0.41 | \n",
       "| SDF.1 | NA    |   NA  |   NA  |    NA |    NA |    NA |    NA |  1.00 | \n",
       "\n",
       "\n"
      ],
      "text/plain": [
       "            Average.CFU VEGF VEGF.All CD34.VEGF CD34  CD34.All VEGF.1 SDF.1\n",
       "Average.CFU  1          0.24 0.23     -0.14     -0.21 -0.21    -0.09  -0.32\n",
       "VEGF        NA          1.00 1.00      0.16     -0.11 -0.05    -0.10  -0.23\n",
       "VEGF.All    NA            NA 1.00      0.23     -0.07  0.00    -0.08  -0.22\n",
       "CD34.VEGF   NA            NA   NA      1.00      0.60  0.75     0.23   0.09\n",
       "CD34        NA            NA   NA        NA      1.00  0.98     0.28   0.12\n",
       "CD34.All    NA            NA   NA        NA        NA  1.00     0.29   0.12\n",
       "VEGF.1      NA            NA   NA        NA        NA    NA     1.00   0.41\n",
       "SDF.1       NA            NA   NA        NA        NA    NA       NA   1.00"
      ]
     },
     "metadata": {},
     "output_type": "display_data"
    },
    {
     "data": {},
     "metadata": {},
     "output_type": "display_data"
    },
    {
     "data": {
      "image/png": "[encoded data removed]",
      "text/plain": [
       "plot without title"
      ]
     },
     "metadata": {},
     "output_type": "display_data"
    }
   ],
   "source": [
    "# 상관 계수를 살펴보자 \n",
    "\n",
    "library(reshape2)\n",
    "\n",
    "cormat <- round(cor(data[c(17, 18,21, 19, 20 ,22, 23, 24)], use = 'complete.obs'),2)\n",
    "cormat[lower.tri(cormat)]<- NA\n",
    "cormat\n",
    "\n",
    "options(repr.plot.width=5, repr.plot.height=3)\n",
    "melted_cormat <- melt(cormat, na.rm = TRUE)\n",
    "ggplot(data = melted_cormat, aes(Var2, Var1, fill = value))+\n",
    "    geom_tile(color = \"white\")+\n",
    "    scale_fill_gradient2(low = \"blue\", high = \"red\", mid = \"white\", \n",
    "                         midpoint = 0, limit = c(-1,1), space = \"Lab\", \n",
    "                         name=\"Pearson\\nCorrelation\") +\n",
    "    theme_minimal()+ \n",
    "    theme(axis.text.x = element_text(angle = 55, vjust = 1, \n",
    "                                     size = 10, hjust = 1) , \n",
    "          axis.title.x=element_blank(), \n",
    "          axis.title.y=element_blank())+\n",
    "    coord_fixed() + geom_text(aes(Var2, Var1, label = round(value,1)), color = \"black\", size = 3)"
   ]
  },
  {
   "cell_type": "markdown",
   "metadata": {},
   "source": [
    "위 결과를 봤을 때, \n",
    "- CD34\n",
    "- CD34.All\n",
    "- CD34.VEGF\n",
    "\n",
    "는 상관 관계가 매우 높아, 거의 한 변수로 봐도 될 정도\n",
    "\n",
    "- VEGF\n",
    "- VEGF.All\n",
    "\n",
    "도 마찬가지 \n",
    "\n",
    "log 에 대해서도 살펴보면"
   ]
  },
  {
   "cell_type": "code",
   "execution_count": 57,
   "metadata": {},
   "outputs": [
    {
     "name": "stderr",
     "output_type": "stream",
     "text": [
      "Warning message in FUN(X[[i]], ...):\n",
      "“NaN이 생성되었습니다”Warning message in FUN(X[[i]], ...):\n",
      "“NaN이 생성되었습니다”Warning message in FUN(X[[i]], ...):\n",
      "“NaN이 생성되었습니다”"
     ]
    },
    {
     "data": {
      "text/html": [
       "<table>\n",
       "<thead><tr><th></th><th scope=col>Average.CFU</th><th scope=col>VEGF</th><th scope=col>VEGF.All</th><th scope=col>CD34.VEGF</th><th scope=col>CD34</th><th scope=col>CD34.All</th><th scope=col>VEGF.1</th><th scope=col>SDF.1</th></tr></thead>\n",
       "<tbody>\n",
       "\t<tr><th scope=row>Average.CFU</th><td> 1   </td><td>0.17 </td><td>0.18 </td><td>-0.12</td><td>-0.10</td><td>-0.18</td><td>-0.25</td><td>-0.37</td></tr>\n",
       "\t<tr><th scope=row>VEGF</th><td>NA   </td><td>1.00 </td><td>0.96 </td><td> 0.30</td><td>-0.03</td><td> 0.08</td><td>-0.14</td><td>-0.33</td></tr>\n",
       "\t<tr><th scope=row>VEGF.All</th><td>NA   </td><td>  NA </td><td>1.00 </td><td> 0.41</td><td> 0.06</td><td> 0.19</td><td>-0.16</td><td>-0.32</td></tr>\n",
       "\t<tr><th scope=row>CD34.VEGF</th><td>NA   </td><td>  NA </td><td>  NA </td><td> 1.00</td><td> 0.45</td><td> 0.78</td><td> 0.04</td><td> 0.09</td></tr>\n",
       "\t<tr><th scope=row>CD34</th><td>NA   </td><td>  NA </td><td>  NA </td><td>   NA</td><td> 1.00</td><td> 0.84</td><td> 0.03</td><td> 0.10</td></tr>\n",
       "\t<tr><th scope=row>CD34.All</th><td>NA   </td><td>  NA </td><td>  NA </td><td>   NA</td><td>   NA</td><td> 1.00</td><td> 0.06</td><td> 0.14</td></tr>\n",
       "\t<tr><th scope=row>VEGF.1</th><td>NA   </td><td>  NA </td><td>  NA </td><td>   NA</td><td>   NA</td><td>   NA</td><td> 1.00</td><td> 0.38</td></tr>\n",
       "\t<tr><th scope=row>SDF.1</th><td>NA   </td><td>  NA </td><td>  NA </td><td>   NA</td><td>   NA</td><td>   NA</td><td>   NA</td><td> 1.00</td></tr>\n",
       "</tbody>\n",
       "</table>\n"
      ],
      "text/latex": [
       "\\begin{tabular}{r|llllllll}\n",
       "  & Average.CFU & VEGF & VEGF.All & CD34.VEGF & CD34 & CD34.All & VEGF.1 & SDF.1\\\\\n",
       "\\hline\n",
       "\tAverage.CFU &  1    & 0.17  & 0.18  & -0.12 & -0.10 & -0.18 & -0.25 & -0.37\\\\\n",
       "\tVEGF & NA    & 1.00  & 0.96  &  0.30 & -0.03 &  0.08 & -0.14 & -0.33\\\\\n",
       "\tVEGF.All & NA    &   NA  & 1.00  &  0.41 &  0.06 &  0.19 & -0.16 & -0.32\\\\\n",
       "\tCD34.VEGF & NA    &   NA  &   NA  &  1.00 &  0.45 &  0.78 &  0.04 &  0.09\\\\\n",
       "\tCD34 & NA    &   NA  &   NA  &    NA &  1.00 &  0.84 &  0.03 &  0.10\\\\\n",
       "\tCD34.All & NA    &   NA  &   NA  &    NA &    NA &  1.00 &  0.06 &  0.14\\\\\n",
       "\tVEGF.1 & NA    &   NA  &   NA  &    NA &    NA &    NA &  1.00 &  0.38\\\\\n",
       "\tSDF.1 & NA    &   NA  &   NA  &    NA &    NA &    NA &    NA &  1.00\\\\\n",
       "\\end{tabular}\n"
      ],
      "text/markdown": [
       "\n",
       "| <!--/--> | Average.CFU | VEGF | VEGF.All | CD34.VEGF | CD34 | CD34.All | VEGF.1 | SDF.1 | \n",
       "|---|---|---|---|---|---|---|---|\n",
       "| Average.CFU |  1    | 0.17  | 0.18  | -0.12 | -0.10 | -0.18 | -0.25 | -0.37 | \n",
       "| VEGF | NA    | 1.00  | 0.96  |  0.30 | -0.03 |  0.08 | -0.14 | -0.33 | \n",
       "| VEGF.All | NA    |   NA  | 1.00  |  0.41 |  0.06 |  0.19 | -0.16 | -0.32 | \n",
       "| CD34.VEGF | NA    |   NA  |   NA  |  1.00 |  0.45 |  0.78 |  0.04 |  0.09 | \n",
       "| CD34 | NA    |   NA  |   NA  |    NA |  1.00 |  0.84 |  0.03 |  0.10 | \n",
       "| CD34.All | NA    |   NA  |   NA  |    NA |    NA |  1.00 |  0.06 |  0.14 | \n",
       "| VEGF.1 | NA    |   NA  |   NA  |    NA |    NA |    NA |  1.00 |  0.38 | \n",
       "| SDF.1 | NA    |   NA  |   NA  |    NA |    NA |    NA |    NA |  1.00 | \n",
       "\n",
       "\n"
      ],
      "text/plain": [
       "            Average.CFU VEGF VEGF.All CD34.VEGF CD34  CD34.All VEGF.1 SDF.1\n",
       "Average.CFU  1          0.17 0.18     -0.12     -0.10 -0.18    -0.25  -0.37\n",
       "VEGF        NA          1.00 0.96      0.30     -0.03  0.08    -0.14  -0.33\n",
       "VEGF.All    NA            NA 1.00      0.41      0.06  0.19    -0.16  -0.32\n",
       "CD34.VEGF   NA            NA   NA      1.00      0.45  0.78     0.04   0.09\n",
       "CD34        NA            NA   NA        NA      1.00  0.84     0.03   0.10\n",
       "CD34.All    NA            NA   NA        NA        NA  1.00     0.06   0.14\n",
       "VEGF.1      NA            NA   NA        NA        NA    NA     1.00   0.38\n",
       "SDF.1       NA            NA   NA        NA        NA    NA       NA   1.00"
      ]
     },
     "metadata": {},
     "output_type": "display_data"
    },
    {
     "data": {},
     "metadata": {},
     "output_type": "display_data"
    },
    {
     "data": {
      "image/png": "[encoded data removed]",
      "text/plain": [
       "plot without title"
      ]
     },
     "metadata": {},
     "output_type": "display_data"
    }
   ],
   "source": [
    "# 상관 계수를 살펴보자 \n",
    "\n",
    "library(reshape2)\n",
    "\n",
    "cormat <- round(cor(log(data[c(17, 18, 21, 19, 20 ,22, 23, 24)] + 1e-5), use = 'complete.obs'),2)\n",
    "cormat[lower.tri(cormat)]<- NA\n",
    "cormat\n",
    "\n",
    "options(repr.plot.width=5, repr.plot.height=3)\n",
    "melted_cormat <- melt(cormat, na.rm = TRUE)\n",
    "ggplot(data = melted_cormat, aes(Var2, Var1, fill = value))+\n",
    "    geom_tile(color = \"white\")+\n",
    "    scale_fill_gradient2(low = \"blue\", high = \"red\", mid = \"white\", \n",
    "                         midpoint = 0, limit = c(-1,1), space = \"Lab\", \n",
    "                         name=\"Pearson\\nCorrelation\") +\n",
    "    theme_minimal()+ \n",
    "    theme(axis.text.x = element_text(angle = 55, vjust = 1, \n",
    "                                     size = 10, hjust = 1) , \n",
    "          axis.title.x=element_blank(), \n",
    "          axis.title.y=element_blank())+\n",
    "    coord_fixed() + geom_text(aes(Var2, Var1, label = round(value,1)), color = \"black\", size = 3)"
   ]
  },
  {
   "cell_type": "markdown",
   "metadata": {},
   "source": [
    "거의 비슷한 결과다. \n",
    "\n",
    "* CD34 = CD34.All ~=CD34.VEGF\n",
    "* VEGF = VEGF.All \n",
    "* VEGF.1 ~= SDF.1 \n",
    "* Average.CFU\n",
    "\n",
    "이정도로 변수들이 그룹지어지는 것으로 보인다. "
   ]
  },
  {
   "cell_type": "markdown",
   "metadata": {},
   "source": [
    "---\n",
    "# Lab data 검정\n",
    "---"
   ]
  },
  {
   "cell_type": "markdown",
   "metadata": {},
   "source": [
    "위 결과를 토대로 \n",
    "각 지표들이 차이가 있는지 확인해보자. \n",
    "\n",
    "Average.CFU 는 t-test, 이외의 것들은 wilcoxon test"
   ]
  },
  {
   "cell_type": "markdown",
   "metadata": {},
   "source": [
    "## Wilcox test"
   ]
  },
  {
   "cell_type": "code",
   "execution_count": 58,
   "metadata": {
    "scrolled": true
   },
   "outputs": [
    {
     "name": "stdout",
     "output_type": "stream",
     "text": [
      "\n",
      " Average.CFU t-test : p-value = 0.108\n",
      " Average.CFU result : p-value = 0.2912 \n",
      "\n",
      " VEGF result : p-value = 0 \n",
      "\n",
      " CD34.VEGF result : p-value = 0.9538 \n",
      "\n",
      " CD34 result : p-value = 0.0557 \n",
      "\n",
      " VEGF.All result : p-value = 0 \n",
      "\n",
      " CD34.All result : p-value = 0.4596 \n",
      "\n",
      " VEGF.1 result : p-value = 0 \n",
      "\n",
      " SDF.1 result : p-value = 0 \n"
     ]
    }
   ],
   "source": [
    "# Wilcoxon rank sum test for lab data\n",
    "\n",
    "pv <- t.test(Average.CFU ~ CLI, data=data)$p.value\n",
    "cat(\"\\n Average.CFU t-test : p-value =\", round(pv,3))\n",
    "\n",
    "for(key in c('Average.CFU', 'VEGF', 'CD34.VEGF', 'CD34', 'VEGF.All', 'CD34.All', 'VEGF.1', 'SDF.1')){\n",
    "    \n",
    "    test <- wilcox.test(as.formula(paste(key,\"~ CLI\")), data = data)\n",
    "    cat(\"\\n\", key, \"result :\", \"p-value =\", round(test$p.value,4), '\\n')\n",
    "}\n"
   ]
  },
  {
   "cell_type": "markdown",
   "metadata": {},
   "source": [
    "유의미한 결과 :\n",
    "\n",
    "- VEGF\n",
    "- VEGF.All\n",
    "- VEGF.1\n",
    "- SDF.1\n",
    "\n",
    "CD34 는 경계치"
   ]
  },
  {
   "cell_type": "markdown",
   "metadata": {},
   "source": [
    "## log에 대한 wilcox test"
   ]
  },
  {
   "cell_type": "code",
   "execution_count": 104,
   "metadata": {
    "scrolled": false
   },
   "outputs": [
    {
     "name": "stdout",
     "output_type": "stream",
     "text": [
      "\n",
      " Average.CFU t-test : p-value = 0.118\n",
      " Average.CFU result : p-value = 0.2912 \n",
      "\n",
      " VEGF result : p-value = 0 \n",
      "\n",
      " CD34.VEGF result : p-value = 0.9538 \n"
     ]
    },
    {
     "name": "stderr",
     "output_type": "stream",
     "text": [
      "Warning message in log(CD34):\n",
      "“NaN이 생성되었습니다”"
     ]
    },
    {
     "name": "stdout",
     "output_type": "stream",
     "text": [
      "\n",
      " CD34 result : p-value = 0.6607 \n",
      "\n",
      " VEGF.All result : p-value = 0 \n"
     ]
    },
    {
     "name": "stderr",
     "output_type": "stream",
     "text": [
      "Warning message in log(CD34.All):\n",
      "“NaN이 생성되었습니다”"
     ]
    },
    {
     "name": "stdout",
     "output_type": "stream",
     "text": [
      "\n",
      " CD34.All result : p-value = 0.5611 \n"
     ]
    },
    {
     "name": "stderr",
     "output_type": "stream",
     "text": [
      "Warning message in log(VEGF.1):\n",
      "“NaN이 생성되었습니다”"
     ]
    },
    {
     "name": "stdout",
     "output_type": "stream",
     "text": [
      "\n",
      " VEGF.1 result : p-value = 0 \n",
      "\n",
      " SDF.1 result : p-value = 0 \n"
     ]
    },
    {
     "name": "stderr",
     "output_type": "stream",
     "text": [
      "Warning message in log(CD34):\n",
      "“NaN이 생성되었습니다”"
     ]
    },
    {
     "name": "stdout",
     "output_type": "stream",
     "text": [
      "\n",
      " CD34 t-test : p-value = 0.777"
     ]
    }
   ],
   "source": [
    "# log 값에 대한 분석 \n",
    "\n",
    "pv <- t.test(log(Average.CFU) ~ CLI, data=data)$p.value\n",
    "cat(\"\\n Average.CFU t-test : p-value =\", round(pv,3))\n",
    "\n",
    "for(key in c('Average.CFU', 'VEGF', 'CD34.VEGF', 'CD34', 'VEGF.All', 'CD34.All', 'VEGF.1', 'SDF.1')){\n",
    "    test <- wilcox.test(as.formula(paste(\"log(\",key,\")~ CLI\")), data = data)\n",
    "    cat(\"\\n\", key, \"result :\", \"p-value =\", round(test$p.value,4), '\\n')\n",
    "}\n",
    "\n",
    "pv <- t.test(log(CD34) ~ CLI, data=data)$p.value\n",
    "cat(\"\\n CD34 t-test : p-value =\", round(pv,3))"
   ]
  },
  {
   "cell_type": "markdown",
   "metadata": {},
   "source": [
    "앞과 같은 결과 \n",
    "\n",
    "**VEGF, VEGF.All, VEGF.1, SDF.1 은 꽤나 유의미**\n",
    "\n",
    "혹시 이것이 앞서 demographic data 의 차이로 인한 것은 아닌지 한 번 살펴보자. \n",
    "\n",
    "DM + HTN + statin (+ gender, smoking, obesity ) 이 녀석들에 대한 것들을 고정으로 두고, 분석을 실시해보자. "
   ]
  },
  {
   "cell_type": "markdown",
   "metadata": {},
   "source": [
    "## 교란 변수 제거"
   ]
  },
  {
   "cell_type": "markdown",
   "metadata": {},
   "source": [
    "### 분리된 집단의 수\n",
    "그런데 DM, HTN, statin에 따라 분리된 집단의 수는 다음과 같다. "
   ]
  },
  {
   "cell_type": "code",
   "execution_count": 60,
   "metadata": {},
   "outputs": [
    {
     "data": {
      "text/html": [
       "<table>\n",
       "<thead><tr><th scope=col>DM</th><th scope=col>HTN</th><th scope=col>statin</th><th scope=col>CLI1</th><th scope=col>CLI0</th></tr></thead>\n",
       "<tbody>\n",
       "\t<tr><td>0 </td><td>0 </td><td>0 </td><td> 2</td><td> 3</td></tr>\n",
       "\t<tr><td>0 </td><td>0 </td><td>1 </td><td> 0</td><td> 3</td></tr>\n",
       "\t<tr><td>0 </td><td>1 </td><td>0 </td><td> 0</td><td>26</td></tr>\n",
       "\t<tr><td>0 </td><td>1 </td><td>1 </td><td> 0</td><td>30</td></tr>\n",
       "\t<tr><td>1 </td><td>0 </td><td>0 </td><td> 7</td><td> 0</td></tr>\n",
       "\t<tr><td>1 </td><td>0 </td><td>1 </td><td> 0</td><td> 2</td></tr>\n",
       "\t<tr><td>1 </td><td>1 </td><td>0 </td><td>21</td><td>15</td></tr>\n",
       "\t<tr><td>1 </td><td>1 </td><td>1 </td><td> 2</td><td>22</td></tr>\n",
       "</tbody>\n",
       "</table>\n"
      ],
      "text/latex": [
       "\\begin{tabular}{r|lllll}\n",
       " DM & HTN & statin & CLI1 & CLI0\\\\\n",
       "\\hline\n",
       "\t 0  & 0  & 0  &  2 &  3\\\\\n",
       "\t 0  & 0  & 1  &  0 &  3\\\\\n",
       "\t 0  & 1  & 0  &  0 & 26\\\\\n",
       "\t 0  & 1  & 1  &  0 & 30\\\\\n",
       "\t 1  & 0  & 0  &  7 &  0\\\\\n",
       "\t 1  & 0  & 1  &  0 &  2\\\\\n",
       "\t 1  & 1  & 0  & 21 & 15\\\\\n",
       "\t 1  & 1  & 1  &  2 & 22\\\\\n",
       "\\end{tabular}\n"
      ],
      "text/markdown": [
       "\n",
       "DM | HTN | statin | CLI1 | CLI0 | \n",
       "|---|---|---|---|---|---|---|---|\n",
       "| 0  | 0  | 0  |  2 |  3 | \n",
       "| 0  | 0  | 1  |  0 |  3 | \n",
       "| 0  | 1  | 0  |  0 | 26 | \n",
       "| 0  | 1  | 1  |  0 | 30 | \n",
       "| 1  | 0  | 0  |  7 |  0 | \n",
       "| 1  | 0  | 1  |  0 |  2 | \n",
       "| 1  | 1  | 0  | 21 | 15 | \n",
       "| 1  | 1  | 1  |  2 | 22 | \n",
       "\n",
       "\n"
      ],
      "text/plain": [
       "  DM HTN statin CLI1 CLI0\n",
       "1 0  0   0       2    3  \n",
       "2 0  0   1       0    3  \n",
       "3 0  1   0       0   26  \n",
       "4 0  1   1       0   30  \n",
       "5 1  0   0       7    0  \n",
       "6 1  0   1       0    2  \n",
       "7 1  1   0      21   15  \n",
       "8 1  1   1       2   22  "
      ]
     },
     "metadata": {},
     "output_type": "display_data"
    }
   ],
   "source": [
    "data %>% \n",
    "    mutate(DM = as.factor(DM), HTN = as.factor(HTN), statin=as.factor(statin)) %>% \n",
    "    group_by(DM, HTN, statin) %>% \n",
    "    summarise(CLI1 = sum(CLI==1), CLI0 = sum(CLI==0))"
   ]
  },
  {
   "cell_type": "markdown",
   "metadata": {},
   "source": [
    "일부 집단에 대해서는 개체수가 0인 부분들이 있어 검정이 어려울 것으로 생각된다. \n",
    "\n",
    "따라서 선별적으로 개체수가 적절한 테이터에 대해서만 분석을 먼저 돌려보자 \n",
    "\n",
    "DM, HTN, statin = (1,1,0),(1,1,1)\n",
    "\n",
    "을 대상으로 해보자"
   ]
  },
  {
   "cell_type": "markdown",
   "metadata": {},
   "source": [
    "#### (1,1,0)"
   ]
  },
  {
   "cell_type": "code",
   "execution_count": 106,
   "metadata": {},
   "outputs": [
    {
     "name": "stdout",
     "output_type": "stream",
     "text": [
      "\n",
      " Average.CFU result : p-value = 0.8245 \n",
      "\n",
      " VEGF result : p-value = 0.0303 \n",
      "\n",
      " CD34.VEGF result : p-value = 0.9243 \n",
      "\n",
      " CD34 result : p-value = 0.9243 \n",
      "\n",
      " VEGF.All result : p-value = 0.0358 \n",
      "\n",
      " CD34.All result : p-value = 0.4654 \n",
      "\n",
      " VEGF.1 result : p-value = 0.003 \n",
      "\n",
      " SDF.1 result : p-value = 0.0081 \n"
     ]
    }
   ],
   "source": [
    "tmp <- data %>% filter(DM == 1, HTN==1, statin==0)  \n",
    "\n",
    "for(key in c('Average.CFU', 'VEGF', 'CD34.VEGF', 'CD34', 'VEGF.All', 'CD34.All', 'VEGF.1', 'SDF.1')){\n",
    "    fm <- as.formula(paste(key,\"~ CLI\"))\n",
    "    test <- wilcox.test(fm, data = tmp)\n",
    "    cat(\"\\n\", key, \"result : p-value =\", round(test$p.value, 4), '\\n')\n",
    "}"
   ]
  },
  {
   "cell_type": "markdown",
   "metadata": {},
   "source": [
    "#### (1,1,1)"
   ]
  },
  {
   "cell_type": "code",
   "execution_count": 108,
   "metadata": {},
   "outputs": [
    {
     "name": "stdout",
     "output_type": "stream",
     "text": [
      "\n",
      " Average.CFU result : p-value = 0.9565 \n",
      "\n",
      " VEGF result : p-value = 0.0435 \n",
      "\n",
      " CD34.VEGF result : p-value = 0.9565 \n",
      "\n",
      " CD34 result : p-value = 0.5217 \n",
      "\n",
      " VEGF.All result : p-value = 0.0652 \n",
      "\n",
      " CD34.All result : p-value = 0.9565 \n",
      "\n",
      " VEGF.1 result : p-value = 0.3551 \n",
      "\n",
      " SDF.1 result : p-value = 0.1159 \n"
     ]
    }
   ],
   "source": [
    "tmp <- data %>% filter(DM == 1, HTN==1, statin==1)\n",
    "\n",
    "for(key in c('Average.CFU', 'VEGF', 'CD34.VEGF', 'CD34', 'VEGF.All', 'CD34.All', 'VEGF.1', 'SDF.1')){\n",
    "#    test <- wilcox.test(as.formula(paste(key,\"~ CLI\")), data = tmp)\n",
    "    test <- wilcox.test(as.formula(paste(\"jitter(\",key,\")~ CLI\")), data = tmp) #tie 없애기\n",
    "    cat(\"\\n\", key, \"result : p-value =\", round(test$p.value, 4), '\\n')\n",
    "}"
   ]
  },
  {
   "cell_type": "markdown",
   "metadata": {},
   "source": [
    "대략 유의미하게 나오는 녀석들은 VEGF(.All), SDF.1, VEGF.1 정도 임을 알 수 있다. \n",
    "\n",
    "log 에 대해서도 대략 비슷하게 나올 것이라고 생각해볼 수 있다. "
   ]
  },
  {
   "cell_type": "markdown",
   "metadata": {},
   "source": [
    "## 로그 변수에 대한 교란변수 고정"
   ]
  },
  {
   "cell_type": "markdown",
   "metadata": {},
   "source": [
    "#### (1,1,0)"
   ]
  },
  {
   "cell_type": "code",
   "execution_count": 63,
   "metadata": {},
   "outputs": [
    {
     "name": "stdout",
     "output_type": "stream",
     "text": [
      "\n",
      " Average.CFU result : p-value = 0.8245 \n",
      "\n",
      " VEGF result : p-value = 0.0303 \n",
      "\n",
      " CD34.VEGF result : p-value = 0.9243 \n"
     ]
    },
    {
     "name": "stderr",
     "output_type": "stream",
     "text": [
      "Warning message in log(CD34):\n",
      "“NaN이 생성되었습니다”"
     ]
    },
    {
     "name": "stdout",
     "output_type": "stream",
     "text": [
      "\n",
      " CD34 result : p-value = 0.8788 \n",
      "\n",
      " VEGF.All result : p-value = 0.0358 \n",
      "\n",
      " CD34.All result : p-value = 0.4654 \n",
      "\n",
      " VEGF.1 result : p-value = 0.003 \n",
      "\n",
      " SDF.1 result : p-value = 0.0081 \n"
     ]
    }
   ],
   "source": [
    "tmp <- data %>% filter(DM == 1, HTN==1, statin==0)\n",
    "\n",
    "for(key in c('Average.CFU', 'VEGF', 'CD34.VEGF', 'CD34', 'VEGF.All', 'CD34.All', 'VEGF.1', 'SDF.1')){\n",
    "    test <- wilcox.test(as.formula(paste(\"log(\",key,\")~ CLI\")), data = tmp)\n",
    "    cat(\"\\n\", key, \"result : p-value =\", round(test$p.value, 4), '\\n')\n",
    "}"
   ]
  },
  {
   "cell_type": "markdown",
   "metadata": {},
   "source": [
    "#### (1,1,1)"
   ]
  },
  {
   "cell_type": "code",
   "execution_count": 64,
   "metadata": {
    "scrolled": false
   },
   "outputs": [
    {
     "name": "stdout",
     "output_type": "stream",
     "text": [
      "\n",
      " Average.CFU result : p-value = 0.9565 \n",
      "\n",
      " VEGF result : p-value = 0.0435 \n",
      "\n",
      " CD34.VEGF result : p-value = 0.9565 \n"
     ]
    },
    {
     "name": "stderr",
     "output_type": "stream",
     "text": [
      "Warning message in log(CD34):\n",
      "“NaN이 생성되었습니다”"
     ]
    },
    {
     "name": "stdout",
     "output_type": "stream",
     "text": [
      "\n",
      " CD34 result : p-value = 0.125 \n",
      "\n",
      " VEGF.All result : p-value = 0.0652 \n"
     ]
    },
    {
     "name": "stderr",
     "output_type": "stream",
     "text": [
      "Warning message in wilcox.test.default(x = c(-0.835863482761541, -1.76609172247948, :\n",
      "“cannot compute exact p-value with ties”"
     ]
    },
    {
     "name": "stdout",
     "output_type": "stream",
     "text": [
      "\n",
      " CD34.All result : p-value = 0.9583 \n",
      "\n",
      " VEGF.1 result : p-value = 0.3551 \n",
      "\n",
      " SDF.1 result : p-value = 0.1159 \n"
     ]
    }
   ],
   "source": [
    "tmp <- data %>% filter(DM == 1, HTN==1, statin==1)\n",
    "\n",
    "for(key in c('Average.CFU', 'VEGF', 'CD34.VEGF', 'CD34', 'VEGF.All', 'CD34.All', 'VEGF.1', 'SDF.1')){\n",
    "    test <- wilcox.test(as.formula(paste(\"log(\",key,\")~ CLI\")), data = tmp)\n",
    "    cat(\"\\n\", key, \"result : p-value =\", round(test$p.value, 4), '\\n')\n",
    "}"
   ]
  },
  {
   "cell_type": "markdown",
   "metadata": {},
   "source": [
    "## Wilcox 결과 "
   ]
  },
  {
   "cell_type": "markdown",
   "metadata": {},
   "source": [
    "log 결과는 완전 똑같다?!\n",
    "\n",
    "무튼 VEGF(.All) 와 SDF.1, VEGF.1 정도가 차이가 있을 수 있음을 확인했다. \n",
    "\n",
    "이런 경우에는 DM 이나 statin 같은 효과를 제외하고 결과를 보고 싶었다면\n",
    "\n",
    "CLI 를 종속 변수로 (CLI 가 없었을때, 생겼을 때) 하여 \n",
    "\n",
    "동일한 개인에 대해서 CLI 가 있을 때와 없을 때의 각 지표를 모아서 분석했어야 하는 것으로 생각된다. \n",
    "    \n",
    "    => pairwise wilcoxon test"
   ]
  },
  {
   "cell_type": "markdown",
   "metadata": {},
   "source": [
    "---\n",
    "# 로지스틱 회귀\n",
    "---\n",
    "\n",
    "위와 같은 방식도 가능하지만, \n",
    "\n",
    "애초에 CLI 를 종속변수, VEGF같은 것을 설명 변수로 가정하면 (VEGF 가 오른 사람들이 CLI 가 발생하더라)\n",
    "\n",
    "DM 이나 statin 복용 여부등의 효과를 고려하였을 때에, \n",
    "\n",
    "lab data 의 CLI 분류에 대한 효용성을 파악할 수 있다. \n",
    "\n",
    "앞서 분석 1에서 만든 회귀모형(CLI ~ DM + statin + HTN (+ Gender + smoking + obesity) )에 지표들을 넣었을때 유의미한 효과를 거둘 수 있을지 확인해보자 "
   ]
  },
  {
   "cell_type": "markdown",
   "metadata": {},
   "source": [
    "## DM+HTN+statin 모형에 추가"
   ]
  },
  {
   "cell_type": "markdown",
   "metadata": {},
   "source": [
    "#### Average.CFU"
   ]
  },
  {
   "cell_type": "code",
   "execution_count": 65,
   "metadata": {
    "scrolled": false
   },
   "outputs": [
    {
     "data": {
      "text/plain": [
       "\n",
       "Call:\n",
       "glm(formula = CLI ~ DM + HTN + statin + Average.CFU, family = binomial(), \n",
       "    data = data)\n",
       "\n",
       "Deviance Residuals: \n",
       "     Min        1Q    Median        3Q       Max  \n",
       "-1.38620  -0.29795  -0.20098  -0.03615   2.49891  \n",
       "\n",
       "Coefficients:\n",
       "            Estimate Std. Error z value Pr(>|z|)    \n",
       "(Intercept) -0.67250    1.67672  -0.401 0.688362    \n",
       "DM           4.17469    1.04539   3.993 6.51e-05 ***\n",
       "HTN         -2.76104    1.03941  -2.656 0.007899 ** \n",
       "statin      -3.40564    0.92267  -3.691 0.000223 ***\n",
       "Average.CFU -0.07431    0.35011  -0.212 0.831912    \n",
       "---\n",
       "Signif. codes:  0 ‘***’ 0.001 ‘**’ 0.01 ‘*’ 0.05 ‘.’ 0.1 ‘ ’ 1\n",
       "\n",
       "(Dispersion parameter for binomial family taken to be 1)\n",
       "\n",
       "    Null deviance: 146.771  on 132  degrees of freedom\n",
       "Residual deviance:  74.565  on 128  degrees of freedom\n",
       "AIC: 84.565\n",
       "\n",
       "Number of Fisher Scoring iterations: 7\n"
      ]
     },
     "metadata": {},
     "output_type": "display_data"
    }
   ],
   "source": [
    "model <- glm(CLI ~ DM + HTN + statin + Average.CFU, family = binomial(),data = data)\n",
    "summary(model)"
   ]
  },
  {
   "cell_type": "markdown",
   "metadata": {},
   "source": [
    "#### VEGF"
   ]
  },
  {
   "cell_type": "code",
   "execution_count": 66,
   "metadata": {
    "scrolled": false
   },
   "outputs": [
    {
     "data": {
      "text/plain": [
       "\n",
       "Call:\n",
       "glm(formula = CLI ~ DM + HTN + statin + VEGF, family = binomial(), \n",
       "    data = data)\n",
       "\n",
       "Deviance Residuals: \n",
       "     Min        1Q    Median        3Q       Max  \n",
       "-1.52140  -0.28732  -0.16585  -0.02635   2.33846  \n",
       "\n",
       "Coefficients:\n",
       "            Estimate Std. Error z value Pr(>|z|)    \n",
       "(Intercept) -0.54451    0.93323  -0.583 0.559578    \n",
       "DM           4.09997    1.05560   3.884 0.000103 ***\n",
       "HTN         -2.74424    1.04444  -2.627 0.008602 ** \n",
       "statin      -3.29789    0.91215  -3.616 0.000300 ***\n",
       "VEGF        -0.10093    0.06985  -1.445 0.148487    \n",
       "---\n",
       "Signif. codes:  0 ‘***’ 0.001 ‘**’ 0.01 ‘*’ 0.05 ‘.’ 0.1 ‘ ’ 1\n",
       "\n",
       "(Dispersion parameter for binomial family taken to be 1)\n",
       "\n",
       "    Null deviance: 146.771  on 132  degrees of freedom\n",
       "Residual deviance:  71.817  on 128  degrees of freedom\n",
       "AIC: 81.817\n",
       "\n",
       "Number of Fisher Scoring iterations: 7\n"
      ]
     },
     "metadata": {},
     "output_type": "display_data"
    }
   ],
   "source": [
    "model <- glm(CLI ~ DM + HTN + statin + VEGF, family = binomial(),data = data)\n",
    "summary(model)"
   ]
  },
  {
   "cell_type": "markdown",
   "metadata": {},
   "source": [
    "#### CD34.VEGF"
   ]
  },
  {
   "cell_type": "code",
   "execution_count": 67,
   "metadata": {},
   "outputs": [
    {
     "data": {
      "text/plain": [
       "\n",
       "Call:\n",
       "glm(formula = CLI ~ DM + HTN + statin + CD34.VEGF, family = binomial(), \n",
       "    data = data)\n",
       "\n",
       "Deviance Residuals: \n",
       "    Min       1Q   Median       3Q      Max  \n",
       "-1.6590  -0.2956  -0.1856  -0.0352   2.5448  \n",
       "\n",
       "Coefficients:\n",
       "            Estimate Std. Error z value Pr(>|z|)    \n",
       "(Intercept)  -1.2657     0.9334  -1.356 0.175114    \n",
       "DM            4.2100     1.0593   3.974 7.06e-05 ***\n",
       "HTN          -2.8584     1.0219  -2.797 0.005154 ** \n",
       "statin       -3.3520     0.9058  -3.701 0.000215 ***\n",
       "CD34.VEGF     0.8569     0.9165   0.935 0.349776    \n",
       "---\n",
       "Signif. codes:  0 ‘***’ 0.001 ‘**’ 0.01 ‘*’ 0.05 ‘.’ 0.1 ‘ ’ 1\n",
       "\n",
       "(Dispersion parameter for binomial family taken to be 1)\n",
       "\n",
       "    Null deviance: 146.771  on 132  degrees of freedom\n",
       "Residual deviance:  73.517  on 128  degrees of freedom\n",
       "AIC: 83.517\n",
       "\n",
       "Number of Fisher Scoring iterations: 7\n"
      ]
     },
     "metadata": {},
     "output_type": "display_data"
    }
   ],
   "source": [
    "model <- glm(CLI ~ DM + HTN + statin + CD34.VEGF, family = binomial(),data = data)\n",
    "summary(model)"
   ]
  },
  {
   "cell_type": "markdown",
   "metadata": {},
   "source": [
    "#### CD34"
   ]
  },
  {
   "cell_type": "code",
   "execution_count": 68,
   "metadata": {},
   "outputs": [
    {
     "data": {
      "text/plain": [
       "\n",
       "Call:\n",
       "glm(formula = CLI ~ DM + HTN + statin + CD34, family = binomial(), \n",
       "    data = data)\n",
       "\n",
       "Deviance Residuals: \n",
       "     Min        1Q    Median        3Q       Max  \n",
       "-2.18498  -0.28020  -0.18633  -0.03314   2.56304  \n",
       "\n",
       "Coefficients:\n",
       "            Estimate Std. Error z value Pr(>|z|)    \n",
       "(Intercept)  -1.1348     0.8836  -1.284 0.199066    \n",
       "DM            4.2040     1.0776   3.901 9.57e-05 ***\n",
       "HTN          -2.8656     1.0288  -2.785 0.005345 ** \n",
       "statin       -3.4475     0.9195  -3.749 0.000177 ***\n",
       "CD34          0.5639     0.4944   1.141 0.254049    \n",
       "---\n",
       "Signif. codes:  0 ‘***’ 0.001 ‘**’ 0.01 ‘*’ 0.05 ‘.’ 0.1 ‘ ’ 1\n",
       "\n",
       "(Dispersion parameter for binomial family taken to be 1)\n",
       "\n",
       "    Null deviance: 146.771  on 132  degrees of freedom\n",
       "Residual deviance:  72.235  on 128  degrees of freedom\n",
       "AIC: 82.235\n",
       "\n",
       "Number of Fisher Scoring iterations: 7\n"
      ]
     },
     "metadata": {},
     "output_type": "display_data"
    }
   ],
   "source": [
    "model <- glm(CLI ~ DM + HTN + statin + CD34, family = binomial(),data = data)\n",
    "summary(model)"
   ]
  },
  {
   "cell_type": "markdown",
   "metadata": {},
   "source": [
    "#### VEGF.All"
   ]
  },
  {
   "cell_type": "code",
   "execution_count": 69,
   "metadata": {},
   "outputs": [
    {
     "data": {
      "text/plain": [
       "\n",
       "Call:\n",
       "glm(formula = CLI ~ DM + HTN + statin + VEGF.All, family = binomial(), \n",
       "    data = data)\n",
       "\n",
       "Deviance Residuals: \n",
       "     Min        1Q    Median        3Q       Max  \n",
       "-1.51782  -0.28764  -0.16122  -0.02575   2.34537  \n",
       "\n",
       "Coefficients:\n",
       "            Estimate Std. Error z value Pr(>|z|)    \n",
       "(Intercept) -0.55032    0.93529  -0.588 0.556265    \n",
       "DM           4.10492    1.05297   3.898 9.68e-05 ***\n",
       "HTN         -2.74447    1.04164  -2.635 0.008420 ** \n",
       "statin      -3.32234    0.91167  -3.644 0.000268 ***\n",
       "VEGF.All    -0.09222    0.06685  -1.380 0.167704    \n",
       "---\n",
       "Signif. codes:  0 ‘***’ 0.001 ‘**’ 0.01 ‘*’ 0.05 ‘.’ 0.1 ‘ ’ 1\n",
       "\n",
       "(Dispersion parameter for binomial family taken to be 1)\n",
       "\n",
       "    Null deviance: 146.771  on 132  degrees of freedom\n",
       "Residual deviance:  72.139  on 128  degrees of freedom\n",
       "AIC: 82.139\n",
       "\n",
       "Number of Fisher Scoring iterations: 7\n"
      ]
     },
     "metadata": {},
     "output_type": "display_data"
    }
   ],
   "source": [
    "model <- glm(CLI ~ DM + HTN + statin + VEGF.All, family = binomial(),data = data)\n",
    "summary(model)"
   ]
  },
  {
   "cell_type": "markdown",
   "metadata": {},
   "source": [
    "#### CD34.All"
   ]
  },
  {
   "cell_type": "code",
   "execution_count": 70,
   "metadata": {
    "scrolled": false
   },
   "outputs": [
    {
     "data": {
      "text/plain": [
       "\n",
       "Call:\n",
       "glm(formula = CLI ~ DM + HTN + statin + CD34.All, family = binomial(), \n",
       "    data = data)\n",
       "\n",
       "Deviance Residuals: \n",
       "    Min       1Q   Median       3Q      Max  \n",
       "-2.0713  -0.2781  -0.1772  -0.0326   2.5894  \n",
       "\n",
       "Coefficients:\n",
       "            Estimate Std. Error z value Pr(>|z|)    \n",
       "(Intercept)  -1.2976     0.9151  -1.418 0.156189    \n",
       "DM            4.2376     1.0869   3.899 9.67e-05 ***\n",
       "HTN          -2.8832     1.0335  -2.790 0.005275 ** \n",
       "statin       -3.4128     0.9123  -3.741 0.000184 ***\n",
       "CD34.All      0.5198     0.4290   1.211 0.225709    \n",
       "---\n",
       "Signif. codes:  0 ‘***’ 0.001 ‘**’ 0.01 ‘*’ 0.05 ‘.’ 0.1 ‘ ’ 1\n",
       "\n",
       "(Dispersion parameter for binomial family taken to be 1)\n",
       "\n",
       "    Null deviance: 146.771  on 132  degrees of freedom\n",
       "Residual deviance:  72.064  on 128  degrees of freedom\n",
       "AIC: 82.064\n",
       "\n",
       "Number of Fisher Scoring iterations: 7\n"
      ]
     },
     "metadata": {},
     "output_type": "display_data"
    }
   ],
   "source": [
    "model <- glm(CLI ~ DM + HTN + statin + CD34.All, family = binomial(),data = data)\n",
    "summary(model)"
   ]
  },
  {
   "cell_type": "markdown",
   "metadata": {},
   "source": [
    "#### VEGF.1"
   ]
  },
  {
   "cell_type": "code",
   "execution_count": 71,
   "metadata": {
    "scrolled": false
   },
   "outputs": [
    {
     "data": {
      "text/plain": [
       "\n",
       "Call:\n",
       "glm(formula = CLI ~ DM + HTN + statin + VEGF.1, family = binomial(), \n",
       "    data = data)\n",
       "\n",
       "Deviance Residuals: \n",
       "     Min        1Q    Median        3Q       Max  \n",
       "-1.63366  -0.21202  -0.10088  -0.01677   2.77244  \n",
       "\n",
       "Coefficients:\n",
       "             Estimate Std. Error z value Pr(>|z|)    \n",
       "(Intercept) -3.046184   1.228879  -2.479 0.013181 *  \n",
       "DM           4.364825   1.283099   3.402 0.000669 ***\n",
       "HTN         -2.680220   1.046438  -2.561 0.010429 *  \n",
       "statin      -3.183783   0.986449  -3.228 0.001249 ** \n",
       "VEGF.1       0.015878   0.004998   3.177 0.001488 ** \n",
       "---\n",
       "Signif. codes:  0 ‘***’ 0.001 ‘**’ 0.01 ‘*’ 0.05 ‘.’ 0.1 ‘ ’ 1\n",
       "\n",
       "(Dispersion parameter for binomial family taken to be 1)\n",
       "\n",
       "    Null deviance: 146.771  on 132  degrees of freedom\n",
       "Residual deviance:  57.567  on 128  degrees of freedom\n",
       "AIC: 67.567\n",
       "\n",
       "Number of Fisher Scoring iterations: 7\n"
      ]
     },
     "metadata": {},
     "output_type": "display_data"
    }
   ],
   "source": [
    "model <- glm(CLI ~ DM + HTN + statin + VEGF.1, family = binomial(),data = data)\n",
    "summary(model)"
   ]
  },
  {
   "cell_type": "markdown",
   "metadata": {},
   "source": [
    "#### SDF.1"
   ]
  },
  {
   "cell_type": "code",
   "execution_count": 72,
   "metadata": {
    "scrolled": false
   },
   "outputs": [
    {
     "data": {
      "text/plain": [
       "\n",
       "Call:\n",
       "glm(formula = CLI ~ DM + HTN + statin + SDF.1, family = binomial(), \n",
       "    data = data)\n",
       "\n",
       "Deviance Residuals: \n",
       "     Min        1Q    Median        3Q       Max  \n",
       "-1.76251  -0.21531  -0.09969  -0.01375   2.68123  \n",
       "\n",
       "Coefficients:\n",
       "              Estimate Std. Error z value Pr(>|z|)   \n",
       "(Intercept) -5.3193576  1.7188618  -3.095  0.00197 **\n",
       "DM           4.4088708  1.3469911   3.273  0.00106 **\n",
       "HTN         -2.4794077  1.2842849  -1.931  0.05354 . \n",
       "statin      -3.5608670  1.1069236  -3.217  0.00130 **\n",
       "SDF.1        0.0012912  0.0004082   3.163  0.00156 **\n",
       "---\n",
       "Signif. codes:  0 ‘***’ 0.001 ‘**’ 0.01 ‘*’ 0.05 ‘.’ 0.1 ‘ ’ 1\n",
       "\n",
       "(Dispersion parameter for binomial family taken to be 1)\n",
       "\n",
       "    Null deviance: 146.771  on 132  degrees of freedom\n",
       "Residual deviance:  59.794  on 128  degrees of freedom\n",
       "AIC: 69.794\n",
       "\n",
       "Number of Fisher Scoring iterations: 7\n"
      ]
     },
     "metadata": {},
     "output_type": "display_data"
    }
   ],
   "source": [
    "model <- glm(CLI ~ DM + HTN + statin + SDF.1, family = binomial(),data = data)\n",
    "summary(model)"
   ]
  },
  {
   "cell_type": "markdown",
   "metadata": {},
   "source": [
    "### 결과1 \n",
    "\n",
    "- VEGF.1 (0.0015)\n",
    "- SDF.1 (0.0016)\n",
    "\n",
    "정도가 유의미하게 나옴 "
   ]
  },
  {
   "cell_type": "markdown",
   "metadata": {},
   "source": [
    "---\n",
    "## DM+statin+HTN+Gender+smoking+obesity 모형에 추가\n",
    "---"
   ]
  },
  {
   "cell_type": "markdown",
   "metadata": {},
   "source": [
    "포화모형에 근접한 모델에 적용해보자 "
   ]
  },
  {
   "cell_type": "markdown",
   "metadata": {},
   "source": [
    "#### Average.CFU"
   ]
  },
  {
   "cell_type": "code",
   "execution_count": 73,
   "metadata": {
    "scrolled": false
   },
   "outputs": [
    {
     "data": {
      "text/plain": [
       "\n",
       "Call:\n",
       "glm(formula = CLI ~ DM + statin + HTN + Gender + smoking + obesity + \n",
       "    Average.CFU, family = binomial(), data = data)\n",
       "\n",
       "Deviance Residuals: \n",
       "     Min        1Q    Median        3Q       Max  \n",
       "-2.02671  -0.30978  -0.08921  -0.01501   3.07807  \n",
       "\n",
       "Coefficients:\n",
       "            Estimate Std. Error z value Pr(>|z|)    \n",
       "(Intercept)   0.5624     3.0945   0.182  0.85579    \n",
       "DM            4.4147     1.1252   3.923 8.73e-05 ***\n",
       "statin       -3.4548     1.0846  -3.185  0.00145 ** \n",
       "HTN          -3.2265     1.1948  -2.700  0.00693 ** \n",
       "Gender        2.1517     0.8391   2.564  0.01033 *  \n",
       "smoking      -2.2719     0.9321  -2.437  0.01479 *  \n",
       "obesity       2.4478     1.2339   1.984  0.04727 *  \n",
       "Average.CFU  -0.5619     0.7292  -0.771  0.44091    \n",
       "---\n",
       "Signif. codes:  0 ‘***’ 0.001 ‘**’ 0.01 ‘*’ 0.05 ‘.’ 0.1 ‘ ’ 1\n",
       "\n",
       "(Dispersion parameter for binomial family taken to be 1)\n",
       "\n",
       "    Null deviance: 146.771  on 132  degrees of freedom\n",
       "Residual deviance:  58.369  on 125  degrees of freedom\n",
       "AIC: 74.369\n",
       "\n",
       "Number of Fisher Scoring iterations: 7\n"
      ]
     },
     "metadata": {},
     "output_type": "display_data"
    }
   ],
   "source": [
    "model <- glm(CLI ~ DM+statin+HTN+Gender+smoking+obesity + Average.CFU, family = binomial(),data = data)\n",
    "summary(model)"
   ]
  },
  {
   "cell_type": "markdown",
   "metadata": {},
   "source": [
    "#### VEGF"
   ]
  },
  {
   "cell_type": "code",
   "execution_count": 74,
   "metadata": {
    "scrolled": false
   },
   "outputs": [
    {
     "data": {
      "text/plain": [
       "\n",
       "Call:\n",
       "glm(formula = CLI ~ DM + statin + HTN + Gender + smoking + obesity + \n",
       "    VEGF, family = binomial(), data = data)\n",
       "\n",
       "Deviance Residuals: \n",
       "     Min        1Q    Median        3Q       Max  \n",
       "-1.83546  -0.31961  -0.07561  -0.00931   2.88120  \n",
       "\n",
       "Coefficients:\n",
       "            Estimate Std. Error z value Pr(>|z|)    \n",
       "(Intercept) -1.39176    1.21436  -1.146 0.251761    \n",
       "DM           4.43215    1.15553   3.836 0.000125 ***\n",
       "statin      -3.70156    1.05701  -3.502 0.000462 ***\n",
       "HTN         -3.52086    1.26317  -2.787 0.005315 ** \n",
       "Gender       2.36615    0.86305   2.742 0.006114 ** \n",
       "smoking     -2.27040    0.88580  -2.563 0.010374 *  \n",
       "obesity      2.19036    0.91539   2.393 0.016719 *  \n",
       "VEGF        -0.11575    0.07885  -1.468 0.142123    \n",
       "---\n",
       "Signif. codes:  0 ‘***’ 0.001 ‘**’ 0.01 ‘*’ 0.05 ‘.’ 0.1 ‘ ’ 1\n",
       "\n",
       "(Dispersion parameter for binomial family taken to be 1)\n",
       "\n",
       "    Null deviance: 146.771  on 132  degrees of freedom\n",
       "Residual deviance:  56.175  on 125  degrees of freedom\n",
       "AIC: 72.175\n",
       "\n",
       "Number of Fisher Scoring iterations: 7\n"
      ]
     },
     "metadata": {},
     "output_type": "display_data"
    }
   ],
   "source": [
    "model <- glm(CLI ~ DM+statin+HTN+Gender+smoking+obesity + VEGF, family = binomial(),data = data)\n",
    "summary(model)"
   ]
  },
  {
   "cell_type": "markdown",
   "metadata": {},
   "source": [
    "#### CD34.VEGF"
   ]
  },
  {
   "cell_type": "code",
   "execution_count": 75,
   "metadata": {},
   "outputs": [
    {
     "data": {
      "text/plain": [
       "\n",
       "Call:\n",
       "glm(formula = CLI ~ DM + statin + HTN + Gender + smoking + obesity + \n",
       "    CD34.VEGF, family = binomial(), data = data)\n",
       "\n",
       "Deviance Residuals: \n",
       "     Min        1Q    Median        3Q       Max  \n",
       "-1.82418  -0.28636  -0.08402  -0.01298   2.96018  \n",
       "\n",
       "Coefficients:\n",
       "            Estimate Std. Error z value Pr(>|z|)    \n",
       "(Intercept)  -2.0683     1.2333  -1.677 0.093533 .  \n",
       "DM            4.5026     1.1468   3.926 8.63e-05 ***\n",
       "statin       -3.5607     1.0551  -3.375 0.000739 ***\n",
       "HTN          -3.4599     1.1745  -2.946 0.003219 ** \n",
       "Gender        2.2060     0.8286   2.662 0.007759 ** \n",
       "smoking      -2.7595     0.9270  -2.977 0.002914 ** \n",
       "obesity       1.7124     0.8177   2.094 0.036254 *  \n",
       "CD34.VEGF     1.4591     1.3238   1.102 0.270374    \n",
       "---\n",
       "Signif. codes:  0 ‘***’ 0.001 ‘**’ 0.01 ‘*’ 0.05 ‘.’ 0.1 ‘ ’ 1\n",
       "\n",
       "(Dispersion parameter for binomial family taken to be 1)\n",
       "\n",
       "    Null deviance: 146.771  on 132  degrees of freedom\n",
       "Residual deviance:  57.515  on 125  degrees of freedom\n",
       "AIC: 73.515\n",
       "\n",
       "Number of Fisher Scoring iterations: 7\n"
      ]
     },
     "metadata": {},
     "output_type": "display_data"
    }
   ],
   "source": [
    "model <- glm(CLI ~ DM+statin+HTN+Gender+smoking+obesity + CD34.VEGF, family = binomial(),data = data)\n",
    "summary(model)"
   ]
  },
  {
   "cell_type": "markdown",
   "metadata": {},
   "source": [
    "#### CD34"
   ]
  },
  {
   "cell_type": "code",
   "execution_count": 76,
   "metadata": {},
   "outputs": [
    {
     "data": {
      "text/plain": [
       "\n",
       "Call:\n",
       "glm(formula = CLI ~ DM + statin + HTN + Gender + smoking + obesity + \n",
       "    CD34, family = binomial(), data = data)\n",
       "\n",
       "Deviance Residuals: \n",
       "     Min        1Q    Median        3Q       Max  \n",
       "-1.99234  -0.32847  -0.08766  -0.01366   2.37473  \n",
       "\n",
       "Coefficients:\n",
       "            Estimate Std. Error z value Pr(>|z|)    \n",
       "(Intercept)  -1.9719     1.1595  -1.701 0.089024 .  \n",
       "DM            4.3778     1.1307   3.872 0.000108 ***\n",
       "statin       -3.6692     1.0287  -3.567 0.000361 ***\n",
       "HTN          -3.5225     1.1915  -2.956 0.003114 ** \n",
       "Gender        2.3094     0.8584   2.690 0.007136 ** \n",
       "smoking      -2.3984     0.8708  -2.754 0.005884 ** \n",
       "obesity       2.0311     0.8572   2.369 0.017816 *  \n",
       "CD34          0.7980     0.6046   1.320 0.186895    \n",
       "---\n",
       "Signif. codes:  0 ‘***’ 0.001 ‘**’ 0.01 ‘*’ 0.05 ‘.’ 0.1 ‘ ’ 1\n",
       "\n",
       "(Dispersion parameter for binomial family taken to be 1)\n",
       "\n",
       "    Null deviance: 146.771  on 132  degrees of freedom\n",
       "Residual deviance:  56.528  on 125  degrees of freedom\n",
       "AIC: 72.528\n",
       "\n",
       "Number of Fisher Scoring iterations: 7\n"
      ]
     },
     "metadata": {},
     "output_type": "display_data"
    }
   ],
   "source": [
    "model <- glm(CLI ~ DM+statin+HTN+Gender+smoking+obesity + CD34, family = binomial(),data = data)\n",
    "summary(model)"
   ]
  },
  {
   "cell_type": "markdown",
   "metadata": {},
   "source": [
    "#### VEGF.All"
   ]
  },
  {
   "cell_type": "code",
   "execution_count": 77,
   "metadata": {},
   "outputs": [
    {
     "data": {
      "text/plain": [
       "\n",
       "Call:\n",
       "glm(formula = CLI ~ DM + statin + HTN + Gender + smoking + obesity + \n",
       "    VEGF.All, family = binomial(), data = data)\n",
       "\n",
       "Deviance Residuals: \n",
       "     Min        1Q    Median        3Q       Max  \n",
       "-1.82545  -0.32637  -0.07823  -0.00963   2.90360  \n",
       "\n",
       "Coefficients:\n",
       "            Estimate Std. Error z value Pr(>|z|)    \n",
       "(Intercept) -1.39208    1.20656  -1.154 0.248600    \n",
       "DM           4.43250    1.15051   3.853 0.000117 ***\n",
       "statin      -3.72106    1.05721  -3.520 0.000432 ***\n",
       "HTN         -3.51082    1.25741  -2.792 0.005237 ** \n",
       "Gender       2.37881    0.86239   2.758 0.005809 ** \n",
       "smoking     -2.28629    0.88535  -2.582 0.009813 ** \n",
       "obesity      2.16630    0.91244   2.374 0.017587 *  \n",
       "VEGF.All    -0.10726    0.07582  -1.415 0.157183    \n",
       "---\n",
       "Signif. codes:  0 ‘***’ 0.001 ‘**’ 0.01 ‘*’ 0.05 ‘.’ 0.1 ‘ ’ 1\n",
       "\n",
       "(Dispersion parameter for binomial family taken to be 1)\n",
       "\n",
       "    Null deviance: 146.771  on 132  degrees of freedom\n",
       "Residual deviance:  56.466  on 125  degrees of freedom\n",
       "AIC: 72.466\n",
       "\n",
       "Number of Fisher Scoring iterations: 7\n"
      ]
     },
     "metadata": {},
     "output_type": "display_data"
    }
   ],
   "source": [
    "model <- glm(CLI ~ DM+statin+HTN+Gender+smoking+obesity + VEGF.All, family = binomial(),data = data)\n",
    "summary(model)"
   ]
  },
  {
   "cell_type": "markdown",
   "metadata": {},
   "source": [
    "#### CD34.All"
   ]
  },
  {
   "cell_type": "code",
   "execution_count": 78,
   "metadata": {},
   "outputs": [
    {
     "data": {
      "text/plain": [
       "\n",
       "Call:\n",
       "glm(formula = CLI ~ DM + statin + HTN + Gender + smoking + obesity + \n",
       "    CD34.All, family = binomial(), data = data)\n",
       "\n",
       "Deviance Residuals: \n",
       "     Min        1Q    Median        3Q       Max  \n",
       "-2.02283  -0.30174  -0.08146  -0.01196   2.41171  \n",
       "\n",
       "Coefficients:\n",
       "            Estimate Std. Error z value Pr(>|z|)    \n",
       "(Intercept)  -2.2215     1.2195  -1.822 0.068502 .  \n",
       "DM            4.4796     1.1615   3.857 0.000115 ***\n",
       "statin       -3.6361     1.0314  -3.526 0.000423 ***\n",
       "HTN          -3.5711     1.2045  -2.965 0.003030 ** \n",
       "Gender        2.3190     0.8599   2.697 0.006998 ** \n",
       "smoking      -2.5694     0.8880  -2.893 0.003810 ** \n",
       "obesity       2.0331     0.8551   2.378 0.017425 *  \n",
       "CD34.All      0.8523     0.5413   1.575 0.115363    \n",
       "---\n",
       "Signif. codes:  0 ‘***’ 0.001 ‘**’ 0.01 ‘*’ 0.05 ‘.’ 0.1 ‘ ’ 1\n",
       "\n",
       "(Dispersion parameter for binomial family taken to be 1)\n",
       "\n",
       "    Null deviance: 146.771  on 132  degrees of freedom\n",
       "Residual deviance:  55.765  on 125  degrees of freedom\n",
       "AIC: 71.765\n",
       "\n",
       "Number of Fisher Scoring iterations: 7\n"
      ]
     },
     "metadata": {},
     "output_type": "display_data"
    }
   ],
   "source": [
    "model <- glm(CLI ~ DM+statin+HTN+Gender+smoking+obesity + CD34.All, family = binomial(),data = data)\n",
    "summary(model)"
   ]
  },
  {
   "cell_type": "markdown",
   "metadata": {},
   "source": [
    "#### VEGF.1"
   ]
  },
  {
   "cell_type": "code",
   "execution_count": 79,
   "metadata": {
    "scrolled": false
   },
   "outputs": [
    {
     "data": {
      "text/plain": [
       "\n",
       "Call:\n",
       "glm(formula = CLI ~ DM + statin + HTN + Gender + smoking + obesity + \n",
       "    VEGF.1, family = binomial(), data = data)\n",
       "\n",
       "Deviance Residuals: \n",
       "    Min       1Q   Median       3Q      Max  \n",
       "-1.8466  -0.1300  -0.0376  -0.0043   3.7922  \n",
       "\n",
       "Coefficients:\n",
       "             Estimate Std. Error z value Pr(>|z|)    \n",
       "(Intercept) -3.892042   1.512223  -2.574  0.01006 *  \n",
       "DM           4.870347   1.392519   3.498  0.00047 ***\n",
       "statin      -4.210592   1.505423  -2.797  0.00516 ** \n",
       "HTN         -3.524424   1.302453  -2.706  0.00681 ** \n",
       "Gender       2.323870   0.986156   2.356  0.01845 *  \n",
       "smoking     -3.719328   1.190358  -3.125  0.00178 ** \n",
       "obesity      2.050948   1.026619   1.998  0.04574 *  \n",
       "VEGF.1       0.021111   0.006806   3.102  0.00192 ** \n",
       "---\n",
       "Signif. codes:  0 ‘***’ 0.001 ‘**’ 0.01 ‘*’ 0.05 ‘.’ 0.1 ‘ ’ 1\n",
       "\n",
       "(Dispersion parameter for binomial family taken to be 1)\n",
       "\n",
       "    Null deviance: 146.771  on 132  degrees of freedom\n",
       "Residual deviance:  40.567  on 125  degrees of freedom\n",
       "AIC: 56.567\n",
       "\n",
       "Number of Fisher Scoring iterations: 8\n"
      ]
     },
     "metadata": {},
     "output_type": "display_data"
    }
   ],
   "source": [
    "model <- glm(CLI ~ DM+statin+HTN+Gender+smoking+obesity + VEGF.1, family = binomial(),data = data)\n",
    "summary(model)"
   ]
  },
  {
   "cell_type": "markdown",
   "metadata": {},
   "source": [
    "#### SDF.1"
   ]
  },
  {
   "cell_type": "code",
   "execution_count": 80,
   "metadata": {
    "scrolled": false
   },
   "outputs": [
    {
     "data": {
      "text/plain": [
       "\n",
       "Call:\n",
       "glm(formula = CLI ~ DM + statin + HTN + Gender + smoking + obesity + \n",
       "    SDF.1, family = binomial(), data = data)\n",
       "\n",
       "Deviance Residuals: \n",
       "    Min       1Q   Median       3Q      Max  \n",
       "-1.5622  -0.1972  -0.0416  -0.0036   3.3515  \n",
       "\n",
       "Coefficients:\n",
       "              Estimate Std. Error z value Pr(>|z|)   \n",
       "(Intercept) -8.5725037  2.7402576  -3.128  0.00176 **\n",
       "DM           4.3727215  1.3398836   3.264  0.00110 **\n",
       "statin      -4.0155222  1.4899843  -2.695  0.00704 **\n",
       "HTN         -3.4304741  1.6498927  -2.079  0.03760 * \n",
       "Gender       3.5316025  1.1866334   2.976  0.00292 **\n",
       "smoking     -2.6235742  1.0386302  -2.526  0.01154 * \n",
       "obesity      2.7265448  1.0966155   2.486  0.01291 * \n",
       "SDF.1        0.0019554  0.0006514   3.002  0.00269 **\n",
       "---\n",
       "Signif. codes:  0 ‘***’ 0.001 ‘**’ 0.01 ‘*’ 0.05 ‘.’ 0.1 ‘ ’ 1\n",
       "\n",
       "(Dispersion parameter for binomial family taken to be 1)\n",
       "\n",
       "    Null deviance: 146.771  on 132  degrees of freedom\n",
       "Residual deviance:  39.816  on 125  degrees of freedom\n",
       "AIC: 55.816\n",
       "\n",
       "Number of Fisher Scoring iterations: 8\n"
      ]
     },
     "metadata": {},
     "output_type": "display_data"
    }
   ],
   "source": [
    "model <- glm(CLI ~ DM+statin+HTN+Gender+smoking+obesity + SDF.1, family = binomial(),data = data)\n",
    "summary(model)"
   ]
  },
  {
   "cell_type": "markdown",
   "metadata": {},
   "source": [
    "### 결과2\n",
    "\n",
    "결과는 거의 비슷하다 \n",
    "\n",
    "- VEGF.1 (0.005)\n",
    "- SDF.1 (0.003)\n",
    "\n",
    "정도가 유의미한 지표로 쓰일 수 있을 것 같다. "
   ]
  },
  {
   "cell_type": "code",
   "execution_count": 81,
   "metadata": {},
   "outputs": [
    {
     "data": {
      "text/plain": [
       "Subset selection object\n",
       "Call: regsubsets.formula(CLI ~ DM + statin + HTN + Gender + smoking + \n",
       "    obesity + SDF.1 + VEGF.1, data = data, nvmax = 20)\n",
       "8 Variables  (and intercept)\n",
       "        Forced in Forced out\n",
       "DM          FALSE      FALSE\n",
       "statin      FALSE      FALSE\n",
       "HTN         FALSE      FALSE\n",
       "Gender      FALSE      FALSE\n",
       "smoking     FALSE      FALSE\n",
       "obesity     FALSE      FALSE\n",
       "SDF.1       FALSE      FALSE\n",
       "VEGF.1      FALSE      FALSE\n",
       "1 subsets of each size up to 8\n",
       "Selection Algorithm: exhaustive\n",
       "         DM  statin HTN Gender smoking obesity SDF.1 VEGF.1\n",
       "1  ( 1 ) \" \" \" \"    \" \" \" \"    \" \"     \" \"     \" \"   \"*\"   \n",
       "2  ( 1 ) \"*\" \" \"    \" \" \" \"    \" \"     \" \"     \" \"   \"*\"   \n",
       "3  ( 1 ) \"*\" \" \"    \" \" \" \"    \" \"     \" \"     \"*\"   \"*\"   \n",
       "4  ( 1 ) \"*\" \"*\"    \" \" \" \"    \" \"     \" \"     \"*\"   \"*\"   \n",
       "5  ( 1 ) \"*\" \"*\"    \" \" \" \"    \"*\"     \" \"     \"*\"   \"*\"   \n",
       "6  ( 1 ) \"*\" \"*\"    \" \" \"*\"    \"*\"     \" \"     \"*\"   \"*\"   \n",
       "7  ( 1 ) \"*\" \"*\"    \" \" \"*\"    \"*\"     \"*\"     \"*\"   \"*\"   \n",
       "8  ( 1 ) \"*\" \"*\"    \"*\" \"*\"    \"*\"     \"*\"     \"*\"   \"*\"   "
      ]
     },
     "metadata": {},
     "output_type": "display_data"
    }
   ],
   "source": [
    "library(leaps)\n",
    "b <- regsubsets(CLI ~ DM+statin+HTN+Gender+smoking+obesity + SDF.1 + VEGF.1 , data=data, nvmax = 20)\n",
    "summary(b)"
   ]
  },
  {
   "cell_type": "markdown",
   "metadata": {},
   "source": [
    "더 복잡한 모형인 DM + statin + HTN + Gender + obesity + smoking + ACS 에 대입 하여도 VEGF.1 은 유의미하게 나온다. "
   ]
  },
  {
   "cell_type": "code",
   "execution_count": 82,
   "metadata": {},
   "outputs": [
    {
     "data": {
      "text/plain": [
       "\n",
       "Call:\n",
       "glm(formula = CLI ~ DM + statin + HTN + Gender + smoking + obesity + \n",
       "    ACS + VEGF.1, family = binomial(), data = data)\n",
       "\n",
       "Deviance Residuals: \n",
       "    Min       1Q   Median       3Q      Max  \n",
       "-1.6039  -0.1429  -0.0388  -0.0041   3.8998  \n",
       "\n",
       "Coefficients:\n",
       "            Estimate Std. Error z value Pr(>|z|)    \n",
       "(Intercept) -3.68001    1.53146  -2.403 0.016264 *  \n",
       "DM           4.63726    1.38203   3.355 0.000793 ***\n",
       "statin      -4.48970    1.59112  -2.822 0.004777 ** \n",
       "HTN         -3.55212    1.32356  -2.684 0.007280 ** \n",
       "Gender       2.21238    1.00831   2.194 0.028225 *  \n",
       "smoking     -3.64190    1.21788  -2.990 0.002787 ** \n",
       "obesity      2.11178    1.04581   2.019 0.043458 *  \n",
       "ACS          1.24954    1.37684   0.908 0.364121    \n",
       "VEGF.1       0.01997    0.00714   2.797 0.005151 ** \n",
       "---\n",
       "Signif. codes:  0 ‘***’ 0.001 ‘**’ 0.01 ‘*’ 0.05 ‘.’ 0.1 ‘ ’ 1\n",
       "\n",
       "(Dispersion parameter for binomial family taken to be 1)\n",
       "\n",
       "    Null deviance: 146.771  on 132  degrees of freedom\n",
       "Residual deviance:  39.683  on 124  degrees of freedom\n",
       "AIC: 57.683\n",
       "\n",
       "Number of Fisher Scoring iterations: 8\n"
      ]
     },
     "metadata": {},
     "output_type": "display_data"
    }
   ],
   "source": [
    "model <- glm(CLI ~ DM+statin+HTN+Gender+smoking+obesity + ACS + VEGF.1, family = binomial(),data = data)\n",
    "summary(model)"
   ]
  },
  {
   "cell_type": "markdown",
   "metadata": {},
   "source": [
    "---\n",
    "## 로그변수에 대한 로지스틱 회귀\n",
    "---"
   ]
  },
  {
   "cell_type": "markdown",
   "metadata": {},
   "source": [
    "이번엔 로그 변환한 값들을 지표로 써보자 "
   ]
  },
  {
   "cell_type": "code",
   "execution_count": 83,
   "metadata": {
    "scrolled": false
   },
   "outputs": [
    {
     "data": {
      "text/plain": [
       "\n",
       "Call:\n",
       "glm(formula = CLI ~ DM + statin + HTN + Gender + smoking + obesity + \n",
       "    log(Average.CFU + 1e-05), family = binomial(), data = data)\n",
       "\n",
       "Deviance Residuals: \n",
       "     Min        1Q    Median        3Q       Max  \n",
       "-2.03574  -0.31060  -0.08891  -0.01486   3.08065  \n",
       "\n",
       "Coefficients:\n",
       "                         Estimate Std. Error z value Pr(>|z|)    \n",
       "(Intercept)                1.4735     4.4685   0.330  0.74158    \n",
       "DM                         4.4168     1.1261   3.922 8.77e-05 ***\n",
       "statin                    -3.4889     1.0786  -3.235  0.00122 ** \n",
       "HTN                       -3.2362     1.1954  -2.707  0.00679 ** \n",
       "Gender                     2.1764     0.8360   2.603  0.00923 ** \n",
       "smoking                   -2.3140     0.9209  -2.513  0.01198 *  \n",
       "obesity                    2.3195     1.1471   2.022  0.04317 *  \n",
       "log(Average.CFU + 1e-05)  -2.2917     3.1582  -0.726  0.46806    \n",
       "---\n",
       "Signif. codes:  0 ‘***’ 0.001 ‘**’ 0.01 ‘*’ 0.05 ‘.’ 0.1 ‘ ’ 1\n",
       "\n",
       "(Dispersion parameter for binomial family taken to be 1)\n",
       "\n",
       "    Null deviance: 146.771  on 132  degrees of freedom\n",
       "Residual deviance:  58.444  on 125  degrees of freedom\n",
       "AIC: 74.444\n",
       "\n",
       "Number of Fisher Scoring iterations: 7\n"
      ]
     },
     "metadata": {},
     "output_type": "display_data"
    }
   ],
   "source": [
    "model <- glm(CLI ~ DM+statin+HTN+Gender+smoking+obesity + log(Average.CFU+1e-5), family = binomial(),data = data)\n",
    "summary(model)"
   ]
  },
  {
   "cell_type": "code",
   "execution_count": 84,
   "metadata": {},
   "outputs": [
    {
     "data": {
      "text/plain": [
       "\n",
       "Call:\n",
       "glm(formula = CLI ~ DM + statin + HTN + Gender + smoking + obesity + \n",
       "    log(VEGF), family = binomial(), data = data)\n",
       "\n",
       "Deviance Residuals: \n",
       "     Min        1Q    Median        3Q       Max  \n",
       "-1.89569  -0.27237  -0.04800  -0.00422   2.58591  \n",
       "\n",
       "Coefficients:\n",
       "            Estimate Std. Error z value Pr(>|z|)    \n",
       "(Intercept)  -1.7745     1.5043  -1.180 0.238164    \n",
       "DM            4.8850     1.4131   3.457 0.000546 ***\n",
       "statin       -3.3995     1.0523  -3.231 0.001235 ** \n",
       "HTN          -3.7912     1.4845  -2.554 0.010653 *  \n",
       "Gender        2.9000     1.0788   2.688 0.007186 ** \n",
       "smoking      -2.3691     0.9863  -2.402 0.016309 *  \n",
       "obesity       2.9090     1.0877   2.675 0.007483 ** \n",
       "log(VEGF)    -1.1032     0.3807  -2.898 0.003758 ** \n",
       "---\n",
       "Signif. codes:  0 ‘***’ 0.001 ‘**’ 0.01 ‘*’ 0.05 ‘.’ 0.1 ‘ ’ 1\n",
       "\n",
       "(Dispersion parameter for binomial family taken to be 1)\n",
       "\n",
       "    Null deviance: 146.771  on 132  degrees of freedom\n",
       "Residual deviance:  48.032  on 125  degrees of freedom\n",
       "AIC: 64.032\n",
       "\n",
       "Number of Fisher Scoring iterations: 8\n"
      ]
     },
     "metadata": {},
     "output_type": "display_data"
    }
   ],
   "source": [
    "model <- glm(CLI ~ DM+statin+HTN+Gender+smoking+obesity + log(VEGF), family = binomial(),data = data)\n",
    "summary(model)"
   ]
  },
  {
   "cell_type": "code",
   "execution_count": 85,
   "metadata": {},
   "outputs": [
    {
     "data": {
      "text/plain": [
       "\n",
       "Call:\n",
       "glm(formula = CLI ~ DM + statin + HTN + Gender + smoking + obesity + \n",
       "    log(CD34.VEGF), family = binomial(), data = data)\n",
       "\n",
       "Deviance Residuals: \n",
       "     Min        1Q    Median        3Q       Max  \n",
       "-1.96782  -0.29598  -0.08406  -0.01274   2.94004  \n",
       "\n",
       "Coefficients:\n",
       "               Estimate Std. Error z value Pr(>|z|)    \n",
       "(Intercept)     -0.9004     1.3363  -0.674 0.500452    \n",
       "DM               4.6387     1.2032   3.855 0.000116 ***\n",
       "statin          -3.5502     1.0549  -3.365 0.000764 ***\n",
       "HTN             -3.5885     1.2453  -2.882 0.003956 ** \n",
       "Gender           2.1833     0.8289   2.634 0.008441 ** \n",
       "smoking         -2.8145     0.9368  -3.004 0.002661 ** \n",
       "obesity          1.6851     0.8185   2.059 0.039522 *  \n",
       "log(CD34.VEGF)   0.4344     0.4175   1.040 0.298141    \n",
       "---\n",
       "Signif. codes:  0 ‘***’ 0.001 ‘**’ 0.01 ‘*’ 0.05 ‘.’ 0.1 ‘ ’ 1\n",
       "\n",
       "(Dispersion parameter for binomial family taken to be 1)\n",
       "\n",
       "    Null deviance: 146.771  on 132  degrees of freedom\n",
       "Residual deviance:  57.825  on 125  degrees of freedom\n",
       "AIC: 73.825\n",
       "\n",
       "Number of Fisher Scoring iterations: 7\n"
      ]
     },
     "metadata": {},
     "output_type": "display_data"
    }
   ],
   "source": [
    "model <- glm(CLI ~ DM+statin+HTN+Gender+smoking+obesity + log(CD34.VEGF), family = binomial(),data = data)\n",
    "summary(model)"
   ]
  },
  {
   "cell_type": "code",
   "execution_count": 86,
   "metadata": {},
   "outputs": [
    {
     "name": "stderr",
     "output_type": "stream",
     "text": [
      "Warning message in log(CD34):\n",
      "“NaN이 생성되었습니다”"
     ]
    },
    {
     "data": {
      "text/plain": [
       "\n",
       "Call:\n",
       "glm(formula = CLI ~ DM + statin + HTN + Gender + smoking + obesity + \n",
       "    log(CD34), family = binomial(), data = data)\n",
       "\n",
       "Deviance Residuals: \n",
       "    Min       1Q   Median       3Q      Max  \n",
       "-1.8768  -0.2539  -0.1146   0.3046   3.0224  \n",
       "\n",
       "Coefficients:\n",
       "            Estimate Std. Error z value Pr(>|z|)   \n",
       "(Intercept) -1.24746    1.21990  -1.023  0.30650   \n",
       "DM           4.06999    1.29687   3.138  0.00170 **\n",
       "statin      -4.20349    1.58775  -2.647  0.00811 **\n",
       "HTN         -3.37077    1.30979  -2.574  0.01007 * \n",
       "Gender       2.36753    0.95827   2.471  0.01349 * \n",
       "smoking     -2.28217    0.98464  -2.318  0.02046 * \n",
       "obesity      1.43079    1.02442   1.397  0.16251   \n",
       "log(CD34)    0.08995    0.26521   0.339  0.73448   \n",
       "---\n",
       "Signif. codes:  0 ‘***’ 0.001 ‘**’ 0.01 ‘*’ 0.05 ‘.’ 0.1 ‘ ’ 1\n",
       "\n",
       "(Dispersion parameter for binomial family taken to be 1)\n",
       "\n",
       "    Null deviance: 106.826  on 87  degrees of freedom\n",
       "Residual deviance:  44.803  on 80  degrees of freedom\n",
       "  (45 observations deleted due to missingness)\n",
       "AIC: 60.803\n",
       "\n",
       "Number of Fisher Scoring iterations: 7\n"
      ]
     },
     "metadata": {},
     "output_type": "display_data"
    }
   ],
   "source": [
    "model <- glm(CLI ~ DM+statin+HTN+Gender+smoking+obesity + log(CD34), family = binomial(),data = data)\n",
    "summary(model)"
   ]
  },
  {
   "cell_type": "code",
   "execution_count": 87,
   "metadata": {},
   "outputs": [
    {
     "data": {
      "text/plain": [
       "\n",
       "Call:\n",
       "glm(formula = CLI ~ DM + statin + HTN + Gender + smoking + obesity + \n",
       "    log(VEGF.All), family = binomial(), data = data)\n",
       "\n",
       "Deviance Residuals: \n",
       "     Min        1Q    Median        3Q       Max  \n",
       "-1.86406  -0.26199  -0.05246  -0.00547   2.59552  \n",
       "\n",
       "Coefficients:\n",
       "              Estimate Std. Error z value Pr(>|z|)    \n",
       "(Intercept)    -1.4422     1.3749  -1.049 0.294215    \n",
       "DM              4.6844     1.3139   3.565 0.000363 ***\n",
       "statin         -3.4398     1.0550  -3.261 0.001112 ** \n",
       "HTN            -3.6946     1.4050  -2.630 0.008547 ** \n",
       "Gender          2.8739     1.0469   2.745 0.006047 ** \n",
       "smoking        -2.3706     0.9536  -2.486 0.012917 *  \n",
       "obesity         2.6587     1.0228   2.599 0.009337 ** \n",
       "log(VEGF.All)  -1.0324     0.3893  -2.652 0.007999 ** \n",
       "---\n",
       "Signif. codes:  0 ‘***’ 0.001 ‘**’ 0.01 ‘*’ 0.05 ‘.’ 0.1 ‘ ’ 1\n",
       "\n",
       "(Dispersion parameter for binomial family taken to be 1)\n",
       "\n",
       "    Null deviance: 146.771  on 132  degrees of freedom\n",
       "Residual deviance:  50.435  on 125  degrees of freedom\n",
       "AIC: 66.435\n",
       "\n",
       "Number of Fisher Scoring iterations: 7\n"
      ]
     },
     "metadata": {},
     "output_type": "display_data"
    }
   ],
   "source": [
    "model <- glm(CLI ~ DM+statin+HTN+Gender+smoking+obesity + log(VEGF.All), family = binomial(),data = data)\n",
    "summary(model)"
   ]
  },
  {
   "cell_type": "code",
   "execution_count": 88,
   "metadata": {},
   "outputs": [
    {
     "name": "stderr",
     "output_type": "stream",
     "text": [
      "Warning message in log(CD34.All):\n",
      "“NaN이 생성되었습니다”"
     ]
    },
    {
     "data": {
      "text/plain": [
       "\n",
       "Call:\n",
       "glm(formula = CLI ~ DM + statin + HTN + Gender + smoking + obesity + \n",
       "    log(CD34.All), family = binomial(), data = data)\n",
       "\n",
       "Deviance Residuals: \n",
       "     Min        1Q    Median        3Q       Max  \n",
       "-2.01737  -0.30861  -0.09022  -0.00957   2.72561  \n",
       "\n",
       "Coefficients:\n",
       "              Estimate Std. Error z value Pr(>|z|)    \n",
       "(Intercept)    -1.2222     1.1694  -1.045  0.29593    \n",
       "DM              4.5857     1.2146   3.776  0.00016 ***\n",
       "statin         -3.3660     1.0505  -3.204  0.00135 ** \n",
       "HTN            -3.6985     1.3144  -2.814  0.00489 ** \n",
       "Gender          2.2061     0.8411   2.623  0.00872 ** \n",
       "smoking        -2.6361     0.8873  -2.971  0.00297 ** \n",
       "obesity         1.8026     0.8284   2.176  0.02955 *  \n",
       "log(CD34.All)   0.3244     0.3836   0.846  0.39775    \n",
       "---\n",
       "Signif. codes:  0 ‘***’ 0.001 ‘**’ 0.01 ‘*’ 0.05 ‘.’ 0.1 ‘ ’ 1\n",
       "\n",
       "(Dispersion parameter for binomial family taken to be 1)\n",
       "\n",
       "    Null deviance: 145.661  on 130  degrees of freedom\n",
       "Residual deviance:  57.425  on 123  degrees of freedom\n",
       "  (2 observations deleted due to missingness)\n",
       "AIC: 73.425\n",
       "\n",
       "Number of Fisher Scoring iterations: 7\n"
      ]
     },
     "metadata": {},
     "output_type": "display_data"
    }
   ],
   "source": [
    "model <- glm(CLI ~ DM+statin+HTN+Gender+smoking+obesity + log(CD34.All), family = binomial(),data = data)\n",
    "summary(model)"
   ]
  },
  {
   "cell_type": "code",
   "execution_count": 89,
   "metadata": {},
   "outputs": [
    {
     "name": "stderr",
     "output_type": "stream",
     "text": [
      "Warning message in log(VEGF.1):\n",
      "“NaN이 생성되었습니다”"
     ]
    },
    {
     "data": {
      "text/plain": [
       "\n",
       "Call:\n",
       "glm(formula = CLI ~ DM + statin + HTN + Gender + smoking + obesity + \n",
       "    log(VEGF.1), family = binomial(), data = data)\n",
       "\n",
       "Deviance Residuals: \n",
       "    Min       1Q   Median       3Q      Max  \n",
       "-2.1651  -0.1298  -0.0351  -0.0014   3.7239  \n",
       "\n",
       "Coefficients:\n",
       "            Estimate Std. Error z value Pr(>|z|)    \n",
       "(Intercept) -10.1968     3.1318  -3.256 0.001130 ** \n",
       "DM            4.6201     1.2679   3.644 0.000269 ***\n",
       "statin       -3.9962     1.3610  -2.936 0.003323 ** \n",
       "HTN          -3.5419     1.2077  -2.933 0.003359 ** \n",
       "Gender        2.5263     0.9741   2.593 0.009504 ** \n",
       "smoking      -3.8321     1.2128  -3.160 0.001579 ** \n",
       "obesity       2.0968     0.9536   2.199 0.027884 *  \n",
       "log(VEGF.1)   1.9603     0.6451   3.039 0.002373 ** \n",
       "---\n",
       "Signif. codes:  0 ‘***’ 0.001 ‘**’ 0.01 ‘*’ 0.05 ‘.’ 0.1 ‘ ’ 1\n",
       "\n",
       "(Dispersion parameter for binomial family taken to be 1)\n",
       "\n",
       "    Null deviance: 146.219  on 131  degrees of freedom\n",
       "Residual deviance:  44.662  on 124  degrees of freedom\n",
       "  (1 observation deleted due to missingness)\n",
       "AIC: 60.662\n",
       "\n",
       "Number of Fisher Scoring iterations: 8\n"
      ]
     },
     "metadata": {},
     "output_type": "display_data"
    }
   ],
   "source": [
    "model <- glm(CLI ~ DM+statin+HTN+Gender+smoking+obesity + log(VEGF.1), family = binomial(),data = data)\n",
    "summary(model)"
   ]
  },
  {
   "cell_type": "code",
   "execution_count": 90,
   "metadata": {},
   "outputs": [
    {
     "data": {
      "text/plain": [
       "\n",
       "Call:\n",
       "glm(formula = CLI ~ DM + statin + HTN + Gender + smoking + obesity + \n",
       "    log(SDF.1), family = binomial(), data = data)\n",
       "\n",
       "Deviance Residuals: \n",
       "    Min       1Q   Median       3Q      Max  \n",
       "-1.7357  -0.2324  -0.0417  -0.0028   3.3375  \n",
       "\n",
       "Coefficients:\n",
       "            Estimate Std. Error z value Pr(>|z|)    \n",
       "(Intercept)  -41.955     12.044  -3.483 0.000495 ***\n",
       "DM             4.521      1.301   3.476 0.000510 ***\n",
       "statin        -4.059      1.338  -3.034 0.002413 ** \n",
       "HTN           -3.374      1.568  -2.152 0.031428 *  \n",
       "Gender         3.476      1.139   3.051 0.002279 ** \n",
       "smoking       -2.915      1.040  -2.804 0.005049 ** \n",
       "obesity        2.830      1.056   2.680 0.007358 ** \n",
       "log(SDF.1)     4.922      1.460   3.372 0.000746 ***\n",
       "---\n",
       "Signif. codes:  0 ‘***’ 0.001 ‘**’ 0.01 ‘*’ 0.05 ‘.’ 0.1 ‘ ’ 1\n",
       "\n",
       "(Dispersion parameter for binomial family taken to be 1)\n",
       "\n",
       "    Null deviance: 146.771  on 132  degrees of freedom\n",
       "Residual deviance:  43.092  on 125  degrees of freedom\n",
       "AIC: 59.092\n",
       "\n",
       "Number of Fisher Scoring iterations: 8\n"
      ]
     },
     "metadata": {},
     "output_type": "display_data"
    }
   ],
   "source": [
    "model <- glm(CLI ~ DM+statin+HTN+Gender+smoking+obesity + log(SDF.1), family = binomial(),data = data)\n",
    "summary(model)"
   ]
  },
  {
   "cell_type": "markdown",
   "metadata": {},
   "source": [
    "### 결과3\n",
    "\n",
    "log 변환 한 값들 중\n",
    "\n",
    "- VEGF (0.004)\n",
    "- VEGF.All (0.008)\n",
    "- VEGF.1 (0.002)\n",
    "- SDF.1 (0.001)\n",
    "\n",
    "들이 유의미한 지표로 보인다. \n",
    "\n",
    "이 점을 고려하여 모형을 만들어보면 되겠다. \n"
   ]
  },
  {
   "cell_type": "markdown",
   "metadata": {},
   "source": [
    "## 모형 적합"
   ]
  },
  {
   "cell_type": "markdown",
   "metadata": {},
   "source": [
    "가장 p-value 가 낮은 log(SDF1) 부터 추가해보자 \n"
   ]
  },
  {
   "cell_type": "code",
   "execution_count": 91,
   "metadata": {
    "scrolled": false
   },
   "outputs": [
    {
     "data": {
      "text/plain": [
       "\n",
       "Call:\n",
       "glm(formula = CLI ~ DM + statin + HTN + Gender + smoking + obesity + \n",
       "    log(SDF.1), family = binomial(), data = data)\n",
       "\n",
       "Deviance Residuals: \n",
       "    Min       1Q   Median       3Q      Max  \n",
       "-1.7357  -0.2324  -0.0417  -0.0028   3.3375  \n",
       "\n",
       "Coefficients:\n",
       "            Estimate Std. Error z value Pr(>|z|)    \n",
       "(Intercept)  -41.955     12.044  -3.483 0.000495 ***\n",
       "DM             4.521      1.301   3.476 0.000510 ***\n",
       "statin        -4.059      1.338  -3.034 0.002413 ** \n",
       "HTN           -3.374      1.568  -2.152 0.031428 *  \n",
       "Gender         3.476      1.139   3.051 0.002279 ** \n",
       "smoking       -2.915      1.040  -2.804 0.005049 ** \n",
       "obesity        2.830      1.056   2.680 0.007358 ** \n",
       "log(SDF.1)     4.922      1.460   3.372 0.000746 ***\n",
       "---\n",
       "Signif. codes:  0 ‘***’ 0.001 ‘**’ 0.01 ‘*’ 0.05 ‘.’ 0.1 ‘ ’ 1\n",
       "\n",
       "(Dispersion parameter for binomial family taken to be 1)\n",
       "\n",
       "    Null deviance: 146.771  on 132  degrees of freedom\n",
       "Residual deviance:  43.092  on 125  degrees of freedom\n",
       "AIC: 59.092\n",
       "\n",
       "Number of Fisher Scoring iterations: 8\n"
      ]
     },
     "metadata": {},
     "output_type": "display_data"
    }
   ],
   "source": [
    "model <- glm(CLI ~ DM+statin+HTN+Gender+smoking+obesity + log(SDF.1), family = binomial(),data = data)\n",
    "summary(model)"
   ]
  },
  {
   "cell_type": "markdown",
   "metadata": {},
   "source": [
    "다음은 log(VEGF)을 추가해보자 "
   ]
  },
  {
   "cell_type": "code",
   "execution_count": 92,
   "metadata": {
    "scrolled": false
   },
   "outputs": [
    {
     "data": {
      "text/plain": [
       "\n",
       "Call:\n",
       "glm(formula = CLI ~ DM + statin + HTN + Gender + smoking + obesity + \n",
       "    log(SDF.1) + log(VEGF), family = binomial(), data = data)\n",
       "\n",
       "Deviance Residuals: \n",
       "     Min        1Q    Median        3Q       Max  \n",
       "-1.62042  -0.16388  -0.01793  -0.00076   2.75890  \n",
       "\n",
       "Coefficients:\n",
       "            Estimate Std. Error z value Pr(>|z|)   \n",
       "(Intercept) -38.7325    12.9197  -2.998  0.00272 **\n",
       "DM            5.5641     1.8386   3.026  0.00248 **\n",
       "statin       -3.8499     1.3983  -2.753  0.00590 **\n",
       "HTN          -4.5823     2.0045  -2.286  0.02225 * \n",
       "Gender        4.0667     1.3783   2.951  0.00317 **\n",
       "smoking      -2.6333     1.1347  -2.321  0.02031 * \n",
       "obesity       3.8865     1.3550   2.868  0.00413 **\n",
       "log(SDF.1)    4.5339     1.5660   2.895  0.00379 **\n",
       "log(VEGF)    -1.0592     0.4666  -2.270  0.02321 * \n",
       "---\n",
       "Signif. codes:  0 ‘***’ 0.001 ‘**’ 0.01 ‘*’ 0.05 ‘.’ 0.1 ‘ ’ 1\n",
       "\n",
       "(Dispersion parameter for binomial family taken to be 1)\n",
       "\n",
       "    Null deviance: 146.771  on 132  degrees of freedom\n",
       "Residual deviance:  36.617  on 124  degrees of freedom\n",
       "AIC: 54.617\n",
       "\n",
       "Number of Fisher Scoring iterations: 8\n"
      ]
     },
     "metadata": {},
     "output_type": "display_data"
    }
   ],
   "source": [
    "model <- glm(CLI ~ DM+statin+HTN+Gender+smoking+obesity + log(SDF.1) + log(VEGF), family = binomial(),data = data)\n",
    "summary(model)"
   ]
  },
  {
   "cell_type": "markdown",
   "metadata": {},
   "source": [
    "다음은 VEGF.1 을 추가해보자"
   ]
  },
  {
   "cell_type": "code",
   "execution_count": 93,
   "metadata": {},
   "outputs": [
    {
     "data": {
      "text/plain": [
       "\n",
       "Call:\n",
       "glm(formula = CLI ~ DM + statin + HTN + Gender + smoking + obesity + \n",
       "    log(SDF.1) + log(VEGF) + VEGF.1, family = binomial(), data = data)\n",
       "\n",
       "Deviance Residuals: \n",
       "     Min        1Q    Median        3Q       Max  \n",
       "-1.48896  -0.04893  -0.00487  -0.00010   2.98948  \n",
       "\n",
       "Coefficients:\n",
       "             Estimate Std. Error z value Pr(>|z|)   \n",
       "(Intercept) -47.19302   22.81586  -2.068  0.03860 * \n",
       "DM            6.51567    2.23264   2.918  0.00352 **\n",
       "statin       -3.49533    1.58294  -2.208  0.02724 * \n",
       "HTN          -2.41831    1.73885  -1.391  0.16430   \n",
       "Gender        5.91133    2.62522   2.252  0.02434 * \n",
       "smoking      -4.68266    2.00337  -2.337  0.01942 * \n",
       "obesity       4.13463    1.72477   2.397  0.01652 * \n",
       "log(SDF.1)    4.80927    2.53028   1.901  0.05734 . \n",
       "log(VEGF)    -1.65762    0.79698  -2.080  0.03754 * \n",
       "VEGF.1        0.03528    0.01516   2.327  0.01995 * \n",
       "---\n",
       "Signif. codes:  0 ‘***’ 0.001 ‘**’ 0.01 ‘*’ 0.05 ‘.’ 0.1 ‘ ’ 1\n",
       "\n",
       "(Dispersion parameter for binomial family taken to be 1)\n",
       "\n",
       "    Null deviance: 146.771  on 132  degrees of freedom\n",
       "Residual deviance:  24.577  on 123  degrees of freedom\n",
       "AIC: 44.577\n",
       "\n",
       "Number of Fisher Scoring iterations: 9\n"
      ]
     },
     "metadata": {},
     "output_type": "display_data"
    }
   ],
   "source": [
    "model <- glm(CLI ~ DM+statin+HTN+Gender+smoking+obesity + log(SDF.1) + log(VEGF) + VEGF.1, family = binomial(),data = data)\n",
    "summary(model)"
   ]
  },
  {
   "cell_type": "markdown",
   "metadata": {},
   "source": [
    "HTN 은 빼보자 "
   ]
  },
  {
   "cell_type": "code",
   "execution_count": 94,
   "metadata": {},
   "outputs": [
    {
     "data": {
      "text/plain": [
       "\n",
       "Call:\n",
       "glm(formula = CLI ~ DM + statin + Gender + smoking + obesity + \n",
       "    log(SDF.1) + log(VEGF) + VEGF.1, family = binomial(), data = data)\n",
       "\n",
       "Deviance Residuals: \n",
       "     Min        1Q    Median        3Q       Max  \n",
       "-1.96277  -0.03954  -0.00418  -0.00008   2.74567  \n",
       "\n",
       "Coefficients:\n",
       "             Estimate Std. Error z value Pr(>|z|)   \n",
       "(Intercept) -56.16596   22.22656  -2.527  0.01150 * \n",
       "DM            6.41811    2.21085   2.903  0.00370 **\n",
       "statin       -3.47998    1.46807  -2.370  0.01777 * \n",
       "Gender        6.86106    2.59693   2.642  0.00824 **\n",
       "smoking      -4.88015    1.90059  -2.568  0.01024 * \n",
       "obesity       3.52482    1.49209   2.362  0.01816 * \n",
       "log(SDF.1)    5.60980    2.45879   2.282  0.02252 * \n",
       "log(VEGF)    -1.71817    0.82226  -2.090  0.03666 * \n",
       "VEGF.1        0.04058    0.01521   2.668  0.00764 **\n",
       "---\n",
       "Signif. codes:  0 ‘***’ 0.001 ‘**’ 0.01 ‘*’ 0.05 ‘.’ 0.1 ‘ ’ 1\n",
       "\n",
       "(Dispersion parameter for binomial family taken to be 1)\n",
       "\n",
       "    Null deviance: 146.771  on 132  degrees of freedom\n",
       "Residual deviance:  26.808  on 124  degrees of freedom\n",
       "AIC: 44.808\n",
       "\n",
       "Number of Fisher Scoring iterations: 9\n"
      ]
     },
     "metadata": {},
     "output_type": "display_data"
    }
   ],
   "source": [
    "model <- glm(CLI ~ DM+statin+Gender+smoking+obesity + log(SDF.1) + log(VEGF) + VEGF.1, family = binomial(),data = data)\n",
    "summary(model)"
   ]
  },
  {
   "cell_type": "code",
   "execution_count": 95,
   "metadata": {},
   "outputs": [
    {
     "data": {
      "text/plain": [
       "\n",
       "Call:\n",
       "glm(formula = CLI ~ DM + statin + Gender + smoking + obesity + \n",
       "    log(SDF.1) + log(VEGF.All), family = binomial(), data = data)\n",
       "\n",
       "Deviance Residuals: \n",
       "    Min       1Q   Median       3Q      Max  \n",
       "-1.5747  -0.2046  -0.0425  -0.0032   3.5142  \n",
       "\n",
       "Coefficients:\n",
       "              Estimate Std. Error z value Pr(>|z|)    \n",
       "(Intercept)   -42.6847    12.1853  -3.503 0.000460 ***\n",
       "DM              4.3142     1.3024   3.312 0.000925 ***\n",
       "statin         -3.0842     1.0799  -2.856 0.004289 ** \n",
       "Gender          4.2296     1.3777   3.070 0.002140 ** \n",
       "smoking        -2.7267     1.0506  -2.595 0.009452 ** \n",
       "obesity         2.6646     1.0056   2.650 0.008058 ** \n",
       "log(SDF.1)      4.6791     1.4287   3.275 0.001057 ** \n",
       "log(VEGF.All)  -0.8383     0.4249  -1.973 0.048516 *  \n",
       "---\n",
       "Signif. codes:  0 ‘***’ 0.001 ‘**’ 0.01 ‘*’ 0.05 ‘.’ 0.1 ‘ ’ 1\n",
       "\n",
       "(Dispersion parameter for binomial family taken to be 1)\n",
       "\n",
       "    Null deviance: 146.771  on 132  degrees of freedom\n",
       "Residual deviance:  44.747  on 125  degrees of freedom\n",
       "AIC: 60.747\n",
       "\n",
       "Number of Fisher Scoring iterations: 8\n"
      ]
     },
     "metadata": {},
     "output_type": "display_data"
    }
   ],
   "source": [
    "model <- glm(CLI ~ DM+statin+Gender+smoking+obesity + log(SDF.1) + log(VEGF.All), family = binomial(),data = data)\n",
    "summary(model)"
   ]
  },
  {
   "cell_type": "code",
   "execution_count": 96,
   "metadata": {},
   "outputs": [
    {
     "name": "stderr",
     "output_type": "stream",
     "text": [
      "Warning message:\n",
      "“glm.fit: fitted probabilities numerically 0 or 1 occurred”"
     ]
    },
    {
     "data": {
      "text/plain": [
       "\n",
       "Call:\n",
       "glm(formula = CLI ~ DM + statin + Gender + smoking + obesity + \n",
       "    log(SDF.1) + log(VEGF) + log(VEGF.All), family = binomial(), \n",
       "    data = data)\n",
       "\n",
       "Deviance Residuals: \n",
       "    Min       1Q   Median       3Q      Max  \n",
       "-1.3711  -0.1533  -0.0223  -0.0011   3.7224  \n",
       "\n",
       "Coefficients:\n",
       "              Estimate Std. Error z value Pr(>|z|)    \n",
       "(Intercept)    -53.708     15.891  -3.380 0.000726 ***\n",
       "DM               4.464      1.466   3.046 0.002321 ** \n",
       "statin          -4.478      1.705  -2.626 0.008644 ** \n",
       "Gender           4.138      1.435   2.885 0.003918 ** \n",
       "smoking         -3.456      1.281  -2.698 0.006976 ** \n",
       "obesity          3.509      1.238   2.833 0.004610 ** \n",
       "log(SDF.1)       5.775      1.845   3.130 0.001749 ** \n",
       "log(VEGF)      -10.670      4.373  -2.440 0.014675 *  \n",
       "log(VEGF.All)   10.753      4.720   2.278 0.022721 *  \n",
       "---\n",
       "Signif. codes:  0 ‘***’ 0.001 ‘**’ 0.01 ‘*’ 0.05 ‘.’ 0.1 ‘ ’ 1\n",
       "\n",
       "(Dispersion parameter for binomial family taken to be 1)\n",
       "\n",
       "    Null deviance: 146.771  on 132  degrees of freedom\n",
       "Residual deviance:  35.625  on 124  degrees of freedom\n",
       "AIC: 53.625\n",
       "\n",
       "Number of Fisher Scoring iterations: 8\n"
      ]
     },
     "metadata": {},
     "output_type": "display_data"
    }
   ],
   "source": [
    "model <- glm(CLI ~ DM+statin+Gender+smoking+obesity + log(SDF.1) + log(VEGF) + log(VEGF.All), family = binomial(),data = data)\n",
    "summary(model)"
   ]
  },
  {
   "cell_type": "code",
   "execution_count": null,
   "metadata": {},
   "outputs": [],
   "source": []
  },
  {
   "cell_type": "markdown",
   "metadata": {},
   "source": [
    "**추가 내용**\n",
    "\n",
    "아래 코드를 실행시켜보면 log(VEGF) 말고 VEGF는 유의미하지 않다. \n",
    "\n",
    "    model <- glm(CLI ~ DM+statin+Gender+smoking+obesity + log(SDF.1) + VEGF, family = binomial(),data = data)\n",
    "    summary(model)\n",
    "    \n",
    "VEGF.All 은 VEGF 와 상관계수가 굉장히 높기 때문에 도움이 안될 것이다. \n",
    "하지만 실제로 아래 코드를 실행시키면 확률이 1이 나와버린다. \n",
    "\n",
    "    model <- glm(CLI ~ DM+statin+Gender+smoking+obesity + log(SDF.1) + log(VEGF) + log(VEGF.All), family = binomial(),data = data)\n",
    "    summary(model)"
   ]
  },
  {
   "cell_type": "markdown",
   "metadata": {},
   "source": [
    "### 적합 결과 \n",
    "\n",
    "여러가지 해보니 \n",
    "두 그룹에서 지표의 차이가 나는 것은 \n",
    "\n",
    "- VEGF\n",
    "- VEGF.All\n",
    "- VEGF.1\n",
    "- SDF.1\n",
    "\n",
    "정도였고 \n",
    "\n",
    "로지스틱 회귀로, CLI 유무를 분류하는 모델을 세운다면 \n",
    "\n",
    "- SDF.1 혹은 log(SDF.1)\n",
    "- log(VEGF) 혹은 log(VEGF.All)\n",
    "- VEGF.1 \n",
    "\n",
    "정도를 모델에 넣어서 분석할 수 있을 것으로 보인다. \n",
    "\n",
    "나머지 변수는 넣어도 소용 없다. "
   ]
  },
  {
   "cell_type": "markdown",
   "metadata": {
    "collapsed": true
   },
   "source": [
    "*추가 가능*\n",
    "\n",
    "box-cox transformation 이나\n",
    "scaling 시도 가능\n",
    "\n",
    "\n",
    "glm 에서 lasso 를 해도 됨 "
   ]
  },
  {
   "cell_type": "markdown",
   "metadata": {},
   "source": [
    "---\n",
    "# 요약\n",
    "---"
   ]
  },
  {
   "cell_type": "markdown",
   "metadata": {},
   "source": [
    "#### CLI 를 설명변수로, lab data 의 차이를 종속변수로 \n",
    "=> wilcoxon test / t-test\n",
    "\n",
    "- VEGF 감소\n",
    "- VEGF.All 감소 \n",
    "- VEGF.1 증가 \n",
    "- SDF.1 증가\n",
    "\n",
    "정도의 결과\n",
    "\n",
    "교란 변수를 고려하는 것은 애매하긴 하지만 비슷한 결과를 보여줌\n",
    "\n",
    "VEGF(.All), SDF.1, VEGF.1 정도가 차이가 있어보임\n",
    "\n",
    "#### CLI 를 종속변수로, lab data 와 demographic data 를 설명 변수로 \n",
    "\n",
    "Demographic data 의 DM, statin 복용여부, HTN, Gender, obesity, smoking 와 더불어 \n",
    "\n",
    "- log(SDF.1)\n",
    "- log(VEGF) = log(VEGF.All)\n",
    "- VEGF.1 \n",
    "\n",
    "정도가 쓸만한 변수로 보임 \n",
    "VEGF 은 VEGF.All 과 효과 동일"
   ]
  },
  {
   "cell_type": "code",
   "execution_count": null,
   "metadata": {},
   "outputs": [],
   "source": []
  }
 ],
 "metadata": {
  "kernelspec": {
   "display_name": "R",
   "language": "R",
   "name": "ir"
  },
  "language_info": {
   "codemirror_mode": "r",
   "file_extension": ".r",
   "mimetype": "text/x-r-source",
   "name": "R",
   "pygments_lexer": "r",
   "version": "3.3.2"
  }
 },
 "nbformat": 4,
 "nbformat_minor": 2
}
